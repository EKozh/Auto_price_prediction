{
 "cells": [
  {
   "cell_type": "markdown",
   "metadata": {},
   "source": [
    "# Определение стоимости автомобилей"
   ]
  },
  {
   "cell_type": "markdown",
   "metadata": {},
   "source": [
    "Сервис по продаже автомобилей с пробегом «Не бит, не крашен» разрабатывает приложение для привлечения новых клиентов. В нём можно быстро узнать рыночную стоимость своего автомобиля. В вашем распоряжении исторические данные: технические характеристики, комплектации и цены автомобилей. Вам нужно построить модель для определения стоимости. \n",
    "\n",
    "Заказчику важны:\n",
    "\n",
    "- качество предсказания;\n",
    "- скорость предсказания;\n",
    "- время обучения."
   ]
  },
  {
   "cell_type": "markdown",
   "metadata": {},
   "source": [
    "## Подготовка данных"
   ]
  },
  {
   "cell_type": "code",
   "execution_count": 1,
   "metadata": {},
   "outputs": [],
   "source": [
    "import pandas as pd\n",
    "import numpy as np\n",
    "import matplotlib.pyplot as plt\n",
    "import seaborn as sns\n",
    "sns.set_style(\"darkgrid\")\n",
    "from sklearn.linear_model import LinearRegression\n",
    "import time\n",
    "from sklearn.metrics import mean_squared_error\n",
    "from sklearn.model_selection import train_test_split, GridSearchCV, cross_val_score, KFold\n",
    "\n",
    "from sklearn.preprocessing import StandardScaler, OrdinalEncoder\n",
    "from sklearn.compose import ColumnTransformer\n",
    "from catboost import CatBoostRegressor\n",
    "import lightgbm as lgb\n",
    "from lightgbm import LGBMRegressor\n",
    "import warnings\n",
    "warnings.filterwarnings(\"ignore\")\n",
    "%matplotlib inline\n",
    "np.random.seed(42)\n",
    "from sklearn.ensemble import RandomForestRegressor\n",
    "from sklearn.preprocessing import LabelEncoder, StandardScaler"
   ]
  },
  {
   "cell_type": "code",
   "execution_count": 2,
   "metadata": {},
   "outputs": [],
   "source": [
    "df = pd.read_csv('/datasets/autos.csv')"
   ]
  },
  {
   "cell_type": "code",
   "execution_count": 3,
   "metadata": {},
   "outputs": [
    {
     "data": {
      "text/html": [
       "<div>\n",
       "<style scoped>\n",
       "    .dataframe tbody tr th:only-of-type {\n",
       "        vertical-align: middle;\n",
       "    }\n",
       "\n",
       "    .dataframe tbody tr th {\n",
       "        vertical-align: top;\n",
       "    }\n",
       "\n",
       "    .dataframe thead th {\n",
       "        text-align: right;\n",
       "    }\n",
       "</style>\n",
       "<table border=\"1\" class=\"dataframe\">\n",
       "  <thead>\n",
       "    <tr style=\"text-align: right;\">\n",
       "      <th></th>\n",
       "      <th>DateCrawled</th>\n",
       "      <th>Price</th>\n",
       "      <th>VehicleType</th>\n",
       "      <th>RegistrationYear</th>\n",
       "      <th>Gearbox</th>\n",
       "      <th>Power</th>\n",
       "      <th>Model</th>\n",
       "      <th>Kilometer</th>\n",
       "      <th>RegistrationMonth</th>\n",
       "      <th>FuelType</th>\n",
       "      <th>Brand</th>\n",
       "      <th>Repaired</th>\n",
       "      <th>DateCreated</th>\n",
       "      <th>NumberOfPictures</th>\n",
       "      <th>PostalCode</th>\n",
       "      <th>LastSeen</th>\n",
       "    </tr>\n",
       "  </thead>\n",
       "  <tbody>\n",
       "    <tr>\n",
       "      <th>0</th>\n",
       "      <td>2016-03-24 11:52:17</td>\n",
       "      <td>480</td>\n",
       "      <td>NaN</td>\n",
       "      <td>1993</td>\n",
       "      <td>manual</td>\n",
       "      <td>0</td>\n",
       "      <td>golf</td>\n",
       "      <td>150000</td>\n",
       "      <td>0</td>\n",
       "      <td>petrol</td>\n",
       "      <td>volkswagen</td>\n",
       "      <td>NaN</td>\n",
       "      <td>2016-03-24 00:00:00</td>\n",
       "      <td>0</td>\n",
       "      <td>70435</td>\n",
       "      <td>2016-04-07 03:16:57</td>\n",
       "    </tr>\n",
       "    <tr>\n",
       "      <th>1</th>\n",
       "      <td>2016-03-24 10:58:45</td>\n",
       "      <td>18300</td>\n",
       "      <td>coupe</td>\n",
       "      <td>2011</td>\n",
       "      <td>manual</td>\n",
       "      <td>190</td>\n",
       "      <td>NaN</td>\n",
       "      <td>125000</td>\n",
       "      <td>5</td>\n",
       "      <td>gasoline</td>\n",
       "      <td>audi</td>\n",
       "      <td>yes</td>\n",
       "      <td>2016-03-24 00:00:00</td>\n",
       "      <td>0</td>\n",
       "      <td>66954</td>\n",
       "      <td>2016-04-07 01:46:50</td>\n",
       "    </tr>\n",
       "    <tr>\n",
       "      <th>2</th>\n",
       "      <td>2016-03-14 12:52:21</td>\n",
       "      <td>9800</td>\n",
       "      <td>suv</td>\n",
       "      <td>2004</td>\n",
       "      <td>auto</td>\n",
       "      <td>163</td>\n",
       "      <td>grand</td>\n",
       "      <td>125000</td>\n",
       "      <td>8</td>\n",
       "      <td>gasoline</td>\n",
       "      <td>jeep</td>\n",
       "      <td>NaN</td>\n",
       "      <td>2016-03-14 00:00:00</td>\n",
       "      <td>0</td>\n",
       "      <td>90480</td>\n",
       "      <td>2016-04-05 12:47:46</td>\n",
       "    </tr>\n",
       "    <tr>\n",
       "      <th>3</th>\n",
       "      <td>2016-03-17 16:54:04</td>\n",
       "      <td>1500</td>\n",
       "      <td>small</td>\n",
       "      <td>2001</td>\n",
       "      <td>manual</td>\n",
       "      <td>75</td>\n",
       "      <td>golf</td>\n",
       "      <td>150000</td>\n",
       "      <td>6</td>\n",
       "      <td>petrol</td>\n",
       "      <td>volkswagen</td>\n",
       "      <td>no</td>\n",
       "      <td>2016-03-17 00:00:00</td>\n",
       "      <td>0</td>\n",
       "      <td>91074</td>\n",
       "      <td>2016-03-17 17:40:17</td>\n",
       "    </tr>\n",
       "    <tr>\n",
       "      <th>4</th>\n",
       "      <td>2016-03-31 17:25:20</td>\n",
       "      <td>3600</td>\n",
       "      <td>small</td>\n",
       "      <td>2008</td>\n",
       "      <td>manual</td>\n",
       "      <td>69</td>\n",
       "      <td>fabia</td>\n",
       "      <td>90000</td>\n",
       "      <td>7</td>\n",
       "      <td>gasoline</td>\n",
       "      <td>skoda</td>\n",
       "      <td>no</td>\n",
       "      <td>2016-03-31 00:00:00</td>\n",
       "      <td>0</td>\n",
       "      <td>60437</td>\n",
       "      <td>2016-04-06 10:17:21</td>\n",
       "    </tr>\n",
       "  </tbody>\n",
       "</table>\n",
       "</div>"
      ],
      "text/plain": [
       "           DateCrawled  Price VehicleType  RegistrationYear Gearbox  Power  \\\n",
       "0  2016-03-24 11:52:17    480         NaN              1993  manual      0   \n",
       "1  2016-03-24 10:58:45  18300       coupe              2011  manual    190   \n",
       "2  2016-03-14 12:52:21   9800         suv              2004    auto    163   \n",
       "3  2016-03-17 16:54:04   1500       small              2001  manual     75   \n",
       "4  2016-03-31 17:25:20   3600       small              2008  manual     69   \n",
       "\n",
       "   Model  Kilometer  RegistrationMonth  FuelType       Brand Repaired  \\\n",
       "0   golf     150000                  0    petrol  volkswagen      NaN   \n",
       "1    NaN     125000                  5  gasoline        audi      yes   \n",
       "2  grand     125000                  8  gasoline        jeep      NaN   \n",
       "3   golf     150000                  6    petrol  volkswagen       no   \n",
       "4  fabia      90000                  7  gasoline       skoda       no   \n",
       "\n",
       "           DateCreated  NumberOfPictures  PostalCode             LastSeen  \n",
       "0  2016-03-24 00:00:00                 0       70435  2016-04-07 03:16:57  \n",
       "1  2016-03-24 00:00:00                 0       66954  2016-04-07 01:46:50  \n",
       "2  2016-03-14 00:00:00                 0       90480  2016-04-05 12:47:46  \n",
       "3  2016-03-17 00:00:00                 0       91074  2016-03-17 17:40:17  \n",
       "4  2016-03-31 00:00:00                 0       60437  2016-04-06 10:17:21  "
      ]
     },
     "execution_count": 3,
     "metadata": {},
     "output_type": "execute_result"
    }
   ],
   "source": [
    "df.head()"
   ]
  },
  {
   "cell_type": "code",
   "execution_count": 4,
   "metadata": {},
   "outputs": [
    {
     "name": "stdout",
     "output_type": "stream",
     "text": [
      "<class 'pandas.core.frame.DataFrame'>\n",
      "RangeIndex: 354369 entries, 0 to 354368\n",
      "Data columns (total 16 columns):\n",
      " #   Column             Non-Null Count   Dtype \n",
      "---  ------             --------------   ----- \n",
      " 0   DateCrawled        354369 non-null  object\n",
      " 1   Price              354369 non-null  int64 \n",
      " 2   VehicleType        316879 non-null  object\n",
      " 3   RegistrationYear   354369 non-null  int64 \n",
      " 4   Gearbox            334536 non-null  object\n",
      " 5   Power              354369 non-null  int64 \n",
      " 6   Model              334664 non-null  object\n",
      " 7   Kilometer          354369 non-null  int64 \n",
      " 8   RegistrationMonth  354369 non-null  int64 \n",
      " 9   FuelType           321474 non-null  object\n",
      " 10  Brand              354369 non-null  object\n",
      " 11  Repaired           283215 non-null  object\n",
      " 12  DateCreated        354369 non-null  object\n",
      " 13  NumberOfPictures   354369 non-null  int64 \n",
      " 14  PostalCode         354369 non-null  int64 \n",
      " 15  LastSeen           354369 non-null  object\n",
      "dtypes: int64(7), object(9)\n",
      "memory usage: 43.3+ MB\n"
     ]
    }
   ],
   "source": [
    "# общая информация\n",
    "df.info()"
   ]
  },
  {
   "cell_type": "markdown",
   "metadata": {},
   "source": [
    "В датафрейме всего 16 столбцов и почти 355 тысяч строк, присутствуют пропущенные значения и некорректный тип данных в некоторых столбцах.\n",
    "\n",
    "Признаки:\n",
    "- DateCrawled — дата скачивания анкеты из базы\n",
    "- VehicleType — тип автомобильного кузова\n",
    "- RegistrationYear — год регистрации автомобиля\n",
    "- Gearbox — тип коробки передач\n",
    "- Power — мощность (л. с.)\n",
    "- Model — модель автомобиля\n",
    "- Kilometer — пробег (км)\n",
    "- RegistrationMonth — месяц регистрации автомобиля\n",
    "- FuelType — тип топлива\n",
    "- Brand — марка автомобиля\n",
    "- Repaired — была машина в ремонте или нет\n",
    "- DateCreated — дата создания анкеты\n",
    "- NumberOfPictures — количество фотографий автомобиля\n",
    "- PostalCode — почтовый индекс владельца анкеты (пользователя)\n",
    "- LastSeen — дата последней активности пользователя"
   ]
  },
  {
   "cell_type": "markdown",
   "metadata": {},
   "source": [
    "Сразу удалим столбцы, которые, на мой взляд, не несут смысловой нагрузки для  обучения и предсказания модели:\n",
    "- DateCrawled — дата скачивания анкеты из базы\n",
    "- RegistrationMonth — месяц регистрации автомобиля - достаточно года регистрации\n",
    "- DateCreated — дата создания анкеты\n",
    "- NumberOfPictures — количество фотографий автомобиля\n",
    "- PostalCode — почтовый индекс владельца анкеты (пользователя) - нас интересует рынок в целом\n",
    "- LastSeen — дата последней активности пользователя"
   ]
  },
  {
   "cell_type": "markdown",
   "metadata": {},
   "source": [
    "Перед удалением признаков проверим данные на дублирующие значения"
   ]
  },
  {
   "cell_type": "code",
   "execution_count": 5,
   "metadata": {},
   "outputs": [
    {
     "data": {
      "text/plain": [
       "Index(['DateCrawled', 'Price', 'VehicleType', 'RegistrationYear', 'Gearbox',\n",
       "       'Power', 'Model', 'Kilometer', 'RegistrationMonth', 'FuelType', 'Brand',\n",
       "       'Repaired', 'DateCreated', 'NumberOfPictures', 'PostalCode',\n",
       "       'LastSeen'],\n",
       "      dtype='object')"
      ]
     },
     "execution_count": 5,
     "metadata": {},
     "output_type": "execute_result"
    }
   ],
   "source": [
    "df.columns"
   ]
  },
  {
   "cell_type": "code",
   "execution_count": 6,
   "metadata": {},
   "outputs": [
    {
     "name": "stdout",
     "output_type": "stream",
     "text": [
      "Количество дубликатов - 10194\n"
     ]
    }
   ],
   "source": [
    "# проверка дублирующих значений\n",
    "print('Количество дубликатов -',df.duplicated(subset = ['Price', 'VehicleType', 'RegistrationYear', 'Gearbox',\n",
    "       'Power', 'Model', 'Kilometer', 'RegistrationMonth', 'FuelType', 'Brand',\n",
    "       'Repaired', 'DateCreated', 'NumberOfPictures', 'PostalCode']).sum())"
   ]
  },
  {
   "cell_type": "code",
   "execution_count": 7,
   "metadata": {},
   "outputs": [
    {
     "name": "stdout",
     "output_type": "stream",
     "text": [
      "Доля дублирующих значений: 0.02876662462009939\n"
     ]
    }
   ],
   "source": [
    "# доля дублирующих значений\n",
    "print('Доля дублирующих значений:', df.duplicated(subset = ['Price', 'VehicleType', 'RegistrationYear', 'Gearbox',\n",
    "       'Power', 'Model', 'Kilometer', 'RegistrationMonth', 'FuelType', 'Brand',\n",
    "       'Repaired', 'DateCreated', 'NumberOfPictures', 'PostalCode']).sum()/df.shape[0])"
   ]
  },
  {
   "cell_type": "markdown",
   "metadata": {},
   "source": [
    "Доля дублирующих значений составляет 2.8%, удалим их"
   ]
  },
  {
   "cell_type": "code",
   "execution_count": 8,
   "metadata": {},
   "outputs": [
    {
     "name": "stdout",
     "output_type": "stream",
     "text": [
      "Количество дубликатов после удаления: 0\n"
     ]
    }
   ],
   "source": [
    "# удаление дубликатов\n",
    "df.drop_duplicates(subset = ['Price', 'VehicleType', 'RegistrationYear', 'Gearbox',\n",
    "       'Power', 'Model', 'Kilometer', 'RegistrationMonth', 'FuelType', 'Brand',\n",
    "       'Repaired', 'DateCreated', 'NumberOfPictures', 'PostalCode'], inplace=True)\n",
    "df = df.reset_index(drop=True)\n",
    "print('Количество дубликатов после удаления:', df.duplicated().sum())"
   ]
  },
  {
   "cell_type": "code",
   "execution_count": 9,
   "metadata": {},
   "outputs": [],
   "source": [
    "# удаление колонок\n",
    "df = df.drop(['DateCrawled', 'RegistrationMonth', 'DateCreated', 'NumberOfPictures', 'PostalCode', 'LastSeen'], axis=1)\n",
    "df = df.reset_index(drop=True)"
   ]
  },
  {
   "cell_type": "code",
   "execution_count": 10,
   "metadata": {},
   "outputs": [
    {
     "data": {
      "text/plain": [
       "Index(['Price', 'VehicleType', 'RegistrationYear', 'Gearbox', 'Power', 'Model',\n",
       "       'Kilometer', 'FuelType', 'Brand', 'Repaired'],\n",
       "      dtype='object')"
      ]
     },
     "execution_count": 10,
     "metadata": {},
     "output_type": "execute_result"
    }
   ],
   "source": [
    "# проверка\n",
    "df.columns"
   ]
  },
  {
   "cell_type": "code",
   "execution_count": 11,
   "metadata": {},
   "outputs": [
    {
     "data": {
      "text/html": [
       "<div>\n",
       "<style scoped>\n",
       "    .dataframe tbody tr th:only-of-type {\n",
       "        vertical-align: middle;\n",
       "    }\n",
       "\n",
       "    .dataframe tbody tr th {\n",
       "        vertical-align: top;\n",
       "    }\n",
       "\n",
       "    .dataframe thead th {\n",
       "        text-align: right;\n",
       "    }\n",
       "</style>\n",
       "<table border=\"1\" class=\"dataframe\">\n",
       "  <thead>\n",
       "    <tr style=\"text-align: right;\">\n",
       "      <th></th>\n",
       "      <th>Price</th>\n",
       "      <th>VehicleType</th>\n",
       "      <th>RegistrationYear</th>\n",
       "      <th>Gearbox</th>\n",
       "      <th>Power</th>\n",
       "      <th>Model</th>\n",
       "      <th>Kilometer</th>\n",
       "      <th>FuelType</th>\n",
       "      <th>Brand</th>\n",
       "      <th>Repaired</th>\n",
       "    </tr>\n",
       "  </thead>\n",
       "  <tbody>\n",
       "    <tr>\n",
       "      <th>count</th>\n",
       "      <td>344175.000000</td>\n",
       "      <td>307223</td>\n",
       "      <td>344175.000000</td>\n",
       "      <td>324726</td>\n",
       "      <td>344175.000000</td>\n",
       "      <td>324754</td>\n",
       "      <td>344175.000000</td>\n",
       "      <td>311729</td>\n",
       "      <td>344175</td>\n",
       "      <td>274247</td>\n",
       "    </tr>\n",
       "    <tr>\n",
       "      <th>unique</th>\n",
       "      <td>NaN</td>\n",
       "      <td>8</td>\n",
       "      <td>NaN</td>\n",
       "      <td>2</td>\n",
       "      <td>NaN</td>\n",
       "      <td>250</td>\n",
       "      <td>NaN</td>\n",
       "      <td>7</td>\n",
       "      <td>40</td>\n",
       "      <td>2</td>\n",
       "    </tr>\n",
       "    <tr>\n",
       "      <th>top</th>\n",
       "      <td>NaN</td>\n",
       "      <td>sedan</td>\n",
       "      <td>NaN</td>\n",
       "      <td>manual</td>\n",
       "      <td>NaN</td>\n",
       "      <td>golf</td>\n",
       "      <td>NaN</td>\n",
       "      <td>petrol</td>\n",
       "      <td>volkswagen</td>\n",
       "      <td>no</td>\n",
       "    </tr>\n",
       "    <tr>\n",
       "      <th>freq</th>\n",
       "      <td>NaN</td>\n",
       "      <td>88618</td>\n",
       "      <td>NaN</td>\n",
       "      <td>260508</td>\n",
       "      <td>NaN</td>\n",
       "      <td>28321</td>\n",
       "      <td>NaN</td>\n",
       "      <td>210087</td>\n",
       "      <td>74667</td>\n",
       "      <td>238920</td>\n",
       "    </tr>\n",
       "    <tr>\n",
       "      <th>mean</th>\n",
       "      <td>4395.893249</td>\n",
       "      <td>NaN</td>\n",
       "      <td>2004.223578</td>\n",
       "      <td>NaN</td>\n",
       "      <td>109.904886</td>\n",
       "      <td>NaN</td>\n",
       "      <td>128256.744389</td>\n",
       "      <td>NaN</td>\n",
       "      <td>NaN</td>\n",
       "      <td>NaN</td>\n",
       "    </tr>\n",
       "    <tr>\n",
       "      <th>std</th>\n",
       "      <td>4506.888598</td>\n",
       "      <td>NaN</td>\n",
       "      <td>90.906705</td>\n",
       "      <td>NaN</td>\n",
       "      <td>191.468515</td>\n",
       "      <td>NaN</td>\n",
       "      <td>37907.597348</td>\n",
       "      <td>NaN</td>\n",
       "      <td>NaN</td>\n",
       "      <td>NaN</td>\n",
       "    </tr>\n",
       "    <tr>\n",
       "      <th>min</th>\n",
       "      <td>0.000000</td>\n",
       "      <td>NaN</td>\n",
       "      <td>1000.000000</td>\n",
       "      <td>NaN</td>\n",
       "      <td>0.000000</td>\n",
       "      <td>NaN</td>\n",
       "      <td>5000.000000</td>\n",
       "      <td>NaN</td>\n",
       "      <td>NaN</td>\n",
       "      <td>NaN</td>\n",
       "    </tr>\n",
       "    <tr>\n",
       "      <th>25%</th>\n",
       "      <td>1000.000000</td>\n",
       "      <td>NaN</td>\n",
       "      <td>1999.000000</td>\n",
       "      <td>NaN</td>\n",
       "      <td>68.000000</td>\n",
       "      <td>NaN</td>\n",
       "      <td>125000.000000</td>\n",
       "      <td>NaN</td>\n",
       "      <td>NaN</td>\n",
       "      <td>NaN</td>\n",
       "    </tr>\n",
       "    <tr>\n",
       "      <th>50%</th>\n",
       "      <td>2700.000000</td>\n",
       "      <td>NaN</td>\n",
       "      <td>2003.000000</td>\n",
       "      <td>NaN</td>\n",
       "      <td>105.000000</td>\n",
       "      <td>NaN</td>\n",
       "      <td>150000.000000</td>\n",
       "      <td>NaN</td>\n",
       "      <td>NaN</td>\n",
       "      <td>NaN</td>\n",
       "    </tr>\n",
       "    <tr>\n",
       "      <th>75%</th>\n",
       "      <td>6300.000000</td>\n",
       "      <td>NaN</td>\n",
       "      <td>2008.000000</td>\n",
       "      <td>NaN</td>\n",
       "      <td>141.000000</td>\n",
       "      <td>NaN</td>\n",
       "      <td>150000.000000</td>\n",
       "      <td>NaN</td>\n",
       "      <td>NaN</td>\n",
       "      <td>NaN</td>\n",
       "    </tr>\n",
       "    <tr>\n",
       "      <th>max</th>\n",
       "      <td>20000.000000</td>\n",
       "      <td>NaN</td>\n",
       "      <td>9999.000000</td>\n",
       "      <td>NaN</td>\n",
       "      <td>20000.000000</td>\n",
       "      <td>NaN</td>\n",
       "      <td>150000.000000</td>\n",
       "      <td>NaN</td>\n",
       "      <td>NaN</td>\n",
       "      <td>NaN</td>\n",
       "    </tr>\n",
       "  </tbody>\n",
       "</table>\n",
       "</div>"
      ],
      "text/plain": [
       "                Price VehicleType  RegistrationYear Gearbox          Power  \\\n",
       "count   344175.000000      307223     344175.000000  324726  344175.000000   \n",
       "unique            NaN           8               NaN       2            NaN   \n",
       "top               NaN       sedan               NaN  manual            NaN   \n",
       "freq              NaN       88618               NaN  260508            NaN   \n",
       "mean      4395.893249         NaN       2004.223578     NaN     109.904886   \n",
       "std       4506.888598         NaN         90.906705     NaN     191.468515   \n",
       "min          0.000000         NaN       1000.000000     NaN       0.000000   \n",
       "25%       1000.000000         NaN       1999.000000     NaN      68.000000   \n",
       "50%       2700.000000         NaN       2003.000000     NaN     105.000000   \n",
       "75%       6300.000000         NaN       2008.000000     NaN     141.000000   \n",
       "max      20000.000000         NaN       9999.000000     NaN   20000.000000   \n",
       "\n",
       "         Model      Kilometer FuelType       Brand Repaired  \n",
       "count   324754  344175.000000   311729      344175   274247  \n",
       "unique     250            NaN        7          40        2  \n",
       "top       golf            NaN   petrol  volkswagen       no  \n",
       "freq     28321            NaN   210087       74667   238920  \n",
       "mean       NaN  128256.744389      NaN         NaN      NaN  \n",
       "std        NaN   37907.597348      NaN         NaN      NaN  \n",
       "min        NaN    5000.000000      NaN         NaN      NaN  \n",
       "25%        NaN  125000.000000      NaN         NaN      NaN  \n",
       "50%        NaN  150000.000000      NaN         NaN      NaN  \n",
       "75%        NaN  150000.000000      NaN         NaN      NaN  \n",
       "max        NaN  150000.000000      NaN         NaN      NaN  "
      ]
     },
     "execution_count": 11,
     "metadata": {},
     "output_type": "execute_result"
    }
   ],
   "source": [
    "# описательная статистика\n",
    "df.describe(include='all')"
   ]
  },
  {
   "cell_type": "code",
   "execution_count": 12,
   "metadata": {},
   "outputs": [],
   "source": [
    "# функция для построения графика с усами и гистограмму\n",
    "def graf(param):\n",
    "    fig, ax = plt.subplots(1, 2, figsize = (18,7))\n",
    "    df.boxplot(param, ax=ax[0])\n",
    "    df.hist(param, ax=ax[1], bins=50 )\n",
    "    plt.tight_layout()"
   ]
  },
  {
   "cell_type": "code",
   "execution_count": 13,
   "metadata": {},
   "outputs": [
    {
     "data": {
      "image/png": "[encoded data removed]",
      "text/plain": [
       "<Figure size 1296x504 with 2 Axes>"
      ]
     },
     "metadata": {
      "needs_background": "light"
     },
     "output_type": "display_data"
    }
   ],
   "source": [
    "graf(['Price'])"
   ]
  },
  {
   "cell_type": "markdown",
   "metadata": {},
   "source": [
    "Обратим внимание, что присутствует цена автомобиля равная 0, возможно это имелся в виду обмен. Также присутствует цена менее 30 евро, возможно как и ошибка при заполнении, так и то, что авто тотал, что никак не отображается. Рассмотрим значения меньше 30 евро."
   ]
  },
  {
   "cell_type": "code",
   "execution_count": 14,
   "metadata": {},
   "outputs": [],
   "source": [
    "#df[df['Price']<=30]"
   ]
  },
  {
   "cell_type": "markdown",
   "metadata": {},
   "source": [
    "Таких значений 10 тысяч, возможно это обмен или же машина в тотале и распродают запчасти, удалим эти значения, т.к. это может в дальнейшем помешать модели корректно предсказать цену."
   ]
  },
  {
   "cell_type": "code",
   "execution_count": 15,
   "metadata": {},
   "outputs": [],
   "source": [
    "#df=df.query('Price>30')"
   ]
  },
  {
   "cell_type": "markdown",
   "metadata": {},
   "source": [
    "Удалим значения, где цена равна нулю и рассмотрим подробнее распределение цены"
   ]
  },
  {
   "cell_type": "code",
   "execution_count": 16,
   "metadata": {},
   "outputs": [],
   "source": [
    "df=df.query('Price!=0')"
   ]
  },
  {
   "cell_type": "code",
   "execution_count": 17,
   "metadata": {},
   "outputs": [
    {
     "data": {
      "image/png": "[encoded data removed]",
      "text/plain": [
       "<Figure size 864x504 with 1 Axes>"
      ]
     },
     "metadata": {
      "needs_background": "light"
     },
     "output_type": "display_data"
    }
   ],
   "source": [
    "# график распределения цены\n",
    "df.Price.hist(bins=100, range=(0, 20000), figsize=(12,7))\n",
    "plt.title('График распределения стоимости автомобилей')\n",
    "plt.xlabel('Стоимость,Евро')\n",
    "plt.ylabel('Количество')\n",
    "plt.show()"
   ]
  },
  {
   "cell_type": "code",
   "execution_count": 18,
   "metadata": {},
   "outputs": [
    {
     "data": {
      "image/png": "[encoded data removed]",
      "text/plain": [
       "<Figure size 864x504 with 1 Axes>"
      ]
     },
     "metadata": {
      "needs_background": "light"
     },
     "output_type": "display_data"
    }
   ],
   "source": [
    "# график распределения цены ближе к левому краю\n",
    "df.Price.hist(bins=100, range=(0, 2000), figsize=(12,7))\n",
    "plt.title('График распределения стоимости автомобилей')\n",
    "plt.xlabel('Стоимость,Евро')\n",
    "plt.ylabel('Количество')\n",
    "plt.show()"
   ]
  },
  {
   "cell_type": "markdown",
   "metadata": {},
   "source": [
    "Поскольку на гисторгамме присутствуют данные возле нуля и длинный хвост около 20 тыс., посмотрим квантили"
   ]
  },
  {
   "cell_type": "code",
   "execution_count": 19,
   "metadata": {},
   "outputs": [
    {
     "data": {
      "text/plain": [
       "0.01      100.0\n",
       "0.99    18800.0\n",
       "Name: Price, dtype: float64"
      ]
     },
     "execution_count": 19,
     "metadata": {},
     "output_type": "execute_result"
    }
   ],
   "source": [
    "df['Price'].quantile([.01, 0.99])"
   ]
  },
  {
   "cell_type": "code",
   "execution_count": 20,
   "metadata": {},
   "outputs": [
    {
     "data": {
      "text/plain": [
       "1.7422657547220721"
      ]
     },
     "execution_count": 20,
     "metadata": {},
     "output_type": "execute_result"
    }
   ],
   "source": [
    "#смотрю долю строк, где цена меньше 100 и больше 18850:\n",
    "(1 - df.query('100 <= Price <= 18850').shape[0] / df.shape[0])*100"
   ]
  },
  {
   "cell_type": "code",
   "execution_count": 21,
   "metadata": {},
   "outputs": [],
   "source": [
    "#избавляюсь от 1,7% строк, где цена меньше 100 и больше 18850:\n",
    "df = df.query('100 <= Price <= 18850')"
   ]
  },
  {
   "cell_type": "code",
   "execution_count": 22,
   "metadata": {},
   "outputs": [
    {
     "data": {
      "image/png": "[encoded data removed]",
      "text/plain": [
       "<Figure size 1296x504 with 2 Axes>"
      ]
     },
     "metadata": {
      "needs_background": "light"
     },
     "output_type": "display_data"
    }
   ],
   "source": [
    "# пробег\n",
    "graf(['Kilometer'])"
   ]
  },
  {
   "cell_type": "markdown",
   "metadata": {},
   "source": [
    "По колонке пробег все корректно, пробег варьируется от 5 до 150 тысяч км."
   ]
  },
  {
   "cell_type": "code",
   "execution_count": 23,
   "metadata": {},
   "outputs": [
    {
     "data": {
      "image/png": "[encoded data removed]",
      "text/plain": [
       "<Figure size 1296x504 with 2 Axes>"
      ]
     },
     "metadata": {
      "needs_background": "light"
     },
     "output_type": "display_data"
    }
   ],
   "source": [
    "# строим распределение по году регистрации\n",
    "fig, ax = plt.subplots(1, 2, figsize = (18,7))\n",
    "df.boxplot('RegistrationYear', ax=ax[0])\n",
    "df.hist('RegistrationYear', ax=ax[1], bins=100, range=(1920, 2050))\n",
    "plt.tight_layout()"
   ]
  },
  {
   "cell_type": "code",
   "execution_count": 24,
   "metadata": {},
   "outputs": [
    {
     "data": {
      "image/png": "[encoded data removed]",
      "text/plain": [
       "<Figure size 1296x504 with 1 Axes>"
      ]
     },
     "metadata": {
      "needs_background": "light"
     },
     "output_type": "display_data"
    }
   ],
   "source": [
    "df.hist('RegistrationYear', bins=100, range=(1920, 2000), figsize = (18,7))\n",
    "plt.show()"
   ]
  },
  {
   "cell_type": "markdown",
   "metadata": {},
   "source": [
    "По гистограмме заметим, что всплеск регистрации начинается после 1950 года. Посмотрим какое соотношение значений до 1950 к общему числу значений"
   ]
  },
  {
   "cell_type": "code",
   "execution_count": 25,
   "metadata": {},
   "outputs": [
    {
     "data": {
      "text/plain": [
       "0.0004239963640024037"
      ]
     },
     "execution_count": 25,
     "metadata": {},
     "output_type": "execute_result"
    }
   ],
   "source": [
    "df.query('RegistrationYear < 1950').shape[0]/df.shape[0]"
   ]
  },
  {
   "cell_type": "markdown",
   "metadata": {},
   "source": [
    "В столбце \"Год регистрации\" присутствует как и 1000 год, так и 9999, такие значения необходимо удалить. Так же удалим авто до 1950 года, потому что это уже ретро авто, если такие авто еще сохранились, то скорее всего они будут продаваться через аукционы.\n",
    "В столбце присутствует год регистрации больше чем год заполнения анкеты, поэтому удалим данные больше 2017 года"
   ]
  },
  {
   "cell_type": "code",
   "execution_count": 26,
   "metadata": {},
   "outputs": [],
   "source": [
    "# таких значений меньше 1%, удалим их\n",
    "df = df.query('2017>RegistrationYear >= 1950')"
   ]
  },
  {
   "cell_type": "code",
   "execution_count": 27,
   "metadata": {},
   "outputs": [
    {
     "name": "stdout",
     "output_type": "stream",
     "text": [
      "<class 'pandas.core.frame.DataFrame'>\n",
      "Int64Index: 314295 entries, 0 to 344174\n",
      "Data columns (total 10 columns):\n",
      " #   Column            Non-Null Count   Dtype \n",
      "---  ------            --------------   ----- \n",
      " 0   Price             314295 non-null  int64 \n",
      " 1   VehicleType       295693 non-null  object\n",
      " 2   RegistrationYear  314295 non-null  int64 \n",
      " 3   Gearbox           300084 non-null  object\n",
      " 4   Power             314295 non-null  int64 \n",
      " 5   Model             299503 non-null  object\n",
      " 6   Kilometer         314295 non-null  int64 \n",
      " 7   FuelType          291590 non-null  object\n",
      " 8   Brand             314295 non-null  object\n",
      " 9   Repaired          257133 non-null  object\n",
      "dtypes: int64(4), object(6)\n",
      "memory usage: 26.4+ MB\n"
     ]
    }
   ],
   "source": [
    "df.info()"
   ]
  },
  {
   "cell_type": "code",
   "execution_count": 28,
   "metadata": {},
   "outputs": [
    {
     "data": {
      "image/png": "[encoded data removed]",
      "text/plain": [
       "<Figure size 1296x504 with 2 Axes>"
      ]
     },
     "metadata": {
      "needs_background": "light"
     },
     "output_type": "display_data"
    }
   ],
   "source": [
    "# мощность авто\n",
    "fig, ax = plt.subplots(1, 2, figsize = (18,7))\n",
    "df.boxplot('Power', ax=ax[0])\n",
    "df.hist('Power', ax=ax[1], bins=100, range=(0, 800))\n",
    "plt.tight_layout()"
   ]
  },
  {
   "cell_type": "markdown",
   "metadata": {},
   "source": [
    "Погуглив, узнала, что минимальная мощность менее 30 л.с. наблюдается только в раритетных автомобилях, с учетом того, что у нас отбор идет с 1960 гг. такое возможно, но надо рассмотреть подробнее. Также автомобили с мощностью более 1000 л.с. очень редки, это достаточно дорогие суперкары, поэтому их тоже надо рассмотреть и по возможности удалить."
   ]
  },
  {
   "cell_type": "code",
   "execution_count": 29,
   "metadata": {},
   "outputs": [
    {
     "data": {
      "image/png": "[encoded data removed]",
      "text/plain": [
       "<Figure size 1296x504 with 1 Axes>"
      ]
     },
     "metadata": {
      "needs_background": "light"
     },
     "output_type": "display_data"
    }
   ],
   "source": [
    "# гистограмма мощности по левому краю\n",
    "df.hist('Power', figsize = (18,7), bins=100, range=(0, 300))\n",
    "plt.show()"
   ]
  },
  {
   "cell_type": "code",
   "execution_count": 30,
   "metadata": {},
   "outputs": [
    {
     "data": {
      "text/plain": [
       "0.09827391463434035"
      ]
     },
     "execution_count": 30,
     "metadata": {},
     "output_type": "execute_result"
    }
   ],
   "source": [
    "# рассчитаем в скольких строках мощность равна 0\n",
    "df.query('Power==0').shape[0]/df.shape[0]"
   ]
  },
  {
   "cell_type": "code",
   "execution_count": 31,
   "metadata": {},
   "outputs": [
    {
     "data": {
      "text/plain": [
       "30887"
      ]
     },
     "execution_count": 31,
     "metadata": {},
     "output_type": "execute_result"
    }
   ],
   "source": [
    "df.query('Power==0').shape[0]"
   ]
  },
  {
   "cell_type": "markdown",
   "metadata": {},
   "source": [
    "Таких значений почти 10 процентов, восстановим значения этого признака, взяв самое частое значение по параметрам модель / брэнд."
   ]
  },
  {
   "cell_type": "code",
   "execution_count": 32,
   "metadata": {},
   "outputs": [],
   "source": [
    "# нули заменим на пропущенное значение\n",
    "df[df['Power'] == 0] = np.nan"
   ]
  },
  {
   "cell_type": "code",
   "execution_count": 33,
   "metadata": {},
   "outputs": [],
   "source": [
    "# меняем на медианк\n",
    "df['Power'] = df['Power'].combine_first(df.groupby(['Brand', 'Model'])['Power'].transform('median'))"
   ]
  },
  {
   "cell_type": "code",
   "execution_count": 34,
   "metadata": {},
   "outputs": [
    {
     "data": {
      "text/plain": [
       "count    283408.000000\n",
       "mean        123.521852\n",
       "std         193.578264\n",
       "min           1.000000\n",
       "25%          75.000000\n",
       "50%         110.000000\n",
       "75%         150.000000\n",
       "max       20000.000000\n",
       "Name: Power, dtype: float64"
      ]
     },
     "execution_count": 34,
     "metadata": {},
     "output_type": "execute_result"
    }
   ],
   "source": [
    "# описательная статистика\n",
    "df['Power'].describe()"
   ]
  },
  {
   "cell_type": "code",
   "execution_count": 35,
   "metadata": {},
   "outputs": [
    {
     "data": {
      "image/png": "[encoded data removed]",
      "text/plain": [
       "<Figure size 1296x504 with 1 Axes>"
      ]
     },
     "metadata": {
      "needs_background": "light"
     },
     "output_type": "display_data"
    }
   ],
   "source": [
    "df.hist('Power', figsize = (18,7), bins=100, range=(0, 100))\n",
    "plt.show()"
   ]
  },
  {
   "cell_type": "code",
   "execution_count": 36,
   "metadata": {},
   "outputs": [
    {
     "data": {
      "text/plain": [
       "0.003958064875355955"
      ]
     },
     "execution_count": 36,
     "metadata": {},
     "output_type": "execute_result"
    }
   ],
   "source": [
    "df.query('1000>=Power<40').shape[0]/df.shape[0]"
   ]
  },
  {
   "cell_type": "code",
   "execution_count": 37,
   "metadata": {},
   "outputs": [
    {
     "name": "stdout",
     "output_type": "stream",
     "text": [
      "<class 'pandas.core.frame.DataFrame'>\n",
      "Int64Index: 281618 entries, 1 to 344174\n",
      "Data columns (total 10 columns):\n",
      " #   Column            Non-Null Count   Dtype  \n",
      "---  ------            --------------   -----  \n",
      " 0   Price             281618 non-null  float64\n",
      " 1   VehicleType       271052 non-null  object \n",
      " 2   RegistrationYear  281618 non-null  float64\n",
      " 3   Gearbox           276545 non-null  object \n",
      " 4   Power             281618 non-null  float64\n",
      " 5   Model             271116 non-null  object \n",
      " 6   Kilometer         281618 non-null  float64\n",
      " 7   FuelType          266668 non-null  object \n",
      " 8   Brand             281618 non-null  object \n",
      " 9   Repaired          240311 non-null  object \n",
      "dtypes: float64(4), object(6)\n",
      "memory usage: 23.6+ MB\n"
     ]
    }
   ],
   "source": [
    "# удалим значения более 1000 и значения менее 40\n",
    "df = df.query('1000>Power>40')\n",
    "df.info()"
   ]
  },
  {
   "cell_type": "markdown",
   "metadata": {},
   "source": [
    "Далее рассмотрим категориальные признаки и пропуски в них"
   ]
  },
  {
   "cell_type": "code",
   "execution_count": 38,
   "metadata": {},
   "outputs": [
    {
     "data": {
      "text/plain": [
       "Repaired            0.146677\n",
       "FuelType            0.053086\n",
       "VehicleType         0.037519\n",
       "Model               0.037292\n",
       "Gearbox             0.018014\n",
       "Price               0.000000\n",
       "RegistrationYear    0.000000\n",
       "Power               0.000000\n",
       "Kilometer           0.000000\n",
       "Brand               0.000000\n",
       "dtype: float64"
      ]
     },
     "execution_count": 38,
     "metadata": {},
     "output_type": "execute_result"
    }
   ],
   "source": [
    "# соотношение пропущенных значений\n",
    "df.isna().mean().sort_values(ascending=False)"
   ]
  },
  {
   "cell_type": "markdown",
   "metadata": {},
   "source": [
    "Отметим, что больше всего пропусков в столбце Repaired (была машина в ремонте или нет). это может быть связано как с тем, что пользователь не сообщил о факте отсутствия ремонта, либо автомобиль подвергался ремонту, данные отсутствуют в зависимости от неизвестных факторов. Вероятность пропуска могла бы быть описана на основе других атрибутов, но информация по этим атрибутам в наборе данных отсутствует, аналогично vehicle_type. Поэтому заменим в эти\n",
    "fuel_type, gearbox, model - достаточно важные признаки, наблюдается 2-6% пропусков - тип топлива, коробка передач и модель автомобиля влияют на конечную цену. Могли появится по причине пропуска данных характеристик при заполнении объявления пользователем - умышленно либо по причине неосведомленности"
   ]
  },
  {
   "cell_type": "code",
   "execution_count": 39,
   "metadata": {},
   "outputs": [
    {
     "data": {
      "text/plain": [
       "sedan          79137\n",
       "small          66625\n",
       "wagon          56540\n",
       "bus            25062\n",
       "convertible    17587\n",
       "coupe          13688\n",
       "suv            10082\n",
       "other           2331\n",
       "Name: VehicleType, dtype: int64"
      ]
     },
     "execution_count": 39,
     "metadata": {},
     "output_type": "execute_result"
    }
   ],
   "source": [
    "df['VehicleType'].value_counts()\n"
   ]
  },
  {
   "cell_type": "code",
   "execution_count": 40,
   "metadata": {},
   "outputs": [
    {
     "data": {
      "text/plain": [
       "no     212586\n",
       "yes     27725\n",
       "Name: Repaired, dtype: int64"
      ]
     },
     "execution_count": 40,
     "metadata": {},
     "output_type": "execute_result"
    }
   ],
   "source": [
    "df['Repaired'].value_counts()"
   ]
  },
  {
   "cell_type": "code",
   "execution_count": 41,
   "metadata": {},
   "outputs": [
    {
     "data": {
      "text/plain": [
       "petrol      178493\n",
       "gasoline     82953\n",
       "lpg           4476\n",
       "cng            470\n",
       "hybrid         188\n",
       "other           53\n",
       "electric        35\n",
       "Name: FuelType, dtype: int64"
      ]
     },
     "execution_count": 41,
     "metadata": {},
     "output_type": "execute_result"
    }
   ],
   "source": [
    "df['FuelType'].value_counts()"
   ]
  },
  {
   "cell_type": "code",
   "execution_count": 42,
   "metadata": {},
   "outputs": [
    {
     "data": {
      "text/plain": [
       "golf                  23661\n",
       "other                 19211\n",
       "3er                   16581\n",
       "polo                  10226\n",
       "corsa                  9603\n",
       "                      ...  \n",
       "kalina                    4\n",
       "serie_3                   3\n",
       "rangerover                2\n",
       "601                       2\n",
       "range_rover_evoque        1\n",
       "Name: Model, Length: 249, dtype: int64"
      ]
     },
     "execution_count": 42,
     "metadata": {},
     "output_type": "execute_result"
    }
   ],
   "source": [
    "df['Model'].value_counts()"
   ]
  },
  {
   "cell_type": "code",
   "execution_count": 43,
   "metadata": {},
   "outputs": [
    {
     "data": {
      "text/plain": [
       "manual    221540\n",
       "auto       55005\n",
       "Name: Gearbox, dtype: int64"
      ]
     },
     "execution_count": 43,
     "metadata": {},
     "output_type": "execute_result"
    }
   ],
   "source": [
    "df['Gearbox'].value_counts()"
   ]
  },
  {
   "cell_type": "code",
   "execution_count": 44,
   "metadata": {},
   "outputs": [],
   "source": [
    "nan_cols = ['Repaired', 'VehicleType', 'FuelType', 'Gearbox', 'Model']\n",
    "df[nan_cols] = df[nan_cols].fillna('unknown')"
   ]
  },
  {
   "cell_type": "markdown",
   "metadata": {},
   "source": [
    "Проверим данные и посмотрим корреляцию между ними"
   ]
  },
  {
   "cell_type": "code",
   "execution_count": 45,
   "metadata": {},
   "outputs": [
    {
     "name": "stdout",
     "output_type": "stream",
     "text": [
      "<class 'pandas.core.frame.DataFrame'>\n",
      "Int64Index: 281618 entries, 1 to 344174\n",
      "Data columns (total 10 columns):\n",
      " #   Column            Non-Null Count   Dtype  \n",
      "---  ------            --------------   -----  \n",
      " 0   Price             281618 non-null  float64\n",
      " 1   VehicleType       281618 non-null  object \n",
      " 2   RegistrationYear  281618 non-null  float64\n",
      " 3   Gearbox           281618 non-null  object \n",
      " 4   Power             281618 non-null  float64\n",
      " 5   Model             281618 non-null  object \n",
      " 6   Kilometer         281618 non-null  float64\n",
      " 7   FuelType          281618 non-null  object \n",
      " 8   Brand             281618 non-null  object \n",
      " 9   Repaired          281618 non-null  object \n",
      "dtypes: float64(4), object(6)\n",
      "memory usage: 23.6+ MB\n"
     ]
    }
   ],
   "source": [
    "df.info()"
   ]
  },
  {
   "cell_type": "code",
   "execution_count": 46,
   "metadata": {},
   "outputs": [
    {
     "data": {
      "text/html": [
       "<div>\n",
       "<style scoped>\n",
       "    .dataframe tbody tr th:only-of-type {\n",
       "        vertical-align: middle;\n",
       "    }\n",
       "\n",
       "    .dataframe tbody tr th {\n",
       "        vertical-align: top;\n",
       "    }\n",
       "\n",
       "    .dataframe thead th {\n",
       "        text-align: right;\n",
       "    }\n",
       "</style>\n",
       "<table border=\"1\" class=\"dataframe\">\n",
       "  <thead>\n",
       "    <tr style=\"text-align: right;\">\n",
       "      <th></th>\n",
       "      <th>Price</th>\n",
       "      <th>RegistrationYear</th>\n",
       "      <th>Power</th>\n",
       "      <th>Kilometer</th>\n",
       "    </tr>\n",
       "  </thead>\n",
       "  <tbody>\n",
       "    <tr>\n",
       "      <th>Price</th>\n",
       "      <td>1.000000</td>\n",
       "      <td>0.497856</td>\n",
       "      <td>0.489627</td>\n",
       "      <td>-0.378507</td>\n",
       "    </tr>\n",
       "    <tr>\n",
       "      <th>RegistrationYear</th>\n",
       "      <td>0.497856</td>\n",
       "      <td>1.000000</td>\n",
       "      <td>0.110210</td>\n",
       "      <td>-0.308243</td>\n",
       "    </tr>\n",
       "    <tr>\n",
       "      <th>Power</th>\n",
       "      <td>0.489627</td>\n",
       "      <td>0.110210</td>\n",
       "      <td>1.000000</td>\n",
       "      <td>0.109182</td>\n",
       "    </tr>\n",
       "    <tr>\n",
       "      <th>Kilometer</th>\n",
       "      <td>-0.378507</td>\n",
       "      <td>-0.308243</td>\n",
       "      <td>0.109182</td>\n",
       "      <td>1.000000</td>\n",
       "    </tr>\n",
       "  </tbody>\n",
       "</table>\n",
       "</div>"
      ],
      "text/plain": [
       "                     Price  RegistrationYear     Power  Kilometer\n",
       "Price             1.000000          0.497856  0.489627  -0.378507\n",
       "RegistrationYear  0.497856          1.000000  0.110210  -0.308243\n",
       "Power             0.489627          0.110210  1.000000   0.109182\n",
       "Kilometer        -0.378507         -0.308243  0.109182   1.000000"
      ]
     },
     "execution_count": 46,
     "metadata": {},
     "output_type": "execute_result"
    }
   ],
   "source": [
    "df.corr()"
   ]
  },
  {
   "cell_type": "markdown",
   "metadata": {},
   "source": [
    "Наблюдается средняя положительная связь между ценой автомобиля и годом регистрации, а также средняя отрицательная между пробегом и ценой, что логично, чем больше пробег, тем цена за автомобиль ниже. "
   ]
  },
  {
   "cell_type": "code",
   "execution_count": 47,
   "metadata": {},
   "outputs": [
    {
     "data": {
      "image/png": "[encoded data removed]",
      "text/plain": [
       "<Figure size 1440x1080 with 4 Axes>"
      ]
     },
     "metadata": {
      "needs_background": "light"
     },
     "output_type": "display_data"
    }
   ],
   "source": [
    "# проверка распределения\n",
    "df.hist(bins=50, figsize=(20,15), edgecolor='blue', linewidth=2)\n",
    "plt.show()"
   ]
  },
  {
   "cell_type": "markdown",
   "metadata": {},
   "source": [
    "**ВЫВОД:**\n",
    "Данные для дальнейшего обучения подготовлены. Были удалены признаки, которые не несут полезной нагрузки для дальнейшего обучения модели. На этапе исследования были выявлены аномалии, дубликаты, пропуски:\n",
    " - дубликаты были удалены;\n",
    " - пропущенные значения заменены на unknown;\n",
    " - аномалии удалены\n",
    "\n",
    "На этапе предобработки были удалены 64 тыс. строк, что составляет 16% от общей выборки."
   ]
  },
  {
   "cell_type": "markdown",
   "metadata": {},
   "source": [
    "## Обучение моделей"
   ]
  },
  {
   "cell_type": "markdown",
   "metadata": {},
   "source": [
    "Обучение моделей будем проводить с помощью библиотек Catboost, LightGBM, LinearRegression и RandomForestRegressor. Для оценки качества моделей будем применять метрику RMSE."
   ]
  },
  {
   "cell_type": "code",
   "execution_count": 48,
   "metadata": {},
   "outputs": [],
   "source": [
    "# разделим выборки на целевой признак и остальные признаки\n",
    "features=df.drop(['Price'],axis=1)\n",
    "target=df['Price']"
   ]
  },
  {
   "cell_type": "code",
   "execution_count": 49,
   "metadata": {},
   "outputs": [],
   "source": [
    "# разделим на обучающую и тестовую выборки\n",
    "train_features, test_features, train_target, test_target = train_test_split(features, target, test_size=0.25, random_state=12345)"
   ]
  },
  {
   "cell_type": "code",
   "execution_count": 50,
   "metadata": {},
   "outputs": [
    {
     "name": "stdout",
     "output_type": "stream",
     "text": [
      "(211213, 9)\n",
      "(70405, 9)\n",
      "(211213,)\n",
      "(70405,)\n"
     ]
    }
   ],
   "source": [
    "print(train_features.shape)\n",
    "print(test_features.shape)\n",
    "print(train_target.shape)\n",
    "print(test_target.shape)"
   ]
  },
  {
   "cell_type": "code",
   "execution_count": 51,
   "metadata": {},
   "outputs": [],
   "source": [
    "folds = KFold(n_splits=4,  shuffle=True, random_state=12345)"
   ]
  },
  {
   "cell_type": "markdown",
   "metadata": {},
   "source": [
    "### Catboost"
   ]
  },
  {
   "cell_type": "markdown",
   "metadata": {},
   "source": [
    "Catboost умеет работать с категориальными переменными - в кодировании нет необходимости. Составим список наших категорий"
   ]
  },
  {
   "cell_type": "code",
   "execution_count": 52,
   "metadata": {},
   "outputs": [
    {
     "data": {
      "text/plain": [
       "['VehicleType', 'Gearbox', 'Model', 'FuelType', 'Brand', 'Repaired']"
      ]
     },
     "execution_count": 52,
     "metadata": {},
     "output_type": "execute_result"
    }
   ],
   "source": [
    "cat_features = list(train_features.select_dtypes(include=['object']).columns)\n",
    "cat_features"
   ]
  },
  {
   "cell_type": "code",
   "execution_count": 53,
   "metadata": {},
   "outputs": [
    {
     "name": "stdout",
     "output_type": "stream",
     "text": [
      "0:\tlearn: 4290.8981226\ttotal: 110ms\tremaining: 5.4s\n",
      "20:\tlearn: 3127.3662139\ttotal: 1.1s\tremaining: 1.52s\n",
      "40:\tlearn: 2551.4191741\ttotal: 2.02s\tremaining: 444ms\n",
      "49:\tlearn: 2387.1783702\ttotal: 2.48s\tremaining: 0us\n",
      "0:\tlearn: 4280.7669757\ttotal: 53.9ms\tremaining: 2.64s\n",
      "20:\tlearn: 3119.8898847\ttotal: 1.02s\tremaining: 1.41s\n",
      "40:\tlearn: 2540.3766718\ttotal: 1.94s\tremaining: 427ms\n",
      "49:\tlearn: 2381.5942387\ttotal: 2.35s\tremaining: 0us\n",
      "0:\tlearn: 4277.0956842\ttotal: 56.2ms\tremaining: 2.75s\n",
      "20:\tlearn: 3113.0856687\ttotal: 1.08s\tremaining: 1.49s\n",
      "40:\tlearn: 2538.0535708\ttotal: 2.06s\tremaining: 452ms\n",
      "49:\tlearn: 2381.1919205\ttotal: 2.46s\tremaining: 0us\n",
      "0:\tlearn: 4285.2389785\ttotal: 52.6ms\tremaining: 2.58s\n",
      "20:\tlearn: 3121.1958585\ttotal: 1.01s\tremaining: 1.4s\n",
      "40:\tlearn: 2545.6626552\ttotal: 1.98s\tremaining: 435ms\n",
      "49:\tlearn: 2380.5153446\ttotal: 2.44s\tremaining: 0us\n",
      "0:\tlearn: 4290.8981226\ttotal: 55.4ms\tremaining: 5.49s\n",
      "20:\tlearn: 3127.3662139\ttotal: 999ms\tremaining: 3.76s\n",
      "40:\tlearn: 2551.4191741\ttotal: 1.92s\tremaining: 2.77s\n",
      "60:\tlearn: 2248.5334187\ttotal: 2.83s\tremaining: 1.81s\n",
      "80:\tlearn: 2070.3963665\ttotal: 3.74s\tremaining: 876ms\n",
      "99:\tlearn: 1967.1637376\ttotal: 4.6s\tremaining: 0us\n",
      "0:\tlearn: 4280.7669757\ttotal: 54.3ms\tremaining: 5.38s\n",
      "20:\tlearn: 3119.8898847\ttotal: 1.01s\tremaining: 3.79s\n",
      "40:\tlearn: 2540.3766718\ttotal: 1.92s\tremaining: 2.76s\n",
      "60:\tlearn: 2239.5728595\ttotal: 2.93s\tremaining: 1.87s\n",
      "80:\tlearn: 2062.3593270\ttotal: 3.89s\tremaining: 913ms\n",
      "99:\tlearn: 1961.3636955\ttotal: 4.77s\tremaining: 0us\n",
      "0:\tlearn: 4277.0956842\ttotal: 64.4ms\tremaining: 6.37s\n",
      "20:\tlearn: 3113.0856687\ttotal: 1.05s\tremaining: 3.96s\n",
      "40:\tlearn: 2538.0535708\ttotal: 2.02s\tremaining: 2.9s\n",
      "60:\tlearn: 2237.3840305\ttotal: 2.96s\tremaining: 1.9s\n",
      "80:\tlearn: 2062.5459388\ttotal: 3.92s\tremaining: 920ms\n",
      "99:\tlearn: 1960.6569351\ttotal: 4.83s\tremaining: 0us\n",
      "0:\tlearn: 4285.2389785\ttotal: 53.8ms\tremaining: 5.33s\n",
      "20:\tlearn: 3121.1958585\ttotal: 1.07s\tremaining: 4.04s\n",
      "40:\tlearn: 2545.6626552\ttotal: 2.08s\tremaining: 2.99s\n",
      "60:\tlearn: 2239.2586520\ttotal: 3.07s\tremaining: 1.96s\n",
      "80:\tlearn: 2062.5851061\ttotal: 4.04s\tremaining: 947ms\n",
      "99:\tlearn: 1963.5486115\ttotal: 4.94s\tremaining: 0us\n",
      "0:\tlearn: 4278.0539227\ttotal: 105ms\tremaining: 5.16s\n",
      "20:\tlearn: 2955.1079402\ttotal: 1.8s\tremaining: 2.49s\n",
      "40:\tlearn: 2310.9180481\ttotal: 3.53s\tremaining: 776ms\n",
      "49:\tlearn: 2133.9060224\ttotal: 4.31s\tremaining: 0us\n",
      "0:\tlearn: 4267.0810489\ttotal: 98.4ms\tremaining: 4.82s\n",
      "20:\tlearn: 2950.1286476\ttotal: 1.93s\tremaining: 2.67s\n",
      "40:\tlearn: 2299.1171904\ttotal: 3.74s\tremaining: 821ms\n",
      "49:\tlearn: 2126.2170943\ttotal: 4.54s\tremaining: 0us\n",
      "0:\tlearn: 4264.8810484\ttotal: 105ms\tremaining: 5.14s\n",
      "20:\tlearn: 2943.9766834\ttotal: 1.84s\tremaining: 2.55s\n",
      "40:\tlearn: 2307.8656792\ttotal: 3.56s\tremaining: 782ms\n",
      "49:\tlearn: 2136.7266415\ttotal: 4.33s\tremaining: 0us\n",
      "0:\tlearn: 4273.6287054\ttotal: 100ms\tremaining: 4.9s\n",
      "20:\tlearn: 2955.5872307\ttotal: 1.9s\tremaining: 2.62s\n",
      "40:\tlearn: 2316.9908969\ttotal: 3.61s\tremaining: 792ms\n",
      "49:\tlearn: 2137.6384742\ttotal: 4.36s\tremaining: 0us\n",
      "0:\tlearn: 4278.0539227\ttotal: 102ms\tremaining: 10.1s\n",
      "20:\tlearn: 2955.1079402\ttotal: 1.8s\tremaining: 6.79s\n",
      "40:\tlearn: 2310.9180481\ttotal: 3.56s\tremaining: 5.13s\n",
      "60:\tlearn: 1987.5941732\ttotal: 5.38s\tremaining: 3.44s\n",
      "80:\tlearn: 1823.0937643\ttotal: 7.09s\tremaining: 1.66s\n",
      "99:\tlearn: 1733.9587395\ttotal: 8.79s\tremaining: 0us\n",
      "0:\tlearn: 4267.0810489\ttotal: 107ms\tremaining: 10.6s\n",
      "20:\tlearn: 2950.1286476\ttotal: 1.82s\tremaining: 6.84s\n",
      "40:\tlearn: 2299.1171904\ttotal: 3.47s\tremaining: 4.99s\n",
      "60:\tlearn: 1974.0531206\ttotal: 5.17s\tremaining: 3.31s\n",
      "80:\tlearn: 1813.9854675\ttotal: 6.94s\tremaining: 1.63s\n",
      "99:\tlearn: 1727.2168308\ttotal: 8.53s\tremaining: 0us\n",
      "0:\tlearn: 4264.8810484\ttotal: 98.5ms\tremaining: 9.75s\n",
      "20:\tlearn: 2943.9766834\ttotal: 1.75s\tremaining: 6.59s\n",
      "40:\tlearn: 2307.8656792\ttotal: 3.43s\tremaining: 4.94s\n",
      "60:\tlearn: 1986.5239789\ttotal: 5.12s\tremaining: 3.27s\n",
      "80:\tlearn: 1821.6505169\ttotal: 6.87s\tremaining: 1.61s\n",
      "99:\tlearn: 1736.7594760\ttotal: 8.82s\tremaining: 0us\n",
      "0:\tlearn: 4273.6287054\ttotal: 108ms\tremaining: 10.7s\n",
      "20:\tlearn: 2955.5872307\ttotal: 1.86s\tremaining: 6.99s\n",
      "40:\tlearn: 2316.9908969\ttotal: 3.57s\tremaining: 5.13s\n",
      "60:\tlearn: 1988.8086276\ttotal: 5.34s\tremaining: 3.42s\n",
      "80:\tlearn: 1820.2271916\ttotal: 7.09s\tremaining: 1.66s\n",
      "99:\tlearn: 1736.8768878\ttotal: 8.78s\tremaining: 0us\n",
      "0:\tlearn: 4276.4829801\ttotal: 150ms\tremaining: 7.36s\n",
      "20:\tlearn: 2934.3516219\ttotal: 2.77s\tremaining: 3.82s\n",
      "40:\tlearn: 2261.1139984\ttotal: 5.43s\tremaining: 1.19s\n",
      "49:\tlearn: 2082.1705793\ttotal: 6.68s\tremaining: 0us\n",
      "0:\tlearn: 4265.5406594\ttotal: 158ms\tremaining: 7.76s\n",
      "20:\tlearn: 2926.6541894\ttotal: 2.95s\tremaining: 4.07s\n",
      "40:\tlearn: 2268.3976097\ttotal: 5.74s\tremaining: 1.26s\n",
      "49:\tlearn: 2086.7550078\ttotal: 7.04s\tremaining: 0us\n",
      "0:\tlearn: 4262.7744463\ttotal: 161ms\tremaining: 7.86s\n",
      "20:\tlearn: 2917.6967971\ttotal: 2.94s\tremaining: 4.07s\n",
      "40:\tlearn: 2265.4066977\ttotal: 5.74s\tremaining: 1.26s\n",
      "49:\tlearn: 2084.2878038\ttotal: 7.03s\tremaining: 0us\n",
      "0:\tlearn: 4272.1648840\ttotal: 150ms\tremaining: 7.33s\n",
      "20:\tlearn: 2930.5008179\ttotal: 2.96s\tremaining: 4.08s\n",
      "40:\tlearn: 2269.9623401\ttotal: 5.71s\tremaining: 1.25s\n",
      "49:\tlearn: 2086.1259441\ttotal: 6.92s\tremaining: 0us\n",
      "0:\tlearn: 4276.4829801\ttotal: 144ms\tremaining: 14.2s\n",
      "20:\tlearn: 2934.3516219\ttotal: 2.8s\tremaining: 10.5s\n",
      "40:\tlearn: 2261.1139984\ttotal: 5.59s\tremaining: 8.05s\n",
      "60:\tlearn: 1927.6888086\ttotal: 8.32s\tremaining: 5.32s\n",
      "80:\tlearn: 1760.3375982\ttotal: 11s\tremaining: 2.58s\n",
      "99:\tlearn: 1672.5183622\ttotal: 13.6s\tremaining: 0us\n",
      "0:\tlearn: 4265.5406594\ttotal: 146ms\tremaining: 14.5s\n",
      "20:\tlearn: 2926.6541894\ttotal: 2.84s\tremaining: 10.7s\n",
      "40:\tlearn: 2268.3976097\ttotal: 5.6s\tremaining: 8.06s\n",
      "60:\tlearn: 1929.0104081\ttotal: 8.32s\tremaining: 5.32s\n",
      "80:\tlearn: 1763.3294087\ttotal: 11.1s\tremaining: 2.6s\n",
      "99:\tlearn: 1677.5253760\ttotal: 13.7s\tremaining: 0us\n",
      "0:\tlearn: 4262.7744463\ttotal: 144ms\tremaining: 14.2s\n",
      "20:\tlearn: 2917.6967971\ttotal: 2.8s\tremaining: 10.5s\n",
      "40:\tlearn: 2265.4066977\ttotal: 5.48s\tremaining: 7.89s\n",
      "60:\tlearn: 1927.9816816\ttotal: 8.24s\tremaining: 5.27s\n",
      "80:\tlearn: 1760.3430597\ttotal: 10.9s\tremaining: 2.57s\n",
      "99:\tlearn: 1676.2901923\ttotal: 13.5s\tremaining: 0us\n",
      "0:\tlearn: 4272.1648840\ttotal: 156ms\tremaining: 15.4s\n",
      "20:\tlearn: 2930.5008179\ttotal: 2.97s\tremaining: 11.2s\n",
      "40:\tlearn: 2269.9623401\ttotal: 5.71s\tremaining: 8.22s\n",
      "60:\tlearn: 1929.1635827\ttotal: 8.48s\tremaining: 5.42s\n",
      "80:\tlearn: 1764.6627025\ttotal: 11.2s\tremaining: 2.63s\n",
      "99:\tlearn: 1681.3362384\ttotal: 13.8s\tremaining: 0us\n",
      "0:\tlearn: 3721.3825545\ttotal: 57.1ms\tremaining: 2.79s\n",
      "20:\tlearn: 1813.5495583\ttotal: 1.06s\tremaining: 1.46s\n",
      "40:\tlearn: 1722.9414258\ttotal: 2s\tremaining: 439ms\n",
      "49:\tlearn: 1691.1443292\ttotal: 2.42s\tremaining: 0us\n",
      "0:\tlearn: 3724.9084670\ttotal: 53.8ms\tremaining: 2.64s\n",
      "20:\tlearn: 1804.0227336\ttotal: 983ms\tremaining: 1.36s\n",
      "40:\tlearn: 1707.6642999\ttotal: 1.88s\tremaining: 413ms\n",
      "49:\tlearn: 1682.2681201\ttotal: 2.33s\tremaining: 0us\n",
      "0:\tlearn: 3710.4256260\ttotal: 55.6ms\tremaining: 2.72s\n",
      "20:\tlearn: 1807.0600403\ttotal: 1.09s\tremaining: 1.5s\n",
      "40:\tlearn: 1707.7761942\ttotal: 2.05s\tremaining: 451ms\n",
      "49:\tlearn: 1687.8532707\ttotal: 2.46s\tremaining: 0us\n",
      "0:\tlearn: 3706.1482283\ttotal: 56.8ms\tremaining: 2.78s\n",
      "20:\tlearn: 1811.5496284\ttotal: 1.03s\tremaining: 1.42s\n",
      "40:\tlearn: 1715.4005929\ttotal: 1.98s\tremaining: 434ms\n",
      "49:\tlearn: 1693.1031371\ttotal: 2.39s\tremaining: 0us\n",
      "0:\tlearn: 3721.3825545\ttotal: 55.9ms\tremaining: 5.54s\n",
      "20:\tlearn: 1813.5495583\ttotal: 1s\tremaining: 3.77s\n",
      "40:\tlearn: 1722.9414258\ttotal: 1.91s\tremaining: 2.75s\n",
      "60:\tlearn: 1666.9849505\ttotal: 2.9s\tremaining: 1.85s\n",
      "80:\tlearn: 1638.7141296\ttotal: 3.88s\tremaining: 911ms\n",
      "99:\tlearn: 1617.8433259\ttotal: 4.75s\tremaining: 0us\n",
      "0:\tlearn: 3724.9084670\ttotal: 55.3ms\tremaining: 5.48s\n",
      "20:\tlearn: 1804.0227336\ttotal: 1.01s\tremaining: 3.81s\n",
      "40:\tlearn: 1707.6642999\ttotal: 1.97s\tremaining: 2.84s\n",
      "60:\tlearn: 1658.5999914\ttotal: 2.92s\tremaining: 1.87s\n",
      "80:\tlearn: 1627.9805587\ttotal: 3.86s\tremaining: 905ms\n",
      "99:\tlearn: 1610.8871024\ttotal: 4.72s\tremaining: 0us\n",
      "0:\tlearn: 3710.4256260\ttotal: 53.7ms\tremaining: 5.32s\n",
      "20:\tlearn: 1807.0600403\ttotal: 1.04s\tremaining: 3.91s\n",
      "40:\tlearn: 1707.7761942\ttotal: 1.97s\tremaining: 2.84s\n",
      "60:\tlearn: 1665.4431028\ttotal: 2.98s\tremaining: 1.9s\n",
      "80:\tlearn: 1633.1430462\ttotal: 3.95s\tremaining: 927ms\n",
      "99:\tlearn: 1611.0698618\ttotal: 4.85s\tremaining: 0us\n",
      "0:\tlearn: 3706.1482283\ttotal: 56.4ms\tremaining: 5.58s\n",
      "20:\tlearn: 1811.5496284\ttotal: 1s\tremaining: 3.78s\n",
      "40:\tlearn: 1715.4005929\ttotal: 1.93s\tremaining: 2.78s\n",
      "60:\tlearn: 1673.1414797\ttotal: 2.87s\tremaining: 1.83s\n",
      "80:\tlearn: 1640.5759122\ttotal: 3.84s\tremaining: 901ms\n",
      "99:\tlearn: 1624.0343357\ttotal: 4.73s\tremaining: 0us\n",
      "0:\tlearn: 3610.0569824\ttotal: 97.8ms\tremaining: 4.79s\n",
      "20:\tlearn: 1620.6903638\ttotal: 1.86s\tremaining: 2.56s\n",
      "40:\tlearn: 1538.3546539\ttotal: 3.94s\tremaining: 866ms\n",
      "49:\tlearn: 1507.6588192\ttotal: 4.79s\tremaining: 0us\n",
      "0:\tlearn: 3606.5393715\ttotal: 97.7ms\tremaining: 4.79s\n",
      "20:\tlearn: 1639.7663865\ttotal: 1.87s\tremaining: 2.59s\n",
      "40:\tlearn: 1546.5344364\ttotal: 3.61s\tremaining: 792ms\n",
      "49:\tlearn: 1518.8077325\ttotal: 4.41s\tremaining: 0us\n",
      "0:\tlearn: 3604.6189222\ttotal: 98.8ms\tremaining: 4.84s\n",
      "20:\tlearn: 1615.1621617\ttotal: 1.86s\tremaining: 2.57s\n",
      "40:\tlearn: 1533.7184955\ttotal: 3.61s\tremaining: 792ms\n",
      "49:\tlearn: 1509.0668773\ttotal: 4.41s\tremaining: 0us\n",
      "0:\tlearn: 3605.2613072\ttotal: 102ms\tremaining: 5s\n",
      "20:\tlearn: 1634.4050941\ttotal: 1.88s\tremaining: 2.59s\n",
      "40:\tlearn: 1543.2825332\ttotal: 3.7s\tremaining: 813ms\n",
      "49:\tlearn: 1517.7703507\ttotal: 4.5s\tremaining: 0us\n",
      "0:\tlearn: 3610.0569824\ttotal: 102ms\tremaining: 10.1s\n",
      "20:\tlearn: 1620.6903638\ttotal: 1.87s\tremaining: 7.03s\n",
      "40:\tlearn: 1538.3546539\ttotal: 3.66s\tremaining: 5.26s\n",
      "60:\tlearn: 1477.3211662\ttotal: 5.46s\tremaining: 3.49s\n",
      "80:\tlearn: 1441.0472884\ttotal: 7.15s\tremaining: 1.68s\n",
      "99:\tlearn: 1415.4954961\ttotal: 8.97s\tremaining: 0us\n",
      "0:\tlearn: 3606.5393715\ttotal: 100ms\tremaining: 9.91s\n",
      "20:\tlearn: 1639.7663865\ttotal: 1.86s\tremaining: 7.01s\n",
      "40:\tlearn: 1546.5344364\ttotal: 3.59s\tremaining: 5.16s\n",
      "60:\tlearn: 1495.9380558\ttotal: 5.37s\tremaining: 3.43s\n",
      "80:\tlearn: 1459.5255905\ttotal: 7.11s\tremaining: 1.67s\n",
      "99:\tlearn: 1430.1241197\ttotal: 8.77s\tremaining: 0us\n",
      "0:\tlearn: 3604.6189222\ttotal: 101ms\tremaining: 10s\n",
      "20:\tlearn: 1615.1621617\ttotal: 1.86s\tremaining: 7s\n",
      "40:\tlearn: 1533.7184955\ttotal: 3.63s\tremaining: 5.22s\n",
      "60:\tlearn: 1483.6032258\ttotal: 5.4s\tremaining: 3.45s\n",
      "80:\tlearn: 1448.1690208\ttotal: 7.13s\tremaining: 1.67s\n",
      "99:\tlearn: 1425.8731978\ttotal: 8.79s\tremaining: 0us\n",
      "0:\tlearn: 3605.2613072\ttotal: 146ms\tremaining: 14.4s\n",
      "20:\tlearn: 1634.4050941\ttotal: 1.98s\tremaining: 7.43s\n",
      "40:\tlearn: 1543.2825332\ttotal: 3.78s\tremaining: 5.44s\n",
      "60:\tlearn: 1494.1030466\ttotal: 5.53s\tremaining: 3.53s\n",
      "80:\tlearn: 1457.5571283\ttotal: 7.3s\tremaining: 1.71s\n",
      "99:\tlearn: 1436.0656497\ttotal: 8.99s\tremaining: 0us\n",
      "0:\tlearn: 3596.1546982\ttotal: 176ms\tremaining: 8.64s\n",
      "20:\tlearn: 1563.1384336\ttotal: 2.95s\tremaining: 4.07s\n",
      "40:\tlearn: 1479.9126979\ttotal: 5.8s\tremaining: 1.27s\n",
      "49:\tlearn: 1443.1002285\ttotal: 7.09s\tremaining: 0us\n",
      "0:\tlearn: 3592.8680844\ttotal: 151ms\tremaining: 7.41s\n",
      "20:\tlearn: 1559.8171074\ttotal: 3.02s\tremaining: 4.17s\n",
      "40:\tlearn: 1472.2747432\ttotal: 6.03s\tremaining: 1.32s\n",
      "49:\tlearn: 1443.5448137\ttotal: 7.35s\tremaining: 0us\n",
      "0:\tlearn: 3585.9231682\ttotal: 144ms\tremaining: 7.04s\n",
      "20:\tlearn: 1552.3696926\ttotal: 3.04s\tremaining: 4.2s\n",
      "40:\tlearn: 1473.0121632\ttotal: 5.88s\tremaining: 1.29s\n",
      "49:\tlearn: 1442.2866194\ttotal: 7.2s\tremaining: 0us\n",
      "0:\tlearn: 3592.2266147\ttotal: 151ms\tremaining: 7.41s\n",
      "20:\tlearn: 1575.4012375\ttotal: 2.89s\tremaining: 3.99s\n",
      "40:\tlearn: 1477.6638282\ttotal: 5.69s\tremaining: 1.25s\n",
      "49:\tlearn: 1442.3843101\ttotal: 6.93s\tremaining: 0us\n",
      "0:\tlearn: 3596.1546982\ttotal: 141ms\tremaining: 14s\n",
      "20:\tlearn: 1563.1384336\ttotal: 2.83s\tremaining: 10.6s\n",
      "40:\tlearn: 1479.9126979\ttotal: 5.7s\tremaining: 8.2s\n",
      "60:\tlearn: 1411.3120265\ttotal: 8.66s\tremaining: 5.54s\n",
      "80:\tlearn: 1371.7293268\ttotal: 11.4s\tremaining: 2.68s\n",
      "99:\tlearn: 1344.1622052\ttotal: 14.1s\tremaining: 0us\n",
      "0:\tlearn: 3592.8680844\ttotal: 140ms\tremaining: 13.9s\n",
      "20:\tlearn: 1559.8171074\ttotal: 2.97s\tremaining: 11.2s\n",
      "40:\tlearn: 1472.2747432\ttotal: 5.92s\tremaining: 8.52s\n",
      "60:\tlearn: 1412.8932985\ttotal: 8.81s\tremaining: 5.63s\n",
      "80:\tlearn: 1365.9078587\ttotal: 11.6s\tremaining: 2.73s\n",
      "99:\tlearn: 1331.9980127\ttotal: 14.5s\tremaining: 0us\n",
      "0:\tlearn: 3585.9231682\ttotal: 142ms\tremaining: 14.1s\n",
      "20:\tlearn: 1552.3696926\ttotal: 3.11s\tremaining: 11.7s\n",
      "40:\tlearn: 1473.0121632\ttotal: 5.82s\tremaining: 8.38s\n",
      "60:\tlearn: 1405.6719441\ttotal: 8.68s\tremaining: 5.55s\n",
      "80:\tlearn: 1364.3005354\ttotal: 11.3s\tremaining: 2.65s\n",
      "99:\tlearn: 1332.8189169\ttotal: 13.9s\tremaining: 0us\n",
      "0:\tlearn: 3592.2266147\ttotal: 140ms\tremaining: 13.9s\n",
      "20:\tlearn: 1575.4012375\ttotal: 2.94s\tremaining: 11.1s\n",
      "40:\tlearn: 1477.6638282\ttotal: 5.87s\tremaining: 8.45s\n",
      "60:\tlearn: 1413.8115959\ttotal: 8.84s\tremaining: 5.65s\n",
      "80:\tlearn: 1376.2030195\ttotal: 11.6s\tremaining: 2.73s\n",
      "99:\tlearn: 1340.1821537\ttotal: 14.3s\tremaining: 0us\n",
      "0:\tlearn: 3591.3384213\ttotal: 188ms\tremaining: 18.6s\n",
      "20:\tlearn: 1566.2531336\ttotal: 3.54s\tremaining: 13.3s\n",
      "40:\tlearn: 1476.8558426\ttotal: 7.14s\tremaining: 10.3s\n",
      "60:\tlearn: 1416.4212832\ttotal: 10.7s\tremaining: 6.83s\n",
      "80:\tlearn: 1378.2440911\ttotal: 14.1s\tremaining: 3.31s\n",
      "99:\tlearn: 1350.3540630\ttotal: 17.4s\tremaining: 0us\n",
      "Best hyperparams:  {'learning_rate': 0.25, 'max_depth': 12, 'n_estimators': 100, 'random_state': 12345, 'verbose': 0}\n",
      "RMSE score on train sample: 1505.55\n"
     ]
    }
   ],
   "source": [
    "# функция для подсчета лучших гиперпараметров\n",
    "\n",
    "model = CatBoostRegressor()\n",
    "params = {'learning_rate': [0.03, 0.25],\n",
    "            'n_estimators' : [50, 100],\n",
    "            'verbose' : [0],\n",
    "            'random_state' : [12345],\n",
    "            'max_depth' : [5, 10, 12]\n",
    "    }\n",
    "grid_cv = GridSearchCV(estimator=model, \n",
    "                           param_grid=params, \n",
    "                           n_jobs=-1,\n",
    "                           scoring='neg_mean_squared_error', \n",
    "                           cv=folds)\n",
    "grid_cv.fit(train_features, train_target, cat_features=cat_features, verbose=20)\n",
    "rmse_gr_cat = (-grid_cv.best_score_) ** 0.5\n",
    "print('Best hyperparams: ', grid_cv.best_params_)\n",
    "print('RMSE score on train sample: {:.2f}'.format(rmse_gr_cat))"
   ]
  },
  {
   "cell_type": "code",
   "execution_count": 54,
   "metadata": {},
   "outputs": [
    {
     "data": {
      "text/plain": [
       "1505.5516689236376"
      ]
     },
     "execution_count": 54,
     "metadata": {},
     "output_type": "execute_result"
    }
   ],
   "source": [
    "rmse_gr_cat"
   ]
  },
  {
   "cell_type": "code",
   "execution_count": 55,
   "metadata": {},
   "outputs": [
    {
     "name": "stdout",
     "output_type": "stream",
     "text": [
      "0:\tlearn: 3591.3384213\ttotal: 200ms\tremaining: 19.8s\n",
      "20:\tlearn: 1566.2531336\ttotal: 3.74s\tremaining: 14.1s\n",
      "40:\tlearn: 1476.8558426\ttotal: 7.22s\tremaining: 10.4s\n",
      "60:\tlearn: 1416.4212832\ttotal: 10.9s\tremaining: 6.96s\n",
      "80:\tlearn: 1378.2440911\ttotal: 14.4s\tremaining: 3.37s\n",
      "99:\tlearn: 1350.3540630\ttotal: 17.7s\tremaining: 0us\n"
     ]
    }
   ],
   "source": [
    "# обучение модели по лучшим гиперпараметрам\n",
    "start = time.time()\n",
    "model_cat = CatBoostRegressor(iterations=100, learning_rate=0.25, \n",
    "                              verbose=20, cat_features=cat_features, random_seed=12345, \n",
    "                              max_depth=12)\n",
    "model_cat.fit(train_features, train_target)\n",
    "end = time.time()\n",
    "t_cat_f=round(end-start,2)"
   ]
  },
  {
   "cell_type": "code",
   "execution_count": 56,
   "metadata": {},
   "outputs": [],
   "source": [
    "# предсказание\n",
    "\n",
    "start = time.time()\n",
    "predict_cat=model_cat.predict(test_features)\n",
    "end = time.time()\n",
    "t_cat_p=round(end-start,2)"
   ]
  },
  {
   "cell_type": "code",
   "execution_count": 57,
   "metadata": {},
   "outputs": [
    {
     "name": "stdout",
     "output_type": "stream",
     "text": [
      "RMSE модели на базе библиотеки Catboost: 1494.6047\n"
     ]
    }
   ],
   "source": [
    "rmse_cat = mean_squared_error(test_target, predict_cat) ** 0.5\n",
    "print(f'RMSE модели на базе библиотеки Catboost: {round(rmse_cat, 4)}')"
   ]
  },
  {
   "cell_type": "code",
   "execution_count": 1,
   "metadata": {},
   "outputs": [
    {
     "ename": "NameError",
     "evalue": "name 'model_cat' is not defined",
     "output_type": "error",
     "traceback": [
      "\u001b[0;31m---------------------------------------------------------------------------\u001b[0m",
      "\u001b[0;31mNameError\u001b[0m                                 Traceback (most recent call last)",
      "\u001b[0;32m/tmp/ipykernel_74/3948792687.py\u001b[0m in \u001b[0;36m<module>\u001b[0;34m\u001b[0m\n\u001b[1;32m      1\u001b[0m \u001b[0;31m# рассчитаем важность параметров\u001b[0m\u001b[0;34m\u001b[0m\u001b[0;34m\u001b[0m\u001b[0;34m\u001b[0m\u001b[0m\n\u001b[0;32m----> 2\u001b[0;31m \u001b[0mimportances_cat\u001b[0m \u001b[0;34m=\u001b[0m \u001b[0mmodel_cat\u001b[0m\u001b[0;34m.\u001b[0m\u001b[0mfeature_importances_\u001b[0m\u001b[0;34m\u001b[0m\u001b[0;34m\u001b[0m\u001b[0m\n\u001b[0m\u001b[1;32m      3\u001b[0m \u001b[0mfeat\u001b[0m\u001b[0;34m=\u001b[0m\u001b[0mfeatures_test\u001b[0m\u001b[0;34m.\u001b[0m\u001b[0mcolumns\u001b[0m\u001b[0;34m\u001b[0m\u001b[0;34m\u001b[0m\u001b[0m\n\u001b[1;32m      4\u001b[0m \u001b[0mindices\u001b[0m \u001b[0;34m=\u001b[0m \u001b[0mnp\u001b[0m\u001b[0;34m.\u001b[0m\u001b[0margsort\u001b[0m\u001b[0;34m(\u001b[0m\u001b[0mimportances_cat\u001b[0m\u001b[0;34m)\u001b[0m\u001b[0;34m\u001b[0m\u001b[0;34m\u001b[0m\u001b[0m\n\u001b[1;32m      5\u001b[0m \u001b[0mplt\u001b[0m\u001b[0;34m.\u001b[0m\u001b[0mfigure\u001b[0m\u001b[0;34m(\u001b[0m\u001b[0mfigsize\u001b[0m\u001b[0;34m=\u001b[0m\u001b[0;34m(\u001b[0m\u001b[0;36m11\u001b[0m\u001b[0;34m,\u001b[0m \u001b[0;36m5\u001b[0m\u001b[0;34m)\u001b[0m\u001b[0;34m)\u001b[0m\u001b[0;34m\u001b[0m\u001b[0;34m\u001b[0m\u001b[0m\n",
      "\u001b[0;31mNameError\u001b[0m: name 'model_cat' is not defined"
     ]
    }
   ],
   "source": [
    "# рассчитаем важность параметров\n",
    "importances_cat = model_cat.feature_importances_\n",
    "feat=features_test.columns\n",
    "indices = np.argsort(importances_cat)\n",
    "plt.figure(figsize=(11, 5))\n",
    "plt.title('Важность параметра')\n",
    "plt.barh(range(len(indices)), importances_cat[indices], color='#6495ED', align='center')\n",
    "plt.yticks(range(len(indices)), feat[indices])\n",
    "plt.show()"
   ]
  },
  {
   "cell_type": "markdown",
   "metadata": {},
   "source": [
    "Как видно на графике для модели самый важный признак - это год регистрации автомобиля, не менее важные - мощность, бренд и тип кузова"
   ]
  },
  {
   "cell_type": "markdown",
   "metadata": {},
   "source": [
    "### LightGBM"
   ]
  },
  {
   "cell_type": "markdown",
   "metadata": {},
   "source": [
    "LightGBM также умеет работать с категориальными переменными, нет необходимости применять кодирование, но нам необходимо привести категориальные признаки к типу category."
   ]
  },
  {
   "cell_type": "code",
   "execution_count": 59,
   "metadata": {},
   "outputs": [
    {
     "data": {
      "text/plain": [
       "['VehicleType',\n",
       " 'RegistrationYear',\n",
       " 'Gearbox',\n",
       " 'Power',\n",
       " 'Model',\n",
       " 'Kilometer',\n",
       " 'FuelType',\n",
       " 'Brand',\n",
       " 'Repaired']"
      ]
     },
     "execution_count": 59,
     "metadata": {},
     "output_type": "execute_result"
    }
   ],
   "source": [
    "gbm_features = list(train_features.columns)\n",
    "gbm_features"
   ]
  },
  {
   "cell_type": "code",
   "execution_count": 60,
   "metadata": {},
   "outputs": [
    {
     "name": "stdout",
     "output_type": "stream",
     "text": [
      "<class 'pandas.core.frame.DataFrame'>\n",
      "Int64Index: 211213 entries, 292478 to 265669\n",
      "Data columns (total 9 columns):\n",
      " #   Column            Non-Null Count   Dtype   \n",
      "---  ------            --------------   -----   \n",
      " 0   VehicleType       211213 non-null  category\n",
      " 1   RegistrationYear  211213 non-null  float64 \n",
      " 2   Gearbox           211213 non-null  category\n",
      " 3   Power             211213 non-null  float64 \n",
      " 4   Model             211213 non-null  category\n",
      " 5   Kilometer         211213 non-null  float64 \n",
      " 6   FuelType          211213 non-null  category\n",
      " 7   Brand             211213 non-null  category\n",
      " 8   Repaired          211213 non-null  category\n",
      "dtypes: category(6), float64(3)\n",
      "memory usage: 7.9 MB\n"
     ]
    }
   ],
   "source": [
    "train_features_gbm = train_features.copy()\n",
    "for cat in cat_features:\n",
    "    train_features_gbm[cat] = train_features_gbm[cat].astype('category')\n",
    "train_features_gbm.info() "
   ]
  },
  {
   "cell_type": "code",
   "execution_count": 61,
   "metadata": {},
   "outputs": [
    {
     "name": "stdout",
     "output_type": "stream",
     "text": [
      "<class 'pandas.core.frame.DataFrame'>\n",
      "Int64Index: 70405 entries, 219613 to 111122\n",
      "Data columns (total 9 columns):\n",
      " #   Column            Non-Null Count  Dtype   \n",
      "---  ------            --------------  -----   \n",
      " 0   VehicleType       70405 non-null  category\n",
      " 1   RegistrationYear  70405 non-null  float64 \n",
      " 2   Gearbox           70405 non-null  category\n",
      " 3   Power             70405 non-null  float64 \n",
      " 4   Model             70405 non-null  category\n",
      " 5   Kilometer         70405 non-null  float64 \n",
      " 6   FuelType          70405 non-null  category\n",
      " 7   Brand             70405 non-null  category\n",
      " 8   Repaired          70405 non-null  category\n",
      "dtypes: category(6), float64(3)\n",
      "memory usage: 2.6 MB\n"
     ]
    }
   ],
   "source": [
    "test_features_gbm = test_features.copy()\n",
    "for cat in cat_features:\n",
    "    test_features_gbm[cat] = test_features_gbm[cat].astype('category')\n",
    "test_features_gbm.info() "
   ]
  },
  {
   "cell_type": "code",
   "execution_count": 62,
   "metadata": {},
   "outputs": [
    {
     "name": "stdout",
     "output_type": "stream",
     "text": [
      "Best hyperparams:  {'learning_rate': 0.25, 'max_depth': 10, 'n_estimators': 100}\n",
      "RMSE score on train sample: 38.85\n"
     ]
    }
   ],
   "source": [
    "# подбор гиперпараметров\n",
    "model_gmb = lgb.LGBMRegressor(objective='regression', \n",
    "                        random_state=101)\n",
    "params_gmb = {\n",
    "      'learning_rate': [0.1, 0.25],\n",
    "      #'n_estimators': [50, 100, 150],\n",
    "      'n_estimators': [50, 100],\n",
    "      'max_depth': [5, 7, 10],\n",
    "      #'colsample_bytree': [0.7, 0.8, 0.9],\n",
    "      #'subsample': [0.7, 0.8, 0.9],\n",
    "      #'min_child_samples': [1, 5, 10]\n",
    "  }\n",
    "grid_cv_gmb = GridSearchCV(estimator=model_gmb, \n",
    "                       param_grid=params_gmb,\n",
    "                       cv=folds, \n",
    "                       n_jobs=-1, \n",
    "                       scoring='neg_root_mean_squared_error')\n",
    "#grid_cv_gmb.fit(train_features_gbm, train_target)\n",
    "grid_cv_gmb.fit(train_features_gbm, train_target, categorical_feature = cat_features)\n",
    "rmse_cv_gmb = (grid_cv_gmb.best_score_)\n",
    "print('Best hyperparams: ', grid_cv_gmb.best_params_)\n",
    "#print('RMSE score on train sample: {:.2f}'.format((-grid_cv_gmb.best_score_) ** 0.5))"
   ]
  },
  {
   "cell_type": "code",
   "execution_count": 63,
   "metadata": {},
   "outputs": [
    {
     "data": {
      "text/plain": [
       "1509.07306330896"
      ]
     },
     "execution_count": 63,
     "metadata": {},
     "output_type": "execute_result"
    }
   ],
   "source": [
    "rmse_gr_gbm = abs(grid_cv_gmb.best_score_)\n",
    "rmse_gr_gbm"
   ]
  },
  {
   "cell_type": "code",
   "execution_count": 64,
   "metadata": {},
   "outputs": [
    {
     "name": "stdout",
     "output_type": "stream",
     "text": [
      "CPU times: user 3 µs, sys: 0 ns, total: 3 µs\n",
      "Wall time: 6.68 µs\n",
      "[10]\tvalid_0's rmse: 2406.11\tvalid_0's l2: 5.78938e+06\n",
      "[20]\tvalid_0's rmse: 1839.9\tvalid_0's l2: 3.38524e+06\n",
      "[30]\tvalid_0's rmse: 1670.04\tvalid_0's l2: 2.78904e+06\n",
      "[40]\tvalid_0's rmse: 1608.51\tvalid_0's l2: 2.58732e+06\n",
      "[50]\tvalid_0's rmse: 1579.15\tvalid_0's l2: 2.49371e+06\n",
      "[60]\tvalid_0's rmse: 1560.29\tvalid_0's l2: 2.43451e+06\n",
      "[70]\tvalid_0's rmse: 1547.86\tvalid_0's l2: 2.39587e+06\n",
      "[80]\tvalid_0's rmse: 1539.94\tvalid_0's l2: 2.37141e+06\n",
      "[90]\tvalid_0's rmse: 1532.99\tvalid_0's l2: 2.35007e+06\n",
      "[100]\tvalid_0's rmse: 1528.2\tvalid_0's l2: 2.33541e+06\n"
     ]
    }
   ],
   "source": [
    "# обучение модели\n",
    "%time\n",
    "start_gbm = time.time()\n",
    "\n",
    "model_lgb = LGBMRegressor(random_state=12345, max_depth=10, n_estimators=100, learning_rate=0.1)\n",
    "model_lgb.fit(train_features_gbm, train_target, \n",
    "              eval_set=(test_features_gbm, test_target), \n",
    "              verbose=10, \n",
    "              eval_metric='rmse')\n",
    "end_gbm = time.time()\n",
    "t_gbm_f = end_gbm - start_gbm"
   ]
  },
  {
   "cell_type": "code",
   "execution_count": 65,
   "metadata": {},
   "outputs": [
    {
     "name": "stdout",
     "output_type": "stream",
     "text": [
      "RMSE модели на базе библиотеки LGBM 1528.2034\n"
     ]
    }
   ],
   "source": [
    "# предсказание модели\n",
    "start_gbm_p = time.time()\n",
    "\n",
    "pred_gbmp = model_lgb.predict(test_features_gbm)\n",
    "rmse_gbm = mean_squared_error(test_target, pred_gbmp) ** 0.5\n",
    "\n",
    "end_gbm_p = time.time()\n",
    "t_gbm_p = end_gbm_p - start_gbm_p\n",
    "print(f'RMSE модели на базе библиотеки LGBM {round(rmse_gbm, 4)}')"
   ]
  },
  {
   "cell_type": "code",
   "execution_count": 66,
   "metadata": {},
   "outputs": [
    {
     "data": {
      "image/png": "[encoded data removed]",
      "text/plain": [
       "<Figure size 864x360 with 1 Axes>"
      ]
     },
     "metadata": {
      "needs_background": "light"
     },
     "output_type": "display_data"
    }
   ],
   "source": [
    "lgb.plot_importance(model_lgb, figsize = (12, 5))\n",
    "plt.show()"
   ]
  },
  {
   "cell_type": "markdown",
   "metadata": {},
   "source": [
    "Для LightGBM самый важный признак - это мощность, а уже потом год регистрации, модель, пробег и бренд."
   ]
  },
  {
   "cell_type": "markdown",
   "metadata": {},
   "source": [
    "### LinearRegression"
   ]
  },
  {
   "cell_type": "markdown",
   "metadata": {},
   "source": [
    "Для построения линейной регрессии необходимо OHE кодирование категориальных признаков, а также провести стандартизацию количественных"
   ]
  },
  {
   "cell_type": "code",
   "execution_count": 67,
   "metadata": {},
   "outputs": [],
   "source": [
    "#кодирую признаки через OHE:\n",
    "features_ohe = pd.get_dummies(features, drop_first=True)\n",
    "\n",
    "features_train_ohe, features_test_ohe, target_train_ohe, target_test_ohe = train_test_split(features_ohe,\n",
    "                                                                                            target,\n",
    "                                                                                            test_size=.25,\n",
    "                                                                                            random_state=12345)"
   ]
  },
  {
   "cell_type": "code",
   "execution_count": 68,
   "metadata": {},
   "outputs": [
    {
     "name": "stdout",
     "output_type": "stream",
     "text": [
      "CPU times: user 54.9 s, sys: 24.5 s, total: 1min 19s\n",
      "Wall time: 1min 20s\n"
     ]
    }
   ],
   "source": [
    "%%time\n",
    "start_f = time.time()\n",
    "model_lr=LinearRegression()\n",
    "scores_line = cross_val_score(model_lr,  \n",
    "                                          features_train_ohe, \n",
    "                                          target_train_ohe, \n",
    "                                          scoring = 'neg_root_mean_squared_error',\n",
    "                                          cv = folds)\n",
    "model_lr.fit(features_train_ohe,target_train_ohe)\n",
    "end_f = time.time()\n",
    "t_lr_f = round(end_f-start_f, 2)"
   ]
  },
  {
   "cell_type": "code",
   "execution_count": 69,
   "metadata": {},
   "outputs": [
    {
     "data": {
      "text/plain": [
       "array([-2441.84050695, -2456.66283605, -2464.44806817, -2453.63404069])"
      ]
     },
     "execution_count": 69,
     "metadata": {},
     "output_type": "execute_result"
    }
   ],
   "source": [
    "scores_line"
   ]
  },
  {
   "cell_type": "code",
   "execution_count": 70,
   "metadata": {},
   "outputs": [
    {
     "data": {
      "text/plain": [
       "2454.146362966825"
      ]
     },
     "execution_count": 70,
     "metadata": {},
     "output_type": "execute_result"
    }
   ],
   "source": [
    "rmse_gr_lr = (np.mean(abs(scores_line)))\n",
    "rmse_gr_lr"
   ]
  },
  {
   "cell_type": "code",
   "execution_count": 71,
   "metadata": {},
   "outputs": [
    {
     "name": "stdout",
     "output_type": "stream",
     "text": [
      "CPU times: user 70.2 ms, sys: 71.3 ms, total: 142 ms\n",
      "Wall time: 253 ms\n"
     ]
    }
   ],
   "source": [
    "%%time\n",
    "start_p = time.time()\n",
    "predict_lr=model_lr.predict(features_test_ohe)\n",
    "end_p = time.time()\n",
    "t_lr_p=round(end_p-start_p, 2)"
   ]
  },
  {
   "cell_type": "code",
   "execution_count": 72,
   "metadata": {},
   "outputs": [
    {
     "name": "stdout",
     "output_type": "stream",
     "text": [
      "RMSE модели Линейная Регрессия равна: 2432.48\n"
     ]
    }
   ],
   "source": [
    "rmse_lr = ((mean_squared_error(target_test_ohe, predict_lr))**0.5).round(2)\n",
    "print('RMSE модели Линейная Регрессия равна:', rmse_lr)"
   ]
  },
  {
   "cell_type": "markdown",
   "metadata": {},
   "source": [
    "### RandomForestRegressor"
   ]
  },
  {
   "cell_type": "code",
   "execution_count": 76,
   "metadata": {},
   "outputs": [],
   "source": [
    "# Модель и параметры\n",
    "mod_rf = RandomForestRegressor(random_state=12345)\n",
    "params_rf = {'max_depth': [x for x in range(1, 16, 5)],\n",
    "            'n_estimators': [x for x in range(1, 100, 50)],\n",
    "            'n_jobs' : [-1]\n",
    "            }"
   ]
  },
  {
   "cell_type": "code",
   "execution_count": 77,
   "metadata": {},
   "outputs": [
    {
     "name": "stdout",
     "output_type": "stream",
     "text": [
      "{'max_depth': 11, 'n_estimators': 51, 'n_jobs': -1}\n",
      "CPU times: user 15min 28s, sys: 6.74 s, total: 15min 35s\n",
      "Wall time: 15min 37s\n"
     ]
    }
   ],
   "source": [
    "%%time\n",
    "grid_rf_r = GridSearchCV(mod_rf, \n",
    "                         params_rf, \n",
    "                         scoring='neg_mean_squared_error', \n",
    "                         cv=folds)\n",
    "grid_rf_r.fit(features_train_ohe,target_train_ohe)\n",
    "rmse_gr_rf = grid_rf_r.best_score_\n",
    "# Выводим лучшие параметры\n",
    "print(grid_rf_r.best_params_)"
   ]
  },
  {
   "cell_type": "code",
   "execution_count": 78,
   "metadata": {},
   "outputs": [],
   "source": [
    "rmse_gr_rf = (abs(grid_rf_r.best_score_))**0.5"
   ]
  },
  {
   "cell_type": "code",
   "execution_count": 96,
   "metadata": {},
   "outputs": [
    {
     "name": "stdout",
     "output_type": "stream",
     "text": [
      "CPU times: user 2min 46s, sys: 775 ms, total: 2min 46s\n",
      "Wall time: 2min 47s\n"
     ]
    }
   ],
   "source": [
    "%%time\n",
    "start_f = time.time()\n",
    "model_rf = RandomForestRegressor(random_state=12345, criterion='mse',warm_start=False, n_estimators=51, max_depth=11)\n",
    "model_rf.fit(features_train_ohe, target_train_ohe)\n",
    "end_f = time.time()\n",
    "t_rf_f=round(end_f-start_f,2)"
   ]
  },
  {
   "cell_type": "code",
   "execution_count": 97,
   "metadata": {},
   "outputs": [
    {
     "name": "stdout",
     "output_type": "stream",
     "text": [
      "CPU times: user 439 ms, sys: 79.2 ms, total: 518 ms\n",
      "Wall time: 526 ms\n"
     ]
    }
   ],
   "source": [
    "%%time\n",
    "start_p = time.time()\n",
    "pred_rf=model_rf.predict(features_test_ohe)\n",
    "end_p = time.time()\n",
    "t_rf_p=round(end_p-start_p,2)"
   ]
  },
  {
   "cell_type": "code",
   "execution_count": 98,
   "metadata": {},
   "outputs": [
    {
     "name": "stdout",
     "output_type": "stream",
     "text": [
      "RMSE модели Случайный лес равна: 1739.14\n"
     ]
    }
   ],
   "source": [
    "rmse_rf = ((mean_squared_error(target_test_ohe, pred_rf))**0.5).round(2)\n",
    "print('RMSE модели Случайный лес равна:', rmse_rf)"
   ]
  },
  {
   "cell_type": "markdown",
   "metadata": {},
   "source": [
    "## Анализ моделей"
   ]
  },
  {
   "cell_type": "markdown",
   "metadata": {},
   "source": [
    "Проанализируем скорость работы и качество моделей.\n",
    "Для наглядности сведём все интересующие нас даные в таблицу"
   ]
  },
  {
   "cell_type": "code",
   "execution_count": 99,
   "metadata": {},
   "outputs": [
    {
     "data": {
      "text/html": [
       "<style  type=\"text/css\" >\n",
       "#T_807e9_row0_col0,#T_807e9_row0_col3,#T_807e9_row1_col2{\n",
       "            background-color:  yellowgreen;\n",
       "        }#T_807e9_row1_col3,#T_807e9_row2_col0,#T_807e9_row3_col2{\n",
       "            background-color:  coral;\n",
       "        }</style><table id=\"T_807e9_\" ><thead>    <tr>        <th class=\"blank level0\" ></th>        <th class=\"col_heading level0 col0\" >RMSE модели</th>        <th class=\"col_heading level0 col1\" >RMSE на кросс-валидации</th>        <th class=\"col_heading level0 col2\" >Скорость обучения, s</th>        <th class=\"col_heading level0 col3\" >Скорость предсказания, s</th>    </tr></thead><tbody>\n",
       "                <tr>\n",
       "                        <th id=\"T_807e9_level0_row0\" class=\"row_heading level0 row0\" >CatBoostRegressor</th>\n",
       "                        <td id=\"T_807e9_row0_col0\" class=\"data row0 col0\" >1494.604684</td>\n",
       "                        <td id=\"T_807e9_row0_col1\" class=\"data row0 col1\" >1505.551669</td>\n",
       "                        <td id=\"T_807e9_row0_col2\" class=\"data row0 col2\" >18.590000</td>\n",
       "                        <td id=\"T_807e9_row0_col3\" class=\"data row0 col3\" >0.120000</td>\n",
       "            </tr>\n",
       "            <tr>\n",
       "                        <th id=\"T_807e9_level0_row1\" class=\"row_heading level0 row1\" >LightGBM</th>\n",
       "                        <td id=\"T_807e9_row1_col0\" class=\"data row1 col0\" >1528.203374</td>\n",
       "                        <td id=\"T_807e9_row1_col1\" class=\"data row1 col1\" >1509.073063</td>\n",
       "                        <td id=\"T_807e9_row1_col2\" class=\"data row1 col2\" >6.089528</td>\n",
       "                        <td id=\"T_807e9_row1_col3\" class=\"data row1 col3\" >0.700434</td>\n",
       "            </tr>\n",
       "            <tr>\n",
       "                        <th id=\"T_807e9_level0_row2\" class=\"row_heading level0 row2\" >LinearRegression</th>\n",
       "                        <td id=\"T_807e9_row2_col0\" class=\"data row2 col0\" >2432.480000</td>\n",
       "                        <td id=\"T_807e9_row2_col1\" class=\"data row2 col1\" >2454.146363</td>\n",
       "                        <td id=\"T_807e9_row2_col2\" class=\"data row2 col2\" >80.100000</td>\n",
       "                        <td id=\"T_807e9_row2_col3\" class=\"data row2 col3\" >0.250000</td>\n",
       "            </tr>\n",
       "            <tr>\n",
       "                        <th id=\"T_807e9_level0_row3\" class=\"row_heading level0 row3\" >RandomForestRegressor</th>\n",
       "                        <td id=\"T_807e9_row3_col0\" class=\"data row3 col0\" >1739.140000</td>\n",
       "                        <td id=\"T_807e9_row3_col1\" class=\"data row3 col1\" >1732.391038</td>\n",
       "                        <td id=\"T_807e9_row3_col2\" class=\"data row3 col2\" >167.610000</td>\n",
       "                        <td id=\"T_807e9_row3_col3\" class=\"data row3 col3\" >0.530000</td>\n",
       "            </tr>\n",
       "    </tbody></table>"
      ],
      "text/plain": [
       "<pandas.io.formats.style.Styler at 0x7f7ad61fa0d0>"
      ]
     },
     "execution_count": 99,
     "metadata": {},
     "output_type": "execute_result"
    }
   ],
   "source": [
    "column=['RMSE модели','Скорость обучения, s','Скорость предсказания, s']\n",
    "\n",
    "comparison_tabl = pd.DataFrame(index=['RMSE модели','RMSE на кросс-валидации', 'Скорость обучения, s', 'Скорость предсказания, s'], columns=['CatBoostRegressor','LightGBM', 'LinearRegression','RandomForestRegressor'])\n",
    "comparison_tabl['LinearRegression'] = rmse_lr, rmse_gr_lr, t_lr_f, t_lr_p\n",
    "comparison_tabl['RandomForestRegressor'] = rmse_rf,rmse_gr_rf,  t_rf_f, t_rf_p\n",
    "comparison_tabl['CatBoostRegressor'] = rmse_cat, rmse_gr_cat, t_cat_f, t_cat_p\n",
    "comparison_tabl['LightGBM'] = rmse_gbm, rmse_gr_gbm,t_gbm_f,t_gbm_p\n",
    "\n",
    "comparison_tabl.T.style.highlight_min(color='yellowgreen',subset=column).highlight_null(null_color='lightgrey').highlight_max(color='coral',subset=column)"
   ]
  },
  {
   "cell_type": "markdown",
   "metadata": {},
   "source": [
    "Практически все модели на тестовой выборки показали незначительно лучший результат (менее 2%)ю Самый лучший результат по предсказаниям  и по времени обучения показала  модель CatBoostRegressor, на втором месте LightGBM, но по времени обучения намного хуже всех моделей. Попробуем удалить изначально пропущенные значения и проверить как ведут себя модели"
   ]
  },
  {
   "cell_type": "code",
   "execution_count": 83,
   "metadata": {},
   "outputs": [
    {
     "data": {
      "text/plain": [
       "['Repaired', 'VehicleType', 'FuelType', 'Gearbox', 'Model']"
      ]
     },
     "execution_count": 83,
     "metadata": {},
     "output_type": "execute_result"
    }
   ],
   "source": [
    "# колонки с пропущенными значениями\n",
    "nan_cols"
   ]
  },
  {
   "cell_type": "code",
   "execution_count": 84,
   "metadata": {},
   "outputs": [
    {
     "data": {
      "text/html": [
       "<div>\n",
       "<style scoped>\n",
       "    .dataframe tbody tr th:only-of-type {\n",
       "        vertical-align: middle;\n",
       "    }\n",
       "\n",
       "    .dataframe tbody tr th {\n",
       "        vertical-align: top;\n",
       "    }\n",
       "\n",
       "    .dataframe thead th {\n",
       "        text-align: right;\n",
       "    }\n",
       "</style>\n",
       "<table border=\"1\" class=\"dataframe\">\n",
       "  <thead>\n",
       "    <tr style=\"text-align: right;\">\n",
       "      <th></th>\n",
       "      <th>VehicleType</th>\n",
       "      <th>RegistrationYear</th>\n",
       "      <th>Gearbox</th>\n",
       "      <th>Power</th>\n",
       "      <th>Model</th>\n",
       "      <th>Kilometer</th>\n",
       "      <th>FuelType</th>\n",
       "      <th>Brand</th>\n",
       "      <th>Repaired</th>\n",
       "    </tr>\n",
       "  </thead>\n",
       "  <tbody>\n",
       "    <tr>\n",
       "      <th>325278</th>\n",
       "      <td>wagon</td>\n",
       "      <td>2010.0</td>\n",
       "      <td>manual</td>\n",
       "      <td>160.0</td>\n",
       "      <td>insignia</td>\n",
       "      <td>100000.0</td>\n",
       "      <td>gasoline</td>\n",
       "      <td>opel</td>\n",
       "      <td>no</td>\n",
       "    </tr>\n",
       "    <tr>\n",
       "      <th>289699</th>\n",
       "      <td>bus</td>\n",
       "      <td>2001.0</td>\n",
       "      <td>manual</td>\n",
       "      <td>82.0</td>\n",
       "      <td>sprinter</td>\n",
       "      <td>150000.0</td>\n",
       "      <td>gasoline</td>\n",
       "      <td>mercedes_benz</td>\n",
       "      <td>no</td>\n",
       "    </tr>\n",
       "    <tr>\n",
       "      <th>196349</th>\n",
       "      <td>sedan</td>\n",
       "      <td>1996.0</td>\n",
       "      <td>manual</td>\n",
       "      <td>122.0</td>\n",
       "      <td>c_klasse</td>\n",
       "      <td>150000.0</td>\n",
       "      <td>petrol</td>\n",
       "      <td>mercedes_benz</td>\n",
       "      <td>no</td>\n",
       "    </tr>\n",
       "    <tr>\n",
       "      <th>71647</th>\n",
       "      <td>wagon</td>\n",
       "      <td>2006.0</td>\n",
       "      <td>manual</td>\n",
       "      <td>155.0</td>\n",
       "      <td>mondeo</td>\n",
       "      <td>150000.0</td>\n",
       "      <td>gasoline</td>\n",
       "      <td>ford</td>\n",
       "      <td>no</td>\n",
       "    </tr>\n",
       "    <tr>\n",
       "      <th>291155</th>\n",
       "      <td>small</td>\n",
       "      <td>2009.0</td>\n",
       "      <td>manual</td>\n",
       "      <td>60.0</td>\n",
       "      <td>corsa</td>\n",
       "      <td>70000.0</td>\n",
       "      <td>petrol</td>\n",
       "      <td>opel</td>\n",
       "      <td>no</td>\n",
       "    </tr>\n",
       "  </tbody>\n",
       "</table>\n",
       "</div>"
      ],
      "text/plain": [
       "       VehicleType  RegistrationYear Gearbox  Power     Model  Kilometer  \\\n",
       "325278       wagon            2010.0  manual  160.0  insignia   100000.0   \n",
       "289699         bus            2001.0  manual   82.0  sprinter   150000.0   \n",
       "196349       sedan            1996.0  manual  122.0  c_klasse   150000.0   \n",
       "71647        wagon            2006.0  manual  155.0    mondeo   150000.0   \n",
       "291155       small            2009.0  manual   60.0     corsa    70000.0   \n",
       "\n",
       "        FuelType          Brand Repaired  \n",
       "325278  gasoline           opel       no  \n",
       "289699  gasoline  mercedes_benz       no  \n",
       "196349    petrol  mercedes_benz       no  \n",
       "71647   gasoline           ford       no  \n",
       "291155    petrol           opel       no  "
      ]
     },
     "execution_count": 84,
     "metadata": {},
     "output_type": "execute_result"
    }
   ],
   "source": [
    "# для обучающей выборки\n",
    "train_features_new = train_features[(train_features['Repaired'] != 'unknown') & (train_features['VehicleType'] != 'unknown')  & \\\n",
    "        (train_features['FuelType'] != 'unknown') & (train_features['Gearbox'] != 'unknown') & \\\n",
    "        (train_features['Model'] != 'unknown')]\n",
    "train_features_new.head()"
   ]
  },
  {
   "cell_type": "code",
   "execution_count": 85,
   "metadata": {},
   "outputs": [
    {
     "data": {
      "text/html": [
       "<div>\n",
       "<style scoped>\n",
       "    .dataframe tbody tr th:only-of-type {\n",
       "        vertical-align: middle;\n",
       "    }\n",
       "\n",
       "    .dataframe tbody tr th {\n",
       "        vertical-align: top;\n",
       "    }\n",
       "\n",
       "    .dataframe thead th {\n",
       "        text-align: right;\n",
       "    }\n",
       "</style>\n",
       "<table border=\"1\" class=\"dataframe\">\n",
       "  <thead>\n",
       "    <tr style=\"text-align: right;\">\n",
       "      <th></th>\n",
       "      <th>VehicleType</th>\n",
       "      <th>RegistrationYear</th>\n",
       "      <th>Gearbox</th>\n",
       "      <th>Power</th>\n",
       "      <th>Model</th>\n",
       "      <th>Kilometer</th>\n",
       "      <th>FuelType</th>\n",
       "      <th>Brand</th>\n",
       "      <th>Repaired</th>\n",
       "    </tr>\n",
       "  </thead>\n",
       "  <tbody>\n",
       "    <tr>\n",
       "      <th>219613</th>\n",
       "      <td>bus</td>\n",
       "      <td>2011.0</td>\n",
       "      <td>manual</td>\n",
       "      <td>116.0</td>\n",
       "      <td>other</td>\n",
       "      <td>150000.0</td>\n",
       "      <td>gasoline</td>\n",
       "      <td>hyundai</td>\n",
       "      <td>no</td>\n",
       "    </tr>\n",
       "    <tr>\n",
       "      <th>9304</th>\n",
       "      <td>sedan</td>\n",
       "      <td>2002.0</td>\n",
       "      <td>manual</td>\n",
       "      <td>136.0</td>\n",
       "      <td>3_reihe</td>\n",
       "      <td>150000.0</td>\n",
       "      <td>petrol</td>\n",
       "      <td>peugeot</td>\n",
       "      <td>yes</td>\n",
       "    </tr>\n",
       "    <tr>\n",
       "      <th>40826</th>\n",
       "      <td>sedan</td>\n",
       "      <td>1998.0</td>\n",
       "      <td>manual</td>\n",
       "      <td>90.0</td>\n",
       "      <td>mondeo</td>\n",
       "      <td>150000.0</td>\n",
       "      <td>unknown</td>\n",
       "      <td>ford</td>\n",
       "      <td>no</td>\n",
       "    </tr>\n",
       "    <tr>\n",
       "      <th>238139</th>\n",
       "      <td>wagon</td>\n",
       "      <td>2007.0</td>\n",
       "      <td>manual</td>\n",
       "      <td>150.0</td>\n",
       "      <td>5_reihe</td>\n",
       "      <td>150000.0</td>\n",
       "      <td>gasoline</td>\n",
       "      <td>mazda</td>\n",
       "      <td>no</td>\n",
       "    </tr>\n",
       "    <tr>\n",
       "      <th>4804</th>\n",
       "      <td>sedan</td>\n",
       "      <td>1995.0</td>\n",
       "      <td>manual</td>\n",
       "      <td>90.0</td>\n",
       "      <td>impreza</td>\n",
       "      <td>150000.0</td>\n",
       "      <td>petrol</td>\n",
       "      <td>subaru</td>\n",
       "      <td>no</td>\n",
       "    </tr>\n",
       "  </tbody>\n",
       "</table>\n",
       "</div>"
      ],
      "text/plain": [
       "       VehicleType  RegistrationYear Gearbox  Power    Model  Kilometer  \\\n",
       "219613         bus            2011.0  manual  116.0    other   150000.0   \n",
       "9304         sedan            2002.0  manual  136.0  3_reihe   150000.0   \n",
       "40826        sedan            1998.0  manual   90.0   mondeo   150000.0   \n",
       "238139       wagon            2007.0  manual  150.0  5_reihe   150000.0   \n",
       "4804         sedan            1995.0  manual   90.0  impreza   150000.0   \n",
       "\n",
       "        FuelType    Brand Repaired  \n",
       "219613  gasoline  hyundai       no  \n",
       "9304      petrol  peugeot      yes  \n",
       "40826    unknown     ford       no  \n",
       "238139  gasoline    mazda       no  \n",
       "4804      petrol   subaru       no  "
      ]
     },
     "execution_count": 85,
     "metadata": {},
     "output_type": "execute_result"
    }
   ],
   "source": [
    "# для тестовой выборки\n",
    "test_features_new = test_features[(test_features['Repaired'] != 'unknown') & (test_features['VehicleType'] != 'unknown')  & \\\n",
    "        (test_features['FuelType'] != 'unknown') & (test_features['Gearbox'] != 'unknown') & \\\n",
    "        (test_features['Model'] != 'unknown')]\n",
    "test_features.head()"
   ]
  },
  {
   "cell_type": "code",
   "execution_count": 86,
   "metadata": {},
   "outputs": [
    {
     "data": {
      "text/plain": [
       "((165648, 9), (55115, 9))"
      ]
     },
     "execution_count": 86,
     "metadata": {},
     "output_type": "execute_result"
    }
   ],
   "source": [
    "train_features_new.shape, test_features_new.shape"
   ]
  },
  {
   "cell_type": "code",
   "execution_count": 87,
   "metadata": {},
   "outputs": [
    {
     "data": {
      "text/plain": [
       "((165648,), (55115,))"
      ]
     },
     "execution_count": 87,
     "metadata": {},
     "output_type": "execute_result"
    }
   ],
   "source": [
    "# приводим в порядок целевой признак\n",
    "train_target_new = train_target[train_target.index.isin(train_features_new.index)]\n",
    "test_target_new = test_target[test_target.index.isin(test_features_new.index)]\n",
    "train_target_new.shape, test_target_new.shape"
   ]
  },
  {
   "cell_type": "markdown",
   "metadata": {},
   "source": [
    "**Catboost после корректировки**"
   ]
  },
  {
   "cell_type": "code",
   "execution_count": 88,
   "metadata": {},
   "outputs": [
    {
     "name": "stdout",
     "output_type": "stream",
     "text": [
      "0:\tlearn: 3654.3376496\ttest: 3655.0091214\tbest: 3655.0091214 (0)\ttotal: 144ms\tremaining: 14.2s\n",
      "20:\tlearn: 1555.9269892\ttest: 1598.0258826\tbest: 1598.0258826 (20)\ttotal: 2.65s\tremaining: 9.98s\n",
      "40:\tlearn: 1466.6657593\ttest: 1528.9550677\tbest: 1528.9550677 (40)\ttotal: 5.11s\tremaining: 7.35s\n",
      "60:\tlearn: 1416.9452916\ttest: 1504.6186054\tbest: 1504.6186054 (60)\ttotal: 7.63s\tremaining: 4.88s\n",
      "80:\tlearn: 1379.5902208\ttest: 1487.1813722\tbest: 1487.1813722 (80)\ttotal: 10.1s\tremaining: 2.36s\n",
      "99:\tlearn: 1354.2153244\ttest: 1478.6831181\tbest: 1478.6831181 (99)\ttotal: 12.4s\tremaining: 0us\n",
      "\n",
      "bestTest = 1478.683118\n",
      "bestIteration = 99\n",
      "\n"
     ]
    }
   ],
   "source": [
    "# обучение модели\n",
    "\n",
    "start_cat_new = time.time()\n",
    "model_cat_new = CatBoostRegressor(iterations=100, learning_rate=0.25, \n",
    "                              verbose=20, cat_features=cat_features, random_seed=42, max_depth=12)\n",
    "model_cat_new.fit(train_features_new, train_target_new, eval_set=(test_features_new,test_target_new))\n",
    "end_cat_new = time.time()\n",
    "t_cat_f_new=round(end_cat_new-start_cat_new, 2)"
   ]
  },
  {
   "cell_type": "code",
   "execution_count": 89,
   "metadata": {},
   "outputs": [
    {
     "name": "stdout",
     "output_type": "stream",
     "text": [
      "RMSE модели на базе библиотеки Catboost после корректировки: 1478.6831\n"
     ]
    }
   ],
   "source": [
    "# предсказание\n",
    "\n",
    "start = time.time()\n",
    "predict_cat_new=model_cat_new.predict(test_features_new)\n",
    "end = time.time()\n",
    "t_cat_p_new=round(end-start,2)\n",
    "rmse_cat_new = mean_squared_error(test_target_new, predict_cat_new) ** 0.5\n",
    "print(f'RMSE модели на базе библиотеки Catboost после корректировки: {round(rmse_cat_new, 4)}')"
   ]
  },
  {
   "cell_type": "code",
   "execution_count": 90,
   "metadata": {},
   "outputs": [
    {
     "data": {
      "image/png": "[encoded data removed]",
      "text/plain": [
       "<Figure size 792x360 with 1 Axes>"
      ]
     },
     "metadata": {
      "needs_background": "light"
     },
     "output_type": "display_data"
    }
   ],
   "source": [
    "# рассчитаем важность параметров\n",
    "importances_cat_new = model_cat_new.feature_importances_\n",
    "feat=features.columns\n",
    "indices = np.argsort(importances_cat_new)\n",
    "plt.figure(figsize=(11, 5))\n",
    "plt.title('Важность параметра')\n",
    "plt.barh(range(len(indices)), importances_cat_new[indices], color='#6495ED', align='center')\n",
    "plt.yticks(range(len(indices)), feat[indices])\n",
    "plt.show()"
   ]
  },
  {
   "cell_type": "markdown",
   "metadata": {},
   "source": [
    "**LightGBM после корректировки**"
   ]
  },
  {
   "cell_type": "code",
   "execution_count": 91,
   "metadata": {},
   "outputs": [
    {
     "data": {
      "text/plain": [
       "VehicleType         category\n",
       "RegistrationYear     float64\n",
       "Gearbox             category\n",
       "Power                float64\n",
       "Model               category\n",
       "Kilometer            float64\n",
       "FuelType            category\n",
       "Brand               category\n",
       "Repaired            category\n",
       "dtype: object"
      ]
     },
     "execution_count": 91,
     "metadata": {},
     "output_type": "execute_result"
    }
   ],
   "source": [
    "train_features_new_gbm = train_features_new.copy()\n",
    "for cat in cat_features:\n",
    "    train_features_new_gbm[cat] = train_features_new_gbm[cat].astype('category')\n",
    "train_features_new_gbm.dtypes"
   ]
  },
  {
   "cell_type": "code",
   "execution_count": 92,
   "metadata": {},
   "outputs": [
    {
     "data": {
      "text/plain": [
       "VehicleType         category\n",
       "RegistrationYear     float64\n",
       "Gearbox             category\n",
       "Power                float64\n",
       "Model               category\n",
       "Kilometer            float64\n",
       "FuelType            category\n",
       "Brand               category\n",
       "Repaired            category\n",
       "dtype: object"
      ]
     },
     "execution_count": 92,
     "metadata": {},
     "output_type": "execute_result"
    }
   ],
   "source": [
    "test_features_new_gbm = test_features_new.copy()\n",
    "for cat in cat_features:\n",
    "    test_features_new_gbm[cat] = test_features_new_gbm[cat].astype('category')\n",
    "test_features_new_gbm.dtypes"
   ]
  },
  {
   "cell_type": "code",
   "execution_count": 93,
   "metadata": {},
   "outputs": [
    {
     "name": "stdout",
     "output_type": "stream",
     "text": [
      "CPU times: user 3 µs, sys: 0 ns, total: 3 µs\n",
      "Wall time: 5.48 µs\n",
      "[10]\tvalid_0's rmse: 2414.58\tvalid_0's l2: 5.83021e+06\n",
      "[20]\tvalid_0's rmse: 1820.88\tvalid_0's l2: 3.31561e+06\n",
      "[30]\tvalid_0's rmse: 1651.18\tvalid_0's l2: 2.7264e+06\n",
      "[40]\tvalid_0's rmse: 1590.15\tvalid_0's l2: 2.52857e+06\n",
      "[50]\tvalid_0's rmse: 1558.83\tvalid_0's l2: 2.42994e+06\n",
      "[60]\tvalid_0's rmse: 1541.22\tvalid_0's l2: 2.37537e+06\n",
      "[70]\tvalid_0's rmse: 1529.5\tvalid_0's l2: 2.33937e+06\n",
      "[80]\tvalid_0's rmse: 1520.76\tvalid_0's l2: 2.31272e+06\n",
      "[90]\tvalid_0's rmse: 1513.79\tvalid_0's l2: 2.29156e+06\n",
      "[100]\tvalid_0's rmse: 1508.75\tvalid_0's l2: 2.27634e+06\n"
     ]
    }
   ],
   "source": [
    "# обучение модели\n",
    "%time\n",
    "start_gbm_new = time.time()\n",
    "\n",
    "model_lgb_new = LGBMRegressor(random_state=12345, max_depth=10, n_estimators=100, learning_rate=0.1)\n",
    "model_lgb_new.fit(train_features_new_gbm, train_target_new, \n",
    "              eval_set=(test_features_new_gbm, test_target_new), \n",
    "              verbose=10, \n",
    "              eval_metric='rmse')\n",
    "end_gbm_new = time.time()\n",
    "t_gbm_f_new = end_gbm - start_gbm\n"
   ]
  },
  {
   "cell_type": "code",
   "execution_count": 94,
   "metadata": {},
   "outputs": [
    {
     "name": "stdout",
     "output_type": "stream",
     "text": [
      "RMSE модели на базе библиотеки LGBM после корректировки: 1508.7536\n",
      "CPU times: user 533 ms, sys: 5.29 ms, total: 539 ms\n",
      "Wall time: 507 ms\n"
     ]
    }
   ],
   "source": [
    "%%time\n",
    "start_gbm_p_new = time.time()\n",
    "\n",
    "\n",
    "\n",
    "pred_gbmp_new = model_lgb_new.predict(test_features_new_gbm)\n",
    "rmse_gbm_new = mean_squared_error(test_target_new, pred_gbmp_new) ** 0.5\n",
    "\n",
    "end_gbm_p_new = time.time()\n",
    "t_gbm_p_new = end_gbm_p_new - start_gbm_p_new\n",
    "print(f'RMSE модели на базе библиотеки LGBM после корректировки: {round(rmse_gbm_new, 4)}')"
   ]
  },
  {
   "cell_type": "code",
   "execution_count": 95,
   "metadata": {},
   "outputs": [
    {
     "data": {
      "text/html": [
       "<style  type=\"text/css\" >\n",
       "#T_c3b97_row1_col1,#T_c3b97_row4_col0,#T_c3b97_row4_col2,#T_c3b97_row5_col1{\n",
       "            background-color:  yellowgreen;\n",
       "        }#T_c3b97_row1_col2,#T_c3b97_row2_col0,#T_c3b97_row3_col1{\n",
       "            background-color:  coral;\n",
       "        }</style><table id=\"T_c3b97_\" ><thead>    <tr>        <th class=\"blank level0\" ></th>        <th class=\"col_heading level0 col0\" >RMSE модели</th>        <th class=\"col_heading level0 col1\" >Скорость обучения, s</th>        <th class=\"col_heading level0 col2\" >Скорость предсказания, s</th>    </tr></thead><tbody>\n",
       "                <tr>\n",
       "                        <th id=\"T_c3b97_level0_row0\" class=\"row_heading level0 row0\" >CatBoostRegressor</th>\n",
       "                        <td id=\"T_c3b97_row0_col0\" class=\"data row0 col0\" >1494.604684</td>\n",
       "                        <td id=\"T_c3b97_row0_col1\" class=\"data row0 col1\" >18.590000</td>\n",
       "                        <td id=\"T_c3b97_row0_col2\" class=\"data row0 col2\" >0.120000</td>\n",
       "            </tr>\n",
       "            <tr>\n",
       "                        <th id=\"T_c3b97_level0_row1\" class=\"row_heading level0 row1\" >LightGBM</th>\n",
       "                        <td id=\"T_c3b97_row1_col0\" class=\"data row1 col0\" >1528.203374</td>\n",
       "                        <td id=\"T_c3b97_row1_col1\" class=\"data row1 col1\" >6.089528</td>\n",
       "                        <td id=\"T_c3b97_row1_col2\" class=\"data row1 col2\" >0.700434</td>\n",
       "            </tr>\n",
       "            <tr>\n",
       "                        <th id=\"T_c3b97_level0_row2\" class=\"row_heading level0 row2\" >LinearRegression</th>\n",
       "                        <td id=\"T_c3b97_row2_col0\" class=\"data row2 col0\" >2432.480000</td>\n",
       "                        <td id=\"T_c3b97_row2_col1\" class=\"data row2 col1\" >80.100000</td>\n",
       "                        <td id=\"T_c3b97_row2_col2\" class=\"data row2 col2\" >0.250000</td>\n",
       "            </tr>\n",
       "            <tr>\n",
       "                        <th id=\"T_c3b97_level0_row3\" class=\"row_heading level0 row3\" >RandomForestRegressor</th>\n",
       "                        <td id=\"T_c3b97_row3_col0\" class=\"data row3 col0\" >2113.310000</td>\n",
       "                        <td id=\"T_c3b97_row3_col1\" class=\"data row3 col1\" >96.120000</td>\n",
       "                        <td id=\"T_c3b97_row3_col2\" class=\"data row3 col2\" >0.260000</td>\n",
       "            </tr>\n",
       "            <tr>\n",
       "                        <th id=\"T_c3b97_level0_row4\" class=\"row_heading level0 row4\" >CatBoostRegressor_new</th>\n",
       "                        <td id=\"T_c3b97_row4_col0\" class=\"data row4 col0\" >1478.683118</td>\n",
       "                        <td id=\"T_c3b97_row4_col1\" class=\"data row4 col1\" >13.640000</td>\n",
       "                        <td id=\"T_c3b97_row4_col2\" class=\"data row4 col2\" >0.090000</td>\n",
       "            </tr>\n",
       "            <tr>\n",
       "                        <th id=\"T_c3b97_level0_row5\" class=\"row_heading level0 row5\" >LightGBM_new</th>\n",
       "                        <td id=\"T_c3b97_row5_col0\" class=\"data row5 col0\" >1508.753551</td>\n",
       "                        <td id=\"T_c3b97_row5_col1\" class=\"data row5 col1\" >6.089528</td>\n",
       "                        <td id=\"T_c3b97_row5_col2\" class=\"data row5 col2\" >0.505930</td>\n",
       "            </tr>\n",
       "    </tbody></table>"
      ],
      "text/plain": [
       "<pandas.io.formats.style.Styler at 0x7f7ad62ee7c0>"
      ]
     },
     "execution_count": 95,
     "metadata": {},
     "output_type": "execute_result"
    }
   ],
   "source": [
    "column=['RMSE модели','Скорость обучения, s','Скорость предсказания, s']\n",
    "\n",
    "comparison_tabl = pd.DataFrame(index=['RMSE модели', 'Скорость обучения, s', 'Скорость предсказания, s'], columns=['CatBoostRegressor','LightGBM', 'LinearRegression','RandomForestRegressor'])\n",
    "comparison_tabl['LinearRegression'] = rmse_lr, t_lr_f, t_lr_p\n",
    "comparison_tabl['RandomForestRegressor'] = rmse_rf,  t_rf_f, t_rf_p\n",
    "comparison_tabl['CatBoostRegressor'] = rmse_cat, t_cat_f, t_cat_p\n",
    "comparison_tabl['LightGBM'] = rmse_gbm,t_gbm_f,t_gbm_p\n",
    "comparison_tabl['CatBoostRegressor_new'] = rmse_cat_new, t_cat_f_new, t_cat_p_new\n",
    "comparison_tabl['LightGBM_new'] = rmse_gbm_new, t_gbm_f_new, t_gbm_p_new\n",
    "comparison_tabl.T.style.highlight_min(color='yellowgreen',subset=column).highlight_null(null_color='lightgrey').highlight_max(color='coral',subset=column)"
   ]
  },
  {
   "cell_type": "markdown",
   "metadata": {},
   "source": [
    "После удаления пропущенных значений качество моделей изменилось не сильно. С небольшим отрывом лучшая модель стала LightGBM, при этом CatBoostRegressor выигрывает по времени обучения и предсказания."
   ]
  },
  {
   "cell_type": "markdown",
   "metadata": {},
   "source": [
    "## Общий вывод"
   ]
  },
  {
   "cell_type": "markdown",
   "metadata": {},
   "source": [
    "Перед нами стояла задача - построить модель для определения стоимости автомобиля, с лучшими показателями качества предсказания, скорости и времени обучения. В нашем распоряжении были исторические данные: технические характеристики, комплектации и цены автомобилей.\n",
    "\n",
    "При предобработки данных были удалены дубликаты, проанализированы и исправлены аномалии, а также удалены признаки, которые не влияют на обучение модели.\n",
    "\n",
    "Для изучения модели использовались технологию градиетного бустинга в моделях CatBoostRegressor и LightGBM, и сравнили её с базовыми моделями LinearRegression и RandomForestRegressor\n",
    "\n",
    "По итогам качества на тестовых данных - с небольшим отрывом модель LightGBM показывает лучшие результаты предсказаний, но уступает по скорости обучения и предсказания перед CatBoostRegressor.\n",
    "\n",
    "Таким образом, для компании \"Не бит, не крашен\" можем  рекомендовать модель CatBoostRegressor, т.к. можно немного поступиться по качеству модели в пользу достижения скорости обучения и предсказания на новых данных при сохранении приблизительно тех же показателей по качеству предсказания.\n"
   ]
  }
 ],
 "metadata": {
  "ExecuteTimeLog": [
   {
    "duration": 435,
    "start_time": "2023-02-28T11:31:20.893Z"
   },
   {
    "duration": 1123,
    "start_time": "2023-02-28T11:31:21.554Z"
   },
   {
    "duration": 4,
    "start_time": "2023-02-28T11:33:13.194Z"
   },
   {
    "duration": 1164,
    "start_time": "2023-02-28T11:33:27.957Z"
   },
   {
    "duration": 3,
    "start_time": "2023-02-28T11:34:04.331Z"
   },
   {
    "duration": 238,
    "start_time": "2023-02-28T11:34:05.122Z"
   },
   {
    "duration": 3,
    "start_time": "2023-02-28T11:35:14.055Z"
   },
   {
    "duration": 1459,
    "start_time": "2023-02-28T11:35:15.055Z"
   },
   {
    "duration": 4,
    "start_time": "2023-02-28T11:38:11.875Z"
   },
   {
    "duration": 1911,
    "start_time": "2023-02-28T11:38:12.373Z"
   },
   {
    "duration": 389,
    "start_time": "2023-03-02T09:49:33.180Z"
   },
   {
    "duration": 1169,
    "start_time": "2023-03-02T09:49:33.743Z"
   },
   {
    "duration": 3,
    "start_time": "2023-03-02T09:49:34.914Z"
   },
   {
    "duration": 2190,
    "start_time": "2023-03-02T09:49:35.075Z"
   },
   {
    "duration": 121,
    "start_time": "2023-03-02T09:50:15.038Z"
   },
   {
    "duration": 962,
    "start_time": "2023-03-02T09:50:28.074Z"
   },
   {
    "duration": 30,
    "start_time": "2023-03-02T09:51:05.435Z"
   },
   {
    "duration": 18,
    "start_time": "2023-03-02T09:52:03.573Z"
   },
   {
    "duration": 68,
    "start_time": "2023-03-02T09:52:52.231Z"
   },
   {
    "duration": 9,
    "start_time": "2023-03-02T09:52:57.466Z"
   },
   {
    "duration": 3,
    "start_time": "2023-03-02T11:03:24.812Z"
   },
   {
    "duration": 924,
    "start_time": "2023-03-02T11:03:25.343Z"
   },
   {
    "duration": 4,
    "start_time": "2023-03-02T11:03:26.269Z"
   },
   {
    "duration": 2000,
    "start_time": "2023-03-02T11:03:27.148Z"
   },
   {
    "duration": 8,
    "start_time": "2023-03-02T11:05:07.748Z"
   },
   {
    "duration": 4,
    "start_time": "2023-03-02T11:05:28.375Z"
   },
   {
    "duration": 866,
    "start_time": "2023-03-02T11:05:28.919Z"
   },
   {
    "duration": 4,
    "start_time": "2023-03-02T11:05:29.788Z"
   },
   {
    "duration": 1883,
    "start_time": "2023-03-02T11:05:30.054Z"
   },
   {
    "duration": 936,
    "start_time": "2023-03-02T11:05:32.103Z"
   },
   {
    "duration": 13,
    "start_time": "2023-03-02T11:05:33.040Z"
   },
   {
    "duration": 13,
    "start_time": "2023-03-02T11:05:42.209Z"
   },
   {
    "duration": 26,
    "start_time": "2023-03-02T11:07:00.114Z"
   },
   {
    "duration": 28,
    "start_time": "2023-03-02T11:07:15.318Z"
   },
   {
    "duration": 103,
    "start_time": "2023-03-02T11:07:37.619Z"
   },
   {
    "duration": 25,
    "start_time": "2023-03-02T11:07:41.983Z"
   },
   {
    "duration": 25,
    "start_time": "2023-03-02T11:07:56.178Z"
   },
   {
    "duration": 23,
    "start_time": "2023-03-02T11:08:06.281Z"
   },
   {
    "duration": 35,
    "start_time": "2023-03-02T11:09:53.213Z"
   },
   {
    "duration": 13,
    "start_time": "2023-03-02T11:13:43.964Z"
   },
   {
    "duration": 129,
    "start_time": "2023-03-02T11:14:00.531Z"
   },
   {
    "duration": 25,
    "start_time": "2023-03-02T11:16:59.099Z"
   },
   {
    "duration": 8,
    "start_time": "2023-03-02T11:17:58.042Z"
   },
   {
    "duration": 179,
    "start_time": "2023-03-02T11:18:10.058Z"
   },
   {
    "duration": 87,
    "start_time": "2023-03-02T11:18:34.743Z"
   },
   {
    "duration": 755,
    "start_time": "2023-03-02T11:19:16.588Z"
   },
   {
    "duration": 1293,
    "start_time": "2023-03-02T11:19:59.172Z"
   },
   {
    "duration": 1377,
    "start_time": "2023-03-02T11:20:07.500Z"
   },
   {
    "duration": 1483,
    "start_time": "2023-03-02T11:20:14.297Z"
   },
   {
    "duration": 1583,
    "start_time": "2023-03-02T11:20:33.296Z"
   },
   {
    "duration": 2,
    "start_time": "2023-03-02T11:27:02.396Z"
   },
   {
    "duration": 3347,
    "start_time": "2023-03-02T11:27:52.046Z"
   },
   {
    "duration": 8,
    "start_time": "2023-03-02T11:30:43.138Z"
   },
   {
    "duration": 3,
    "start_time": "2023-03-02T11:30:58.144Z"
   },
   {
    "duration": 719,
    "start_time": "2023-03-02T11:30:58.629Z"
   },
   {
    "duration": 3,
    "start_time": "2023-03-02T11:30:59.350Z"
   },
   {
    "duration": 1694,
    "start_time": "2023-03-02T11:30:59.471Z"
   },
   {
    "duration": 13,
    "start_time": "2023-03-02T11:31:01.167Z"
   },
   {
    "duration": 155,
    "start_time": "2023-03-02T11:31:01.182Z"
   },
   {
    "duration": 77,
    "start_time": "2023-03-02T11:31:01.339Z"
   },
   {
    "duration": 170,
    "start_time": "2023-03-02T11:31:01.652Z"
   },
   {
    "duration": 95,
    "start_time": "2023-03-02T11:31:02.503Z"
   },
   {
    "duration": 1516,
    "start_time": "2023-03-02T11:31:03.920Z"
   },
   {
    "duration": 389,
    "start_time": "2023-03-02T11:31:05.438Z"
   },
   {
    "duration": 7,
    "start_time": "2023-03-02T11:31:05.829Z"
   },
   {
    "duration": 28,
    "start_time": "2023-03-02T11:31:07.033Z"
   },
   {
    "duration": 8,
    "start_time": "2023-03-02T11:31:44.204Z"
   },
   {
    "duration": 440,
    "start_time": "2023-03-02T11:31:56.693Z"
   },
   {
    "duration": 8,
    "start_time": "2023-03-02T11:32:26.515Z"
   },
   {
    "duration": 750,
    "start_time": "2023-03-02T11:32:33.478Z"
   },
   {
    "duration": 761,
    "start_time": "2023-03-02T11:33:34.514Z"
   },
   {
    "duration": 3,
    "start_time": "2023-03-02T11:38:19.416Z"
   },
   {
    "duration": 561,
    "start_time": "2023-03-02T11:38:37.304Z"
   },
   {
    "duration": 3,
    "start_time": "2023-03-02T11:39:30.108Z"
   },
   {
    "duration": 673,
    "start_time": "2023-03-02T11:39:30.795Z"
   },
   {
    "duration": 3,
    "start_time": "2023-03-02T11:39:46.167Z"
   },
   {
    "duration": 592,
    "start_time": "2023-03-02T11:39:47.635Z"
   },
   {
    "duration": 3,
    "start_time": "2023-03-02T11:39:59.532Z"
   },
   {
    "duration": 672,
    "start_time": "2023-03-02T11:40:00.343Z"
   },
   {
    "duration": 3,
    "start_time": "2023-03-02T11:40:54.081Z"
   },
   {
    "duration": 565,
    "start_time": "2023-03-02T11:40:55.016Z"
   },
   {
    "duration": 3,
    "start_time": "2023-03-02T11:41:07.079Z"
   },
   {
    "duration": 191,
    "start_time": "2023-03-02T11:41:07.982Z"
   },
   {
    "duration": 394,
    "start_time": "2023-03-02T11:41:10.904Z"
   },
   {
    "duration": 3,
    "start_time": "2023-03-02T11:41:39.255Z"
   },
   {
    "duration": 189,
    "start_time": "2023-03-02T11:41:39.993Z"
   },
   {
    "duration": 7,
    "start_time": "2023-03-02T11:41:57.918Z"
   },
   {
    "duration": 861,
    "start_time": "2023-03-02T11:41:58.635Z"
   },
   {
    "duration": 4,
    "start_time": "2023-03-02T11:43:54.858Z"
   },
   {
    "duration": 731,
    "start_time": "2023-03-02T11:43:55.746Z"
   },
   {
    "duration": 4,
    "start_time": "2023-03-02T11:44:47.119Z"
   },
   {
    "duration": 731,
    "start_time": "2023-03-02T11:44:47.759Z"
   },
   {
    "duration": 29,
    "start_time": "2023-03-02T11:48:59.117Z"
   },
   {
    "duration": 7,
    "start_time": "2023-03-02T11:49:08.071Z"
   },
   {
    "duration": 3,
    "start_time": "2023-03-02T11:49:11.899Z"
   },
   {
    "duration": 25,
    "start_time": "2023-03-02T11:49:48.942Z"
   },
   {
    "duration": 26,
    "start_time": "2023-03-02T11:50:11.922Z"
   },
   {
    "duration": 40,
    "start_time": "2023-03-02T11:50:22.058Z"
   },
   {
    "duration": 4,
    "start_time": "2023-03-02T11:50:22.710Z"
   },
   {
    "duration": 27,
    "start_time": "2023-03-02T11:50:24.175Z"
   },
   {
    "duration": 710,
    "start_time": "2023-03-02T11:51:29.193Z"
   },
   {
    "duration": 831,
    "start_time": "2023-03-02T14:53:46.157Z"
   },
   {
    "duration": 1166,
    "start_time": "2023-03-02T14:53:46.991Z"
   },
   {
    "duration": 3,
    "start_time": "2023-03-02T14:53:48.159Z"
   },
   {
    "duration": 1807,
    "start_time": "2023-03-02T14:53:48.356Z"
   },
   {
    "duration": 14,
    "start_time": "2023-03-02T14:53:50.165Z"
   },
   {
    "duration": 159,
    "start_time": "2023-03-02T14:53:50.197Z"
   },
   {
    "duration": 77,
    "start_time": "2023-03-02T14:53:50.475Z"
   },
   {
    "duration": 327,
    "start_time": "2023-03-02T14:53:58.496Z"
   },
   {
    "duration": 98,
    "start_time": "2023-03-02T14:53:59.663Z"
   },
   {
    "duration": 1644,
    "start_time": "2023-03-02T14:54:01.584Z"
   },
   {
    "duration": 457,
    "start_time": "2023-03-02T14:54:03.230Z"
   },
   {
    "duration": 3,
    "start_time": "2023-03-02T14:54:03.928Z"
   },
   {
    "duration": 783,
    "start_time": "2023-03-02T14:56:08.197Z"
   },
   {
    "duration": 285,
    "start_time": "2023-03-02T14:57:17.616Z"
   },
   {
    "duration": 715,
    "start_time": "2023-03-02T14:58:24.060Z"
   },
   {
    "duration": 604,
    "start_time": "2023-03-02T15:00:03.067Z"
   },
   {
    "duration": 741,
    "start_time": "2023-03-02T15:00:30.538Z"
   },
   {
    "duration": 710,
    "start_time": "2023-03-02T15:01:21.088Z"
   },
   {
    "duration": 785,
    "start_time": "2023-03-02T15:01:33.967Z"
   },
   {
    "duration": 779,
    "start_time": "2023-03-02T15:01:45.509Z"
   },
   {
    "duration": 845,
    "start_time": "2023-03-02T15:01:55.965Z"
   },
   {
    "duration": 8,
    "start_time": "2023-03-02T15:02:33.430Z"
   },
   {
    "duration": 34,
    "start_time": "2023-03-02T15:03:25.919Z"
   },
   {
    "duration": 24,
    "start_time": "2023-03-02T15:03:42.068Z"
   },
   {
    "duration": 33,
    "start_time": "2023-03-02T15:04:00.774Z"
   },
   {
    "duration": 800,
    "start_time": "2023-03-02T18:37:47.340Z"
   },
   {
    "duration": 2864,
    "start_time": "2023-03-02T18:37:48.851Z"
   },
   {
    "duration": 77,
    "start_time": "2023-03-02T18:37:51.717Z"
   },
   {
    "duration": 17,
    "start_time": "2023-03-02T18:38:05.458Z"
   },
   {
    "duration": 128,
    "start_time": "2023-03-02T18:38:15.380Z"
   },
   {
    "duration": 275,
    "start_time": "2023-03-02T18:38:25.695Z"
   },
   {
    "duration": 104,
    "start_time": "2023-03-02T18:38:26.551Z"
   },
   {
    "duration": 16,
    "start_time": "2023-03-02T18:45:49.895Z"
   },
   {
    "duration": 39,
    "start_time": "2023-03-02T18:46:05.854Z"
   },
   {
    "duration": 1573,
    "start_time": "2023-03-02T18:46:07.047Z"
   },
   {
    "duration": 23,
    "start_time": "2023-03-02T18:47:06.170Z"
   },
   {
    "duration": 12,
    "start_time": "2023-03-02T18:47:21.025Z"
   },
   {
    "duration": 9,
    "start_time": "2023-03-02T18:49:01.670Z"
   },
   {
    "duration": 8,
    "start_time": "2023-03-02T18:49:36.828Z"
   },
   {
    "duration": 12,
    "start_time": "2023-03-02T18:50:01.704Z"
   },
   {
    "duration": 54,
    "start_time": "2023-03-02T18:50:34.389Z"
   },
   {
    "duration": 12,
    "start_time": "2023-03-02T18:50:55.073Z"
   },
   {
    "duration": 11,
    "start_time": "2023-03-02T18:51:27.847Z"
   },
   {
    "duration": 11,
    "start_time": "2023-03-02T18:52:02.251Z"
   },
   {
    "duration": 15,
    "start_time": "2023-03-02T18:52:20.033Z"
   },
   {
    "duration": 12,
    "start_time": "2023-03-02T18:52:45.938Z"
   },
   {
    "duration": 16,
    "start_time": "2023-03-02T18:55:17.410Z"
   },
   {
    "duration": 10,
    "start_time": "2023-03-02T18:59:23.907Z"
   },
   {
    "duration": 11,
    "start_time": "2023-03-02T19:00:12.900Z"
   },
   {
    "duration": 16,
    "start_time": "2023-03-02T19:00:46.688Z"
   },
   {
    "duration": 12,
    "start_time": "2023-03-02T19:02:32.024Z"
   },
   {
    "duration": 2,
    "start_time": "2023-03-02T19:02:42.194Z"
   },
   {
    "duration": 746,
    "start_time": "2023-03-02T19:02:42.806Z"
   },
   {
    "duration": 13,
    "start_time": "2023-03-02T19:02:43.554Z"
   },
   {
    "duration": 110,
    "start_time": "2023-03-02T19:02:44.221Z"
   },
   {
    "duration": 209,
    "start_time": "2023-03-02T19:02:45.813Z"
   },
   {
    "duration": 79,
    "start_time": "2023-03-02T19:02:46.545Z"
   },
   {
    "duration": 30,
    "start_time": "2023-03-02T19:02:49.935Z"
   },
   {
    "duration": 45,
    "start_time": "2023-03-02T19:03:07.148Z"
   },
   {
    "duration": 2,
    "start_time": "2023-03-02T19:03:18.271Z"
   },
   {
    "duration": 726,
    "start_time": "2023-03-02T19:03:18.436Z"
   },
   {
    "duration": 12,
    "start_time": "2023-03-02T19:03:19.164Z"
   },
   {
    "duration": 123,
    "start_time": "2023-03-02T19:03:19.177Z"
   },
   {
    "duration": 219,
    "start_time": "2023-03-02T19:03:19.635Z"
   },
   {
    "duration": 81,
    "start_time": "2023-03-02T19:03:20.355Z"
   },
   {
    "duration": 37,
    "start_time": "2023-03-02T19:03:22.437Z"
   },
   {
    "duration": 50,
    "start_time": "2023-03-02T19:03:40.814Z"
   },
   {
    "duration": 34,
    "start_time": "2023-03-02T19:03:50.594Z"
   },
   {
    "duration": 77,
    "start_time": "2023-03-02T19:04:04.048Z"
   },
   {
    "duration": 286,
    "start_time": "2023-03-02T19:04:18.426Z"
   },
   {
    "duration": 4,
    "start_time": "2023-03-02T19:04:36.161Z"
   },
   {
    "duration": 773,
    "start_time": "2023-03-02T19:04:37.099Z"
   },
   {
    "duration": 20,
    "start_time": "2023-03-02T19:04:50.575Z"
   },
   {
    "duration": 25,
    "start_time": "2023-03-02T19:04:52.811Z"
   },
   {
    "duration": 3,
    "start_time": "2023-03-02T19:04:54.215Z"
   },
   {
    "duration": 713,
    "start_time": "2023-03-02T19:05:00.819Z"
   },
   {
    "duration": 661,
    "start_time": "2023-03-02T19:05:10.216Z"
   },
   {
    "duration": 17,
    "start_time": "2023-03-02T19:06:07.829Z"
   },
   {
    "duration": 17,
    "start_time": "2023-03-02T19:06:20.309Z"
   },
   {
    "duration": 19,
    "start_time": "2023-03-02T19:07:31.933Z"
   },
   {
    "duration": 23,
    "start_time": "2023-03-02T19:10:02.883Z"
   },
   {
    "duration": 13,
    "start_time": "2023-03-02T19:10:57.353Z"
   },
   {
    "duration": 10,
    "start_time": "2023-03-02T19:11:07.280Z"
   },
   {
    "duration": 35,
    "start_time": "2023-03-02T19:11:57.139Z"
   },
   {
    "duration": 94,
    "start_time": "2023-03-02T19:12:08.814Z"
   },
   {
    "duration": 726,
    "start_time": "2023-03-02T19:14:58.621Z"
   },
   {
    "duration": 19,
    "start_time": "2023-03-02T19:16:05.449Z"
   },
   {
    "duration": 9,
    "start_time": "2023-03-02T19:16:38.434Z"
   },
   {
    "duration": 10,
    "start_time": "2023-03-02T19:16:44.175Z"
   },
   {
    "duration": 183,
    "start_time": "2023-03-02T19:16:55.589Z"
   },
   {
    "duration": 157,
    "start_time": "2023-03-02T19:17:09.070Z"
   },
   {
    "duration": 154,
    "start_time": "2023-03-02T19:17:18.377Z"
   },
   {
    "duration": 175,
    "start_time": "2023-03-02T19:17:43.915Z"
   },
   {
    "duration": 166,
    "start_time": "2023-03-02T19:17:50.746Z"
   },
   {
    "duration": 9,
    "start_time": "2023-03-02T19:19:30.188Z"
   },
   {
    "duration": 233,
    "start_time": "2023-03-02T19:19:46.142Z"
   },
   {
    "duration": 3,
    "start_time": "2023-03-02T19:19:58.720Z"
   },
   {
    "duration": 779,
    "start_time": "2023-03-02T19:19:58.901Z"
   },
   {
    "duration": 15,
    "start_time": "2023-03-02T19:19:59.682Z"
   },
   {
    "duration": 139,
    "start_time": "2023-03-02T19:19:59.698Z"
   },
   {
    "duration": 275,
    "start_time": "2023-03-02T19:19:59.839Z"
   },
   {
    "duration": 99,
    "start_time": "2023-03-02T19:20:00.116Z"
   },
   {
    "duration": 32,
    "start_time": "2023-03-02T19:20:00.522Z"
   },
   {
    "duration": 85,
    "start_time": "2023-03-02T19:20:01.003Z"
   },
   {
    "duration": 169,
    "start_time": "2023-03-02T19:20:01.611Z"
   },
   {
    "duration": 299,
    "start_time": "2023-03-02T19:20:02.175Z"
   },
   {
    "duration": 8,
    "start_time": "2023-03-02T19:21:44.474Z"
   },
   {
    "duration": 10,
    "start_time": "2023-03-02T19:22:55.906Z"
   },
   {
    "duration": 9,
    "start_time": "2023-03-02T19:23:01.623Z"
   },
   {
    "duration": 11,
    "start_time": "2023-03-02T19:23:33.412Z"
   },
   {
    "duration": 9,
    "start_time": "2023-03-02T19:23:55.840Z"
   },
   {
    "duration": 8,
    "start_time": "2023-03-02T19:24:00.473Z"
   },
   {
    "duration": 8,
    "start_time": "2023-03-02T19:25:39.701Z"
   },
   {
    "duration": 3,
    "start_time": "2023-03-02T19:26:25.612Z"
   },
   {
    "duration": 758,
    "start_time": "2023-03-02T19:26:25.791Z"
   },
   {
    "duration": 27,
    "start_time": "2023-03-02T19:26:26.551Z"
   },
   {
    "duration": 128,
    "start_time": "2023-03-02T19:26:26.580Z"
   },
   {
    "duration": 296,
    "start_time": "2023-03-02T19:26:26.910Z"
   },
   {
    "duration": 105,
    "start_time": "2023-03-02T19:26:27.816Z"
   },
   {
    "duration": 34,
    "start_time": "2023-03-02T19:26:30.078Z"
   },
   {
    "duration": 86,
    "start_time": "2023-03-02T19:26:30.733Z"
   },
   {
    "duration": 175,
    "start_time": "2023-03-02T19:26:31.689Z"
   },
   {
    "duration": 197,
    "start_time": "2023-03-02T19:26:32.877Z"
   },
   {
    "duration": 8,
    "start_time": "2023-03-02T19:26:50.806Z"
   },
   {
    "duration": 3,
    "start_time": "2023-03-02T19:26:55.986Z"
   },
   {
    "duration": 863,
    "start_time": "2023-03-02T19:26:56.143Z"
   },
   {
    "duration": 18,
    "start_time": "2023-03-02T19:26:57.009Z"
   },
   {
    "duration": 234,
    "start_time": "2023-03-02T19:26:57.029Z"
   },
   {
    "duration": 335,
    "start_time": "2023-03-02T19:26:57.265Z"
   },
   {
    "duration": 127,
    "start_time": "2023-03-02T19:26:57.602Z"
   },
   {
    "duration": 50,
    "start_time": "2023-03-02T19:26:58.026Z"
   },
   {
    "duration": 103,
    "start_time": "2023-03-02T19:26:58.617Z"
   },
   {
    "duration": 231,
    "start_time": "2023-03-02T19:26:59.303Z"
   },
   {
    "duration": 204,
    "start_time": "2023-03-02T19:26:59.927Z"
   },
   {
    "duration": 3,
    "start_time": "2023-03-02T19:28:48.999Z"
   },
   {
    "duration": 770,
    "start_time": "2023-03-02T19:28:49.570Z"
   },
   {
    "duration": 27,
    "start_time": "2023-03-02T19:28:50.342Z"
   },
   {
    "duration": 123,
    "start_time": "2023-03-02T19:28:50.689Z"
   },
   {
    "duration": 245,
    "start_time": "2023-03-02T19:28:51.880Z"
   },
   {
    "duration": 85,
    "start_time": "2023-03-02T19:28:52.580Z"
   },
   {
    "duration": 41,
    "start_time": "2023-03-02T19:28:54.339Z"
   },
   {
    "duration": 76,
    "start_time": "2023-03-02T19:28:55.076Z"
   },
   {
    "duration": 166,
    "start_time": "2023-03-02T19:28:55.821Z"
   },
   {
    "duration": 369,
    "start_time": "2023-03-02T19:28:56.504Z"
   },
   {
    "duration": 296,
    "start_time": "2023-03-02T19:29:02.443Z"
   },
   {
    "duration": 313,
    "start_time": "2023-03-02T19:29:06.396Z"
   },
   {
    "duration": 3,
    "start_time": "2023-03-02T19:29:17.776Z"
   },
   {
    "duration": 714,
    "start_time": "2023-03-02T19:29:18.510Z"
   },
   {
    "duration": 28,
    "start_time": "2023-03-02T19:29:30.515Z"
   },
   {
    "duration": 28,
    "start_time": "2023-03-02T19:29:32.791Z"
   },
   {
    "duration": 4,
    "start_time": "2023-03-02T19:29:33.696Z"
   },
   {
    "duration": 902,
    "start_time": "2023-03-02T19:29:36.272Z"
   },
   {
    "duration": 672,
    "start_time": "2023-03-02T19:29:37.454Z"
   },
   {
    "duration": 16,
    "start_time": "2023-03-02T19:29:38.390Z"
   },
   {
    "duration": 22,
    "start_time": "2023-03-02T19:29:39.278Z"
   },
   {
    "duration": 69,
    "start_time": "2023-03-02T19:29:40.270Z"
   },
   {
    "duration": 667,
    "start_time": "2023-03-02T19:29:44.880Z"
   },
   {
    "duration": 23,
    "start_time": "2023-03-02T19:31:07.284Z"
   },
   {
    "duration": 34,
    "start_time": "2023-03-02T19:31:18.254Z"
   },
   {
    "duration": 38,
    "start_time": "2023-03-02T19:33:16.834Z"
   },
   {
    "duration": 26,
    "start_time": "2023-03-02T19:33:29.970Z"
   },
   {
    "duration": 21,
    "start_time": "2023-03-02T19:33:37.916Z"
   },
   {
    "duration": 793,
    "start_time": "2023-03-03T10:21:17.786Z"
   },
   {
    "duration": 1054,
    "start_time": "2023-03-03T10:21:18.582Z"
   },
   {
    "duration": 17,
    "start_time": "2023-03-03T10:21:19.638Z"
   },
   {
    "duration": 115,
    "start_time": "2023-03-03T10:21:19.656Z"
   },
   {
    "duration": 53,
    "start_time": "2023-03-03T10:21:22.407Z"
   },
   {
    "duration": 79,
    "start_time": "2023-03-03T10:21:23.100Z"
   },
   {
    "duration": 165,
    "start_time": "2023-03-03T10:21:23.803Z"
   },
   {
    "duration": 373,
    "start_time": "2023-03-03T10:21:24.478Z"
   },
   {
    "duration": 236,
    "start_time": "2023-03-03T10:21:26.373Z"
   },
   {
    "duration": 3,
    "start_time": "2023-03-03T10:21:27.580Z"
   },
   {
    "duration": 780,
    "start_time": "2023-03-03T10:21:28.484Z"
   },
   {
    "duration": 22,
    "start_time": "2023-03-03T10:21:35.581Z"
   },
   {
    "duration": 23,
    "start_time": "2023-03-03T10:21:51.694Z"
   },
   {
    "duration": 4,
    "start_time": "2023-03-03T10:21:52.422Z"
   },
   {
    "duration": 609,
    "start_time": "2023-03-03T10:21:53.633Z"
   },
   {
    "duration": 633,
    "start_time": "2023-03-03T10:21:55.406Z"
   },
   {
    "duration": 18,
    "start_time": "2023-03-03T10:21:56.420Z"
   },
   {
    "duration": 26,
    "start_time": "2023-03-03T10:21:58.379Z"
   },
   {
    "duration": 67,
    "start_time": "2023-03-03T10:21:59.432Z"
   },
   {
    "duration": 621,
    "start_time": "2023-03-03T10:22:01.105Z"
   },
   {
    "duration": 20,
    "start_time": "2023-03-03T10:22:03.770Z"
   },
   {
    "duration": 616,
    "start_time": "2023-03-03T10:22:43.750Z"
   },
   {
    "duration": 556,
    "start_time": "2023-03-03T10:23:10.890Z"
   },
   {
    "duration": 523,
    "start_time": "2023-03-03T10:23:24.571Z"
   },
   {
    "duration": 17,
    "start_time": "2023-03-03T10:23:26.266Z"
   },
   {
    "duration": 25,
    "start_time": "2023-03-03T10:28:24.563Z"
   },
   {
    "duration": 23,
    "start_time": "2023-03-03T10:29:05.376Z"
   },
   {
    "duration": 19,
    "start_time": "2023-03-03T10:29:25.609Z"
   },
   {
    "duration": 19,
    "start_time": "2023-03-03T10:35:32.857Z"
   },
   {
    "duration": 21,
    "start_time": "2023-03-03T10:37:59.478Z"
   },
   {
    "duration": 23,
    "start_time": "2023-03-03T10:38:09.444Z"
   },
   {
    "duration": 42,
    "start_time": "2023-03-03T10:40:55.772Z"
   },
   {
    "duration": 22,
    "start_time": "2023-03-03T10:41:03.625Z"
   },
   {
    "duration": 18,
    "start_time": "2023-03-03T10:41:16.685Z"
   },
   {
    "duration": 14,
    "start_time": "2023-03-03T10:41:25.593Z"
   },
   {
    "duration": 33,
    "start_time": "2023-03-03T10:41:55.267Z"
   },
   {
    "duration": 24,
    "start_time": "2023-03-03T10:42:58.571Z"
   },
   {
    "duration": 57,
    "start_time": "2023-03-03T10:43:07.564Z"
   },
   {
    "duration": 23,
    "start_time": "2023-03-03T10:43:57.181Z"
   },
   {
    "duration": 25,
    "start_time": "2023-03-03T10:44:27.161Z"
   },
   {
    "duration": 25,
    "start_time": "2023-03-03T10:44:27.817Z"
   },
   {
    "duration": 2,
    "start_time": "2023-03-03T10:45:06.619Z"
   },
   {
    "duration": 769,
    "start_time": "2023-03-03T10:45:06.623Z"
   },
   {
    "duration": 12,
    "start_time": "2023-03-03T10:45:07.394Z"
   },
   {
    "duration": 111,
    "start_time": "2023-03-03T10:45:07.408Z"
   },
   {
    "duration": 41,
    "start_time": "2023-03-03T10:45:07.520Z"
   },
   {
    "duration": 78,
    "start_time": "2023-03-03T10:45:07.763Z"
   },
   {
    "duration": 161,
    "start_time": "2023-03-03T10:45:08.276Z"
   },
   {
    "duration": 295,
    "start_time": "2023-03-03T10:45:08.842Z"
   },
   {
    "duration": 217,
    "start_time": "2023-03-03T10:45:09.497Z"
   },
   {
    "duration": 3,
    "start_time": "2023-03-03T10:45:10.096Z"
   },
   {
    "duration": 664,
    "start_time": "2023-03-03T10:45:10.576Z"
   },
   {
    "duration": 28,
    "start_time": "2023-03-03T10:45:11.789Z"
   },
   {
    "duration": 30,
    "start_time": "2023-03-03T10:45:13.270Z"
   },
   {
    "duration": 4,
    "start_time": "2023-03-03T10:45:13.847Z"
   },
   {
    "duration": 655,
    "start_time": "2023-03-03T10:45:14.545Z"
   },
   {
    "duration": 624,
    "start_time": "2023-03-03T10:45:15.202Z"
   },
   {
    "duration": 32,
    "start_time": "2023-03-03T10:45:15.828Z"
   },
   {
    "duration": 26,
    "start_time": "2023-03-03T10:45:16.659Z"
   },
   {
    "duration": 56,
    "start_time": "2023-03-03T10:45:17.215Z"
   },
   {
    "duration": 538,
    "start_time": "2023-03-03T10:45:17.975Z"
   },
   {
    "duration": 28,
    "start_time": "2023-03-03T10:45:19.330Z"
   },
   {
    "duration": 25,
    "start_time": "2023-03-03T10:45:19.948Z"
   },
   {
    "duration": 22,
    "start_time": "2023-03-03T10:45:29.625Z"
   },
   {
    "duration": 23,
    "start_time": "2023-03-03T10:45:35.104Z"
   },
   {
    "duration": 43,
    "start_time": "2023-03-03T10:45:49.551Z"
   },
   {
    "duration": 11,
    "start_time": "2023-03-03T10:45:50.205Z"
   },
   {
    "duration": 11,
    "start_time": "2023-03-03T10:45:57.073Z"
   },
   {
    "duration": 20,
    "start_time": "2023-03-03T10:46:01.462Z"
   },
   {
    "duration": 19,
    "start_time": "2023-03-03T10:46:44.414Z"
   },
   {
    "duration": 21,
    "start_time": "2023-03-03T10:47:11.523Z"
   },
   {
    "duration": 21,
    "start_time": "2023-03-03T10:47:28.640Z"
   },
   {
    "duration": 22,
    "start_time": "2023-03-03T10:47:37.972Z"
   },
   {
    "duration": 18,
    "start_time": "2023-03-03T10:47:50.505Z"
   },
   {
    "duration": 44,
    "start_time": "2023-03-03T11:01:08.703Z"
   },
   {
    "duration": 10,
    "start_time": "2023-03-03T11:01:26.246Z"
   },
   {
    "duration": 893,
    "start_time": "2023-03-03T11:07:01.598Z"
   },
   {
    "duration": 49,
    "start_time": "2023-03-03T11:10:22.382Z"
   },
   {
    "duration": 15,
    "start_time": "2023-03-03T11:11:03.249Z"
   },
   {
    "duration": 28,
    "start_time": "2023-03-03T11:11:10.872Z"
   },
   {
    "duration": 25,
    "start_time": "2023-03-03T11:16:13.618Z"
   },
   {
    "duration": 28,
    "start_time": "2023-03-03T11:16:20.401Z"
   },
   {
    "duration": 132,
    "start_time": "2023-03-03T11:17:54.814Z"
   },
   {
    "duration": 28,
    "start_time": "2023-03-03T11:24:01.099Z"
   },
   {
    "duration": 23,
    "start_time": "2023-03-03T11:24:36.240Z"
   },
   {
    "duration": 24,
    "start_time": "2023-03-03T11:25:11.682Z"
   },
   {
    "duration": 22,
    "start_time": "2023-03-03T11:25:32.208Z"
   },
   {
    "duration": 30,
    "start_time": "2023-03-03T11:26:11.318Z"
   },
   {
    "duration": 64,
    "start_time": "2023-03-03T11:26:54.756Z"
   },
   {
    "duration": 59,
    "start_time": "2023-03-03T11:27:44.989Z"
   },
   {
    "duration": 26,
    "start_time": "2023-03-03T11:28:06.476Z"
   },
   {
    "duration": 448,
    "start_time": "2023-03-03T11:30:49.537Z"
   },
   {
    "duration": 10,
    "start_time": "2023-03-03T11:31:50.139Z"
   },
   {
    "duration": 840,
    "start_time": "2023-03-03T11:33:11.908Z"
   },
   {
    "duration": 834,
    "start_time": "2023-03-03T11:33:39.303Z"
   },
   {
    "duration": 120,
    "start_time": "2023-03-03T11:59:32.159Z"
   },
   {
    "duration": 13,
    "start_time": "2023-03-03T11:59:47.272Z"
   },
   {
    "duration": 104,
    "start_time": "2023-03-03T12:01:46.899Z"
   },
   {
    "duration": 18,
    "start_time": "2023-03-03T12:18:06.168Z"
   },
   {
    "duration": 9434,
    "start_time": "2023-03-03T12:22:20.227Z"
   },
   {
    "duration": 8783,
    "start_time": "2023-03-03T12:23:00.306Z"
   },
   {
    "duration": 90,
    "start_time": "2023-03-03T12:23:09.090Z"
   },
   {
    "duration": 4,
    "start_time": "2023-03-03T12:25:03.491Z"
   },
   {
    "duration": 5,
    "start_time": "2023-03-03T12:25:13.591Z"
   },
   {
    "duration": 6,
    "start_time": "2023-03-03T12:27:46.127Z"
   },
   {
    "duration": 5,
    "start_time": "2023-03-03T12:28:08.702Z"
   },
   {
    "duration": 3,
    "start_time": "2023-03-03T12:29:22.513Z"
   },
   {
    "duration": 7,
    "start_time": "2023-03-03T12:29:28.987Z"
   },
   {
    "duration": 74,
    "start_time": "2023-03-03T12:30:34.021Z"
   },
   {
    "duration": 207,
    "start_time": "2023-03-03T12:30:51.834Z"
   },
   {
    "duration": 350,
    "start_time": "2023-03-03T12:31:18.858Z"
   },
   {
    "duration": 100,
    "start_time": "2023-03-03T12:36:24.938Z"
   },
   {
    "duration": 9282,
    "start_time": "2023-03-03T12:37:02.879Z"
   },
   {
    "duration": 84,
    "start_time": "2023-03-03T12:37:12.163Z"
   },
   {
    "duration": 10,
    "start_time": "2023-03-03T12:37:12.254Z"
   },
   {
    "duration": 199,
    "start_time": "2023-03-03T12:37:12.266Z"
   },
   {
    "duration": 91,
    "start_time": "2023-03-03T12:38:08.479Z"
   },
   {
    "duration": 5,
    "start_time": "2023-03-03T12:41:01.718Z"
   },
   {
    "duration": 7,
    "start_time": "2023-03-03T12:43:07.912Z"
   },
   {
    "duration": 982,
    "start_time": "2023-03-03T12:43:08.090Z"
   },
   {
    "duration": 15,
    "start_time": "2023-03-03T12:43:09.075Z"
   },
   {
    "duration": 182,
    "start_time": "2023-03-03T12:43:09.092Z"
   },
   {
    "duration": 55,
    "start_time": "2023-03-03T12:43:09.277Z"
   },
   {
    "duration": 100,
    "start_time": "2023-03-03T12:43:09.334Z"
   },
   {
    "duration": 179,
    "start_time": "2023-03-03T12:43:09.464Z"
   },
   {
    "duration": 384,
    "start_time": "2023-03-03T12:43:09.649Z"
   },
   {
    "duration": 277,
    "start_time": "2023-03-03T12:43:10.035Z"
   },
   {
    "duration": 3,
    "start_time": "2023-03-03T12:43:10.314Z"
   },
   {
    "duration": 755,
    "start_time": "2023-03-03T12:43:10.320Z"
   },
   {
    "duration": 23,
    "start_time": "2023-03-03T12:43:11.077Z"
   },
   {
    "duration": 49,
    "start_time": "2023-03-03T12:43:11.102Z"
   },
   {
    "duration": 4,
    "start_time": "2023-03-03T12:43:11.197Z"
   },
   {
    "duration": 733,
    "start_time": "2023-03-03T12:43:11.405Z"
   },
   {
    "duration": 716,
    "start_time": "2023-03-03T12:43:12.140Z"
   },
   {
    "duration": 19,
    "start_time": "2023-03-03T12:43:12.866Z"
   },
   {
    "duration": 37,
    "start_time": "2023-03-03T12:43:12.888Z"
   },
   {
    "duration": 71,
    "start_time": "2023-03-03T12:43:12.927Z"
   },
   {
    "duration": 671,
    "start_time": "2023-03-03T12:43:13.000Z"
   },
   {
    "duration": 51,
    "start_time": "2023-03-03T12:43:13.673Z"
   },
   {
    "duration": 63,
    "start_time": "2023-03-03T12:43:13.726Z"
   },
   {
    "duration": 10,
    "start_time": "2023-03-03T12:43:13.792Z"
   },
   {
    "duration": 82,
    "start_time": "2023-03-03T12:43:13.805Z"
   },
   {
    "duration": 23,
    "start_time": "2023-03-03T12:43:14.218Z"
   },
   {
    "duration": 22,
    "start_time": "2023-03-03T12:43:14.718Z"
   },
   {
    "duration": 28,
    "start_time": "2023-03-03T12:43:15.286Z"
   },
   {
    "duration": 26,
    "start_time": "2023-03-03T12:43:15.510Z"
   },
   {
    "duration": 22,
    "start_time": "2023-03-03T12:43:15.709Z"
   },
   {
    "duration": 95,
    "start_time": "2023-03-03T12:43:15.888Z"
   },
   {
    "duration": 96,
    "start_time": "2023-03-03T12:43:16.089Z"
   },
   {
    "duration": 64,
    "start_time": "2023-03-03T12:43:16.304Z"
   },
   {
    "duration": 40,
    "start_time": "2023-03-03T12:43:16.520Z"
   },
   {
    "duration": 1098,
    "start_time": "2023-03-03T12:43:16.965Z"
   },
   {
    "duration": 17,
    "start_time": "2023-03-03T12:43:18.198Z"
   },
   {
    "duration": 71,
    "start_time": "2023-03-03T12:43:18.529Z"
   },
   {
    "duration": 13,
    "start_time": "2023-03-03T12:43:19.482Z"
   },
   {
    "duration": 8937,
    "start_time": "2023-03-03T12:43:19.683Z"
   },
   {
    "duration": 86,
    "start_time": "2023-03-03T12:43:28.622Z"
   },
   {
    "duration": 4,
    "start_time": "2023-03-03T12:43:28.710Z"
   },
   {
    "duration": 217,
    "start_time": "2023-03-03T12:43:28.716Z"
   },
   {
    "duration": 5,
    "start_time": "2023-03-03T12:43:28.935Z"
   },
   {
    "duration": 118,
    "start_time": "2023-03-03T12:43:28.949Z"
   },
   {
    "duration": 78,
    "start_time": "2023-03-03T12:43:29.069Z"
   },
   {
    "duration": 14,
    "start_time": "2023-03-03T12:44:22.606Z"
   },
   {
    "duration": 15,
    "start_time": "2023-03-03T12:45:05.797Z"
   },
   {
    "duration": 14,
    "start_time": "2023-03-03T12:46:55.078Z"
   },
   {
    "duration": 124,
    "start_time": "2023-03-03T12:48:00.039Z"
   },
   {
    "duration": 12,
    "start_time": "2023-03-03T12:52:28.826Z"
   },
   {
    "duration": 30753,
    "start_time": "2023-03-03T12:52:51.107Z"
   },
   {
    "duration": 61,
    "start_time": "2023-03-03T12:54:13.163Z"
   },
   {
    "duration": 47182,
    "start_time": "2023-03-03T12:55:04.385Z"
   },
   {
    "duration": 111,
    "start_time": "2023-03-03T13:12:24.465Z"
   },
   {
    "duration": 5,
    "start_time": "2023-03-03T13:13:19.842Z"
   },
   {
    "duration": 122,
    "start_time": "2023-03-03T13:13:20.480Z"
   },
   {
    "duration": 55,
    "start_time": "2023-03-03T13:13:23.630Z"
   },
   {
    "duration": 35791,
    "start_time": "2023-03-03T13:13:24.883Z"
   },
   {
    "duration": 112,
    "start_time": "2023-03-03T13:14:00.749Z"
   },
   {
    "duration": 79,
    "start_time": "2023-03-03T13:19:23.293Z"
   },
   {
    "duration": 11,
    "start_time": "2023-03-03T13:19:53.131Z"
   },
   {
    "duration": 902,
    "start_time": "2023-03-03T13:19:53.303Z"
   },
   {
    "duration": 15,
    "start_time": "2023-03-03T13:19:54.208Z"
   },
   {
    "duration": 127,
    "start_time": "2023-03-03T13:19:54.225Z"
   },
   {
    "duration": 54,
    "start_time": "2023-03-03T13:19:54.366Z"
   },
   {
    "duration": 82,
    "start_time": "2023-03-03T13:19:54.422Z"
   },
   {
    "duration": 166,
    "start_time": "2023-03-03T13:19:54.543Z"
   },
   {
    "duration": 419,
    "start_time": "2023-03-03T13:19:54.724Z"
   },
   {
    "duration": 282,
    "start_time": "2023-03-03T13:19:55.147Z"
   },
   {
    "duration": 4,
    "start_time": "2023-03-03T13:19:55.430Z"
   },
   {
    "duration": 880,
    "start_time": "2023-03-03T13:19:55.435Z"
   },
   {
    "duration": 32,
    "start_time": "2023-03-03T13:19:56.317Z"
   },
   {
    "duration": 27,
    "start_time": "2023-03-03T13:19:56.351Z"
   },
   {
    "duration": 4,
    "start_time": "2023-03-03T13:19:56.380Z"
   },
   {
    "duration": 776,
    "start_time": "2023-03-03T13:19:56.386Z"
   },
   {
    "duration": 817,
    "start_time": "2023-03-03T13:19:57.164Z"
   },
   {
    "duration": 24,
    "start_time": "2023-03-03T13:19:57.983Z"
   },
   {
    "duration": 46,
    "start_time": "2023-03-03T13:19:58.009Z"
   },
   {
    "duration": 93,
    "start_time": "2023-03-03T13:19:58.058Z"
   },
   {
    "duration": 624,
    "start_time": "2023-03-03T13:19:58.154Z"
   },
   {
    "duration": 50,
    "start_time": "2023-03-03T13:19:58.780Z"
   },
   {
    "duration": 51,
    "start_time": "2023-03-03T13:19:58.848Z"
   },
   {
    "duration": 14,
    "start_time": "2023-03-03T13:19:58.901Z"
   },
   {
    "duration": 88,
    "start_time": "2023-03-03T13:19:58.918Z"
   },
   {
    "duration": 43,
    "start_time": "2023-03-03T13:19:59.008Z"
   },
   {
    "duration": 29,
    "start_time": "2023-03-03T13:19:59.053Z"
   },
   {
    "duration": 26,
    "start_time": "2023-03-03T13:19:59.084Z"
   },
   {
    "duration": 26,
    "start_time": "2023-03-03T13:19:59.163Z"
   },
   {
    "duration": 23,
    "start_time": "2023-03-03T13:19:59.351Z"
   },
   {
    "duration": 75,
    "start_time": "2023-03-03T13:19:59.544Z"
   },
   {
    "duration": 74,
    "start_time": "2023-03-03T13:19:59.730Z"
   },
   {
    "duration": 56,
    "start_time": "2023-03-03T13:19:59.918Z"
   },
   {
    "duration": 37,
    "start_time": "2023-03-03T13:20:00.104Z"
   },
   {
    "duration": 55,
    "start_time": "2023-03-03T13:20:11.595Z"
   },
   {
    "duration": 27,
    "start_time": "2023-03-03T13:20:11.775Z"
   },
   {
    "duration": 859,
    "start_time": "2023-03-03T13:20:12.097Z"
   },
   {
    "duration": 16,
    "start_time": "2023-03-03T13:20:12.958Z"
   },
   {
    "duration": 102,
    "start_time": "2023-03-03T13:20:12.976Z"
   },
   {
    "duration": 16,
    "start_time": "2023-03-03T13:20:13.483Z"
   },
   {
    "duration": 8945,
    "start_time": "2023-03-03T13:20:13.693Z"
   },
   {
    "duration": 84,
    "start_time": "2023-03-03T13:20:22.640Z"
   },
   {
    "duration": 5,
    "start_time": "2023-03-03T13:20:22.726Z"
   },
   {
    "duration": 375,
    "start_time": "2023-03-03T13:20:22.749Z"
   },
   {
    "duration": 4,
    "start_time": "2023-03-03T13:20:23.127Z"
   },
   {
    "duration": 126,
    "start_time": "2023-03-03T13:20:23.133Z"
   },
   {
    "duration": 61,
    "start_time": "2023-03-03T13:20:23.261Z"
   },
   {
    "duration": 156,
    "start_time": "2023-03-03T13:20:23.324Z"
   },
   {
    "duration": 181075,
    "start_time": "2023-03-03T13:20:31.874Z"
   },
   {
    "duration": 113,
    "start_time": "2023-03-03T13:23:32.951Z"
   },
   {
    "duration": 121,
    "start_time": "2023-03-03T13:38:25.830Z"
   },
   {
    "duration": 431339,
    "start_time": "2023-03-03T13:39:57.727Z"
   },
   {
    "duration": 197,
    "start_time": "2023-03-03T13:47:09.068Z"
   },
   {
    "duration": 149,
    "start_time": "2023-03-03T13:55:24.953Z"
   },
   {
    "duration": 110,
    "start_time": "2023-03-03T13:55:44.599Z"
   },
   {
    "duration": 1124,
    "start_time": "2023-03-03T13:59:41.118Z"
   },
   {
    "duration": 201969,
    "start_time": "2023-03-03T14:00:06.113Z"
   },
   {
    "duration": 96,
    "start_time": "2023-03-03T14:03:28.085Z"
   },
   {
    "duration": 421140,
    "start_time": "2023-03-03T14:03:36.032Z"
   },
   {
    "duration": 585,
    "start_time": "2023-03-03T14:10:37.174Z"
   },
   {
    "duration": 10,
    "start_time": "2023-03-03T14:10:47.233Z"
   },
   {
    "duration": 788,
    "start_time": "2023-03-03T14:10:47.397Z"
   },
   {
    "duration": 14,
    "start_time": "2023-03-03T14:10:48.188Z"
   },
   {
    "duration": 128,
    "start_time": "2023-03-03T14:10:48.204Z"
   },
   {
    "duration": 52,
    "start_time": "2023-03-03T14:10:48.334Z"
   },
   {
    "duration": 75,
    "start_time": "2023-03-03T14:10:48.422Z"
   },
   {
    "duration": 150,
    "start_time": "2023-03-03T14:10:48.587Z"
   },
   {
    "duration": 320,
    "start_time": "2023-03-03T14:10:48.775Z"
   },
   {
    "duration": 247,
    "start_time": "2023-03-03T14:10:49.097Z"
   },
   {
    "duration": 13,
    "start_time": "2023-03-03T14:10:49.347Z"
   },
   {
    "duration": 717,
    "start_time": "2023-03-03T14:10:49.362Z"
   },
   {
    "duration": 22,
    "start_time": "2023-03-03T14:10:50.081Z"
   },
   {
    "duration": 24,
    "start_time": "2023-03-03T14:10:50.104Z"
   },
   {
    "duration": 4,
    "start_time": "2023-03-03T14:10:50.179Z"
   },
   {
    "duration": 755,
    "start_time": "2023-03-03T14:10:50.348Z"
   },
   {
    "duration": 701,
    "start_time": "2023-03-03T14:10:51.105Z"
   },
   {
    "duration": 17,
    "start_time": "2023-03-03T14:10:51.808Z"
   },
   {
    "duration": 41,
    "start_time": "2023-03-03T14:10:51.828Z"
   },
   {
    "duration": 64,
    "start_time": "2023-03-03T14:10:51.877Z"
   },
   {
    "duration": 625,
    "start_time": "2023-03-03T14:10:51.943Z"
   },
   {
    "duration": 44,
    "start_time": "2023-03-03T14:10:52.570Z"
   },
   {
    "duration": 88,
    "start_time": "2023-03-03T14:10:52.616Z"
   },
   {
    "duration": 17,
    "start_time": "2023-03-03T14:10:52.706Z"
   },
   {
    "duration": 62,
    "start_time": "2023-03-03T14:10:52.724Z"
   },
   {
    "duration": 36,
    "start_time": "2023-03-03T14:10:52.789Z"
   },
   {
    "duration": 23,
    "start_time": "2023-03-03T14:10:52.919Z"
   },
   {
    "duration": 24,
    "start_time": "2023-03-03T14:10:53.113Z"
   },
   {
    "duration": 29,
    "start_time": "2023-03-03T14:10:53.297Z"
   },
   {
    "duration": 21,
    "start_time": "2023-03-03T14:10:53.487Z"
   },
   {
    "duration": 78,
    "start_time": "2023-03-03T14:10:53.679Z"
   },
   {
    "duration": 55,
    "start_time": "2023-03-03T14:10:54.070Z"
   },
   {
    "duration": 25,
    "start_time": "2023-03-03T14:10:54.277Z"
   },
   {
    "duration": 917,
    "start_time": "2023-03-03T14:10:54.617Z"
   },
   {
    "duration": 37,
    "start_time": "2023-03-03T14:10:55.536Z"
   },
   {
    "duration": 69,
    "start_time": "2023-03-03T14:10:55.584Z"
   },
   {
    "duration": 20,
    "start_time": "2023-03-03T14:10:56.149Z"
   },
   {
    "duration": 9370,
    "start_time": "2023-03-03T14:10:56.335Z"
   },
   {
    "duration": 102,
    "start_time": "2023-03-03T14:11:05.707Z"
   },
   {
    "duration": 4,
    "start_time": "2023-03-03T14:11:05.812Z"
   },
   {
    "duration": 234,
    "start_time": "2023-03-03T14:11:05.818Z"
   },
   {
    "duration": 4,
    "start_time": "2023-03-03T14:11:06.055Z"
   },
   {
    "duration": 137,
    "start_time": "2023-03-03T14:11:06.061Z"
   },
   {
    "duration": 77,
    "start_time": "2023-03-03T14:11:06.200Z"
   },
   {
    "duration": 56137,
    "start_time": "2023-03-03T14:11:14.816Z"
   },
   {
    "duration": 577,
    "start_time": "2023-03-03T14:12:57.893Z"
   },
   {
    "duration": 529,
    "start_time": "2023-03-03T14:16:25.809Z"
   },
   {
    "duration": 481,
    "start_time": "2023-03-03T14:16:59.068Z"
   },
   {
    "duration": 10,
    "start_time": "2023-03-03T14:17:54.239Z"
   },
   {
    "duration": 13,
    "start_time": "2023-03-03T14:18:20.680Z"
   },
   {
    "duration": 15,
    "start_time": "2023-03-03T14:19:46.812Z"
   },
   {
    "duration": 11,
    "start_time": "2023-03-03T14:20:59.941Z"
   },
   {
    "duration": 10,
    "start_time": "2023-03-03T14:21:57.226Z"
   },
   {
    "duration": 541,
    "start_time": "2023-03-03T14:23:29.721Z"
   },
   {
    "duration": 422,
    "start_time": "2023-03-03T14:23:39.559Z"
   },
   {
    "duration": 70,
    "start_time": "2023-03-03T14:23:41.340Z"
   },
   {
    "duration": 15,
    "start_time": "2023-03-03T14:23:45.206Z"
   },
   {
    "duration": 386,
    "start_time": "2023-03-03T14:24:18.815Z"
   },
   {
    "duration": 3,
    "start_time": "2023-03-03T14:24:27.093Z"
   },
   {
    "duration": 56,
    "start_time": "2023-03-03T14:24:27.674Z"
   },
   {
    "duration": 56,
    "start_time": "2023-03-03T14:24:30.092Z"
   },
   {
    "duration": 5,
    "start_time": "2023-03-03T14:25:02.067Z"
   },
   {
    "duration": 94,
    "start_time": "2023-03-03T14:26:54.097Z"
   },
   {
    "duration": 8,
    "start_time": "2023-03-03T14:27:20.257Z"
   },
   {
    "duration": 48238,
    "start_time": "2023-03-03T14:27:35.394Z"
   },
   {
    "duration": 6,
    "start_time": "2023-03-03T14:28:53.881Z"
   },
   {
    "duration": 47454,
    "start_time": "2023-03-03T14:30:00.970Z"
   },
   {
    "duration": 2872,
    "start_time": "2023-03-03T14:30:48.426Z"
   },
   {
    "duration": 5,
    "start_time": "2023-03-03T14:30:57.463Z"
   },
   {
    "duration": 21,
    "start_time": "2023-03-03T14:34:41.809Z"
   },
   {
    "duration": 5,
    "start_time": "2023-03-03T14:35:24.462Z"
   },
   {
    "duration": 15,
    "start_time": "2023-03-03T14:35:33.548Z"
   },
   {
    "duration": 466,
    "start_time": "2023-03-03T14:36:02.296Z"
   },
   {
    "duration": 16,
    "start_time": "2023-03-03T14:36:13.239Z"
   },
   {
    "duration": 65,
    "start_time": "2023-03-03T14:36:43.768Z"
   },
   {
    "duration": 12,
    "start_time": "2023-03-03T14:45:47.626Z"
   },
   {
    "duration": 214,
    "start_time": "2023-03-03T14:46:32.619Z"
   },
   {
    "duration": 4,
    "start_time": "2023-03-03T14:55:53.328Z"
   },
   {
    "duration": 121,
    "start_time": "2023-03-03T14:56:15.343Z"
   },
   {
    "duration": 4,
    "start_time": "2023-03-03T14:57:15.460Z"
   },
   {
    "duration": 652,
    "start_time": "2023-03-03T14:57:16.178Z"
   },
   {
    "duration": 680,
    "start_time": "2023-03-03T15:04:24.389Z"
   },
   {
    "duration": 647,
    "start_time": "2023-03-03T15:04:43.269Z"
   },
   {
    "duration": 8,
    "start_time": "2023-03-03T15:05:00.443Z"
   },
   {
    "duration": 828,
    "start_time": "2023-03-03T15:05:00.622Z"
   },
   {
    "duration": 13,
    "start_time": "2023-03-03T15:05:01.452Z"
   },
   {
    "duration": 133,
    "start_time": "2023-03-03T15:05:01.467Z"
   },
   {
    "duration": 50,
    "start_time": "2023-03-03T15:05:01.661Z"
   },
   {
    "duration": 4,
    "start_time": "2023-03-03T15:05:01.830Z"
   },
   {
    "duration": 168,
    "start_time": "2023-03-03T15:05:02.068Z"
   },
   {
    "duration": 292,
    "start_time": "2023-03-03T15:05:02.277Z"
   },
   {
    "duration": 260,
    "start_time": "2023-03-03T15:05:02.571Z"
   },
   {
    "duration": 3,
    "start_time": "2023-03-03T15:05:02.833Z"
   },
   {
    "duration": 798,
    "start_time": "2023-03-03T15:05:03.223Z"
   },
   {
    "duration": 20,
    "start_time": "2023-03-03T15:05:04.563Z"
   },
   {
    "duration": 24,
    "start_time": "2023-03-03T15:05:05.716Z"
   },
   {
    "duration": 5,
    "start_time": "2023-03-03T15:05:06.259Z"
   },
   {
    "duration": 733,
    "start_time": "2023-03-03T15:05:06.763Z"
   },
   {
    "duration": 686,
    "start_time": "2023-03-03T15:05:09.065Z"
   },
   {
    "duration": 680,
    "start_time": "2023-03-03T15:05:18.769Z"
   },
   {
    "duration": 835,
    "start_time": "2023-03-03T15:12:17.495Z"
   },
   {
    "duration": 19,
    "start_time": "2023-03-03T15:12:19.571Z"
   },
   {
    "duration": 26,
    "start_time": "2023-03-03T15:12:20.809Z"
   },
   {
    "duration": 59,
    "start_time": "2023-03-03T15:12:22.103Z"
   },
   {
    "duration": 573,
    "start_time": "2023-03-03T15:12:23.582Z"
   },
   {
    "duration": 100,
    "start_time": "2023-03-03T15:13:21.483Z"
   },
   {
    "duration": 52,
    "start_time": "2023-03-03T15:13:29.591Z"
   },
   {
    "duration": 51,
    "start_time": "2023-03-03T15:13:30.503Z"
   },
   {
    "duration": 10,
    "start_time": "2023-03-03T15:13:32.581Z"
   },
   {
    "duration": 9,
    "start_time": "2023-03-03T15:13:47.885Z"
   },
   {
    "duration": 52,
    "start_time": "2023-03-03T15:13:49.226Z"
   },
   {
    "duration": 24,
    "start_time": "2023-03-03T15:14:49.169Z"
   },
   {
    "duration": 24,
    "start_time": "2023-03-03T15:14:50.174Z"
   },
   {
    "duration": 24,
    "start_time": "2023-03-03T15:14:51.333Z"
   },
   {
    "duration": 25,
    "start_time": "2023-03-03T15:14:52.971Z"
   },
   {
    "duration": 24,
    "start_time": "2023-03-03T15:14:53.765Z"
   },
   {
    "duration": 75,
    "start_time": "2023-03-03T15:14:54.974Z"
   },
   {
    "duration": 52,
    "start_time": "2023-03-03T15:14:57.226Z"
   },
   {
    "duration": 31,
    "start_time": "2023-03-03T15:14:59.007Z"
   },
   {
    "duration": 809,
    "start_time": "2023-03-03T15:15:06.832Z"
   },
   {
    "duration": 18,
    "start_time": "2023-03-03T15:25:42.321Z"
   },
   {
    "duration": 195,
    "start_time": "2023-03-03T15:25:53.178Z"
   },
   {
    "duration": 183,
    "start_time": "2023-03-03T15:26:01.109Z"
   },
   {
    "duration": 176,
    "start_time": "2023-03-03T15:26:12.614Z"
   },
   {
    "duration": 199,
    "start_time": "2023-03-03T15:26:33.984Z"
   },
   {
    "duration": 8,
    "start_time": "2023-03-03T15:26:39.375Z"
   },
   {
    "duration": 842,
    "start_time": "2023-03-03T15:26:39.530Z"
   },
   {
    "duration": 15,
    "start_time": "2023-03-03T15:26:40.374Z"
   },
   {
    "duration": 119,
    "start_time": "2023-03-03T15:26:40.391Z"
   },
   {
    "duration": 54,
    "start_time": "2023-03-03T15:26:40.923Z"
   },
   {
    "duration": 4,
    "start_time": "2023-03-03T15:26:41.171Z"
   },
   {
    "duration": 150,
    "start_time": "2023-03-03T15:26:41.445Z"
   },
   {
    "duration": 319,
    "start_time": "2023-03-03T15:26:41.680Z"
   },
   {
    "duration": 249,
    "start_time": "2023-03-03T15:26:42.001Z"
   },
   {
    "duration": 4,
    "start_time": "2023-03-03T15:26:42.471Z"
   },
   {
    "duration": 830,
    "start_time": "2023-03-03T15:26:43.319Z"
   },
   {
    "duration": 22,
    "start_time": "2023-03-03T15:26:44.587Z"
   },
   {
    "duration": 29,
    "start_time": "2023-03-03T15:26:46.091Z"
   },
   {
    "duration": 4,
    "start_time": "2023-03-03T15:26:46.675Z"
   },
   {
    "duration": 705,
    "start_time": "2023-03-03T15:26:47.280Z"
   },
   {
    "duration": 691,
    "start_time": "2023-03-03T15:26:48.475Z"
   },
   {
    "duration": 17,
    "start_time": "2023-03-03T15:26:49.767Z"
   },
   {
    "duration": 32,
    "start_time": "2023-03-03T15:26:50.632Z"
   },
   {
    "duration": 61,
    "start_time": "2023-03-03T15:26:51.499Z"
   },
   {
    "duration": 584,
    "start_time": "2023-03-03T15:26:52.627Z"
   },
   {
    "duration": 48,
    "start_time": "2023-03-03T15:26:55.090Z"
   },
   {
    "duration": 39,
    "start_time": "2023-03-03T15:26:55.630Z"
   },
   {
    "duration": 10,
    "start_time": "2023-03-03T15:26:56.183Z"
   },
   {
    "duration": 54,
    "start_time": "2023-03-03T15:26:57.596Z"
   },
   {
    "duration": 23,
    "start_time": "2023-03-03T15:27:08.293Z"
   },
   {
    "duration": 22,
    "start_time": "2023-03-03T15:27:09.217Z"
   },
   {
    "duration": 26,
    "start_time": "2023-03-03T15:27:10.014Z"
   },
   {
    "duration": 25,
    "start_time": "2023-03-03T15:27:11.207Z"
   },
   {
    "duration": 28,
    "start_time": "2023-03-03T15:27:15.918Z"
   },
   {
    "duration": 67,
    "start_time": "2023-03-03T15:27:18.298Z"
   },
   {
    "duration": 52,
    "start_time": "2023-03-03T15:27:19.471Z"
   },
   {
    "duration": 27,
    "start_time": "2023-03-03T15:27:20.106Z"
   },
   {
    "duration": 899,
    "start_time": "2023-03-03T15:27:21.608Z"
   },
   {
    "duration": 16,
    "start_time": "2023-03-03T15:27:32.221Z"
   },
   {
    "duration": 60,
    "start_time": "2023-03-03T15:27:33.093Z"
   },
   {
    "duration": 15,
    "start_time": "2023-03-03T15:27:35.583Z"
   },
   {
    "duration": 5,
    "start_time": "2023-03-03T15:27:36.372Z"
   },
   {
    "duration": 5,
    "start_time": "2023-03-03T15:27:37.171Z"
   },
   {
    "duration": 14,
    "start_time": "2023-03-03T15:27:38.099Z"
   },
   {
    "duration": 178,
    "start_time": "2023-03-03T15:27:39.383Z"
   },
   {
    "duration": 7,
    "start_time": "2023-03-03T15:28:13.590Z"
   },
   {
    "duration": 748,
    "start_time": "2023-03-03T15:28:14.179Z"
   },
   {
    "duration": 18,
    "start_time": "2023-03-03T15:28:14.932Z"
   },
   {
    "duration": 107,
    "start_time": "2023-03-03T15:28:15.279Z"
   },
   {
    "duration": 46,
    "start_time": "2023-03-03T15:28:17.222Z"
   },
   {
    "duration": 4,
    "start_time": "2023-03-03T15:28:17.831Z"
   },
   {
    "duration": 143,
    "start_time": "2023-03-03T15:28:18.483Z"
   },
   {
    "duration": 288,
    "start_time": "2023-03-03T15:28:19.035Z"
   },
   {
    "duration": 236,
    "start_time": "2023-03-03T15:28:19.585Z"
   },
   {
    "duration": 4,
    "start_time": "2023-03-03T15:28:20.226Z"
   },
   {
    "duration": 741,
    "start_time": "2023-03-03T15:28:20.877Z"
   },
   {
    "duration": 22,
    "start_time": "2023-03-03T15:28:22.130Z"
   },
   {
    "duration": 29,
    "start_time": "2023-03-03T15:28:23.393Z"
   },
   {
    "duration": 4,
    "start_time": "2023-03-03T15:28:23.980Z"
   },
   {
    "duration": 934,
    "start_time": "2023-03-03T15:28:24.564Z"
   },
   {
    "duration": 797,
    "start_time": "2023-03-03T15:28:25.715Z"
   },
   {
    "duration": 18,
    "start_time": "2023-03-03T15:28:27.060Z"
   },
   {
    "duration": 27,
    "start_time": "2023-03-03T15:28:27.690Z"
   },
   {
    "duration": 65,
    "start_time": "2023-03-03T15:28:28.323Z"
   },
   {
    "duration": 550,
    "start_time": "2023-03-03T15:28:28.977Z"
   },
   {
    "duration": 47,
    "start_time": "2023-03-03T15:28:30.280Z"
   },
   {
    "duration": 43,
    "start_time": "2023-03-03T15:28:30.874Z"
   },
   {
    "duration": 10,
    "start_time": "2023-03-03T15:28:31.482Z"
   },
   {
    "duration": 47,
    "start_time": "2023-03-03T15:28:32.962Z"
   },
   {
    "duration": 22,
    "start_time": "2023-03-03T15:28:34.767Z"
   },
   {
    "duration": 22,
    "start_time": "2023-03-03T15:28:35.585Z"
   },
   {
    "duration": 25,
    "start_time": "2023-03-03T15:28:36.264Z"
   },
   {
    "duration": 26,
    "start_time": "2023-03-03T15:28:36.916Z"
   },
   {
    "duration": 22,
    "start_time": "2023-03-03T15:28:37.611Z"
   },
   {
    "duration": 66,
    "start_time": "2023-03-03T15:28:38.933Z"
   },
   {
    "duration": 54,
    "start_time": "2023-03-03T15:28:40.408Z"
   },
   {
    "duration": 25,
    "start_time": "2023-03-03T15:28:41.183Z"
   },
   {
    "duration": 798,
    "start_time": "2023-03-03T15:28:58.916Z"
   },
   {
    "duration": 21,
    "start_time": "2023-03-03T15:29:01.479Z"
   },
   {
    "duration": 61,
    "start_time": "2023-03-03T15:29:02.127Z"
   },
   {
    "duration": 13,
    "start_time": "2023-03-03T15:29:04.055Z"
   },
   {
    "duration": 6,
    "start_time": "2023-03-03T15:29:05.095Z"
   },
   {
    "duration": 4,
    "start_time": "2023-03-03T15:29:06.202Z"
   },
   {
    "duration": 13,
    "start_time": "2023-03-03T15:29:07.609Z"
   },
   {
    "duration": 8398,
    "start_time": "2023-03-03T15:29:29.663Z"
   },
   {
    "duration": 80,
    "start_time": "2023-03-03T15:29:38.063Z"
   },
   {
    "duration": 5,
    "start_time": "2023-03-03T15:29:38.144Z"
   },
   {
    "duration": 181,
    "start_time": "2023-03-03T15:29:58.369Z"
   },
   {
    "duration": 4,
    "start_time": "2023-03-03T15:33:12.615Z"
   },
   {
    "duration": 125,
    "start_time": "2023-03-03T15:33:13.713Z"
   },
   {
    "duration": 51,
    "start_time": "2023-03-03T15:33:16.167Z"
   },
   {
    "duration": 26123,
    "start_time": "2023-03-03T15:33:16.926Z"
   },
   {
    "duration": 508,
    "start_time": "2023-03-03T15:33:43.051Z"
   },
   {
    "duration": 241,
    "start_time": "2023-03-03T15:33:43.560Z"
   },
   {
    "duration": 395,
    "start_time": "2023-03-03T15:36:28.469Z"
   },
   {
    "duration": 6,
    "start_time": "2023-03-03T15:36:33.963Z"
   },
   {
    "duration": 743,
    "start_time": "2023-03-03T15:36:34.124Z"
   },
   {
    "duration": 15,
    "start_time": "2023-03-03T15:36:34.869Z"
   },
   {
    "duration": 122,
    "start_time": "2023-03-03T15:36:34.886Z"
   },
   {
    "duration": 34,
    "start_time": "2023-03-03T15:36:35.027Z"
   },
   {
    "duration": 4,
    "start_time": "2023-03-03T15:36:35.222Z"
   },
   {
    "duration": 148,
    "start_time": "2023-03-03T15:36:35.409Z"
   },
   {
    "duration": 347,
    "start_time": "2023-03-03T15:36:35.607Z"
   },
   {
    "duration": 265,
    "start_time": "2023-03-03T15:36:35.956Z"
   },
   {
    "duration": 3,
    "start_time": "2023-03-03T15:36:36.223Z"
   },
   {
    "duration": 735,
    "start_time": "2023-03-03T15:36:36.227Z"
   },
   {
    "duration": 19,
    "start_time": "2023-03-03T15:36:36.963Z"
   },
   {
    "duration": 32,
    "start_time": "2023-03-03T15:36:36.983Z"
   },
   {
    "duration": 3,
    "start_time": "2023-03-03T15:36:37.091Z"
   },
   {
    "duration": 829,
    "start_time": "2023-03-03T15:36:37.280Z"
   },
   {
    "duration": 749,
    "start_time": "2023-03-03T15:36:38.111Z"
   },
   {
    "duration": 19,
    "start_time": "2023-03-03T15:36:38.862Z"
   },
   {
    "duration": 24,
    "start_time": "2023-03-03T15:36:38.883Z"
   },
   {
    "duration": 73,
    "start_time": "2023-03-03T15:36:38.909Z"
   },
   {
    "duration": 566,
    "start_time": "2023-03-03T15:36:38.984Z"
   },
   {
    "duration": 43,
    "start_time": "2023-03-03T15:36:39.552Z"
   },
   {
    "duration": 52,
    "start_time": "2023-03-03T15:36:39.596Z"
   },
   {
    "duration": 10,
    "start_time": "2023-03-03T15:36:39.650Z"
   },
   {
    "duration": 48,
    "start_time": "2023-03-03T15:36:39.884Z"
   },
   {
    "duration": 22,
    "start_time": "2023-03-03T15:36:40.322Z"
   },
   {
    "duration": 22,
    "start_time": "2023-03-03T15:36:40.537Z"
   },
   {
    "duration": 24,
    "start_time": "2023-03-03T15:36:40.781Z"
   },
   {
    "duration": 24,
    "start_time": "2023-03-03T15:36:41.001Z"
   },
   {
    "duration": 23,
    "start_time": "2023-03-03T15:36:41.427Z"
   },
   {
    "duration": 64,
    "start_time": "2023-03-03T15:36:41.667Z"
   },
   {
    "duration": 53,
    "start_time": "2023-03-03T15:36:42.063Z"
   },
   {
    "duration": 25,
    "start_time": "2023-03-03T15:36:42.231Z"
   },
   {
    "duration": 855,
    "start_time": "2023-03-03T15:36:42.656Z"
   },
   {
    "duration": 19,
    "start_time": "2023-03-03T15:36:43.513Z"
   },
   {
    "duration": 60,
    "start_time": "2023-03-03T15:36:43.705Z"
   },
   {
    "duration": 12,
    "start_time": "2023-03-03T15:36:44.331Z"
   },
   {
    "duration": 8197,
    "start_time": "2023-03-03T15:36:44.525Z"
   },
   {
    "duration": 81,
    "start_time": "2023-03-03T15:36:52.724Z"
   },
   {
    "duration": 4,
    "start_time": "2023-03-03T15:36:52.807Z"
   },
   {
    "duration": 187,
    "start_time": "2023-03-03T15:36:52.813Z"
   },
   {
    "duration": 4,
    "start_time": "2023-03-03T15:36:53.001Z"
   },
   {
    "duration": 122,
    "start_time": "2023-03-03T15:36:53.007Z"
   },
   {
    "duration": 58,
    "start_time": "2023-03-03T15:36:53.131Z"
   },
   {
    "duration": 4276,
    "start_time": "2023-03-03T15:36:53.191Z"
   },
   {
    "duration": 504,
    "start_time": "2023-03-03T15:36:57.548Z"
   },
   {
    "duration": 225,
    "start_time": "2023-03-03T15:36:58.055Z"
   },
   {
    "duration": 429,
    "start_time": "2023-03-03T15:36:58.282Z"
   },
   {
    "duration": 57,
    "start_time": "2023-03-03T15:36:58.713Z"
   },
   {
    "duration": 381,
    "start_time": "2023-03-03T15:36:58.771Z"
   },
   {
    "duration": 3,
    "start_time": "2023-03-03T15:36:59.153Z"
   },
   {
    "duration": 60,
    "start_time": "2023-03-03T15:36:59.157Z"
   },
   {
    "duration": 99,
    "start_time": "2023-03-03T15:36:59.249Z"
   },
   {
    "duration": 8,
    "start_time": "2023-03-03T15:36:59.350Z"
   },
   {
    "duration": 11,
    "start_time": "2023-03-03T15:38:20.485Z"
   },
   {
    "duration": 6,
    "start_time": "2023-03-03T15:38:58.009Z"
   },
   {
    "duration": 50,
    "start_time": "2023-03-03T15:39:55.180Z"
   },
   {
    "duration": 10,
    "start_time": "2023-03-03T15:39:55.830Z"
   },
   {
    "duration": 5,
    "start_time": "2023-03-03T15:39:56.473Z"
   },
   {
    "duration": 46121,
    "start_time": "2023-03-03T15:39:57.973Z"
   },
   {
    "duration": 3069,
    "start_time": "2023-03-03T15:40:44.096Z"
   },
   {
    "duration": 4,
    "start_time": "2023-03-03T15:40:47.167Z"
   },
   {
    "duration": 409,
    "start_time": "2023-03-03T15:41:03.075Z"
   },
   {
    "duration": 27,
    "start_time": "2023-03-03T15:41:21.299Z"
   },
   {
    "duration": 5,
    "start_time": "2023-03-03T15:52:30.879Z"
   },
   {
    "duration": 13,
    "start_time": "2023-03-03T15:54:41.291Z"
   },
   {
    "duration": 29,
    "start_time": "2023-03-03T15:55:36.892Z"
   },
   {
    "duration": 7,
    "start_time": "2023-03-03T16:00:17.492Z"
   },
   {
    "duration": 733,
    "start_time": "2023-03-03T16:00:18.079Z"
   },
   {
    "duration": 14,
    "start_time": "2023-03-03T16:00:18.814Z"
   },
   {
    "duration": 113,
    "start_time": "2023-03-03T16:00:19.061Z"
   },
   {
    "duration": 62,
    "start_time": "2023-03-03T16:00:20.608Z"
   },
   {
    "duration": 4,
    "start_time": "2023-03-03T16:00:21.079Z"
   },
   {
    "duration": 164,
    "start_time": "2023-03-03T16:00:21.575Z"
   },
   {
    "duration": 309,
    "start_time": "2023-03-03T16:00:22.059Z"
   },
   {
    "duration": 265,
    "start_time": "2023-03-03T16:00:22.525Z"
   },
   {
    "duration": 4,
    "start_time": "2023-03-03T16:00:22.979Z"
   },
   {
    "duration": 953,
    "start_time": "2023-03-03T16:00:23.492Z"
   },
   {
    "duration": 22,
    "start_time": "2023-03-03T16:00:24.484Z"
   },
   {
    "duration": 26,
    "start_time": "2023-03-03T16:00:25.475Z"
   },
   {
    "duration": 5,
    "start_time": "2023-03-03T16:00:25.979Z"
   },
   {
    "duration": 716,
    "start_time": "2023-03-03T16:00:26.579Z"
   },
   {
    "duration": 726,
    "start_time": "2023-03-03T16:00:27.639Z"
   },
   {
    "duration": 16,
    "start_time": "2023-03-03T16:00:28.811Z"
   },
   {
    "duration": 24,
    "start_time": "2023-03-03T16:00:29.372Z"
   },
   {
    "duration": 82,
    "start_time": "2023-03-03T16:00:29.791Z"
   },
   {
    "duration": 602,
    "start_time": "2023-03-03T16:00:30.187Z"
   },
   {
    "duration": 44,
    "start_time": "2023-03-03T16:00:31.295Z"
   },
   {
    "duration": 44,
    "start_time": "2023-03-03T16:00:31.679Z"
   },
   {
    "duration": 14,
    "start_time": "2023-03-03T16:00:32.138Z"
   },
   {
    "duration": 63,
    "start_time": "2023-03-03T16:00:33.195Z"
   },
   {
    "duration": 25,
    "start_time": "2023-03-03T16:00:34.270Z"
   },
   {
    "duration": 23,
    "start_time": "2023-03-03T16:00:34.771Z"
   },
   {
    "duration": 24,
    "start_time": "2023-03-03T16:00:35.289Z"
   },
   {
    "duration": 46,
    "start_time": "2023-03-03T16:00:35.829Z"
   },
   {
    "duration": 21,
    "start_time": "2023-03-03T16:00:36.379Z"
   },
   {
    "duration": 67,
    "start_time": "2023-03-03T16:00:36.922Z"
   },
   {
    "duration": 55,
    "start_time": "2023-03-03T16:00:38.079Z"
   },
   {
    "duration": 27,
    "start_time": "2023-03-03T16:00:38.786Z"
   },
   {
    "duration": 838,
    "start_time": "2023-03-03T16:00:40.075Z"
   },
   {
    "duration": 16,
    "start_time": "2023-03-03T16:00:42.726Z"
   },
   {
    "duration": 66,
    "start_time": "2023-03-03T16:00:43.410Z"
   },
   {
    "duration": 13,
    "start_time": "2023-03-03T16:00:45.067Z"
   },
   {
    "duration": 8875,
    "start_time": "2023-03-03T16:00:45.529Z"
   },
   {
    "duration": 88,
    "start_time": "2023-03-03T16:00:54.406Z"
   },
   {
    "duration": 5,
    "start_time": "2023-03-03T16:00:54.496Z"
   },
   {
    "duration": 193,
    "start_time": "2023-03-03T16:00:54.503Z"
   },
   {
    "duration": 5,
    "start_time": "2023-03-03T16:00:54.698Z"
   },
   {
    "duration": 129,
    "start_time": "2023-03-03T16:00:54.705Z"
   },
   {
    "duration": 62,
    "start_time": "2023-03-03T16:00:54.836Z"
   },
   {
    "duration": 30459,
    "start_time": "2023-03-03T16:00:54.900Z"
   },
   {
    "duration": 587,
    "start_time": "2023-03-03T16:01:25.361Z"
   },
   {
    "duration": 255,
    "start_time": "2023-03-03T16:01:25.952Z"
   },
   {
    "duration": 451,
    "start_time": "2023-03-03T16:01:26.209Z"
   },
   {
    "duration": 44,
    "start_time": "2023-03-03T16:01:26.663Z"
   },
   {
    "duration": 461,
    "start_time": "2023-03-03T16:01:26.709Z"
   },
   {
    "duration": 79,
    "start_time": "2023-03-03T16:01:27.172Z"
   },
   {
    "duration": 95,
    "start_time": "2023-03-03T16:01:27.263Z"
   },
   {
    "duration": 114,
    "start_time": "2023-03-03T16:01:27.361Z"
   },
   {
    "duration": 48841,
    "start_time": "2023-03-03T16:01:27.476Z"
   },
   {
    "duration": 3006,
    "start_time": "2023-03-03T16:02:16.318Z"
   },
   {
    "duration": 6,
    "start_time": "2023-03-03T16:02:19.326Z"
   },
   {
    "duration": 432,
    "start_time": "2023-03-03T16:02:19.334Z"
   },
   {
    "duration": 205,
    "start_time": "2023-03-03T16:02:19.770Z"
   },
   {
    "duration": 4,
    "start_time": "2023-03-03T16:02:19.977Z"
   },
   {
    "duration": 36,
    "start_time": "2023-03-03T16:02:19.982Z"
   },
   {
    "duration": 7,
    "start_time": "2023-03-03T16:03:45.092Z"
   },
   {
    "duration": 850,
    "start_time": "2023-03-03T16:03:45.286Z"
   },
   {
    "duration": 24,
    "start_time": "2023-03-03T16:03:46.139Z"
   },
   {
    "duration": 119,
    "start_time": "2023-03-03T16:03:46.168Z"
   },
   {
    "duration": 50,
    "start_time": "2023-03-03T16:03:46.289Z"
   },
   {
    "duration": 15,
    "start_time": "2023-03-03T16:03:46.348Z"
   },
   {
    "duration": 158,
    "start_time": "2023-03-03T16:03:46.501Z"
   },
   {
    "duration": 329,
    "start_time": "2023-03-03T16:03:46.688Z"
   },
   {
    "duration": 277,
    "start_time": "2023-03-03T16:03:47.020Z"
   },
   {
    "duration": 3,
    "start_time": "2023-03-03T16:03:47.299Z"
   },
   {
    "duration": 710,
    "start_time": "2023-03-03T16:03:47.303Z"
   },
   {
    "duration": 36,
    "start_time": "2023-03-03T16:03:48.016Z"
   },
   {
    "duration": 27,
    "start_time": "2023-03-03T16:03:48.054Z"
   },
   {
    "duration": 4,
    "start_time": "2023-03-03T16:03:48.108Z"
   },
   {
    "duration": 730,
    "start_time": "2023-03-03T16:03:48.291Z"
   },
   {
    "duration": 745,
    "start_time": "2023-03-03T16:03:49.024Z"
   },
   {
    "duration": 21,
    "start_time": "2023-03-03T16:03:49.772Z"
   },
   {
    "duration": 29,
    "start_time": "2023-03-03T16:03:49.795Z"
   },
   {
    "duration": 90,
    "start_time": "2023-03-03T16:03:49.826Z"
   },
   {
    "duration": 625,
    "start_time": "2023-03-03T16:03:49.918Z"
   },
   {
    "duration": 44,
    "start_time": "2023-03-03T16:03:50.547Z"
   },
   {
    "duration": 114,
    "start_time": "2023-03-03T16:03:50.593Z"
   },
   {
    "duration": 9,
    "start_time": "2023-03-03T16:03:50.709Z"
   },
   {
    "duration": 56,
    "start_time": "2023-03-03T16:03:50.720Z"
   },
   {
    "duration": 25,
    "start_time": "2023-03-03T16:03:50.979Z"
   },
   {
    "duration": 30,
    "start_time": "2023-03-03T16:03:51.134Z"
   },
   {
    "duration": 25,
    "start_time": "2023-03-03T16:03:51.314Z"
   },
   {
    "duration": 26,
    "start_time": "2023-03-03T16:03:51.487Z"
   },
   {
    "duration": 23,
    "start_time": "2023-03-03T16:03:51.671Z"
   },
   {
    "duration": 65,
    "start_time": "2023-03-03T16:03:51.879Z"
   },
   {
    "duration": 65,
    "start_time": "2023-03-03T16:03:52.215Z"
   },
   {
    "duration": 29,
    "start_time": "2023-03-03T16:03:52.407Z"
   },
   {
    "duration": 909,
    "start_time": "2023-03-03T16:03:52.783Z"
   },
   {
    "duration": 15,
    "start_time": "2023-03-03T16:03:53.694Z"
   },
   {
    "duration": 80,
    "start_time": "2023-03-03T16:03:53.710Z"
   },
   {
    "duration": 12,
    "start_time": "2023-03-03T16:03:54.228Z"
   },
   {
    "duration": 8710,
    "start_time": "2023-03-03T16:03:54.414Z"
   },
   {
    "duration": 87,
    "start_time": "2023-03-03T16:04:03.126Z"
   },
   {
    "duration": 6,
    "start_time": "2023-03-03T16:04:03.216Z"
   },
   {
    "duration": 211,
    "start_time": "2023-03-03T16:04:03.224Z"
   },
   {
    "duration": 15,
    "start_time": "2023-03-03T16:04:03.437Z"
   },
   {
    "duration": 131,
    "start_time": "2023-03-03T16:04:03.454Z"
   },
   {
    "duration": 52,
    "start_time": "2023-03-03T16:04:03.587Z"
   },
   {
    "duration": 74854,
    "start_time": "2023-03-03T16:04:03.641Z"
   },
   {
    "duration": 472,
    "start_time": "2023-03-03T16:05:18.497Z"
   },
   {
    "duration": 257,
    "start_time": "2023-03-03T16:05:18.972Z"
   },
   {
    "duration": 467,
    "start_time": "2023-03-03T16:05:19.232Z"
   },
   {
    "duration": 60,
    "start_time": "2023-03-03T16:05:19.702Z"
   },
   {
    "duration": 441,
    "start_time": "2023-03-03T16:05:19.764Z"
   },
   {
    "duration": 72,
    "start_time": "2023-03-03T16:05:20.207Z"
   },
   {
    "duration": 71,
    "start_time": "2023-03-03T16:05:20.281Z"
   },
   {
    "duration": 105,
    "start_time": "2023-03-03T16:05:20.358Z"
   },
   {
    "duration": 24,
    "start_time": "2023-03-03T16:06:13.728Z"
   },
   {
    "duration": 810,
    "start_time": "2023-03-03T16:06:13.754Z"
   },
   {
    "duration": 16,
    "start_time": "2023-03-03T16:06:14.568Z"
   },
   {
    "duration": 120,
    "start_time": "2023-03-03T16:06:14.586Z"
   },
   {
    "duration": 63,
    "start_time": "2023-03-03T16:06:14.708Z"
   },
   {
    "duration": 4,
    "start_time": "2023-03-03T16:06:14.774Z"
   },
   {
    "duration": 179,
    "start_time": "2023-03-03T16:06:14.779Z"
   },
   {
    "duration": 339,
    "start_time": "2023-03-03T16:06:14.961Z"
   },
   {
    "duration": 275,
    "start_time": "2023-03-03T16:06:15.302Z"
   },
   {
    "duration": 4,
    "start_time": "2023-03-03T16:06:15.579Z"
   },
   {
    "duration": 812,
    "start_time": "2023-03-03T16:06:15.584Z"
   },
   {
    "duration": 23,
    "start_time": "2023-03-03T16:06:16.398Z"
   },
   {
    "duration": 51,
    "start_time": "2023-03-03T16:06:16.423Z"
   },
   {
    "duration": 4,
    "start_time": "2023-03-03T16:06:16.477Z"
   },
   {
    "duration": 760,
    "start_time": "2023-03-03T16:06:16.483Z"
   },
   {
    "duration": 740,
    "start_time": "2023-03-03T16:06:17.244Z"
   },
   {
    "duration": 21,
    "start_time": "2023-03-03T16:06:17.986Z"
   },
   {
    "duration": 30,
    "start_time": "2023-03-03T16:06:18.009Z"
   },
   {
    "duration": 76,
    "start_time": "2023-03-03T16:06:18.048Z"
   },
   {
    "duration": 614,
    "start_time": "2023-03-03T16:06:18.126Z"
   },
   {
    "duration": 49,
    "start_time": "2023-03-03T16:06:18.742Z"
   },
   {
    "duration": 56,
    "start_time": "2023-03-03T16:06:18.793Z"
   },
   {
    "duration": 22,
    "start_time": "2023-03-03T16:06:18.859Z"
   },
   {
    "duration": 56,
    "start_time": "2023-03-03T16:06:18.883Z"
   },
   {
    "duration": 42,
    "start_time": "2023-03-03T16:06:18.941Z"
   },
   {
    "duration": 26,
    "start_time": "2023-03-03T16:06:18.984Z"
   },
   {
    "duration": 25,
    "start_time": "2023-03-03T16:06:19.012Z"
   },
   {
    "duration": 46,
    "start_time": "2023-03-03T16:06:19.039Z"
   },
   {
    "duration": 24,
    "start_time": "2023-03-03T16:06:19.087Z"
   },
   {
    "duration": 95,
    "start_time": "2023-03-03T16:06:19.113Z"
   },
   {
    "duration": 74,
    "start_time": "2023-03-03T16:06:19.210Z"
   },
   {
    "duration": 26,
    "start_time": "2023-03-03T16:06:19.286Z"
   },
   {
    "duration": 915,
    "start_time": "2023-03-03T16:06:19.314Z"
   },
   {
    "duration": 26,
    "start_time": "2023-03-03T16:06:20.231Z"
   },
   {
    "duration": 67,
    "start_time": "2023-03-03T16:06:20.267Z"
   },
   {
    "duration": 20,
    "start_time": "2023-03-03T16:06:20.335Z"
   },
   {
    "duration": 8978,
    "start_time": "2023-03-03T16:06:20.360Z"
   },
   {
    "duration": 89,
    "start_time": "2023-03-03T16:06:29.343Z"
   },
   {
    "duration": 7,
    "start_time": "2023-03-03T16:06:29.434Z"
   },
   {
    "duration": 374,
    "start_time": "2023-03-03T16:06:29.447Z"
   },
   {
    "duration": 5,
    "start_time": "2023-03-03T16:06:29.823Z"
   },
   {
    "duration": 150,
    "start_time": "2023-03-03T16:06:29.829Z"
   },
   {
    "duration": 57,
    "start_time": "2023-03-03T16:06:29.980Z"
   },
   {
    "duration": 152344,
    "start_time": "2023-03-03T16:06:30.039Z"
   },
   {
    "duration": 588,
    "start_time": "2023-03-03T16:09:02.388Z"
   },
   {
    "duration": 247,
    "start_time": "2023-03-03T16:09:02.979Z"
   },
   {
    "duration": 483,
    "start_time": "2023-03-03T16:09:03.228Z"
   },
   {
    "duration": 51,
    "start_time": "2023-03-03T16:09:03.713Z"
   },
   {
    "duration": 443,
    "start_time": "2023-03-03T16:09:03.768Z"
   },
   {
    "duration": 75,
    "start_time": "2023-03-03T16:09:04.213Z"
   },
   {
    "duration": 57,
    "start_time": "2023-03-03T16:09:04.296Z"
   },
   {
    "duration": 143,
    "start_time": "2023-03-03T16:09:04.356Z"
   },
   {
    "duration": 51909,
    "start_time": "2023-03-03T16:09:04.500Z"
   },
   {
    "duration": 2888,
    "start_time": "2023-03-03T16:09:56.411Z"
   },
   {
    "duration": 5,
    "start_time": "2023-03-03T16:09:59.300Z"
   },
   {
    "duration": 415,
    "start_time": "2023-03-03T16:09:59.306Z"
   },
   {
    "duration": 51,
    "start_time": "2023-03-03T16:09:59.723Z"
   },
   {
    "duration": 6,
    "start_time": "2023-03-03T16:09:59.776Z"
   },
   {
    "duration": 96,
    "start_time": "2023-03-03T16:09:59.783Z"
   },
   {
    "duration": 8,
    "start_time": "2023-03-03T16:57:18.895Z"
   },
   {
    "duration": 819,
    "start_time": "2023-03-03T16:57:19.050Z"
   },
   {
    "duration": 18,
    "start_time": "2023-03-03T16:57:19.872Z"
   },
   {
    "duration": 121,
    "start_time": "2023-03-03T16:57:19.891Z"
   },
   {
    "duration": 57,
    "start_time": "2023-03-03T16:57:20.014Z"
   },
   {
    "duration": 4,
    "start_time": "2023-03-03T16:57:20.073Z"
   },
   {
    "duration": 164,
    "start_time": "2023-03-03T16:57:20.215Z"
   },
   {
    "duration": 331,
    "start_time": "2023-03-03T16:57:20.403Z"
   },
   {
    "duration": 254,
    "start_time": "2023-03-03T16:57:20.736Z"
   },
   {
    "duration": 4,
    "start_time": "2023-03-03T16:57:20.991Z"
   },
   {
    "duration": 724,
    "start_time": "2023-03-03T16:57:21.985Z"
   },
   {
    "duration": 27,
    "start_time": "2023-03-03T16:57:26.735Z"
   },
   {
    "duration": 24,
    "start_time": "2023-03-03T16:57:27.094Z"
   },
   {
    "duration": 4,
    "start_time": "2023-03-03T16:57:27.271Z"
   },
   {
    "duration": 724,
    "start_time": "2023-03-03T16:57:27.479Z"
   },
   {
    "duration": 774,
    "start_time": "2023-03-03T16:57:28.205Z"
   },
   {
    "duration": 19,
    "start_time": "2023-03-03T16:57:28.981Z"
   },
   {
    "duration": 53,
    "start_time": "2023-03-03T16:57:29.002Z"
   },
   {
    "duration": 63,
    "start_time": "2023-03-03T16:57:29.063Z"
   },
   {
    "duration": 633,
    "start_time": "2023-03-03T16:57:29.128Z"
   },
   {
    "duration": 47,
    "start_time": "2023-03-03T16:57:29.766Z"
   },
   {
    "duration": 69,
    "start_time": "2023-03-03T16:57:29.815Z"
   },
   {
    "duration": 10,
    "start_time": "2023-03-03T16:57:29.886Z"
   },
   {
    "duration": 67,
    "start_time": "2023-03-03T16:57:29.899Z"
   },
   {
    "duration": 27,
    "start_time": "2023-03-03T16:57:30.131Z"
   },
   {
    "duration": 27,
    "start_time": "2023-03-03T16:57:30.307Z"
   },
   {
    "duration": 24,
    "start_time": "2023-03-03T16:57:30.517Z"
   },
   {
    "duration": 25,
    "start_time": "2023-03-03T16:57:30.691Z"
   },
   {
    "duration": 22,
    "start_time": "2023-03-03T16:57:30.890Z"
   },
   {
    "duration": 76,
    "start_time": "2023-03-03T16:57:31.031Z"
   },
   {
    "duration": 77,
    "start_time": "2023-03-03T16:57:31.404Z"
   },
   {
    "duration": 26,
    "start_time": "2023-03-03T16:57:31.571Z"
   },
   {
    "duration": 1013,
    "start_time": "2023-03-03T16:57:31.942Z"
   },
   {
    "duration": 16,
    "start_time": "2023-03-03T16:57:32.963Z"
   },
   {
    "duration": 72,
    "start_time": "2023-03-03T16:57:32.980Z"
   },
   {
    "duration": 14,
    "start_time": "2023-03-03T16:57:33.491Z"
   },
   {
    "duration": 8892,
    "start_time": "2023-03-03T16:57:33.647Z"
   },
   {
    "duration": 91,
    "start_time": "2023-03-03T16:57:42.541Z"
   },
   {
    "duration": 4,
    "start_time": "2023-03-03T16:57:42.634Z"
   },
   {
    "duration": 191,
    "start_time": "2023-03-03T16:57:42.640Z"
   },
   {
    "duration": 3,
    "start_time": "2023-03-03T16:57:42.833Z"
   },
   {
    "duration": 124,
    "start_time": "2023-03-03T16:57:42.848Z"
   },
   {
    "duration": 48,
    "start_time": "2023-03-03T16:57:42.974Z"
   },
   {
    "duration": 289755,
    "start_time": "2023-03-03T16:57:43.024Z"
   },
   {
    "duration": 579,
    "start_time": "2023-03-03T17:02:32.781Z"
   },
   {
    "duration": 244,
    "start_time": "2023-03-03T17:02:33.367Z"
   },
   {
    "duration": 472,
    "start_time": "2023-03-03T17:02:33.613Z"
   },
   {
    "duration": 53,
    "start_time": "2023-03-03T17:02:34.087Z"
   },
   {
    "duration": 403,
    "start_time": "2023-03-03T17:02:34.158Z"
   },
   {
    "duration": 53,
    "start_time": "2023-03-03T17:02:34.563Z"
   },
   {
    "duration": 49,
    "start_time": "2023-03-03T17:02:34.618Z"
   },
   {
    "duration": 190,
    "start_time": "2023-03-03T17:02:34.670Z"
   },
   {
    "duration": 49376,
    "start_time": "2023-03-03T17:02:34.863Z"
   },
   {
    "duration": 2861,
    "start_time": "2023-03-03T17:03:24.241Z"
   },
   {
    "duration": 5,
    "start_time": "2023-03-03T17:03:27.104Z"
   },
   {
    "duration": 423,
    "start_time": "2023-03-03T17:03:27.110Z"
   },
   {
    "duration": 38,
    "start_time": "2023-03-03T17:03:27.534Z"
   },
   {
    "duration": 7,
    "start_time": "2023-03-03T17:03:27.574Z"
   },
   {
    "duration": 79,
    "start_time": "2023-03-03T17:03:27.582Z"
   },
   {
    "duration": 31,
    "start_time": "2023-03-03T17:03:27.663Z"
   },
   {
    "duration": 11,
    "start_time": "2023-03-03T17:06:07.795Z"
   },
   {
    "duration": 16,
    "start_time": "2023-03-03T17:06:08.371Z"
   },
   {
    "duration": 4,
    "start_time": "2023-03-03T17:06:28.127Z"
   },
   {
    "duration": 6,
    "start_time": "2023-03-03T17:09:00.599Z"
   },
   {
    "duration": 104,
    "start_time": "2023-03-03T17:12:22.597Z"
   },
   {
    "duration": 8,
    "start_time": "2023-03-03T17:12:48.914Z"
   },
   {
    "duration": 35,
    "start_time": "2023-03-03T17:13:20.434Z"
   },
   {
    "duration": 11,
    "start_time": "2023-03-03T17:18:45.727Z"
   },
   {
    "duration": 5727,
    "start_time": "2023-03-03T17:18:52.519Z"
   },
   {
    "duration": 47,
    "start_time": "2023-03-03T17:18:58.248Z"
   },
   {
    "duration": 191,
    "start_time": "2023-03-03T17:23:54.103Z"
   },
   {
    "duration": 7,
    "start_time": "2023-03-03T17:32:51.288Z"
   },
   {
    "duration": 780,
    "start_time": "2023-03-03T17:32:51.424Z"
   },
   {
    "duration": 13,
    "start_time": "2023-03-03T17:32:52.206Z"
   },
   {
    "duration": 136,
    "start_time": "2023-03-03T17:32:52.220Z"
   },
   {
    "duration": 45,
    "start_time": "2023-03-03T17:32:52.358Z"
   },
   {
    "duration": 4,
    "start_time": "2023-03-03T17:32:52.406Z"
   },
   {
    "duration": 164,
    "start_time": "2023-03-03T17:32:52.519Z"
   },
   {
    "duration": 344,
    "start_time": "2023-03-03T17:32:52.692Z"
   },
   {
    "duration": 296,
    "start_time": "2023-03-03T17:32:53.038Z"
   },
   {
    "duration": 5,
    "start_time": "2023-03-03T17:32:53.336Z"
   },
   {
    "duration": 741,
    "start_time": "2023-03-03T17:32:53.348Z"
   },
   {
    "duration": 22,
    "start_time": "2023-03-03T17:32:54.091Z"
   },
   {
    "duration": 42,
    "start_time": "2023-03-03T17:32:54.115Z"
   },
   {
    "duration": 20,
    "start_time": "2023-03-03T17:32:54.166Z"
   },
   {
    "duration": 821,
    "start_time": "2023-03-03T17:32:54.207Z"
   },
   {
    "duration": 748,
    "start_time": "2023-03-03T17:32:55.031Z"
   },
   {
    "duration": 34,
    "start_time": "2023-03-03T17:32:55.781Z"
   },
   {
    "duration": 35,
    "start_time": "2023-03-03T17:32:55.817Z"
   },
   {
    "duration": 100,
    "start_time": "2023-03-03T17:32:55.854Z"
   },
   {
    "duration": 711,
    "start_time": "2023-03-03T17:32:55.956Z"
   },
   {
    "duration": 47,
    "start_time": "2023-03-03T17:32:56.668Z"
   },
   {
    "duration": 54,
    "start_time": "2023-03-03T17:32:56.717Z"
   },
   {
    "duration": 13,
    "start_time": "2023-03-03T17:32:56.774Z"
   },
   {
    "duration": 79,
    "start_time": "2023-03-03T17:32:56.789Z"
   },
   {
    "duration": 24,
    "start_time": "2023-03-03T17:32:56.874Z"
   },
   {
    "duration": 22,
    "start_time": "2023-03-03T17:32:57.015Z"
   },
   {
    "duration": 23,
    "start_time": "2023-03-03T17:32:57.196Z"
   },
   {
    "duration": 24,
    "start_time": "2023-03-03T17:32:57.384Z"
   },
   {
    "duration": 31,
    "start_time": "2023-03-03T17:32:57.535Z"
   },
   {
    "duration": 74,
    "start_time": "2023-03-03T17:32:57.699Z"
   },
   {
    "duration": 54,
    "start_time": "2023-03-03T17:32:58.078Z"
   },
   {
    "duration": 46,
    "start_time": "2023-03-03T17:32:58.235Z"
   },
   {
    "duration": 1065,
    "start_time": "2023-03-03T17:32:58.614Z"
   },
   {
    "duration": 17,
    "start_time": "2023-03-03T17:32:59.682Z"
   },
   {
    "duration": 82,
    "start_time": "2023-03-03T17:32:59.701Z"
   },
   {
    "duration": 15,
    "start_time": "2023-03-03T17:33:00.074Z"
   },
   {
    "duration": 9340,
    "start_time": "2023-03-03T17:33:00.231Z"
   },
   {
    "duration": 84,
    "start_time": "2023-03-03T17:33:09.573Z"
   },
   {
    "duration": 5,
    "start_time": "2023-03-03T17:33:09.661Z"
   },
   {
    "duration": 252,
    "start_time": "2023-03-03T17:33:09.668Z"
   },
   {
    "duration": 4,
    "start_time": "2023-03-03T17:33:09.922Z"
   },
   {
    "duration": 164,
    "start_time": "2023-03-03T17:33:09.928Z"
   },
   {
    "duration": 82,
    "start_time": "2023-03-03T17:33:10.094Z"
   },
   {
    "duration": 335376,
    "start_time": "2023-03-03T17:33:10.180Z"
   },
   {
    "duration": 506,
    "start_time": "2023-03-03T17:38:45.567Z"
   },
   {
    "duration": 284,
    "start_time": "2023-03-03T17:38:46.076Z"
   },
   {
    "duration": 442,
    "start_time": "2023-03-03T17:38:46.362Z"
   },
   {
    "duration": 61,
    "start_time": "2023-03-03T17:38:46.806Z"
   },
   {
    "duration": 426,
    "start_time": "2023-03-03T17:38:46.868Z"
   },
   {
    "duration": 81,
    "start_time": "2023-03-03T17:38:47.296Z"
   },
   {
    "duration": 76,
    "start_time": "2023-03-03T17:38:47.379Z"
   },
   {
    "duration": 103,
    "start_time": "2023-03-03T17:38:47.457Z"
   },
   {
    "duration": 48758,
    "start_time": "2023-03-03T17:38:47.562Z"
   },
   {
    "duration": 2798,
    "start_time": "2023-03-03T17:39:36.323Z"
   },
   {
    "duration": 4,
    "start_time": "2023-03-03T17:39:39.123Z"
   },
   {
    "duration": 434,
    "start_time": "2023-03-03T17:39:39.128Z"
   },
   {
    "duration": 26,
    "start_time": "2023-03-03T17:39:39.564Z"
   },
   {
    "duration": 7,
    "start_time": "2023-03-03T17:39:39.591Z"
   },
   {
    "duration": 65,
    "start_time": "2023-03-03T17:39:39.599Z"
   },
   {
    "duration": 36,
    "start_time": "2023-03-03T17:39:39.667Z"
   },
   {
    "duration": 4,
    "start_time": "2023-03-03T17:39:39.704Z"
   },
   {
    "duration": 26,
    "start_time": "2023-03-03T17:39:39.709Z"
   },
   {
    "duration": 5906,
    "start_time": "2023-03-03T17:39:39.736Z"
   },
   {
    "duration": 78,
    "start_time": "2023-03-03T17:39:45.645Z"
   },
   {
    "duration": 197,
    "start_time": "2023-03-03T17:39:45.724Z"
   },
   {
    "duration": 9,
    "start_time": "2023-03-03T17:39:45.923Z"
   },
   {
    "duration": 0,
    "start_time": "2023-03-03T17:39:45.934Z"
   },
   {
    "duration": 0,
    "start_time": "2023-03-03T17:39:45.935Z"
   },
   {
    "duration": 0,
    "start_time": "2023-03-03T17:39:45.936Z"
   },
   {
    "duration": 10,
    "start_time": "2023-03-03T17:41:32.987Z"
   },
   {
    "duration": 87,
    "start_time": "2023-03-03T17:45:41.576Z"
   },
   {
    "duration": 50,
    "start_time": "2023-03-03T17:46:09.858Z"
   },
   {
    "duration": 94,
    "start_time": "2023-03-03T17:46:13.328Z"
   },
   {
    "duration": 103,
    "start_time": "2023-03-03T17:46:57.774Z"
   },
   {
    "duration": 211679,
    "start_time": "2023-03-03T17:49:06.915Z"
   },
   {
    "duration": 124,
    "start_time": "2023-03-03T17:52:38.648Z"
   },
   {
    "duration": 304,
    "start_time": "2023-03-03T17:53:51.770Z"
   },
   {
    "duration": 341,
    "start_time": "2023-03-03T17:54:32.115Z"
   },
   {
    "duration": 27,
    "start_time": "2023-03-03T18:00:38.514Z"
   },
   {
    "duration": 76,
    "start_time": "2023-03-03T18:04:20.663Z"
   },
   {
    "duration": 6461,
    "start_time": "2023-03-03T18:12:33.970Z"
   },
   {
    "duration": 77,
    "start_time": "2023-03-03T18:12:40.433Z"
   },
   {
    "duration": 207,
    "start_time": "2023-03-03T18:12:40.511Z"
   },
   {
    "duration": 13,
    "start_time": "2023-03-03T18:14:41.824Z"
   },
   {
    "duration": 1436,
    "start_time": "2023-03-03T18:14:41.988Z"
   },
   {
    "duration": 14,
    "start_time": "2023-03-03T18:14:43.427Z"
   },
   {
    "duration": 129,
    "start_time": "2023-03-03T18:14:43.442Z"
   },
   {
    "duration": 61,
    "start_time": "2023-03-03T18:14:43.574Z"
   },
   {
    "duration": 5,
    "start_time": "2023-03-03T18:14:43.637Z"
   },
   {
    "duration": 217,
    "start_time": "2023-03-03T18:14:43.644Z"
   },
   {
    "duration": 370,
    "start_time": "2023-03-03T18:14:43.863Z"
   },
   {
    "duration": 314,
    "start_time": "2023-03-03T18:14:44.237Z"
   },
   {
    "duration": 8,
    "start_time": "2023-03-03T18:14:44.554Z"
   },
   {
    "duration": 865,
    "start_time": "2023-03-03T18:14:44.566Z"
   },
   {
    "duration": 31,
    "start_time": "2023-03-03T18:14:45.434Z"
   },
   {
    "duration": 46,
    "start_time": "2023-03-03T18:14:45.467Z"
   },
   {
    "duration": 5,
    "start_time": "2023-03-03T18:14:45.515Z"
   },
   {
    "duration": 1049,
    "start_time": "2023-03-03T18:14:45.521Z"
   },
   {
    "duration": 719,
    "start_time": "2023-03-03T18:14:46.572Z"
   },
   {
    "duration": 19,
    "start_time": "2023-03-03T18:14:47.294Z"
   },
   {
    "duration": 38,
    "start_time": "2023-03-03T18:14:47.315Z"
   },
   {
    "duration": 72,
    "start_time": "2023-03-03T18:14:47.355Z"
   },
   {
    "duration": 656,
    "start_time": "2023-03-03T18:14:47.429Z"
   },
   {
    "duration": 42,
    "start_time": "2023-03-03T18:14:48.086Z"
   },
   {
    "duration": 61,
    "start_time": "2023-03-03T18:14:48.130Z"
   },
   {
    "duration": 9,
    "start_time": "2023-03-03T18:14:48.193Z"
   },
   {
    "duration": 74,
    "start_time": "2023-03-03T18:14:48.204Z"
   },
   {
    "duration": 24,
    "start_time": "2023-03-03T18:14:48.280Z"
   },
   {
    "duration": 24,
    "start_time": "2023-03-03T18:14:48.306Z"
   },
   {
    "duration": 50,
    "start_time": "2023-03-03T18:14:48.332Z"
   },
   {
    "duration": 25,
    "start_time": "2023-03-03T18:14:48.385Z"
   },
   {
    "duration": 26,
    "start_time": "2023-03-03T18:14:48.435Z"
   },
   {
    "duration": 80,
    "start_time": "2023-03-03T18:14:48.618Z"
   },
   {
    "duration": 52,
    "start_time": "2023-03-03T18:14:48.977Z"
   },
   {
    "duration": 35,
    "start_time": "2023-03-03T18:14:49.137Z"
   },
   {
    "duration": 1006,
    "start_time": "2023-03-03T18:14:49.495Z"
   },
   {
    "duration": 15,
    "start_time": "2023-03-03T18:14:50.503Z"
   },
   {
    "duration": 86,
    "start_time": "2023-03-03T18:14:50.520Z"
   },
   {
    "duration": 13,
    "start_time": "2023-03-03T18:14:50.978Z"
   },
   {
    "duration": 9553,
    "start_time": "2023-03-03T18:14:51.165Z"
   },
   {
    "duration": 103,
    "start_time": "2023-03-03T18:15:00.720Z"
   },
   {
    "duration": 5,
    "start_time": "2023-03-03T18:15:00.825Z"
   },
   {
    "duration": 263,
    "start_time": "2023-03-03T18:15:00.832Z"
   },
   {
    "duration": 4,
    "start_time": "2023-03-03T18:15:01.096Z"
   },
   {
    "duration": 155,
    "start_time": "2023-03-03T18:15:01.102Z"
   },
   {
    "duration": 54,
    "start_time": "2023-03-03T18:15:01.259Z"
   },
   {
    "duration": 122441,
    "start_time": "2023-03-03T18:15:01.315Z"
   },
   {
    "duration": 521,
    "start_time": "2023-03-03T18:17:03.761Z"
   },
   {
    "duration": 250,
    "start_time": "2023-03-03T18:17:04.288Z"
   },
   {
    "duration": 503,
    "start_time": "2023-03-03T18:17:04.540Z"
   },
   {
    "duration": 67,
    "start_time": "2023-03-03T18:17:05.044Z"
   },
   {
    "duration": 455,
    "start_time": "2023-03-03T18:17:05.113Z"
   },
   {
    "duration": 92,
    "start_time": "2023-03-03T18:17:05.570Z"
   },
   {
    "duration": 94,
    "start_time": "2023-03-03T18:17:05.666Z"
   },
   {
    "duration": 116,
    "start_time": "2023-03-03T18:17:05.771Z"
   },
   {
    "duration": 51802,
    "start_time": "2023-03-03T18:17:05.889Z"
   },
   {
    "duration": 2840,
    "start_time": "2023-03-03T18:17:57.693Z"
   },
   {
    "duration": 4,
    "start_time": "2023-03-03T18:18:00.536Z"
   },
   {
    "duration": 456,
    "start_time": "2023-03-03T18:18:00.548Z"
   },
   {
    "duration": 26,
    "start_time": "2023-03-03T18:18:01.006Z"
   },
   {
    "duration": 50,
    "start_time": "2023-03-03T18:18:01.033Z"
   },
   {
    "duration": 136,
    "start_time": "2023-03-03T18:18:01.085Z"
   },
   {
    "duration": 36,
    "start_time": "2023-03-03T18:18:01.223Z"
   },
   {
    "duration": 47,
    "start_time": "2023-03-03T18:18:01.260Z"
   },
   {
    "duration": 57,
    "start_time": "2023-03-03T18:18:01.309Z"
   },
   {
    "duration": 6261,
    "start_time": "2023-03-03T18:18:01.369Z"
   },
   {
    "duration": 79,
    "start_time": "2023-03-03T18:18:07.633Z"
   },
   {
    "duration": 212,
    "start_time": "2023-03-03T18:18:07.714Z"
   },
   {
    "duration": 82,
    "start_time": "2023-03-03T18:18:07.928Z"
   },
   {
    "duration": 28,
    "start_time": "2023-03-03T18:18:08.011Z"
   },
   {
    "duration": 83803,
    "start_time": "2023-03-03T18:18:08.049Z"
   },
   {
    "duration": 409,
    "start_time": "2023-03-03T18:19:31.857Z"
   },
   {
    "duration": 239,
    "start_time": "2023-03-03T18:19:32.268Z"
   },
   {
    "duration": 70,
    "start_time": "2023-03-04T10:20:39.646Z"
   },
   {
    "duration": 1571,
    "start_time": "2023-03-04T10:22:21.405Z"
   },
   {
    "duration": 1092,
    "start_time": "2023-03-04T10:22:22.978Z"
   },
   {
    "duration": 18,
    "start_time": "2023-03-04T10:22:24.072Z"
   },
   {
    "duration": 144,
    "start_time": "2023-03-04T10:22:24.092Z"
   },
   {
    "duration": 62,
    "start_time": "2023-03-04T10:22:24.239Z"
   },
   {
    "duration": 4,
    "start_time": "2023-03-04T10:22:24.302Z"
   },
   {
    "duration": 4,
    "start_time": "2023-03-04T10:22:33.483Z"
   },
   {
    "duration": 4,
    "start_time": "2023-03-04T10:28:43.833Z"
   },
   {
    "duration": 375,
    "start_time": "2023-03-04T10:37:23.023Z"
   },
   {
    "duration": 267,
    "start_time": "2023-03-04T10:37:32.488Z"
   },
   {
    "duration": 3,
    "start_time": "2023-03-04T10:37:37.782Z"
   },
   {
    "duration": 63,
    "start_time": "2023-03-04T10:39:54.062Z"
   },
   {
    "duration": 20,
    "start_time": "2023-03-04T10:53:53.200Z"
   },
   {
    "duration": 24,
    "start_time": "2023-03-04T10:53:54.441Z"
   },
   {
    "duration": 4,
    "start_time": "2023-03-04T10:53:54.961Z"
   },
   {
    "duration": 3,
    "start_time": "2023-03-04T10:59:43.565Z"
   },
   {
    "duration": 862,
    "start_time": "2023-03-04T10:59:47.520Z"
   },
   {
    "duration": 867,
    "start_time": "2023-03-04T11:01:14.135Z"
   },
   {
    "duration": 3,
    "start_time": "2023-03-04T11:04:24.550Z"
   },
   {
    "duration": 830,
    "start_time": "2023-03-04T11:04:26.030Z"
   },
   {
    "duration": 783,
    "start_time": "2023-03-04T11:07:19.335Z"
   },
   {
    "duration": 696,
    "start_time": "2023-03-04T11:12:57.042Z"
   },
   {
    "duration": 699,
    "start_time": "2023-03-04T11:23:12.514Z"
   },
   {
    "duration": 18,
    "start_time": "2023-03-04T11:23:13.215Z"
   },
   {
    "duration": 30,
    "start_time": "2023-03-04T11:23:13.854Z"
   },
   {
    "duration": 100,
    "start_time": "2023-03-04T11:23:15.498Z"
   },
   {
    "duration": 608,
    "start_time": "2023-03-04T11:23:15.929Z"
   },
   {
    "duration": 49,
    "start_time": "2023-03-04T11:23:25.813Z"
   },
   {
    "duration": 42,
    "start_time": "2023-03-04T11:23:26.293Z"
   },
   {
    "duration": 10,
    "start_time": "2023-03-04T11:23:27.044Z"
   },
   {
    "duration": 4,
    "start_time": "2023-03-04T11:23:43.448Z"
   },
   {
    "duration": 61,
    "start_time": "2023-03-04T11:42:41.634Z"
   },
   {
    "duration": 55,
    "start_time": "2023-03-04T11:45:00.115Z"
   },
   {
    "duration": 67,
    "start_time": "2023-03-04T11:47:47.859Z"
   },
   {
    "duration": 122,
    "start_time": "2023-03-04T11:58:12.220Z"
   },
   {
    "duration": 12,
    "start_time": "2023-03-04T11:58:29.419Z"
   },
   {
    "duration": 52,
    "start_time": "2023-03-04T11:58:29.875Z"
   },
   {
    "duration": 16,
    "start_time": "2023-03-04T11:58:33.824Z"
   },
   {
    "duration": 34,
    "start_time": "2023-03-04T11:58:41.861Z"
   },
   {
    "duration": 1614,
    "start_time": "2023-03-04T11:59:03.988Z"
   },
   {
    "duration": 938,
    "start_time": "2023-03-04T11:59:05.604Z"
   },
   {
    "duration": 34,
    "start_time": "2023-03-04T11:59:06.544Z"
   },
   {
    "duration": 183,
    "start_time": "2023-03-04T11:59:06.580Z"
   },
   {
    "duration": 60,
    "start_time": "2023-03-04T11:59:06.771Z"
   },
   {
    "duration": 3,
    "start_time": "2023-03-04T11:59:06.833Z"
   },
   {
    "duration": 254,
    "start_time": "2023-03-04T11:59:06.838Z"
   },
   {
    "duration": 3,
    "start_time": "2023-03-04T11:59:07.094Z"
   },
   {
    "duration": 417,
    "start_time": "2023-03-04T11:59:07.099Z"
   },
   {
    "duration": 322,
    "start_time": "2023-03-04T11:59:07.519Z"
   },
   {
    "duration": 7,
    "start_time": "2023-03-04T11:59:07.848Z"
   },
   {
    "duration": 852,
    "start_time": "2023-03-04T11:59:07.858Z"
   },
   {
    "duration": 38,
    "start_time": "2023-03-04T11:59:08.712Z"
   },
   {
    "duration": 29,
    "start_time": "2023-03-04T11:59:08.758Z"
   },
   {
    "duration": 15,
    "start_time": "2023-03-04T11:59:08.788Z"
   },
   {
    "duration": 808,
    "start_time": "2023-03-04T11:59:08.806Z"
   },
   {
    "duration": 860,
    "start_time": "2023-03-04T11:59:09.615Z"
   },
   {
    "duration": 17,
    "start_time": "2023-03-04T11:59:10.478Z"
   },
   {
    "duration": 21,
    "start_time": "2023-03-04T11:59:10.497Z"
   },
   {
    "duration": 103,
    "start_time": "2023-03-04T11:59:10.520Z"
   },
   {
    "duration": 842,
    "start_time": "2023-03-04T11:59:10.625Z"
   },
   {
    "duration": 48,
    "start_time": "2023-03-04T11:59:11.468Z"
   },
   {
    "duration": 58,
    "start_time": "2023-03-04T11:59:11.518Z"
   },
   {
    "duration": 11,
    "start_time": "2023-03-04T11:59:11.584Z"
   },
   {
    "duration": 84,
    "start_time": "2023-03-04T11:59:11.597Z"
   },
   {
    "duration": 26,
    "start_time": "2023-03-04T11:59:11.682Z"
   },
   {
    "duration": 46,
    "start_time": "2023-03-04T11:59:11.710Z"
   },
   {
    "duration": 42,
    "start_time": "2023-03-04T11:59:11.761Z"
   },
   {
    "duration": 30,
    "start_time": "2023-03-04T11:59:11.805Z"
   },
   {
    "duration": 40,
    "start_time": "2023-03-04T11:59:11.837Z"
   },
   {
    "duration": 86,
    "start_time": "2023-03-04T11:59:11.878Z"
   },
   {
    "duration": 69,
    "start_time": "2023-03-04T11:59:11.966Z"
   },
   {
    "duration": 44,
    "start_time": "2023-03-04T11:59:12.036Z"
   },
   {
    "duration": 920,
    "start_time": "2023-03-04T11:59:12.082Z"
   },
   {
    "duration": 13,
    "start_time": "2023-03-04T11:59:13.003Z"
   },
   {
    "duration": 73,
    "start_time": "2023-03-04T11:59:13.017Z"
   },
   {
    "duration": 18,
    "start_time": "2023-03-04T11:59:13.092Z"
   },
   {
    "duration": 9125,
    "start_time": "2023-03-04T11:59:13.112Z"
   },
   {
    "duration": 88,
    "start_time": "2023-03-04T11:59:22.239Z"
   },
   {
    "duration": 4,
    "start_time": "2023-03-04T11:59:22.328Z"
   },
   {
    "duration": 142,
    "start_time": "2023-03-04T11:59:22.334Z"
   },
   {
    "duration": 0,
    "start_time": "2023-03-04T11:59:22.478Z"
   },
   {
    "duration": 0,
    "start_time": "2023-03-04T11:59:22.479Z"
   },
   {
    "duration": 0,
    "start_time": "2023-03-04T11:59:22.480Z"
   },
   {
    "duration": 0,
    "start_time": "2023-03-04T11:59:22.481Z"
   },
   {
    "duration": 0,
    "start_time": "2023-03-04T11:59:22.482Z"
   },
   {
    "duration": 0,
    "start_time": "2023-03-04T11:59:22.483Z"
   },
   {
    "duration": 0,
    "start_time": "2023-03-04T11:59:22.484Z"
   },
   {
    "duration": 0,
    "start_time": "2023-03-04T11:59:22.485Z"
   },
   {
    "duration": 0,
    "start_time": "2023-03-04T11:59:22.486Z"
   },
   {
    "duration": 0,
    "start_time": "2023-03-04T11:59:22.487Z"
   },
   {
    "duration": 0,
    "start_time": "2023-03-04T11:59:22.489Z"
   },
   {
    "duration": 0,
    "start_time": "2023-03-04T11:59:22.489Z"
   },
   {
    "duration": 0,
    "start_time": "2023-03-04T11:59:22.490Z"
   },
   {
    "duration": 0,
    "start_time": "2023-03-04T11:59:22.491Z"
   },
   {
    "duration": 0,
    "start_time": "2023-03-04T11:59:22.492Z"
   },
   {
    "duration": 0,
    "start_time": "2023-03-04T11:59:22.494Z"
   },
   {
    "duration": 0,
    "start_time": "2023-03-04T11:59:22.495Z"
   },
   {
    "duration": 0,
    "start_time": "2023-03-04T11:59:22.496Z"
   },
   {
    "duration": 0,
    "start_time": "2023-03-04T11:59:22.498Z"
   },
   {
    "duration": 0,
    "start_time": "2023-03-04T11:59:22.499Z"
   },
   {
    "duration": 0,
    "start_time": "2023-03-04T11:59:22.500Z"
   },
   {
    "duration": 0,
    "start_time": "2023-03-04T11:59:22.501Z"
   },
   {
    "duration": 0,
    "start_time": "2023-03-04T11:59:22.502Z"
   },
   {
    "duration": 0,
    "start_time": "2023-03-04T11:59:22.503Z"
   },
   {
    "duration": 0,
    "start_time": "2023-03-04T11:59:22.504Z"
   },
   {
    "duration": 0,
    "start_time": "2023-03-04T11:59:22.505Z"
   },
   {
    "duration": 0,
    "start_time": "2023-03-04T11:59:22.554Z"
   },
   {
    "duration": 0,
    "start_time": "2023-03-04T11:59:22.554Z"
   },
   {
    "duration": 0,
    "start_time": "2023-03-04T11:59:22.563Z"
   },
   {
    "duration": 0,
    "start_time": "2023-03-04T11:59:22.564Z"
   },
   {
    "duration": 481,
    "start_time": "2023-03-04T12:01:51.613Z"
   },
   {
    "duration": 53,
    "start_time": "2023-03-04T12:01:53.107Z"
   },
   {
    "duration": 449,
    "start_time": "2023-03-04T12:01:55.067Z"
   },
   {
    "duration": 19,
    "start_time": "2023-03-04T12:02:51.579Z"
   },
   {
    "duration": 29,
    "start_time": "2023-03-04T12:04:26.533Z"
   },
   {
    "duration": 378,
    "start_time": "2023-03-04T12:05:02.734Z"
   },
   {
    "duration": 105,
    "start_time": "2023-03-04T12:08:56.668Z"
   },
   {
    "duration": 44,
    "start_time": "2023-03-04T12:08:57.988Z"
   },
   {
    "duration": 12,
    "start_time": "2023-03-04T12:08:58.308Z"
   },
   {
    "duration": 4,
    "start_time": "2023-03-04T12:08:58.669Z"
   },
   {
    "duration": 16,
    "start_time": "2023-03-04T12:09:11.559Z"
   },
   {
    "duration": 79,
    "start_time": "2023-03-04T12:15:19.712Z"
   },
   {
    "duration": 63,
    "start_time": "2023-03-04T12:25:30.908Z"
   },
   {
    "duration": 75,
    "start_time": "2023-03-04T16:42:32.528Z"
   },
   {
    "duration": 1763,
    "start_time": "2023-03-04T16:42:40.715Z"
   },
   {
    "duration": 1356,
    "start_time": "2023-03-04T16:42:42.483Z"
   },
   {
    "duration": 34,
    "start_time": "2023-03-04T16:42:43.842Z"
   },
   {
    "duration": 201,
    "start_time": "2023-03-04T16:42:43.904Z"
   },
   {
    "duration": 57,
    "start_time": "2023-03-04T16:42:46.285Z"
   },
   {
    "duration": 4,
    "start_time": "2023-03-04T16:42:47.465Z"
   },
   {
    "duration": 271,
    "start_time": "2023-03-04T16:42:48.325Z"
   },
   {
    "duration": 10,
    "start_time": "2023-03-04T16:42:49.746Z"
   },
   {
    "duration": 271,
    "start_time": "2023-03-04T16:42:54.643Z"
   },
   {
    "duration": 307,
    "start_time": "2023-03-04T16:43:15.750Z"
   },
   {
    "duration": 15,
    "start_time": "2023-03-04T16:44:23.771Z"
   },
   {
    "duration": 1073,
    "start_time": "2023-03-04T16:44:25.202Z"
   },
   {
    "duration": 15,
    "start_time": "2023-03-04T16:44:26.283Z"
   },
   {
    "duration": 167,
    "start_time": "2023-03-04T16:44:26.477Z"
   },
   {
    "duration": 528,
    "start_time": "2023-03-04T16:44:28.878Z"
   },
   {
    "duration": 577,
    "start_time": "2023-03-04T16:44:58.939Z"
   },
   {
    "duration": 1136,
    "start_time": "2023-03-04T16:51:33.283Z"
   },
   {
    "duration": 70,
    "start_time": "2023-03-04T16:51:40.098Z"
   },
   {
    "duration": 4,
    "start_time": "2023-03-04T16:51:40.691Z"
   },
   {
    "duration": 225,
    "start_time": "2023-03-04T16:51:41.631Z"
   },
   {
    "duration": 14,
    "start_time": "2023-03-04T16:56:11.344Z"
   },
   {
    "duration": 912,
    "start_time": "2023-03-04T16:56:12.569Z"
   },
   {
    "duration": 13,
    "start_time": "2023-03-04T16:56:13.485Z"
   },
   {
    "duration": 161,
    "start_time": "2023-03-04T16:56:13.697Z"
   },
   {
    "duration": 456,
    "start_time": "2023-03-04T16:56:16.482Z"
   },
   {
    "duration": 996,
    "start_time": "2023-03-04T16:56:18.801Z"
   },
   {
    "duration": 43,
    "start_time": "2023-03-04T16:56:21.243Z"
   },
   {
    "duration": 5,
    "start_time": "2023-03-04T16:56:22.181Z"
   },
   {
    "duration": 401,
    "start_time": "2023-03-04T16:56:25.604Z"
   },
   {
    "duration": 5,
    "start_time": "2023-03-04T16:56:31.976Z"
   },
   {
    "duration": 1016,
    "start_time": "2023-03-04T16:56:36.474Z"
   },
   {
    "duration": 88,
    "start_time": "2023-03-04T16:59:44.387Z"
   },
   {
    "duration": 11,
    "start_time": "2023-03-04T17:00:03.909Z"
   },
   {
    "duration": 7,
    "start_time": "2023-03-04T17:00:13.332Z"
   },
   {
    "duration": 841,
    "start_time": "2023-03-04T17:00:13.684Z"
   },
   {
    "duration": 13,
    "start_time": "2023-03-04T17:00:14.527Z"
   },
   {
    "duration": 185,
    "start_time": "2023-03-04T17:00:14.549Z"
   },
   {
    "duration": 448,
    "start_time": "2023-03-04T17:00:15.306Z"
   },
   {
    "duration": 922,
    "start_time": "2023-03-04T17:00:15.896Z"
   },
   {
    "duration": 46,
    "start_time": "2023-03-04T17:00:16.820Z"
   },
   {
    "duration": 4,
    "start_time": "2023-03-04T17:00:17.387Z"
   },
   {
    "duration": 345,
    "start_time": "2023-03-04T17:00:20.287Z"
   },
   {
    "duration": 3,
    "start_time": "2023-03-04T17:00:21.086Z"
   },
   {
    "duration": 843,
    "start_time": "2023-03-04T17:00:22.759Z"
   },
   {
    "duration": 21,
    "start_time": "2023-03-04T17:00:24.593Z"
   },
   {
    "duration": 25,
    "start_time": "2023-03-04T17:00:26.105Z"
   },
   {
    "duration": 10,
    "start_time": "2023-03-04T17:00:27.013Z"
   },
   {
    "duration": 291,
    "start_time": "2023-03-04T17:00:34.727Z"
   },
   {
    "duration": 7,
    "start_time": "2023-03-04T17:00:58.188Z"
   },
   {
    "duration": 864,
    "start_time": "2023-03-04T17:00:58.528Z"
   },
   {
    "duration": 14,
    "start_time": "2023-03-04T17:00:59.394Z"
   },
   {
    "duration": 173,
    "start_time": "2023-03-04T17:00:59.410Z"
   },
   {
    "duration": 464,
    "start_time": "2023-03-04T17:00:59.614Z"
   },
   {
    "duration": 989,
    "start_time": "2023-03-04T17:01:00.080Z"
   },
   {
    "duration": 36,
    "start_time": "2023-03-04T17:01:01.074Z"
   },
   {
    "duration": 4,
    "start_time": "2023-03-04T17:01:01.112Z"
   },
   {
    "duration": 403,
    "start_time": "2023-03-04T17:01:01.118Z"
   },
   {
    "duration": 4,
    "start_time": "2023-03-04T17:01:01.524Z"
   },
   {
    "duration": 922,
    "start_time": "2023-03-04T17:01:01.614Z"
   },
   {
    "duration": 35,
    "start_time": "2023-03-04T17:01:02.538Z"
   },
   {
    "duration": 4,
    "start_time": "2023-03-04T17:01:02.581Z"
   },
   {
    "duration": 294,
    "start_time": "2023-03-04T17:01:02.975Z"
   },
   {
    "duration": 284,
    "start_time": "2023-03-04T17:01:22.137Z"
   },
   {
    "duration": 294,
    "start_time": "2023-03-04T17:01:30.984Z"
   },
   {
    "duration": 115,
    "start_time": "2023-03-04T17:04:47.526Z"
   },
   {
    "duration": 352,
    "start_time": "2023-03-04T17:04:52.393Z"
   },
   {
    "duration": 312,
    "start_time": "2023-03-04T17:05:04.592Z"
   },
   {
    "duration": 294,
    "start_time": "2023-03-04T17:05:16.843Z"
   },
   {
    "duration": 225,
    "start_time": "2023-03-04T17:05:26.782Z"
   },
   {
    "duration": 230,
    "start_time": "2023-03-04T17:05:35.808Z"
   },
   {
    "duration": 299,
    "start_time": "2023-03-04T17:05:57.400Z"
   },
   {
    "duration": 283,
    "start_time": "2023-03-04T17:06:05.700Z"
   },
   {
    "duration": 259,
    "start_time": "2023-03-04T17:06:17.618Z"
   },
   {
    "duration": 228,
    "start_time": "2023-03-04T17:06:27.395Z"
   },
   {
    "duration": 316,
    "start_time": "2023-03-04T17:06:36.581Z"
   },
   {
    "duration": 441,
    "start_time": "2023-03-04T17:06:50.283Z"
   },
   {
    "duration": 351,
    "start_time": "2023-03-04T17:07:49.097Z"
   },
   {
    "duration": 471,
    "start_time": "2023-03-04T17:09:49.528Z"
   },
   {
    "duration": 466,
    "start_time": "2023-03-04T17:10:00.031Z"
   },
   {
    "duration": 289,
    "start_time": "2023-03-04T17:13:41.308Z"
   },
   {
    "duration": 235,
    "start_time": "2023-03-04T17:13:53.875Z"
   },
   {
    "duration": 275,
    "start_time": "2023-03-04T17:15:21.603Z"
   },
   {
    "duration": 397,
    "start_time": "2023-03-04T17:15:39.232Z"
   },
   {
    "duration": 339,
    "start_time": "2023-03-04T17:15:52.295Z"
   },
   {
    "duration": 3,
    "start_time": "2023-03-04T17:21:21.807Z"
   },
   {
    "duration": 25,
    "start_time": "2023-03-04T17:22:36.623Z"
   },
   {
    "duration": 435,
    "start_time": "2023-03-04T17:22:37.990Z"
   },
   {
    "duration": 376,
    "start_time": "2023-03-04T17:22:53.602Z"
   },
   {
    "duration": 402,
    "start_time": "2023-03-04T17:23:16.881Z"
   },
   {
    "duration": 361,
    "start_time": "2023-03-04T17:23:31.330Z"
   },
   {
    "duration": 518,
    "start_time": "2023-03-04T17:23:49.706Z"
   },
   {
    "duration": 386,
    "start_time": "2023-03-04T17:24:01.215Z"
   },
   {
    "duration": 387,
    "start_time": "2023-03-04T17:25:05.779Z"
   },
   {
    "duration": 473,
    "start_time": "2023-03-04T17:25:19.722Z"
   },
   {
    "duration": 11,
    "start_time": "2023-03-04T17:28:46.302Z"
   },
   {
    "duration": 11,
    "start_time": "2023-03-04T17:28:58.114Z"
   },
   {
    "duration": 16,
    "start_time": "2023-03-04T17:29:54.855Z"
   },
   {
    "duration": 42,
    "start_time": "2023-03-04T17:30:02.930Z"
   },
   {
    "duration": 44,
    "start_time": "2023-03-04T17:30:11.933Z"
   },
   {
    "duration": 25,
    "start_time": "2023-03-04T17:30:21.198Z"
   },
   {
    "duration": 30,
    "start_time": "2023-03-04T17:30:39.102Z"
   },
   {
    "duration": 45,
    "start_time": "2023-03-04T17:31:42.937Z"
   },
   {
    "duration": 23,
    "start_time": "2023-03-04T17:31:48.187Z"
   },
   {
    "duration": 4,
    "start_time": "2023-03-04T17:32:43.246Z"
   },
   {
    "duration": 1070,
    "start_time": "2023-03-04T17:32:44.475Z"
   },
   {
    "duration": 6,
    "start_time": "2023-03-04T17:32:46.776Z"
   },
   {
    "duration": 4,
    "start_time": "2023-03-04T17:32:48.082Z"
   },
   {
    "duration": 31,
    "start_time": "2023-03-04T17:32:49.343Z"
   },
   {
    "duration": 542,
    "start_time": "2023-03-04T17:32:50.090Z"
   },
   {
    "duration": 402,
    "start_time": "2023-03-04T17:32:50.866Z"
   },
   {
    "duration": 29,
    "start_time": "2023-03-04T17:32:53.244Z"
   },
   {
    "duration": 35,
    "start_time": "2023-03-04T17:32:54.177Z"
   },
   {
    "duration": 8,
    "start_time": "2023-03-04T17:33:05.723Z"
   },
   {
    "duration": 924,
    "start_time": "2023-03-04T17:33:06.066Z"
   },
   {
    "duration": 14,
    "start_time": "2023-03-04T17:33:06.995Z"
   },
   {
    "duration": 213,
    "start_time": "2023-03-04T17:33:07.011Z"
   },
   {
    "duration": 565,
    "start_time": "2023-03-04T17:33:07.226Z"
   },
   {
    "duration": 1152,
    "start_time": "2023-03-04T17:33:07.794Z"
   },
   {
    "duration": 41,
    "start_time": "2023-03-04T17:33:08.948Z"
   },
   {
    "duration": 14,
    "start_time": "2023-03-04T17:33:08.992Z"
   },
   {
    "duration": 457,
    "start_time": "2023-03-04T17:33:09.008Z"
   },
   {
    "duration": 13,
    "start_time": "2023-03-04T17:33:09.472Z"
   },
   {
    "duration": 1051,
    "start_time": "2023-03-04T17:33:09.492Z"
   },
   {
    "duration": 2,
    "start_time": "2023-03-04T17:33:10.612Z"
   },
   {
    "duration": 2,
    "start_time": "2023-03-04T17:33:11.938Z"
   },
   {
    "duration": 26,
    "start_time": "2023-03-04T17:33:13.189Z"
   },
   {
    "duration": 444,
    "start_time": "2023-03-04T17:33:13.818Z"
   },
   {
    "duration": 406,
    "start_time": "2023-03-04T17:33:14.441Z"
   },
   {
    "duration": 14,
    "start_time": "2023-03-04T17:33:15.928Z"
   },
   {
    "duration": 28,
    "start_time": "2023-03-04T17:33:17.398Z"
   },
   {
    "duration": 24,
    "start_time": "2023-03-04T17:33:18.218Z"
   },
   {
    "duration": 1118,
    "start_time": "2023-03-04T17:33:22.603Z"
   },
   {
    "duration": 1117,
    "start_time": "2023-03-04T17:34:28.390Z"
   },
   {
    "duration": 946,
    "start_time": "2023-03-04T17:34:44.527Z"
   },
   {
    "duration": 972,
    "start_time": "2023-03-04T17:34:58.312Z"
   },
   {
    "duration": 1099,
    "start_time": "2023-03-04T17:35:07.312Z"
   },
   {
    "duration": 1070,
    "start_time": "2023-03-04T17:35:30.995Z"
   },
   {
    "duration": 1203,
    "start_time": "2023-03-04T17:35:44.186Z"
   },
   {
    "duration": 1102,
    "start_time": "2023-03-04T17:36:30.918Z"
   },
   {
    "duration": 2478,
    "start_time": "2023-03-04T17:36:39.933Z"
   },
   {
    "duration": 1053,
    "start_time": "2023-03-04T17:36:49.230Z"
   },
   {
    "duration": 1212,
    "start_time": "2023-03-04T17:37:04.035Z"
   },
   {
    "duration": 1132,
    "start_time": "2023-03-04T17:37:13.830Z"
   },
   {
    "duration": 1245,
    "start_time": "2023-03-04T17:37:22.570Z"
   },
   {
    "duration": 1052,
    "start_time": "2023-03-04T17:37:30.777Z"
   },
   {
    "duration": 1023,
    "start_time": "2023-03-04T17:37:38.942Z"
   },
   {
    "duration": 1037,
    "start_time": "2023-03-04T17:37:48.432Z"
   },
   {
    "duration": 1055,
    "start_time": "2023-03-04T17:37:57.139Z"
   },
   {
    "duration": 1198,
    "start_time": "2023-03-04T17:38:09.519Z"
   },
   {
    "duration": 82,
    "start_time": "2023-03-04T17:39:41.746Z"
   },
   {
    "duration": 74,
    "start_time": "2023-03-04T17:39:53.702Z"
   },
   {
    "duration": 344,
    "start_time": "2023-03-04T17:40:14.076Z"
   },
   {
    "duration": 5,
    "start_time": "2023-03-04T17:40:45.898Z"
   },
   {
    "duration": 328,
    "start_time": "2023-03-04T17:41:03.777Z"
   },
   {
    "duration": 313,
    "start_time": "2023-03-04T17:41:14.362Z"
   },
   {
    "duration": 343,
    "start_time": "2023-03-04T17:41:36.918Z"
   },
   {
    "duration": 10,
    "start_time": "2023-03-04T17:43:16.078Z"
   },
   {
    "duration": 4,
    "start_time": "2023-03-04T17:43:26.525Z"
   },
   {
    "duration": 8,
    "start_time": "2023-03-04T17:43:45.119Z"
   },
   {
    "duration": 7,
    "start_time": "2023-03-04T17:43:57.173Z"
   },
   {
    "duration": 7,
    "start_time": "2023-03-04T17:44:02.286Z"
   },
   {
    "duration": 8,
    "start_time": "2023-03-04T17:44:11.390Z"
   },
   {
    "duration": 41,
    "start_time": "2023-03-04T17:44:17.132Z"
   },
   {
    "duration": 9,
    "start_time": "2023-03-04T17:55:13.290Z"
   },
   {
    "duration": 7,
    "start_time": "2023-03-04T17:55:24.478Z"
   },
   {
    "duration": 11,
    "start_time": "2023-03-04T17:55:41.209Z"
   },
   {
    "duration": 8,
    "start_time": "2023-03-04T17:55:51.811Z"
   },
   {
    "duration": 11,
    "start_time": "2023-03-04T17:57:14.590Z"
   },
   {
    "duration": 13,
    "start_time": "2023-03-04T17:57:51.534Z"
   },
   {
    "duration": 132,
    "start_time": "2023-03-04T17:58:56.108Z"
   },
   {
    "duration": 888,
    "start_time": "2023-03-04T17:58:56.491Z"
   },
   {
    "duration": 19,
    "start_time": "2023-03-04T17:58:57.383Z"
   },
   {
    "duration": 199,
    "start_time": "2023-03-04T17:58:57.403Z"
   },
   {
    "duration": 495,
    "start_time": "2023-03-04T17:58:57.606Z"
   },
   {
    "duration": 1006,
    "start_time": "2023-03-04T17:58:58.104Z"
   },
   {
    "duration": 49,
    "start_time": "2023-03-04T17:58:59.112Z"
   },
   {
    "duration": 4,
    "start_time": "2023-03-04T17:58:59.163Z"
   },
   {
    "duration": 451,
    "start_time": "2023-03-04T17:58:59.169Z"
   },
   {
    "duration": 4,
    "start_time": "2023-03-04T17:58:59.622Z"
   },
   {
    "duration": 1145,
    "start_time": "2023-03-04T17:58:59.629Z"
   },
   {
    "duration": 4,
    "start_time": "2023-03-04T17:59:00.783Z"
   },
   {
    "duration": 38,
    "start_time": "2023-03-04T17:59:00.789Z"
   },
   {
    "duration": 28,
    "start_time": "2023-03-04T17:59:01.474Z"
   },
   {
    "duration": 407,
    "start_time": "2023-03-04T17:59:02.015Z"
   },
   {
    "duration": 447,
    "start_time": "2023-03-04T17:59:04.134Z"
   },
   {
    "duration": 12,
    "start_time": "2023-03-04T17:59:05.509Z"
   },
   {
    "duration": 33,
    "start_time": "2023-03-04T17:59:06.177Z"
   },
   {
    "duration": 25,
    "start_time": "2023-03-04T17:59:06.622Z"
   },
   {
    "duration": 1027,
    "start_time": "2023-03-04T17:59:07.746Z"
   },
   {
    "duration": 1112,
    "start_time": "2023-03-04T17:59:09.996Z"
   },
   {
    "duration": 520,
    "start_time": "2023-03-04T17:59:11.113Z"
   },
   {
    "duration": 10,
    "start_time": "2023-03-04T17:59:15.514Z"
   },
   {
    "duration": 12,
    "start_time": "2023-03-04T17:59:17.233Z"
   },
   {
    "duration": 8,
    "start_time": "2023-03-04T17:59:39.527Z"
   },
   {
    "duration": 11,
    "start_time": "2023-03-04T17:59:48.102Z"
   },
   {
    "duration": 15,
    "start_time": "2023-03-04T18:00:10.181Z"
   },
   {
    "duration": 9,
    "start_time": "2023-03-04T18:00:15.504Z"
   },
   {
    "duration": 10,
    "start_time": "2023-03-04T18:00:36.344Z"
   },
   {
    "duration": 34,
    "start_time": "2023-03-04T18:01:42.375Z"
   },
   {
    "duration": 24,
    "start_time": "2023-03-04T18:03:20.805Z"
   },
   {
    "duration": 10,
    "start_time": "2023-03-04T18:03:36.008Z"
   },
   {
    "duration": 8,
    "start_time": "2023-03-04T18:03:44.511Z"
   },
   {
    "duration": 31,
    "start_time": "2023-03-04T18:03:47.892Z"
   },
   {
    "duration": 10,
    "start_time": "2023-03-04T18:03:52.834Z"
   },
   {
    "duration": 996,
    "start_time": "2023-03-04T18:03:53.194Z"
   },
   {
    "duration": 21,
    "start_time": "2023-03-04T18:03:54.193Z"
   },
   {
    "duration": 204,
    "start_time": "2023-03-04T18:03:54.216Z"
   },
   {
    "duration": 539,
    "start_time": "2023-03-04T18:03:54.582Z"
   },
   {
    "duration": 1133,
    "start_time": "2023-03-04T18:03:55.124Z"
   },
   {
    "duration": 44,
    "start_time": "2023-03-04T18:03:56.259Z"
   },
   {
    "duration": 4,
    "start_time": "2023-03-04T18:03:56.305Z"
   },
   {
    "duration": 422,
    "start_time": "2023-03-04T18:03:56.310Z"
   },
   {
    "duration": 4,
    "start_time": "2023-03-04T18:03:56.733Z"
   },
   {
    "duration": 1064,
    "start_time": "2023-03-04T18:03:56.739Z"
   },
   {
    "duration": 3,
    "start_time": "2023-03-04T18:03:57.805Z"
   },
   {
    "duration": 10,
    "start_time": "2023-03-04T18:03:57.810Z"
   },
   {
    "duration": 42,
    "start_time": "2023-03-04T18:03:57.821Z"
   },
   {
    "duration": 400,
    "start_time": "2023-03-04T18:03:57.936Z"
   },
   {
    "duration": 391,
    "start_time": "2023-03-04T18:03:58.338Z"
   },
   {
    "duration": 23,
    "start_time": "2023-03-04T18:03:59.139Z"
   },
   {
    "duration": 29,
    "start_time": "2023-03-04T18:03:59.784Z"
   },
   {
    "duration": 30,
    "start_time": "2023-03-04T18:04:00.333Z"
   },
   {
    "duration": 1082,
    "start_time": "2023-03-04T18:04:01.596Z"
   },
   {
    "duration": 1345,
    "start_time": "2023-03-04T18:04:03.817Z"
   },
   {
    "duration": 451,
    "start_time": "2023-03-04T18:04:05.165Z"
   },
   {
    "duration": 10,
    "start_time": "2023-03-04T18:04:05.929Z"
   },
   {
    "duration": 43,
    "start_time": "2023-03-04T18:04:14.335Z"
   },
   {
    "duration": 101,
    "start_time": "2023-03-04T18:04:23.233Z"
   },
   {
    "duration": 16,
    "start_time": "2023-03-04T18:04:52.796Z"
   },
   {
    "duration": 14,
    "start_time": "2023-03-04T18:05:10.277Z"
   },
   {
    "duration": 101,
    "start_time": "2023-03-04T18:06:10.518Z"
   },
   {
    "duration": 908,
    "start_time": "2023-03-04T18:06:23.381Z"
   },
   {
    "duration": 788,
    "start_time": "2023-03-04T18:06:53.385Z"
   },
   {
    "duration": 912,
    "start_time": "2023-03-04T18:07:04.668Z"
   },
   {
    "duration": 1017,
    "start_time": "2023-03-04T18:07:16.291Z"
   },
   {
    "duration": 64,
    "start_time": "2023-03-04T18:08:21.074Z"
   },
   {
    "duration": 77,
    "start_time": "2023-03-04T18:08:31.401Z"
   },
   {
    "duration": 372,
    "start_time": "2023-03-04T18:08:54.775Z"
   },
   {
    "duration": 12,
    "start_time": "2023-03-04T18:10:02.216Z"
   },
   {
    "duration": 17,
    "start_time": "2023-03-04T18:10:09.500Z"
   },
   {
    "duration": 14,
    "start_time": "2023-03-04T18:10:19.076Z"
   },
   {
    "duration": 73,
    "start_time": "2023-03-04T21:30:19.768Z"
   },
   {
    "duration": 60,
    "start_time": "2023-03-04T21:32:42.367Z"
   },
   {
    "duration": 112,
    "start_time": "2023-03-04T21:33:19.132Z"
   },
   {
    "duration": 98,
    "start_time": "2023-03-04T21:34:26.744Z"
   },
   {
    "duration": 77,
    "start_time": "2023-03-04T21:34:45.420Z"
   },
   {
    "duration": 88,
    "start_time": "2023-03-04T21:34:51.745Z"
   },
   {
    "duration": 12,
    "start_time": "2023-03-04T21:36:26.773Z"
   },
   {
    "duration": 1408,
    "start_time": "2023-03-04T21:36:49.594Z"
   },
   {
    "duration": 67,
    "start_time": "2023-03-04T21:37:07.979Z"
   },
   {
    "duration": 78,
    "start_time": "2023-03-04T21:37:14.447Z"
   },
   {
    "duration": 1370,
    "start_time": "2023-03-04T21:37:23.825Z"
   },
   {
    "duration": 1362,
    "start_time": "2023-03-04T21:37:41.405Z"
   },
   {
    "duration": 89,
    "start_time": "2023-03-04T21:43:51.136Z"
   },
   {
    "duration": 83,
    "start_time": "2023-03-04T21:44:56.695Z"
   },
   {
    "duration": 1497,
    "start_time": "2023-03-04T21:45:10.582Z"
   },
   {
    "duration": 72,
    "start_time": "2023-03-04T21:45:37.103Z"
   },
   {
    "duration": 65,
    "start_time": "2023-03-04T21:46:25.497Z"
   },
   {
    "duration": 78,
    "start_time": "2023-03-04T21:46:43.024Z"
   },
   {
    "duration": 1373,
    "start_time": "2023-03-04T21:46:45.827Z"
   },
   {
    "duration": 73,
    "start_time": "2023-03-04T21:57:00.222Z"
   },
   {
    "duration": 1266,
    "start_time": "2023-03-04T21:57:11.311Z"
   },
   {
    "duration": 358,
    "start_time": "2023-03-04T21:58:38.459Z"
   },
   {
    "duration": 61,
    "start_time": "2023-03-04T22:00:54.970Z"
   },
   {
    "duration": 71,
    "start_time": "2023-03-04T22:01:44.799Z"
   },
   {
    "duration": 67,
    "start_time": "2023-03-04T22:02:04.960Z"
   },
   {
    "duration": 16,
    "start_time": "2023-03-04T22:02:53.322Z"
   },
   {
    "duration": 63,
    "start_time": "2023-03-04T22:02:58.099Z"
   },
   {
    "duration": 16,
    "start_time": "2023-03-04T22:02:58.738Z"
   },
   {
    "duration": 12,
    "start_time": "2023-03-04T22:03:24.003Z"
   },
   {
    "duration": 65,
    "start_time": "2023-03-04T22:06:06.888Z"
   },
   {
    "duration": 66,
    "start_time": "2023-03-04T22:08:26.923Z"
   },
   {
    "duration": 75,
    "start_time": "2023-03-04T22:08:36.211Z"
   },
   {
    "duration": 69,
    "start_time": "2023-03-04T22:08:47.712Z"
   },
   {
    "duration": 12,
    "start_time": "2023-03-04T22:08:56.188Z"
   },
   {
    "duration": 17,
    "start_time": "2023-03-04T22:09:22.646Z"
   },
   {
    "duration": 13,
    "start_time": "2023-03-04T22:12:43.576Z"
   },
   {
    "duration": 4,
    "start_time": "2023-03-04T22:13:20.717Z"
   },
   {
    "duration": 12,
    "start_time": "2023-03-04T22:25:30.475Z"
   },
   {
    "duration": 61,
    "start_time": "2023-03-04T22:25:47.043Z"
   },
   {
    "duration": 1194,
    "start_time": "2023-03-04T22:25:52.770Z"
   },
   {
    "duration": 1202,
    "start_time": "2023-03-04T22:25:54.363Z"
   },
   {
    "duration": 65,
    "start_time": "2023-03-04T22:26:04.303Z"
   },
   {
    "duration": 18,
    "start_time": "2023-03-04T22:26:05.180Z"
   },
   {
    "duration": 12,
    "start_time": "2023-03-04T22:26:06.943Z"
   },
   {
    "duration": 1161,
    "start_time": "2023-03-04T22:26:26.748Z"
   },
   {
    "duration": 62,
    "start_time": "2023-03-04T22:26:44.553Z"
   },
   {
    "duration": 12,
    "start_time": "2023-03-04T22:26:46.315Z"
   },
   {
    "duration": 14,
    "start_time": "2023-03-04T22:27:03.294Z"
   },
   {
    "duration": 12,
    "start_time": "2023-03-04T22:27:23.865Z"
   },
   {
    "duration": 32,
    "start_time": "2023-03-04T22:36:59.492Z"
   },
   {
    "duration": 63,
    "start_time": "2023-03-04T22:37:41.745Z"
   },
   {
    "duration": 14,
    "start_time": "2023-03-04T22:38:08.394Z"
   },
   {
    "duration": 21,
    "start_time": "2023-03-04T22:38:16.122Z"
   },
   {
    "duration": 17,
    "start_time": "2023-03-04T22:38:45.288Z"
   },
   {
    "duration": 21,
    "start_time": "2023-03-04T22:39:15.956Z"
   },
   {
    "duration": 7,
    "start_time": "2023-03-04T22:39:38.638Z"
   },
   {
    "duration": 749,
    "start_time": "2023-03-04T22:39:38.971Z"
   },
   {
    "duration": 12,
    "start_time": "2023-03-04T22:39:39.723Z"
   },
   {
    "duration": 134,
    "start_time": "2023-03-04T22:39:39.737Z"
   },
   {
    "duration": 383,
    "start_time": "2023-03-04T22:39:40.052Z"
   },
   {
    "duration": 860,
    "start_time": "2023-03-04T22:39:40.437Z"
   },
   {
    "duration": 39,
    "start_time": "2023-03-04T22:39:41.299Z"
   },
   {
    "duration": 4,
    "start_time": "2023-03-04T22:39:41.347Z"
   },
   {
    "duration": 347,
    "start_time": "2023-03-04T22:39:41.354Z"
   },
   {
    "duration": 4,
    "start_time": "2023-03-04T22:39:41.703Z"
   },
   {
    "duration": 860,
    "start_time": "2023-03-04T22:39:41.939Z"
   },
   {
    "duration": 2,
    "start_time": "2023-03-04T22:39:42.801Z"
   },
   {
    "duration": 2,
    "start_time": "2023-03-04T22:39:43.255Z"
   },
   {
    "duration": 23,
    "start_time": "2023-03-04T22:39:43.946Z"
   },
   {
    "duration": 328,
    "start_time": "2023-03-04T22:39:44.152Z"
   },
   {
    "duration": 430,
    "start_time": "2023-03-04T22:39:44.482Z"
   },
   {
    "duration": 11,
    "start_time": "2023-03-04T22:39:44.923Z"
   },
   {
    "duration": 29,
    "start_time": "2023-03-04T22:39:45.144Z"
   },
   {
    "duration": 23,
    "start_time": "2023-03-04T22:39:45.600Z"
   },
   {
    "duration": 809,
    "start_time": "2023-03-04T22:39:46.706Z"
   },
   {
    "duration": 855,
    "start_time": "2023-03-04T22:39:48.168Z"
   },
   {
    "duration": 286,
    "start_time": "2023-03-04T22:39:49.025Z"
   },
   {
    "duration": 9,
    "start_time": "2023-03-04T22:39:49.976Z"
   },
   {
    "duration": 23,
    "start_time": "2023-03-04T22:39:51.023Z"
   },
   {
    "duration": 78,
    "start_time": "2023-03-04T22:39:52.948Z"
   },
   {
    "duration": 761,
    "start_time": "2023-03-04T22:39:53.808Z"
   },
   {
    "duration": 289,
    "start_time": "2023-03-04T22:39:55.423Z"
   },
   {
    "duration": 12,
    "start_time": "2023-03-04T22:39:56.148Z"
   },
   {
    "duration": 80,
    "start_time": "2023-03-04T22:40:01.782Z"
   },
   {
    "duration": 11,
    "start_time": "2023-03-04T22:40:13.082Z"
   },
   {
    "duration": 33,
    "start_time": "2023-03-04T22:40:28.126Z"
   },
   {
    "duration": 8,
    "start_time": "2023-03-04T22:40:29.996Z"
   },
   {
    "duration": 1140,
    "start_time": "2023-03-04T22:41:13.344Z"
   },
   {
    "duration": 1108,
    "start_time": "2023-03-04T22:41:28.826Z"
   },
   {
    "duration": 7,
    "start_time": "2023-03-04T22:42:06.072Z"
   },
   {
    "duration": 770,
    "start_time": "2023-03-04T22:42:07.029Z"
   },
   {
    "duration": 12,
    "start_time": "2023-03-04T22:42:07.801Z"
   },
   {
    "duration": 148,
    "start_time": "2023-03-04T22:42:07.815Z"
   },
   {
    "duration": 399,
    "start_time": "2023-03-04T22:42:09.023Z"
   },
   {
    "duration": 925,
    "start_time": "2023-03-04T22:42:09.424Z"
   },
   {
    "duration": 42,
    "start_time": "2023-03-04T22:42:10.351Z"
   },
   {
    "duration": 4,
    "start_time": "2023-03-04T22:42:10.395Z"
   },
   {
    "duration": 307,
    "start_time": "2023-03-04T22:42:10.871Z"
   },
   {
    "duration": 3,
    "start_time": "2023-03-04T22:42:11.180Z"
   },
   {
    "duration": 979,
    "start_time": "2023-03-04T22:42:11.437Z"
   },
   {
    "duration": 2,
    "start_time": "2023-03-04T22:42:12.418Z"
   },
   {
    "duration": 7,
    "start_time": "2023-03-04T22:42:12.421Z"
   },
   {
    "duration": 25,
    "start_time": "2023-03-04T22:42:12.523Z"
   },
   {
    "duration": 345,
    "start_time": "2023-03-04T22:42:12.724Z"
   },
   {
    "duration": 321,
    "start_time": "2023-03-04T22:42:13.071Z"
   },
   {
    "duration": 12,
    "start_time": "2023-03-04T22:42:14.367Z"
   },
   {
    "duration": 28,
    "start_time": "2023-03-04T22:42:15.572Z"
   },
   {
    "duration": 26,
    "start_time": "2023-03-04T22:42:16.240Z"
   },
   {
    "duration": 819,
    "start_time": "2023-03-04T22:42:17.896Z"
   },
   {
    "duration": 920,
    "start_time": "2023-03-04T22:42:20.326Z"
   },
   {
    "duration": 428,
    "start_time": "2023-03-04T22:42:21.285Z"
   },
   {
    "duration": 8,
    "start_time": "2023-03-04T22:42:24.393Z"
   },
   {
    "duration": 27,
    "start_time": "2023-03-04T22:42:25.560Z"
   },
   {
    "duration": 1218,
    "start_time": "2023-03-04T22:43:13.491Z"
   },
   {
    "duration": 1168,
    "start_time": "2023-03-04T22:43:23.582Z"
   },
   {
    "duration": 1172,
    "start_time": "2023-03-04T22:43:31.613Z"
   },
   {
    "duration": 16,
    "start_time": "2023-03-04T22:43:37.607Z"
   },
   {
    "duration": 16,
    "start_time": "2023-03-04T22:43:52.859Z"
   },
   {
    "duration": 315,
    "start_time": "2023-03-04T22:45:10.259Z"
   },
   {
    "duration": 309,
    "start_time": "2023-03-04T22:45:34.251Z"
   },
   {
    "duration": 1289,
    "start_time": "2023-03-04T22:45:59.984Z"
   },
   {
    "duration": 71,
    "start_time": "2023-03-04T22:46:14.269Z"
   },
   {
    "duration": 1189,
    "start_time": "2023-03-04T22:46:33.759Z"
   },
   {
    "duration": 50,
    "start_time": "2023-03-04T22:46:41.063Z"
   },
   {
    "duration": 63,
    "start_time": "2023-03-04T22:49:09.262Z"
   },
   {
    "duration": 8,
    "start_time": "2023-03-04T22:49:39.347Z"
   },
   {
    "duration": 294,
    "start_time": "2023-03-04T22:50:06.083Z"
   },
   {
    "duration": 32,
    "start_time": "2023-03-04T22:50:21.638Z"
   },
   {
    "duration": 67,
    "start_time": "2023-03-04T22:50:22.536Z"
   },
   {
    "duration": 288,
    "start_time": "2023-03-04T22:50:24.540Z"
   },
   {
    "duration": 306,
    "start_time": "2023-03-04T22:50:36.767Z"
   },
   {
    "duration": 281,
    "start_time": "2023-03-04T22:50:44.681Z"
   },
   {
    "duration": 24,
    "start_time": "2023-03-04T22:51:05.930Z"
   },
   {
    "duration": 285,
    "start_time": "2023-03-04T22:51:20.040Z"
   },
   {
    "duration": 26,
    "start_time": "2023-03-04T22:52:08.738Z"
   },
   {
    "duration": 8,
    "start_time": "2023-03-04T22:52:17.232Z"
   },
   {
    "duration": 9,
    "start_time": "2023-03-04T22:52:28.228Z"
   },
   {
    "duration": 9,
    "start_time": "2023-03-04T22:52:36.666Z"
   },
   {
    "duration": 8,
    "start_time": "2023-03-04T22:52:49.997Z"
   },
   {
    "duration": 8,
    "start_time": "2023-03-04T22:53:08.887Z"
   },
   {
    "duration": 12,
    "start_time": "2023-03-04T22:53:15.568Z"
   },
   {
    "duration": 25,
    "start_time": "2023-03-04T22:53:25.732Z"
   },
   {
    "duration": 10,
    "start_time": "2023-03-04T22:53:40.507Z"
   },
   {
    "duration": 10,
    "start_time": "2023-03-04T22:53:51.199Z"
   },
   {
    "duration": 8,
    "start_time": "2023-03-04T22:54:17.632Z"
   },
   {
    "duration": 4,
    "start_time": "2023-03-04T22:54:27.311Z"
   },
   {
    "duration": 11,
    "start_time": "2023-03-04T22:55:32.212Z"
   },
   {
    "duration": 142,
    "start_time": "2023-03-04T22:55:41.861Z"
   },
   {
    "duration": 728,
    "start_time": "2023-03-04T22:55:42.188Z"
   },
   {
    "duration": 13,
    "start_time": "2023-03-04T22:55:42.918Z"
   },
   {
    "duration": 149,
    "start_time": "2023-03-04T22:55:42.932Z"
   },
   {
    "duration": 412,
    "start_time": "2023-03-04T22:55:43.246Z"
   },
   {
    "duration": 911,
    "start_time": "2023-03-04T22:55:43.660Z"
   },
   {
    "duration": 59,
    "start_time": "2023-03-04T22:55:44.573Z"
   },
   {
    "duration": 15,
    "start_time": "2023-03-04T22:55:44.634Z"
   },
   {
    "duration": 309,
    "start_time": "2023-03-04T22:55:44.651Z"
   },
   {
    "duration": 3,
    "start_time": "2023-03-04T22:55:44.962Z"
   },
   {
    "duration": 937,
    "start_time": "2023-03-04T22:55:44.967Z"
   },
   {
    "duration": 2,
    "start_time": "2023-03-04T22:55:45.907Z"
   },
   {
    "duration": 6,
    "start_time": "2023-03-04T22:55:45.911Z"
   },
   {
    "duration": 24,
    "start_time": "2023-03-04T22:55:45.982Z"
   },
   {
    "duration": 312,
    "start_time": "2023-03-04T22:55:46.175Z"
   },
   {
    "duration": 319,
    "start_time": "2023-03-04T22:55:46.488Z"
   },
   {
    "duration": 11,
    "start_time": "2023-03-04T22:55:46.810Z"
   },
   {
    "duration": 27,
    "start_time": "2023-03-04T22:55:46.925Z"
   },
   {
    "duration": 26,
    "start_time": "2023-03-04T22:55:47.134Z"
   },
   {
    "duration": 815,
    "start_time": "2023-03-04T22:55:47.524Z"
   },
   {
    "duration": 872,
    "start_time": "2023-03-04T22:55:48.341Z"
   },
   {
    "duration": 437,
    "start_time": "2023-03-04T22:55:49.215Z"
   },
   {
    "duration": 8,
    "start_time": "2023-03-04T22:55:49.654Z"
   },
   {
    "duration": 24,
    "start_time": "2023-03-04T22:55:49.664Z"
   },
   {
    "duration": 67,
    "start_time": "2023-03-04T22:55:49.690Z"
   },
   {
    "duration": 79,
    "start_time": "2023-03-04T22:55:50.891Z"
   },
   {
    "duration": 799,
    "start_time": "2023-03-04T22:55:51.647Z"
   },
   {
    "duration": 303,
    "start_time": "2023-03-04T22:55:54.646Z"
   },
   {
    "duration": 15,
    "start_time": "2023-03-04T22:55:55.287Z"
   },
   {
    "duration": 13,
    "start_time": "2023-03-04T22:55:55.951Z"
   },
   {
    "duration": 65,
    "start_time": "2023-03-04T22:55:57.146Z"
   },
   {
    "duration": 32,
    "start_time": "2023-03-04T22:55:57.800Z"
   },
   {
    "duration": 63,
    "start_time": "2023-03-04T22:55:58.614Z"
   },
   {
    "duration": 25,
    "start_time": "2023-03-04T22:56:02.493Z"
   },
   {
    "duration": 296,
    "start_time": "2023-03-04T22:56:03.327Z"
   },
   {
    "duration": 11,
    "start_time": "2023-03-04T22:56:04.153Z"
   },
   {
    "duration": 94,
    "start_time": "2023-03-04T22:56:04.961Z"
   },
   {
    "duration": 4,
    "start_time": "2023-03-04T22:56:18.996Z"
   },
   {
    "duration": 10,
    "start_time": "2023-03-04T22:57:09.049Z"
   },
   {
    "duration": 70,
    "start_time": "2023-03-04T22:57:30.002Z"
   },
   {
    "duration": 29,
    "start_time": "2023-03-04T22:57:31.167Z"
   },
   {
    "duration": 29,
    "start_time": "2023-03-04T22:57:31.338Z"
   },
   {
    "duration": 29,
    "start_time": "2023-03-04T22:57:31.532Z"
   },
   {
    "duration": 29,
    "start_time": "2023-03-04T22:57:31.714Z"
   },
   {
    "duration": 29,
    "start_time": "2023-03-04T22:57:31.916Z"
   },
   {
    "duration": 80,
    "start_time": "2023-03-04T22:57:32.124Z"
   },
   {
    "duration": 71,
    "start_time": "2023-03-04T22:57:33.234Z"
   },
   {
    "duration": 25,
    "start_time": "2023-03-04T22:57:33.856Z"
   },
   {
    "duration": 1023,
    "start_time": "2023-03-04T22:57:37.383Z"
   },
   {
    "duration": 13,
    "start_time": "2023-03-04T23:13:18.701Z"
   },
   {
    "duration": 59,
    "start_time": "2023-03-04T23:13:19.339Z"
   },
   {
    "duration": 24,
    "start_time": "2023-03-04T23:13:20.131Z"
   },
   {
    "duration": 4,
    "start_time": "2023-03-04T23:13:47.058Z"
   },
   {
    "duration": 3,
    "start_time": "2023-03-04T23:14:20.090Z"
   },
   {
    "duration": 6,
    "start_time": "2023-03-04T23:14:40.245Z"
   },
   {
    "duration": 818,
    "start_time": "2023-03-04T23:14:40.568Z"
   },
   {
    "duration": 12,
    "start_time": "2023-03-04T23:14:41.388Z"
   },
   {
    "duration": 139,
    "start_time": "2023-03-04T23:14:41.402Z"
   },
   {
    "duration": 413,
    "start_time": "2023-03-04T23:14:41.580Z"
   },
   {
    "duration": 934,
    "start_time": "2023-03-04T23:14:41.996Z"
   },
   {
    "duration": 44,
    "start_time": "2023-03-04T23:14:42.932Z"
   },
   {
    "duration": 3,
    "start_time": "2023-03-04T23:14:42.978Z"
   },
   {
    "duration": 313,
    "start_time": "2023-03-04T23:14:42.983Z"
   },
   {
    "duration": 3,
    "start_time": "2023-03-04T23:14:43.298Z"
   },
   {
    "duration": 895,
    "start_time": "2023-03-04T23:14:43.303Z"
   },
   {
    "duration": 2,
    "start_time": "2023-03-04T23:14:44.200Z"
   },
   {
    "duration": 2,
    "start_time": "2023-03-04T23:14:44.404Z"
   },
   {
    "duration": 25,
    "start_time": "2023-03-04T23:14:44.781Z"
   },
   {
    "duration": 335,
    "start_time": "2023-03-04T23:14:44.976Z"
   },
   {
    "duration": 337,
    "start_time": "2023-03-04T23:14:45.314Z"
   },
   {
    "duration": 11,
    "start_time": "2023-03-04T23:14:45.653Z"
   },
   {
    "duration": 28,
    "start_time": "2023-03-04T23:14:45.781Z"
   },
   {
    "duration": 27,
    "start_time": "2023-03-04T23:14:45.974Z"
   },
   {
    "duration": 847,
    "start_time": "2023-03-04T23:14:46.375Z"
   },
   {
    "duration": 899,
    "start_time": "2023-03-04T23:14:47.224Z"
   },
   {
    "duration": 463,
    "start_time": "2023-03-04T23:14:48.126Z"
   },
   {
    "duration": 9,
    "start_time": "2023-03-04T23:14:48.591Z"
   },
   {
    "duration": 25,
    "start_time": "2023-03-04T23:14:49.298Z"
   },
   {
    "duration": 50,
    "start_time": "2023-03-04T23:14:50.927Z"
   },
   {
    "duration": 79,
    "start_time": "2023-03-04T23:14:51.566Z"
   },
   {
    "duration": 784,
    "start_time": "2023-03-04T23:14:52.174Z"
   },
   {
    "duration": 295,
    "start_time": "2023-03-04T23:14:53.229Z"
   },
   {
    "duration": 14,
    "start_time": "2023-03-04T23:14:53.800Z"
   },
   {
    "duration": 13,
    "start_time": "2023-03-04T23:14:54.262Z"
   },
   {
    "duration": 74,
    "start_time": "2023-03-04T23:14:55.104Z"
   },
   {
    "duration": 34,
    "start_time": "2023-03-04T23:14:55.320Z"
   },
   {
    "duration": 67,
    "start_time": "2023-03-04T23:14:55.532Z"
   },
   {
    "duration": 26,
    "start_time": "2023-03-04T23:14:55.739Z"
   },
   {
    "duration": 291,
    "start_time": "2023-03-04T23:14:55.983Z"
   },
   {
    "duration": 12,
    "start_time": "2023-03-04T23:14:56.276Z"
   },
   {
    "duration": 92,
    "start_time": "2023-03-04T23:14:56.411Z"
   },
   {
    "duration": 70,
    "start_time": "2023-03-04T23:14:57.285Z"
   },
   {
    "duration": 29,
    "start_time": "2023-03-04T23:14:58.256Z"
   },
   {
    "duration": 27,
    "start_time": "2023-03-04T23:14:58.614Z"
   },
   {
    "duration": 28,
    "start_time": "2023-03-04T23:14:58.827Z"
   },
   {
    "duration": 30,
    "start_time": "2023-03-04T23:14:59.040Z"
   },
   {
    "duration": 28,
    "start_time": "2023-03-04T23:14:59.271Z"
   },
   {
    "duration": 83,
    "start_time": "2023-03-04T23:14:59.496Z"
   },
   {
    "duration": 75,
    "start_time": "2023-03-04T23:15:00.886Z"
   },
   {
    "duration": 28,
    "start_time": "2023-03-04T23:15:01.462Z"
   },
   {
    "duration": 1040,
    "start_time": "2023-03-04T23:15:02.568Z"
   },
   {
    "duration": 16,
    "start_time": "2023-03-04T23:15:04.822Z"
   },
   {
    "duration": 57,
    "start_time": "2023-03-04T23:15:05.495Z"
   },
   {
    "duration": 24,
    "start_time": "2023-03-04T23:15:06.791Z"
   },
   {
    "duration": 4,
    "start_time": "2023-03-04T23:15:07.426Z"
   },
   {
    "duration": 4,
    "start_time": "2023-03-04T23:15:38.606Z"
   },
   {
    "duration": 85,
    "start_time": "2023-03-04T23:22:06.139Z"
   },
   {
    "duration": 8,
    "start_time": "2023-03-04T23:24:43.112Z"
   },
   {
    "duration": 112,
    "start_time": "2023-03-04T23:24:56.144Z"
   },
   {
    "duration": 7781,
    "start_time": "2023-03-04T23:25:18.207Z"
   },
   {
    "duration": 1801,
    "start_time": "2023-03-05T06:35:22.640Z"
   },
   {
    "duration": 1480,
    "start_time": "2023-03-05T06:35:24.443Z"
   },
   {
    "duration": 32,
    "start_time": "2023-03-05T06:35:25.925Z"
   },
   {
    "duration": 164,
    "start_time": "2023-03-05T06:35:25.960Z"
   },
   {
    "duration": 542,
    "start_time": "2023-03-05T06:35:26.126Z"
   },
   {
    "duration": 1070,
    "start_time": "2023-03-05T06:35:26.672Z"
   },
   {
    "duration": 59,
    "start_time": "2023-03-05T06:35:27.748Z"
   },
   {
    "duration": 4,
    "start_time": "2023-03-05T06:35:27.808Z"
   },
   {
    "duration": 382,
    "start_time": "2023-03-05T06:35:27.814Z"
   },
   {
    "duration": 3,
    "start_time": "2023-03-05T06:35:28.199Z"
   },
   {
    "duration": 993,
    "start_time": "2023-03-05T06:35:28.204Z"
   },
   {
    "duration": 3,
    "start_time": "2023-03-05T06:35:29.199Z"
   },
   {
    "duration": 19,
    "start_time": "2023-03-05T06:35:29.204Z"
   },
   {
    "duration": 42,
    "start_time": "2023-03-05T06:35:29.224Z"
   },
   {
    "duration": 489,
    "start_time": "2023-03-05T06:35:29.268Z"
   },
   {
    "duration": 354,
    "start_time": "2023-03-05T06:35:29.762Z"
   },
   {
    "duration": 11,
    "start_time": "2023-03-05T06:35:30.119Z"
   },
   {
    "duration": 44,
    "start_time": "2023-03-05T06:35:30.133Z"
   },
   {
    "duration": 24,
    "start_time": "2023-03-05T06:35:30.179Z"
   },
   {
    "duration": 887,
    "start_time": "2023-03-05T06:35:30.205Z"
   },
   {
    "duration": 1001,
    "start_time": "2023-03-05T06:35:31.093Z"
   },
   {
    "duration": 366,
    "start_time": "2023-03-05T06:35:32.096Z"
   },
   {
    "duration": 10,
    "start_time": "2023-03-05T06:35:32.466Z"
   },
   {
    "duration": 35,
    "start_time": "2023-03-05T06:35:32.478Z"
   },
   {
    "duration": 63,
    "start_time": "2023-03-05T06:35:32.515Z"
   },
   {
    "duration": 86,
    "start_time": "2023-03-05T06:35:32.580Z"
   },
   {
    "duration": 1025,
    "start_time": "2023-03-05T06:35:32.670Z"
   },
   {
    "duration": 359,
    "start_time": "2023-03-05T06:35:33.697Z"
   },
   {
    "duration": 13,
    "start_time": "2023-03-05T06:35:34.066Z"
   },
   {
    "duration": 12,
    "start_time": "2023-03-05T06:35:34.082Z"
   },
   {
    "duration": 90,
    "start_time": "2023-03-05T06:35:34.096Z"
   },
   {
    "duration": 37,
    "start_time": "2023-03-05T06:35:34.188Z"
   },
   {
    "duration": 90,
    "start_time": "2023-03-05T06:35:34.227Z"
   },
   {
    "duration": 46,
    "start_time": "2023-03-05T06:35:34.319Z"
   },
   {
    "duration": 338,
    "start_time": "2023-03-05T06:35:34.367Z"
   },
   {
    "duration": 13,
    "start_time": "2023-03-05T06:35:34.707Z"
   },
   {
    "duration": 111,
    "start_time": "2023-03-05T06:35:34.723Z"
   },
   {
    "duration": 99,
    "start_time": "2023-03-05T06:35:37.337Z"
   },
   {
    "duration": 51,
    "start_time": "2023-03-05T06:35:48.957Z"
   },
   {
    "duration": 27,
    "start_time": "2023-03-05T06:35:49.608Z"
   },
   {
    "duration": 39,
    "start_time": "2023-03-05T06:35:50.234Z"
   },
   {
    "duration": 33,
    "start_time": "2023-03-05T06:35:50.867Z"
   },
   {
    "duration": 30,
    "start_time": "2023-03-05T06:35:51.510Z"
   },
   {
    "duration": 92,
    "start_time": "2023-03-05T06:35:52.102Z"
   },
   {
    "duration": 88,
    "start_time": "2023-03-05T06:35:53.832Z"
   },
   {
    "duration": 29,
    "start_time": "2023-03-05T06:35:56.436Z"
   },
   {
    "duration": 953,
    "start_time": "2023-03-05T06:35:58.316Z"
   },
   {
    "duration": 13,
    "start_time": "2023-03-05T06:36:03.589Z"
   },
   {
    "duration": 77,
    "start_time": "2023-03-05T06:36:04.131Z"
   },
   {
    "duration": 28,
    "start_time": "2023-03-05T06:36:04.719Z"
   },
   {
    "duration": 6,
    "start_time": "2023-03-05T06:36:05.368Z"
   },
   {
    "duration": 16,
    "start_time": "2023-03-05T06:36:14.062Z"
   },
   {
    "duration": 223,
    "start_time": "2023-03-05T06:54:24.622Z"
   },
   {
    "duration": 107,
    "start_time": "2023-03-05T06:54:36.565Z"
   },
   {
    "duration": 115,
    "start_time": "2023-03-05T06:55:30.062Z"
   },
   {
    "duration": 4,
    "start_time": "2023-03-05T06:56:09.662Z"
   },
   {
    "duration": 74220,
    "start_time": "2023-03-05T06:57:45.360Z"
   },
   {
    "duration": 48091,
    "start_time": "2023-03-05T06:59:35.122Z"
   },
   {
    "duration": 48504,
    "start_time": "2023-03-05T07:02:14.507Z"
   },
   {
    "duration": 8510,
    "start_time": "2023-03-05T07:04:09.112Z"
   },
   {
    "duration": 54593,
    "start_time": "2023-03-05T07:04:28.036Z"
   },
   {
    "duration": 398410,
    "start_time": "2023-03-05T07:06:01.404Z"
   },
   {
    "duration": 98,
    "start_time": "2023-03-05T07:12:39.819Z"
   },
   {
    "duration": 107,
    "start_time": "2023-03-05T07:12:43.228Z"
   },
   {
    "duration": 29,
    "start_time": "2023-03-05T07:13:05.575Z"
   },
   {
    "duration": 17,
    "start_time": "2023-03-05T07:14:10.484Z"
   },
   {
    "duration": 14,
    "start_time": "2023-03-05T07:14:34.485Z"
   },
   {
    "duration": 12,
    "start_time": "2023-03-05T07:16:02.672Z"
   },
   {
    "duration": 878,
    "start_time": "2023-03-05T07:18:27.218Z"
   },
   {
    "duration": 44,
    "start_time": "2023-03-05T07:20:33.365Z"
   },
   {
    "duration": 1007360,
    "start_time": "2023-03-05T07:20:55.371Z"
   },
   {
    "duration": 4,
    "start_time": "2023-03-05T07:43:52.312Z"
   },
   {
    "duration": 95,
    "start_time": "2023-03-05T07:43:55.403Z"
   },
   {
    "duration": 4,
    "start_time": "2023-03-05T07:44:11.206Z"
   },
   {
    "duration": 114555,
    "start_time": "2023-03-05T07:44:12.477Z"
   },
   {
    "duration": 72,
    "start_time": "2023-03-05T07:54:48.024Z"
   },
   {
    "duration": 67,
    "start_time": "2023-03-05T07:58:41.080Z"
   },
   {
    "duration": 5,
    "start_time": "2023-03-05T08:03:18.816Z"
   },
   {
    "duration": 2662,
    "start_time": "2023-03-05T08:03:48.925Z"
   },
   {
    "duration": 5,
    "start_time": "2023-03-05T08:07:11.153Z"
   },
   {
    "duration": 200515,
    "start_time": "2023-03-05T08:07:18.227Z"
   },
   {
    "duration": 3,
    "start_time": "2023-03-05T08:14:33.420Z"
   },
   {
    "duration": 14,
    "start_time": "2023-03-05T08:14:40.396Z"
   },
   {
    "duration": 3,
    "start_time": "2023-03-05T08:15:02.318Z"
   },
   {
    "duration": 18,
    "start_time": "2023-03-05T08:15:03.089Z"
   },
   {
    "duration": 3,
    "start_time": "2023-03-05T08:15:33.202Z"
   },
   {
    "duration": 14,
    "start_time": "2023-03-05T08:15:34.792Z"
   },
   {
    "duration": 3536,
    "start_time": "2023-03-05T08:17:18.908Z"
   },
   {
    "duration": 3493,
    "start_time": "2023-03-05T08:17:44.489Z"
   },
   {
    "duration": 3,
    "start_time": "2023-03-05T08:18:58.401Z"
   },
   {
    "duration": 19,
    "start_time": "2023-03-05T08:19:45.142Z"
   },
   {
    "duration": 12343,
    "start_time": "2023-03-05T08:23:15.289Z"
   },
   {
    "duration": 158,
    "start_time": "2023-03-05T08:23:34.253Z"
   },
   {
    "duration": 5,
    "start_time": "2023-03-05T08:23:42.294Z"
   },
   {
    "duration": 5,
    "start_time": "2023-03-05T08:25:49.493Z"
   },
   {
    "duration": 1139790,
    "start_time": "2023-03-05T08:25:51.823Z"
   },
   {
    "duration": 4,
    "start_time": "2023-03-05T08:45:41.243Z"
   },
   {
    "duration": 621065,
    "start_time": "2023-03-05T08:45:42.231Z"
   },
   {
    "duration": 5,
    "start_time": "2023-03-05T08:56:07.711Z"
   },
   {
    "duration": 791916,
    "start_time": "2023-03-05T08:56:08.540Z"
   },
   {
    "duration": 9,
    "start_time": "2023-03-05T09:09:20.460Z"
   },
   {
    "duration": 1750,
    "start_time": "2023-03-05T09:09:20.472Z"
   },
   {
    "duration": 6,
    "start_time": "2023-03-05T09:09:33.385Z"
   },
   {
    "duration": 14381,
    "start_time": "2023-03-05T09:09:39.199Z"
   },
   {
    "duration": 7,
    "start_time": "2023-03-05T09:11:09.517Z"
   },
   {
    "duration": 475801,
    "start_time": "2023-03-05T09:11:10.575Z"
   },
   {
    "duration": 5,
    "start_time": "2023-03-05T09:19:06.378Z"
   },
   {
    "duration": 5,
    "start_time": "2023-03-05T09:19:08.270Z"
   },
   {
    "duration": 41153,
    "start_time": "2023-03-05T09:19:10.571Z"
   },
   {
    "duration": 6,
    "start_time": "2023-03-05T09:19:57.168Z"
   },
   {
    "duration": 1000949,
    "start_time": "2023-03-05T09:19:57.976Z"
   },
   {
    "duration": 6,
    "start_time": "2023-03-05T09:36:38.928Z"
   },
   {
    "duration": 12879,
    "start_time": "2023-03-05T09:36:38.936Z"
   },
   {
    "duration": 6,
    "start_time": "2023-03-05T09:37:09.025Z"
   },
   {
    "duration": 157994,
    "start_time": "2023-03-05T09:37:09.973Z"
   },
   {
    "duration": 4,
    "start_time": "2023-03-05T09:40:02.988Z"
   },
   {
    "duration": 510,
    "start_time": "2023-03-05T09:40:04.109Z"
   },
   {
    "duration": 5,
    "start_time": "2023-03-05T09:40:46.015Z"
   },
   {
    "duration": 897554,
    "start_time": "2023-03-05T09:40:47.115Z"
   },
   {
    "duration": 4,
    "start_time": "2023-03-05T09:55:56.086Z"
   },
   {
    "duration": 61167,
    "start_time": "2023-03-05T09:56:01.607Z"
   },
   {
    "duration": 6,
    "start_time": "2023-03-05T09:57:03.918Z"
   },
   {
    "duration": 251,
    "start_time": "2023-03-05T09:57:08.990Z"
   },
   {
    "duration": 4,
    "start_time": "2023-03-05T09:57:27.111Z"
   },
   {
    "duration": 92,
    "start_time": "2023-03-05T09:57:31.378Z"
   },
   {
    "duration": 4,
    "start_time": "2023-03-05T09:57:38.327Z"
   },
   {
    "duration": 700669,
    "start_time": "2023-03-05T09:57:39.231Z"
   },
   {
    "duration": 4,
    "start_time": "2023-03-05T10:09:42.292Z"
   },
   {
    "duration": 645131,
    "start_time": "2023-03-05T10:09:48.124Z"
   },
   {
    "duration": 4,
    "start_time": "2023-03-05T10:20:40.472Z"
   },
   {
    "duration": 1127643,
    "start_time": "2023-03-05T10:20:41.708Z"
   },
   {
    "duration": 5,
    "start_time": "2023-03-05T10:39:34.835Z"
   },
   {
    "duration": 94,
    "start_time": "2023-03-05T10:39:35.718Z"
   },
   {
    "duration": 5,
    "start_time": "2023-03-05T10:39:45.385Z"
   },
   {
    "duration": 104577,
    "start_time": "2023-03-05T10:39:45.931Z"
   },
   {
    "duration": 4,
    "start_time": "2023-03-05T10:44:26.526Z"
   },
   {
    "duration": 200891,
    "start_time": "2023-03-05T10:44:27.582Z"
   },
   {
    "duration": 5,
    "start_time": "2023-03-05T10:48:41.792Z"
   },
   {
    "duration": 256145,
    "start_time": "2023-03-05T10:48:43.722Z"
   },
   {
    "duration": 16487,
    "start_time": "2023-03-05T10:54:32.721Z"
   },
   {
    "duration": 107,
    "start_time": "2023-03-05T10:55:41.076Z"
   },
   {
    "duration": 5,
    "start_time": "2023-03-05T10:55:42.618Z"
   },
   {
    "duration": 11,
    "start_time": "2023-03-05T10:57:34.888Z"
   },
   {
    "duration": 148,
    "start_time": "2023-03-05T10:57:48.502Z"
   },
   {
    "duration": 279,
    "start_time": "2023-03-05T10:57:57.503Z"
   },
   {
    "duration": 4,
    "start_time": "2023-03-05T11:03:23.383Z"
   },
   {
    "duration": 116,
    "start_time": "2023-03-05T11:03:23.904Z"
   },
   {
    "duration": 48,
    "start_time": "2023-03-05T11:03:25.002Z"
   },
   {
    "duration": 4,
    "start_time": "2023-03-05T11:03:25.914Z"
   },
   {
    "duration": 85,
    "start_time": "2023-03-05T11:03:27.472Z"
   },
   {
    "duration": 4,
    "start_time": "2023-03-05T11:03:45.091Z"
   },
   {
    "duration": 440,
    "start_time": "2023-03-05T11:03:46.689Z"
   },
   {
    "duration": 4,
    "start_time": "2023-03-05T11:04:22.428Z"
   },
   {
    "duration": 320,
    "start_time": "2023-03-05T11:04:23.679Z"
   },
   {
    "duration": 162210,
    "start_time": "2023-03-05T11:04:56.232Z"
   },
   {
    "duration": 109,
    "start_time": "2023-03-05T11:07:38.445Z"
   },
   {
    "duration": 13,
    "start_time": "2023-03-05T11:07:38.556Z"
   },
   {
    "duration": 196864,
    "start_time": "2023-03-05T11:07:45.318Z"
   },
   {
    "duration": 7,
    "start_time": "2023-03-05T11:11:07.191Z"
   },
   {
    "duration": 827,
    "start_time": "2023-03-05T11:11:07.530Z"
   },
   {
    "duration": 14,
    "start_time": "2023-03-05T11:11:08.359Z"
   },
   {
    "duration": 136,
    "start_time": "2023-03-05T11:11:08.374Z"
   },
   {
    "duration": 432,
    "start_time": "2023-03-05T11:11:08.630Z"
   },
   {
    "duration": 935,
    "start_time": "2023-03-05T11:11:09.064Z"
   },
   {
    "duration": 35,
    "start_time": "2023-03-05T11:11:10.001Z"
   },
   {
    "duration": 14,
    "start_time": "2023-03-05T11:11:10.048Z"
   },
   {
    "duration": 371,
    "start_time": "2023-03-05T11:11:10.064Z"
   },
   {
    "duration": 13,
    "start_time": "2023-03-05T11:11:10.437Z"
   },
   {
    "duration": 929,
    "start_time": "2023-03-05T11:11:10.452Z"
   },
   {
    "duration": 2,
    "start_time": "2023-03-05T11:11:11.383Z"
   },
   {
    "duration": 5,
    "start_time": "2023-03-05T11:11:11.387Z"
   },
   {
    "duration": 25,
    "start_time": "2023-03-05T11:11:11.414Z"
   },
   {
    "duration": 354,
    "start_time": "2023-03-05T11:11:11.610Z"
   },
   {
    "duration": 357,
    "start_time": "2023-03-05T11:11:11.966Z"
   },
   {
    "duration": 12,
    "start_time": "2023-03-05T11:11:12.325Z"
   },
   {
    "duration": 37,
    "start_time": "2023-03-05T11:11:12.355Z"
   },
   {
    "duration": 24,
    "start_time": "2023-03-05T11:11:12.499Z"
   },
   {
    "duration": 899,
    "start_time": "2023-03-05T11:11:13.065Z"
   },
   {
    "duration": 1177,
    "start_time": "2023-03-05T11:11:13.966Z"
   },
   {
    "duration": 345,
    "start_time": "2023-03-05T11:11:15.149Z"
   },
   {
    "duration": 10,
    "start_time": "2023-03-05T11:11:15.497Z"
   },
   {
    "duration": 46,
    "start_time": "2023-03-05T11:11:15.509Z"
   },
   {
    "duration": 124,
    "start_time": "2023-03-05T11:11:15.557Z"
   },
   {
    "duration": 896,
    "start_time": "2023-03-05T11:11:15.682Z"
   },
   {
    "duration": 331,
    "start_time": "2023-03-05T11:11:16.580Z"
   },
   {
    "duration": 11,
    "start_time": "2023-03-05T11:11:16.913Z"
   },
   {
    "duration": 35,
    "start_time": "2023-03-05T11:11:16.925Z"
   },
   {
    "duration": 31,
    "start_time": "2023-03-05T11:11:16.961Z"
   },
   {
    "duration": 81,
    "start_time": "2023-03-05T11:11:16.995Z"
   },
   {
    "duration": 25,
    "start_time": "2023-03-05T11:11:17.078Z"
   },
   {
    "duration": 319,
    "start_time": "2023-03-05T11:11:17.105Z"
   },
   {
    "duration": 37,
    "start_time": "2023-03-05T11:11:17.427Z"
   },
   {
    "duration": 99,
    "start_time": "2023-03-05T11:11:17.466Z"
   },
   {
    "duration": 71,
    "start_time": "2023-03-05T11:11:18.375Z"
   },
   {
    "duration": 37,
    "start_time": "2023-03-05T11:11:18.750Z"
   },
   {
    "duration": 28,
    "start_time": "2023-03-05T11:11:18.964Z"
   },
   {
    "duration": 29,
    "start_time": "2023-03-05T11:11:19.195Z"
   },
   {
    "duration": 39,
    "start_time": "2023-03-05T11:11:19.335Z"
   },
   {
    "duration": 41,
    "start_time": "2023-03-05T11:11:19.522Z"
   },
   {
    "duration": 93,
    "start_time": "2023-03-05T11:11:19.719Z"
   },
   {
    "duration": 81,
    "start_time": "2023-03-05T11:11:20.303Z"
   },
   {
    "duration": 25,
    "start_time": "2023-03-05T11:11:20.508Z"
   },
   {
    "duration": 1041,
    "start_time": "2023-03-05T11:11:21.091Z"
   },
   {
    "duration": 19,
    "start_time": "2023-03-05T11:11:24.924Z"
   },
   {
    "duration": 84,
    "start_time": "2023-03-05T11:11:25.403Z"
   },
   {
    "duration": 7,
    "start_time": "2023-03-05T11:11:25.846Z"
   },
   {
    "duration": 15,
    "start_time": "2023-03-05T11:11:29.023Z"
   },
   {
    "duration": 4,
    "start_time": "2023-03-05T11:11:29.529Z"
   },
   {
    "duration": 308742,
    "start_time": "2023-03-05T11:11:30.193Z"
   },
   {
    "duration": 20295,
    "start_time": "2023-03-05T11:16:38.938Z"
   },
   {
    "duration": 125,
    "start_time": "2023-03-05T11:16:59.235Z"
   },
   {
    "duration": 5,
    "start_time": "2023-03-05T11:16:59.363Z"
   },
   {
    "duration": 199,
    "start_time": "2023-03-05T11:16:59.370Z"
   },
   {
    "duration": 4,
    "start_time": "2023-03-05T11:16:59.571Z"
   },
   {
    "duration": 144,
    "start_time": "2023-03-05T11:16:59.577Z"
   },
   {
    "duration": 65,
    "start_time": "2023-03-05T11:16:59.723Z"
   },
   {
    "duration": 95149,
    "start_time": "2023-03-05T11:17:14.405Z"
   },
   {
    "duration": 602,
    "start_time": "2023-03-05T11:18:49.556Z"
   },
   {
    "duration": 248,
    "start_time": "2023-03-05T11:18:50.160Z"
   },
   {
    "duration": 2653,
    "start_time": "2023-03-05T11:18:50.410Z"
   },
   {
    "duration": 39,
    "start_time": "2023-03-05T11:26:01.988Z"
   },
   {
    "duration": 321,
    "start_time": "2023-03-05T11:26:23.739Z"
   },
   {
    "duration": 255,
    "start_time": "2023-03-05T11:26:36.510Z"
   },
   {
    "duration": 899,
    "start_time": "2023-03-05T11:26:47.315Z"
   },
   {
    "duration": 15,
    "start_time": "2023-03-05T11:26:51.229Z"
   },
   {
    "duration": 14,
    "start_time": "2023-03-05T11:31:15.625Z"
   },
   {
    "duration": 127,
    "start_time": "2023-03-05T11:32:35.205Z"
   },
   {
    "duration": 7,
    "start_time": "2023-03-05T11:33:07.695Z"
   },
   {
    "duration": 74,
    "start_time": "2023-03-05T11:33:19.490Z"
   },
   {
    "duration": 105,
    "start_time": "2023-03-05T11:34:34.611Z"
   },
   {
    "duration": 103426,
    "start_time": "2023-03-05T11:38:20.633Z"
   },
   {
    "duration": 179,
    "start_time": "2023-03-05T11:40:28.686Z"
   },
   {
    "duration": 84,
    "start_time": "2023-03-05T11:40:44.000Z"
   },
   {
    "duration": 178,
    "start_time": "2023-03-05T11:40:54.173Z"
   },
   {
    "duration": 9,
    "start_time": "2023-03-05T11:41:55.350Z"
   },
   {
    "duration": 5,
    "start_time": "2023-03-05T11:44:39.749Z"
   },
   {
    "duration": 13,
    "start_time": "2023-03-05T11:44:40.788Z"
   },
   {
    "duration": 18450,
    "start_time": "2023-03-05T11:45:07.007Z"
   },
   {
    "duration": 13,
    "start_time": "2023-03-05T11:46:17.811Z"
   },
   {
    "duration": 30852,
    "start_time": "2023-03-05T11:46:41.077Z"
   },
   {
    "duration": 4,
    "start_time": "2023-03-05T11:47:16.480Z"
   },
   {
    "duration": 245416,
    "start_time": "2023-03-05T11:47:18.135Z"
   },
   {
    "duration": 3,
    "start_time": "2023-03-05T11:51:36.903Z"
   },
   {
    "duration": 377536,
    "start_time": "2023-03-05T11:51:38.188Z"
   },
   {
    "duration": 3,
    "start_time": "2023-03-05T11:58:13.100Z"
   },
   {
    "duration": 555130,
    "start_time": "2023-03-05T11:58:14.433Z"
   },
   {
    "duration": 1168727,
    "start_time": "2023-03-05T12:07:38.943Z"
   },
   {
    "duration": 0,
    "start_time": "2023-03-05T12:27:07.672Z"
   },
   {
    "duration": 0,
    "start_time": "2023-03-05T12:27:07.674Z"
   },
   {
    "duration": 0,
    "start_time": "2023-03-05T12:27:07.675Z"
   },
   {
    "duration": 0,
    "start_time": "2023-03-05T12:27:07.676Z"
   },
   {
    "duration": 0,
    "start_time": "2023-03-05T12:27:07.677Z"
   },
   {
    "duration": 0,
    "start_time": "2023-03-05T12:27:07.679Z"
   },
   {
    "duration": 0,
    "start_time": "2023-03-05T12:27:07.680Z"
   },
   {
    "duration": 0,
    "start_time": "2023-03-05T12:27:07.681Z"
   },
   {
    "duration": 0,
    "start_time": "2023-03-05T12:27:07.683Z"
   },
   {
    "duration": 0,
    "start_time": "2023-03-05T12:27:07.685Z"
   },
   {
    "duration": 0,
    "start_time": "2023-03-05T12:27:07.686Z"
   },
   {
    "duration": 0,
    "start_time": "2023-03-05T12:27:07.687Z"
   },
   {
    "duration": 0,
    "start_time": "2023-03-05T12:27:07.688Z"
   },
   {
    "duration": 0,
    "start_time": "2023-03-05T12:27:07.689Z"
   },
   {
    "duration": 0,
    "start_time": "2023-03-05T12:27:07.690Z"
   },
   {
    "duration": 0,
    "start_time": "2023-03-05T12:27:07.692Z"
   },
   {
    "duration": 0,
    "start_time": "2023-03-05T12:27:07.693Z"
   },
   {
    "duration": 0,
    "start_time": "2023-03-05T12:27:07.694Z"
   },
   {
    "duration": 16,
    "start_time": "2023-03-05T12:27:25.144Z"
   },
   {
    "duration": 8610,
    "start_time": "2023-03-05T12:27:26.327Z"
   },
   {
    "duration": 267164,
    "start_time": "2023-03-05T12:27:40.820Z"
   },
   {
    "duration": 3,
    "start_time": "2023-03-05T12:32:15.284Z"
   },
   {
    "duration": 480106,
    "start_time": "2023-03-05T12:32:16.247Z"
   },
   {
    "duration": 108,
    "start_time": "2023-03-05T12:40:45.735Z"
   },
   {
    "duration": 84175,
    "start_time": "2023-03-05T12:41:03.006Z"
   },
   {
    "duration": 83557,
    "start_time": "2023-03-05T12:42:37.840Z"
   },
   {
    "duration": 82868,
    "start_time": "2023-03-05T12:44:17.383Z"
   },
   {
    "duration": 283,
    "start_time": "2023-03-05T12:45:49.540Z"
   },
   {
    "duration": 5,
    "start_time": "2023-03-05T12:45:53.098Z"
   },
   {
    "duration": 15,
    "start_time": "2023-03-05T12:45:55.132Z"
   },
   {
    "duration": 652,
    "start_time": "2023-03-05T12:46:27.654Z"
   },
   {
    "duration": 4747,
    "start_time": "2023-03-05T12:46:53.280Z"
   },
   {
    "duration": 58,
    "start_time": "2023-03-05T12:47:11.990Z"
   },
   {
    "duration": 4,
    "start_time": "2023-03-05T12:48:54.391Z"
   },
   {
    "duration": 71,
    "start_time": "2023-03-05T12:48:55.407Z"
   },
   {
    "duration": 42,
    "start_time": "2023-03-05T12:48:56.445Z"
   },
   {
    "duration": 4,
    "start_time": "2023-03-05T12:48:58.403Z"
   },
   {
    "duration": 18,
    "start_time": "2023-03-05T12:48:59.695Z"
   },
   {
    "duration": 14343,
    "start_time": "2023-03-05T12:49:01.539Z"
   },
   {
    "duration": 102,
    "start_time": "2023-03-05T12:49:21.453Z"
   },
   {
    "duration": 13,
    "start_time": "2023-03-05T12:49:23.547Z"
   },
   {
    "duration": 306,
    "start_time": "2023-03-05T12:49:37.126Z"
   },
   {
    "duration": 87,
    "start_time": "2023-03-05T12:49:43.912Z"
   },
   {
    "duration": 44,
    "start_time": "2023-03-05T12:49:44.927Z"
   },
   {
    "duration": 25259,
    "start_time": "2023-03-05T12:49:45.810Z"
   },
   {
    "duration": 510,
    "start_time": "2023-03-05T12:50:11.149Z"
   },
   {
    "duration": 25,
    "start_time": "2023-03-05T12:50:11.661Z"
   },
   {
    "duration": 92,
    "start_time": "2023-03-05T12:58:12.838Z"
   },
   {
    "duration": 52,
    "start_time": "2023-03-05T16:35:57.718Z"
   },
   {
    "duration": 1642,
    "start_time": "2023-03-05T16:41:30.469Z"
   },
   {
    "duration": 1165,
    "start_time": "2023-03-05T16:41:32.113Z"
   },
   {
    "duration": 27,
    "start_time": "2023-03-05T16:41:33.280Z"
   },
   {
    "duration": 141,
    "start_time": "2023-03-05T16:41:33.309Z"
   },
   {
    "duration": 478,
    "start_time": "2023-03-05T16:41:33.452Z"
   },
   {
    "duration": 1113,
    "start_time": "2023-03-05T16:41:33.932Z"
   },
   {
    "duration": 69,
    "start_time": "2023-03-05T16:41:35.047Z"
   },
   {
    "duration": 7,
    "start_time": "2023-03-05T16:41:59.706Z"
   },
   {
    "duration": 809,
    "start_time": "2023-03-05T16:41:59.734Z"
   },
   {
    "duration": 12,
    "start_time": "2023-03-05T16:42:00.545Z"
   },
   {
    "duration": 166,
    "start_time": "2023-03-05T16:42:00.558Z"
   },
   {
    "duration": 418,
    "start_time": "2023-03-05T16:42:00.726Z"
   },
   {
    "duration": 992,
    "start_time": "2023-03-05T16:42:01.146Z"
   },
   {
    "duration": 32,
    "start_time": "2023-03-05T16:42:02.140Z"
   },
   {
    "duration": 3,
    "start_time": "2023-03-05T16:42:02.174Z"
   },
   {
    "duration": 351,
    "start_time": "2023-03-05T16:42:02.179Z"
   },
   {
    "duration": 4,
    "start_time": "2023-03-05T16:42:02.531Z"
   },
   {
    "duration": 1589,
    "start_time": "2023-03-05T16:42:02.537Z"
   },
   {
    "duration": 3,
    "start_time": "2023-03-05T16:42:04.128Z"
   },
   {
    "duration": 5,
    "start_time": "2023-03-05T16:42:04.133Z"
   },
   {
    "duration": 83,
    "start_time": "2023-03-05T16:42:04.139Z"
   },
   {
    "duration": 773,
    "start_time": "2023-03-05T16:42:04.224Z"
   },
   {
    "duration": 427,
    "start_time": "2023-03-05T16:42:04.999Z"
   },
   {
    "duration": 11,
    "start_time": "2023-03-05T16:42:05.428Z"
   },
   {
    "duration": 24,
    "start_time": "2023-03-05T16:42:05.440Z"
   },
   {
    "duration": 50,
    "start_time": "2023-03-05T16:42:05.466Z"
   },
   {
    "duration": 833,
    "start_time": "2023-03-05T16:42:05.518Z"
   },
   {
    "duration": 932,
    "start_time": "2023-03-05T16:42:06.352Z"
   },
   {
    "duration": 306,
    "start_time": "2023-03-05T16:42:07.286Z"
   },
   {
    "duration": 12,
    "start_time": "2023-03-05T16:42:07.594Z"
   },
   {
    "duration": 26,
    "start_time": "2023-03-05T16:42:07.609Z"
   },
   {
    "duration": 100,
    "start_time": "2023-03-05T16:42:07.637Z"
   },
   {
    "duration": 953,
    "start_time": "2023-03-05T16:42:07.738Z"
   },
   {
    "duration": 308,
    "start_time": "2023-03-05T16:42:08.695Z"
   },
   {
    "duration": 14,
    "start_time": "2023-03-05T16:42:09.005Z"
   },
   {
    "duration": 11,
    "start_time": "2023-03-05T16:42:09.023Z"
   },
   {
    "duration": 58,
    "start_time": "2023-03-05T16:42:09.035Z"
   },
   {
    "duration": 59,
    "start_time": "2023-03-05T16:42:09.103Z"
   },
   {
    "duration": 21,
    "start_time": "2023-03-05T16:42:09.164Z"
   },
   {
    "duration": 289,
    "start_time": "2023-03-05T16:42:09.192Z"
   },
   {
    "duration": 16,
    "start_time": "2023-03-05T16:42:09.482Z"
   },
   {
    "duration": 108,
    "start_time": "2023-03-05T16:42:09.500Z"
   },
   {
    "duration": 64,
    "start_time": "2023-03-05T16:42:09.610Z"
   },
   {
    "duration": 48,
    "start_time": "2023-03-05T16:42:09.676Z"
   },
   {
    "duration": 28,
    "start_time": "2023-03-05T16:42:09.726Z"
   },
   {
    "duration": 37,
    "start_time": "2023-03-05T16:42:09.755Z"
   },
   {
    "duration": 35,
    "start_time": "2023-03-05T16:42:09.794Z"
   },
   {
    "duration": 33,
    "start_time": "2023-03-05T16:42:09.831Z"
   },
   {
    "duration": 116,
    "start_time": "2023-03-05T16:42:09.865Z"
   },
   {
    "duration": 80,
    "start_time": "2023-03-05T16:42:09.983Z"
   },
   {
    "duration": 48,
    "start_time": "2023-03-05T16:42:10.065Z"
   },
   {
    "duration": 886,
    "start_time": "2023-03-05T16:42:10.115Z"
   },
   {
    "duration": 15,
    "start_time": "2023-03-05T16:42:11.003Z"
   },
   {
    "duration": 50,
    "start_time": "2023-03-05T16:42:11.019Z"
   },
   {
    "duration": 23,
    "start_time": "2023-03-05T16:42:11.070Z"
   },
   {
    "duration": 28,
    "start_time": "2023-03-05T16:42:11.095Z"
   },
   {
    "duration": 5,
    "start_time": "2023-03-05T16:42:11.124Z"
   },
   {
    "duration": 302762,
    "start_time": "2023-03-05T16:42:11.130Z"
   },
   {
    "duration": 21075,
    "start_time": "2023-03-05T16:47:13.894Z"
   },
   {
    "duration": 167,
    "start_time": "2023-03-05T16:47:34.971Z"
   },
   {
    "duration": 6,
    "start_time": "2023-03-05T16:47:35.140Z"
   },
   {
    "duration": 253,
    "start_time": "2023-03-05T16:47:35.148Z"
   },
   {
    "duration": 5,
    "start_time": "2023-03-05T16:47:35.404Z"
   },
   {
    "duration": 153,
    "start_time": "2023-03-05T16:47:35.412Z"
   },
   {
    "duration": 89,
    "start_time": "2023-03-05T16:47:35.568Z"
   },
   {
    "duration": 343347,
    "start_time": "2023-03-05T16:47:35.659Z"
   },
   {
    "duration": 596,
    "start_time": "2023-03-05T16:53:19.008Z"
   },
   {
    "duration": 278,
    "start_time": "2023-03-05T16:53:19.607Z"
   },
   {
    "duration": 167106,
    "start_time": "2023-03-05T16:53:19.887Z"
   },
   {
    "duration": 396,
    "start_time": "2023-03-05T16:56:06.996Z"
   },
   {
    "duration": 987,
    "start_time": "2023-03-05T16:56:07.394Z"
   },
   {
    "duration": 161116,
    "start_time": "2023-03-05T16:56:08.382Z"
   },
   {
    "duration": 197,
    "start_time": "2023-03-05T16:58:49.506Z"
   },
   {
    "duration": 13,
    "start_time": "2023-03-05T16:58:49.707Z"
   },
   {
    "duration": 92,
    "start_time": "2023-03-05T16:58:49.724Z"
   },
   {
    "duration": 469137,
    "start_time": "2023-03-05T16:58:49.819Z"
   },
   {
    "duration": 87203,
    "start_time": "2023-03-05T17:06:38.957Z"
   },
   {
    "duration": 305,
    "start_time": "2023-03-05T17:08:06.162Z"
   },
   {
    "duration": 5,
    "start_time": "2023-03-05T17:08:06.469Z"
   },
   {
    "duration": 97,
    "start_time": "2023-03-05T17:08:06.498Z"
   },
   {
    "duration": 18,
    "start_time": "2023-03-05T17:08:06.603Z"
   },
   {
    "duration": 92,
    "start_time": "2023-03-05T17:08:06.623Z"
   },
   {
    "duration": 33,
    "start_time": "2023-03-05T17:08:06.720Z"
   },
   {
    "duration": 4,
    "start_time": "2023-03-05T17:08:06.754Z"
   },
   {
    "duration": 44,
    "start_time": "2023-03-05T17:08:06.759Z"
   },
   {
    "duration": 15142,
    "start_time": "2023-03-05T17:08:06.805Z"
   },
   {
    "duration": 102,
    "start_time": "2023-03-05T17:08:21.950Z"
   },
   {
    "duration": 189,
    "start_time": "2023-03-05T17:08:22.054Z"
   },
   {
    "duration": 101,
    "start_time": "2023-03-05T17:08:22.245Z"
   },
   {
    "duration": 30,
    "start_time": "2023-03-05T17:08:22.350Z"
   },
   {
    "duration": 67824,
    "start_time": "2023-03-05T17:08:22.381Z"
   },
   {
    "duration": 505,
    "start_time": "2023-03-05T17:09:30.207Z"
   },
   {
    "duration": 89,
    "start_time": "2023-03-05T17:09:30.713Z"
   },
   {
    "duration": 51,
    "start_time": "2023-03-05T17:09:39.468Z"
   },
   {
    "duration": 360,
    "start_time": "2023-03-05T17:14:02.174Z"
   },
   {
    "duration": 7,
    "start_time": "2023-03-05T17:25:06.817Z"
   },
   {
    "duration": 7,
    "start_time": "2023-03-05T17:25:11.019Z"
   },
   {
    "duration": 8,
    "start_time": "2023-03-05T17:25:15.417Z"
   },
   {
    "duration": 8,
    "start_time": "2023-03-05T17:25:18.524Z"
   },
   {
    "duration": 7,
    "start_time": "2023-03-05T17:25:22.219Z"
   },
   {
    "duration": 7,
    "start_time": "2023-03-05T17:25:24.774Z"
   },
   {
    "duration": 327,
    "start_time": "2023-03-05T17:25:31.514Z"
   },
   {
    "duration": 60,
    "start_time": "2023-03-05T17:42:42.468Z"
   },
   {
    "duration": 30,
    "start_time": "2023-03-05T17:48:12.734Z"
   },
   {
    "duration": 3,
    "start_time": "2023-03-05T17:54:02.824Z"
   },
   {
    "duration": 4,
    "start_time": "2023-03-05T18:02:44.934Z"
   },
   {
    "duration": 110,
    "start_time": "2023-03-05T18:03:46.044Z"
   },
   {
    "duration": 3,
    "start_time": "2023-03-05T18:03:51.605Z"
   },
   {
    "duration": 55,
    "start_time": "2023-03-05T18:04:14.284Z"
   },
   {
    "duration": 1578,
    "start_time": "2023-03-05T18:36:08.517Z"
   },
   {
    "duration": 1060,
    "start_time": "2023-03-05T18:36:10.098Z"
   },
   {
    "duration": 18,
    "start_time": "2023-03-05T18:36:11.160Z"
   },
   {
    "duration": 129,
    "start_time": "2023-03-05T18:36:11.666Z"
   },
   {
    "duration": 125,
    "start_time": "2023-03-05T18:36:41.758Z"
   },
   {
    "duration": 4,
    "start_time": "2023-03-05T18:36:45.884Z"
   },
   {
    "duration": 254,
    "start_time": "2023-03-05T18:38:04.294Z"
   },
   {
    "duration": 721,
    "start_time": "2023-03-05T18:38:24.156Z"
   },
   {
    "duration": 62,
    "start_time": "2023-03-05T18:38:29.157Z"
   },
   {
    "duration": 3,
    "start_time": "2023-03-05T18:38:29.862Z"
   },
   {
    "duration": 311,
    "start_time": "2023-03-05T18:38:36.087Z"
   },
   {
    "duration": 3,
    "start_time": "2023-03-05T18:38:38.035Z"
   },
   {
    "duration": 898,
    "start_time": "2023-03-05T18:38:42.218Z"
   },
   {
    "duration": 3,
    "start_time": "2023-03-05T18:38:43.481Z"
   },
   {
    "duration": 2,
    "start_time": "2023-03-05T18:38:44.660Z"
   },
   {
    "duration": 28,
    "start_time": "2023-03-05T18:38:45.715Z"
   },
   {
    "duration": 306,
    "start_time": "2023-03-05T18:38:46.229Z"
   },
   {
    "duration": 310,
    "start_time": "2023-03-05T18:38:46.758Z"
   },
   {
    "duration": 10,
    "start_time": "2023-03-05T18:38:48.403Z"
   },
   {
    "duration": 26,
    "start_time": "2023-03-05T18:38:49.095Z"
   },
   {
    "duration": 25,
    "start_time": "2023-03-05T18:38:49.720Z"
   },
   {
    "duration": 728,
    "start_time": "2023-03-05T18:38:57.082Z"
   },
   {
    "duration": 746,
    "start_time": "2023-03-05T18:39:02.894Z"
   },
   {
    "duration": 296,
    "start_time": "2023-03-05T18:39:03.642Z"
   },
   {
    "duration": 8,
    "start_time": "2023-03-05T18:39:05.059Z"
   },
   {
    "duration": 25,
    "start_time": "2023-03-05T18:39:06.458Z"
   },
   {
    "duration": 72,
    "start_time": "2023-03-05T18:39:16.786Z"
   },
   {
    "duration": 814,
    "start_time": "2023-03-05T18:39:17.442Z"
   },
   {
    "duration": 278,
    "start_time": "2023-03-05T18:39:18.688Z"
   },
   {
    "duration": 13,
    "start_time": "2023-03-05T18:39:19.814Z"
   },
   {
    "duration": 13,
    "start_time": "2023-03-05T18:39:20.735Z"
   },
   {
    "duration": 31,
    "start_time": "2023-03-05T18:39:26.669Z"
   },
   {
    "duration": 59,
    "start_time": "2023-03-05T18:39:27.373Z"
   },
   {
    "duration": 24,
    "start_time": "2023-03-05T18:39:28.059Z"
   },
   {
    "duration": 273,
    "start_time": "2023-03-05T18:39:28.783Z"
   },
   {
    "duration": 10,
    "start_time": "2023-03-05T18:39:29.434Z"
   },
   {
    "duration": 96,
    "start_time": "2023-03-05T18:39:30.180Z"
   },
   {
    "duration": 66,
    "start_time": "2023-03-05T18:39:52.871Z"
   },
   {
    "duration": 26,
    "start_time": "2023-03-05T18:39:54.456Z"
   },
   {
    "duration": 25,
    "start_time": "2023-03-05T18:39:55.225Z"
   },
   {
    "duration": 25,
    "start_time": "2023-03-05T18:39:55.955Z"
   },
   {
    "duration": 30,
    "start_time": "2023-03-05T18:39:56.732Z"
   },
   {
    "duration": 26,
    "start_time": "2023-03-05T18:39:57.315Z"
   },
   {
    "duration": 73,
    "start_time": "2023-03-05T18:39:57.977Z"
   },
   {
    "duration": 66,
    "start_time": "2023-03-05T18:40:03.784Z"
   },
   {
    "duration": 23,
    "start_time": "2023-03-05T18:40:04.501Z"
   },
   {
    "duration": 793,
    "start_time": "2023-03-05T18:40:06.471Z"
   },
   {
    "duration": 13,
    "start_time": "2023-03-05T18:40:08.937Z"
   },
   {
    "duration": 59,
    "start_time": "2023-03-05T18:40:09.482Z"
   },
   {
    "duration": 4,
    "start_time": "2023-03-05T18:40:10.013Z"
   },
   {
    "duration": 17,
    "start_time": "2023-03-05T18:40:14.573Z"
   },
   {
    "duration": 4,
    "start_time": "2023-03-05T18:40:15.335Z"
   },
   {
    "duration": 189846,
    "start_time": "2023-03-05T18:40:16.239Z"
   },
   {
    "duration": 17734,
    "start_time": "2023-03-05T18:43:26.087Z"
   },
   {
    "duration": 119,
    "start_time": "2023-03-05T18:43:43.823Z"
   },
   {
    "duration": 5,
    "start_time": "2023-03-05T18:43:43.943Z"
   },
   {
    "duration": 191,
    "start_time": "2023-03-05T18:43:43.949Z"
   },
   {
    "duration": 5,
    "start_time": "2023-03-05T18:43:44.143Z"
   },
   {
    "duration": 4,
    "start_time": "2023-03-05T18:43:57.492Z"
   },
   {
    "duration": 271588,
    "start_time": "2023-03-05T18:44:15.920Z"
   },
   {
    "duration": 17573,
    "start_time": "2023-03-05T18:49:31.555Z"
   },
   {
    "duration": 116,
    "start_time": "2023-03-05T18:50:07.484Z"
   },
   {
    "duration": 5,
    "start_time": "2023-03-05T18:50:11.485Z"
   },
   {
    "duration": 170,
    "start_time": "2023-03-05T18:50:18.890Z"
   },
   {
    "duration": 5,
    "start_time": "2023-03-05T18:57:18.518Z"
   },
   {
    "duration": 113,
    "start_time": "2023-03-05T18:57:19.119Z"
   },
   {
    "duration": 48,
    "start_time": "2023-03-05T18:57:20.539Z"
   },
   {
    "duration": 8,
    "start_time": "2023-03-05T19:00:17.389Z"
   },
   {
    "duration": 125,
    "start_time": "2023-03-05T19:00:53.906Z"
   },
   {
    "duration": 4,
    "start_time": "2023-03-05T19:01:05.915Z"
   },
   {
    "duration": 432,
    "start_time": "2023-03-05T19:01:06.736Z"
   },
   {
    "duration": 6,
    "start_time": "2023-03-05T19:01:42.046Z"
   },
   {
    "duration": 414,
    "start_time": "2023-03-05T19:01:42.805Z"
   },
   {
    "duration": 6,
    "start_time": "2023-03-05T19:06:16.552Z"
   },
   {
    "duration": 432,
    "start_time": "2023-03-05T19:06:17.382Z"
   },
   {
    "duration": 5,
    "start_time": "2023-03-05T19:08:09.987Z"
   },
   {
    "duration": 102,
    "start_time": "2023-03-05T19:08:10.470Z"
   },
   {
    "duration": 1504905,
    "start_time": "2023-03-05T19:08:30.184Z"
   },
   {
    "duration": 4,
    "start_time": "2023-03-05T19:34:47.529Z"
   },
   {
    "duration": 1684016,
    "start_time": "2023-03-05T19:34:51.977Z"
   },
   {
    "duration": 9,
    "start_time": "2023-03-05T21:03:09.987Z"
   },
   {
    "duration": 2032,
    "start_time": "2023-03-05T21:42:25.120Z"
   },
   {
    "duration": 8,
    "start_time": "2023-03-05T21:42:59.133Z"
   },
   {
    "duration": 1324,
    "start_time": "2023-03-05T21:43:02.426Z"
   },
   {
    "duration": 21,
    "start_time": "2023-03-05T21:43:04.566Z"
   },
   {
    "duration": 163,
    "start_time": "2023-03-05T21:43:05.337Z"
   },
   {
    "duration": 7,
    "start_time": "2023-03-05T21:43:07.861Z"
   },
   {
    "duration": 284,
    "start_time": "2023-03-05T21:43:08.470Z"
   },
   {
    "duration": 144,
    "start_time": "2023-03-05T21:43:09.984Z"
   },
   {
    "duration": 270,
    "start_time": "2023-03-05T21:43:22.333Z"
   },
   {
    "duration": 858,
    "start_time": "2023-03-05T21:44:40.064Z"
   },
   {
    "duration": 62,
    "start_time": "2023-03-05T21:44:42.666Z"
   },
   {
    "duration": 5,
    "start_time": "2023-03-05T21:44:43.817Z"
   },
   {
    "duration": 334,
    "start_time": "2023-03-05T21:44:48.031Z"
   },
   {
    "duration": 3,
    "start_time": "2023-03-05T21:44:49.257Z"
   },
   {
    "duration": 847,
    "start_time": "2023-03-05T21:44:51.325Z"
   },
   {
    "duration": 5,
    "start_time": "2023-03-05T21:44:53.314Z"
   },
   {
    "duration": 2,
    "start_time": "2023-03-05T21:44:54.539Z"
   },
   {
    "duration": 42,
    "start_time": "2023-03-05T21:44:55.668Z"
   },
   {
    "duration": 483,
    "start_time": "2023-03-05T21:44:56.261Z"
   },
   {
    "duration": 315,
    "start_time": "2023-03-05T21:44:57.066Z"
   },
   {
    "duration": 11,
    "start_time": "2023-03-05T21:44:59.130Z"
   },
   {
    "duration": 42,
    "start_time": "2023-03-05T21:44:59.979Z"
   },
   {
    "duration": 24,
    "start_time": "2023-03-05T21:45:01.962Z"
   },
   {
    "duration": 994,
    "start_time": "2023-03-05T21:45:21.769Z"
   },
   {
    "duration": 915,
    "start_time": "2023-03-05T21:46:00.805Z"
   },
   {
    "duration": 340,
    "start_time": "2023-03-05T21:46:01.722Z"
   },
   {
    "duration": 8,
    "start_time": "2023-03-05T21:46:15.965Z"
   },
   {
    "duration": 30,
    "start_time": "2023-03-05T21:46:17.098Z"
   },
   {
    "duration": 92,
    "start_time": "2023-03-05T21:46:20.546Z"
   },
   {
    "duration": 938,
    "start_time": "2023-03-05T21:46:21.266Z"
   },
   {
    "duration": 322,
    "start_time": "2023-03-05T21:46:22.523Z"
   },
   {
    "duration": 12,
    "start_time": "2023-03-05T21:46:23.166Z"
   },
   {
    "duration": 12,
    "start_time": "2023-03-05T21:46:23.874Z"
   },
   {
    "duration": 36,
    "start_time": "2023-03-05T21:46:25.170Z"
   },
   {
    "duration": 77,
    "start_time": "2023-03-05T21:46:25.860Z"
   },
   {
    "duration": 26,
    "start_time": "2023-03-05T21:46:26.444Z"
   },
   {
    "duration": 306,
    "start_time": "2023-03-05T21:46:27.259Z"
   },
   {
    "duration": 10,
    "start_time": "2023-03-05T21:46:27.929Z"
   },
   {
    "duration": 101,
    "start_time": "2023-03-05T21:46:28.572Z"
   },
   {
    "duration": 99,
    "start_time": "2023-03-05T21:46:34.721Z"
   },
   {
    "duration": 63,
    "start_time": "2023-03-05T21:48:00.314Z"
   },
   {
    "duration": 30,
    "start_time": "2023-03-05T21:48:01.569Z"
   },
   {
    "duration": 24,
    "start_time": "2023-03-05T21:48:02.147Z"
   },
   {
    "duration": 42,
    "start_time": "2023-03-05T21:48:02.661Z"
   },
   {
    "duration": 28,
    "start_time": "2023-03-05T21:48:03.321Z"
   },
   {
    "duration": 26,
    "start_time": "2023-03-05T21:48:03.915Z"
   },
   {
    "duration": 89,
    "start_time": "2023-03-05T21:48:04.483Z"
   },
   {
    "duration": 81,
    "start_time": "2023-03-05T21:48:06.150Z"
   },
   {
    "duration": 24,
    "start_time": "2023-03-05T21:48:06.817Z"
   },
   {
    "duration": 863,
    "start_time": "2023-03-05T21:48:08.514Z"
   },
   {
    "duration": 13,
    "start_time": "2023-03-05T21:48:10.954Z"
   },
   {
    "duration": 64,
    "start_time": "2023-03-05T21:48:11.578Z"
   },
   {
    "duration": 4,
    "start_time": "2023-03-05T21:48:12.152Z"
   },
   {
    "duration": 16,
    "start_time": "2023-03-05T21:48:16.021Z"
   },
   {
    "duration": 5,
    "start_time": "2023-03-05T21:48:16.816Z"
   },
   {
    "duration": 305467,
    "start_time": "2023-03-05T21:48:27.819Z"
   },
   {
    "duration": 19373,
    "start_time": "2023-03-05T21:54:39.865Z"
   },
   {
    "duration": 117,
    "start_time": "2023-03-05T21:55:02.548Z"
   },
   {
    "duration": 5,
    "start_time": "2023-03-05T21:55:04.251Z"
   },
   {
    "duration": 181,
    "start_time": "2023-03-05T21:55:08.283Z"
   },
   {
    "duration": 4,
    "start_time": "2023-03-05T21:55:12.817Z"
   },
   {
    "duration": 117,
    "start_time": "2023-03-05T21:55:13.659Z"
   },
   {
    "duration": 56,
    "start_time": "2023-03-05T21:55:14.667Z"
   },
   {
    "duration": 4,
    "start_time": "2023-03-05T21:55:16.067Z"
   },
   {
    "duration": 10611,
    "start_time": "2023-03-05T21:55:17.240Z"
   },
   {
    "duration": 1497,
    "start_time": "2023-03-05T22:13:43.091Z"
   },
   {
    "duration": 849,
    "start_time": "2023-03-05T22:13:51.257Z"
   },
   {
    "duration": 17,
    "start_time": "2023-03-05T22:13:52.108Z"
   },
   {
    "duration": 146,
    "start_time": "2023-03-05T22:13:52.215Z"
   },
   {
    "duration": 5,
    "start_time": "2023-03-05T22:13:54.148Z"
   },
   {
    "duration": 289,
    "start_time": "2023-03-05T22:13:54.586Z"
   },
   {
    "duration": 238,
    "start_time": "2023-03-05T22:13:55.013Z"
   },
   {
    "duration": 886,
    "start_time": "2023-03-05T22:13:55.577Z"
   },
   {
    "duration": 49,
    "start_time": "2023-03-05T22:13:56.465Z"
   },
   {
    "duration": 5,
    "start_time": "2023-03-05T22:13:56.522Z"
   },
   {
    "duration": 317,
    "start_time": "2023-03-05T22:13:57.241Z"
   },
   {
    "duration": 4,
    "start_time": "2023-03-05T22:13:57.560Z"
   },
   {
    "duration": 883,
    "start_time": "2023-03-05T22:13:57.891Z"
   },
   {
    "duration": 2,
    "start_time": "2023-03-05T22:13:58.776Z"
   },
   {
    "duration": 5,
    "start_time": "2023-03-05T22:13:58.779Z"
   },
   {
    "duration": 25,
    "start_time": "2023-03-05T22:13:59.033Z"
   },
   {
    "duration": 398,
    "start_time": "2023-03-05T22:13:59.233Z"
   },
   {
    "duration": 335,
    "start_time": "2023-03-05T22:13:59.633Z"
   },
   {
    "duration": 9,
    "start_time": "2023-03-05T22:13:59.970Z"
   },
   {
    "duration": 28,
    "start_time": "2023-03-05T22:14:00.110Z"
   },
   {
    "duration": 25,
    "start_time": "2023-03-05T22:14:00.327Z"
   },
   {
    "duration": 901,
    "start_time": "2023-03-05T22:14:02.515Z"
   },
   {
    "duration": 903,
    "start_time": "2023-03-05T22:14:05.403Z"
   },
   {
    "duration": 365,
    "start_time": "2023-03-05T22:14:06.308Z"
   },
   {
    "duration": 10,
    "start_time": "2023-03-05T22:14:06.911Z"
   },
   {
    "duration": 24,
    "start_time": "2023-03-05T22:14:08.058Z"
   },
   {
    "duration": 74,
    "start_time": "2023-03-05T22:14:10.312Z"
   },
   {
    "duration": 771,
    "start_time": "2023-03-05T22:14:11.214Z"
   },
   {
    "duration": 401,
    "start_time": "2023-03-05T22:14:12.243Z"
   },
   {
    "duration": 13,
    "start_time": "2023-03-05T22:14:12.759Z"
   },
   {
    "duration": 12,
    "start_time": "2023-03-05T22:14:13.273Z"
   },
   {
    "duration": 30,
    "start_time": "2023-03-05T22:14:14.335Z"
   },
   {
    "duration": 60,
    "start_time": "2023-03-05T22:14:14.917Z"
   },
   {
    "duration": 22,
    "start_time": "2023-03-05T22:14:15.439Z"
   },
   {
    "duration": 335,
    "start_time": "2023-03-05T22:14:16.020Z"
   },
   {
    "duration": 11,
    "start_time": "2023-03-05T22:14:16.524Z"
   },
   {
    "duration": 118,
    "start_time": "2023-03-05T22:14:17.748Z"
   },
   {
    "duration": 82,
    "start_time": "2023-03-05T22:14:23.491Z"
   },
   {
    "duration": 26,
    "start_time": "2023-03-05T22:14:25.221Z"
   },
   {
    "duration": 36,
    "start_time": "2023-03-05T22:14:25.903Z"
   },
   {
    "duration": 26,
    "start_time": "2023-03-05T22:14:26.731Z"
   },
   {
    "duration": 33,
    "start_time": "2023-03-05T22:14:27.967Z"
   },
   {
    "duration": 45,
    "start_time": "2023-03-05T22:14:28.308Z"
   },
   {
    "duration": 82,
    "start_time": "2023-03-05T22:14:28.904Z"
   },
   {
    "duration": 86,
    "start_time": "2023-03-05T22:14:31.851Z"
   },
   {
    "duration": 27,
    "start_time": "2023-03-05T22:14:32.875Z"
   },
   {
    "duration": 1023,
    "start_time": "2023-03-05T22:14:34.664Z"
   },
   {
    "duration": 18,
    "start_time": "2023-03-05T22:14:37.378Z"
   },
   {
    "duration": 51,
    "start_time": "2023-03-05T22:14:37.939Z"
   },
   {
    "duration": 7,
    "start_time": "2023-03-05T22:14:38.513Z"
   },
   {
    "duration": 17,
    "start_time": "2023-03-05T22:14:41.619Z"
   },
   {
    "duration": 5,
    "start_time": "2023-03-05T22:14:42.260Z"
   },
   {
    "duration": 314565,
    "start_time": "2023-03-05T22:14:42.888Z"
   },
   {
    "duration": 22071,
    "start_time": "2023-03-05T22:19:57.455Z"
   },
   {
    "duration": 124,
    "start_time": "2023-03-05T22:20:19.530Z"
   },
   {
    "duration": 4,
    "start_time": "2023-03-05T22:20:19.656Z"
   },
   {
    "duration": 216,
    "start_time": "2023-03-05T22:20:19.662Z"
   },
   {
    "duration": 4,
    "start_time": "2023-03-05T22:20:19.879Z"
   },
   {
    "duration": 134,
    "start_time": "2023-03-05T22:20:19.893Z"
   },
   {
    "duration": 65,
    "start_time": "2023-03-05T22:20:20.029Z"
   },
   {
    "duration": 12,
    "start_time": "2023-03-05T22:20:20.095Z"
   },
   {
    "duration": 673369,
    "start_time": "2023-03-05T22:20:20.109Z"
   },
   {
    "duration": 11,
    "start_time": "2023-03-05T22:31:54.789Z"
   },
   {
    "duration": 161427,
    "start_time": "2023-03-05T22:31:55.742Z"
   },
   {
    "duration": 13,
    "start_time": "2023-03-05T22:35:07.777Z"
   },
   {
    "duration": 5,
    "start_time": "2023-03-05T22:37:43.809Z"
   },
   {
    "duration": 108502,
    "start_time": "2023-03-05T22:37:44.831Z"
   },
   {
    "duration": 935,
    "start_time": "2023-03-05T22:39:44.616Z"
   },
   {
    "duration": 76,
    "start_time": "2023-03-05T22:39:47.165Z"
   },
   {
    "duration": 215133,
    "start_time": "2023-03-05T22:40:29.020Z"
   },
   {
    "duration": 96,
    "start_time": "2023-03-05T22:46:37.349Z"
   },
   {
    "duration": 217227,
    "start_time": "2023-03-05T22:46:43.638Z"
   },
   {
    "duration": 271489,
    "start_time": "2023-03-05T22:50:24.715Z"
   },
   {
    "duration": 179,
    "start_time": "2023-03-05T22:55:45.822Z"
   },
   {
    "duration": 4,
    "start_time": "2023-03-05T22:55:47.154Z"
   },
   {
    "duration": 5,
    "start_time": "2023-03-05T22:56:02.118Z"
   },
   {
    "duration": 439279,
    "start_time": "2023-03-05T22:56:04.517Z"
   },
   {
    "duration": 80149,
    "start_time": "2023-03-05T23:03:23.802Z"
   },
   {
    "duration": 267,
    "start_time": "2023-03-05T23:04:43.953Z"
   },
   {
    "duration": 4,
    "start_time": "2023-03-05T23:04:44.222Z"
   },
   {
    "duration": 14,
    "start_time": "2023-03-05T23:04:51.034Z"
   },
   {
    "duration": 14,
    "start_time": "2023-03-05T23:05:41.032Z"
   },
   {
    "duration": 4,
    "start_time": "2023-03-05T23:06:00.957Z"
   },
   {
    "duration": 4,
    "start_time": "2023-03-05T23:06:34.081Z"
   },
   {
    "duration": 12,
    "start_time": "2023-03-05T23:06:58.916Z"
   },
   {
    "duration": 7,
    "start_time": "2023-03-05T23:07:20.037Z"
   },
   {
    "duration": 790,
    "start_time": "2023-03-05T23:07:20.458Z"
   },
   {
    "duration": 13,
    "start_time": "2023-03-05T23:07:21.250Z"
   },
   {
    "duration": 147,
    "start_time": "2023-03-05T23:07:21.264Z"
   },
   {
    "duration": 4,
    "start_time": "2023-03-05T23:07:22.467Z"
   },
   {
    "duration": 229,
    "start_time": "2023-03-05T23:07:22.779Z"
   },
   {
    "duration": 218,
    "start_time": "2023-03-05T23:07:23.018Z"
   },
   {
    "duration": 740,
    "start_time": "2023-03-05T23:07:23.464Z"
   },
   {
    "duration": 36,
    "start_time": "2023-03-05T23:07:24.216Z"
   },
   {
    "duration": 4,
    "start_time": "2023-03-05T23:07:24.268Z"
   },
   {
    "duration": 338,
    "start_time": "2023-03-05T23:07:26.385Z"
   },
   {
    "duration": 4,
    "start_time": "2023-03-05T23:07:27.116Z"
   },
   {
    "duration": 946,
    "start_time": "2023-03-05T23:07:27.920Z"
   },
   {
    "duration": 2,
    "start_time": "2023-03-05T23:07:28.868Z"
   },
   {
    "duration": 5,
    "start_time": "2023-03-05T23:07:28.871Z"
   },
   {
    "duration": 24,
    "start_time": "2023-03-05T23:07:29.231Z"
   },
   {
    "duration": 318,
    "start_time": "2023-03-05T23:07:29.429Z"
   },
   {
    "duration": 320,
    "start_time": "2023-03-05T23:07:29.749Z"
   },
   {
    "duration": 10,
    "start_time": "2023-03-05T23:07:30.072Z"
   },
   {
    "duration": 25,
    "start_time": "2023-03-05T23:07:30.264Z"
   },
   {
    "duration": 26,
    "start_time": "2023-03-05T23:07:30.464Z"
   },
   {
    "duration": 852,
    "start_time": "2023-03-05T23:07:31.316Z"
   },
   {
    "duration": 857,
    "start_time": "2023-03-05T23:07:32.419Z"
   },
   {
    "duration": 327,
    "start_time": "2023-03-05T23:07:33.278Z"
   },
   {
    "duration": 10,
    "start_time": "2023-03-05T23:07:33.610Z"
   },
   {
    "duration": 24,
    "start_time": "2023-03-05T23:07:33.623Z"
   },
   {
    "duration": 74,
    "start_time": "2023-03-05T23:07:34.516Z"
   },
   {
    "duration": 986,
    "start_time": "2023-03-05T23:07:34.726Z"
   },
   {
    "duration": 297,
    "start_time": "2023-03-05T23:07:35.946Z"
   },
   {
    "duration": 16,
    "start_time": "2023-03-05T23:07:36.492Z"
   },
   {
    "duration": 11,
    "start_time": "2023-03-05T23:07:37.068Z"
   },
   {
    "duration": 30,
    "start_time": "2023-03-05T23:07:37.551Z"
   },
   {
    "duration": 73,
    "start_time": "2023-03-05T23:07:37.766Z"
   },
   {
    "duration": 22,
    "start_time": "2023-03-05T23:07:38.044Z"
   },
   {
    "duration": 319,
    "start_time": "2023-03-05T23:07:38.326Z"
   },
   {
    "duration": 10,
    "start_time": "2023-03-05T23:07:38.647Z"
   },
   {
    "duration": 119,
    "start_time": "2023-03-05T23:07:39.088Z"
   },
   {
    "duration": 95,
    "start_time": "2023-03-05T23:07:42.282Z"
   },
   {
    "duration": 25,
    "start_time": "2023-03-05T23:07:42.626Z"
   },
   {
    "duration": 31,
    "start_time": "2023-03-05T23:07:42.811Z"
   },
   {
    "duration": 42,
    "start_time": "2023-03-05T23:07:42.982Z"
   },
   {
    "duration": 27,
    "start_time": "2023-03-05T23:07:43.161Z"
   },
   {
    "duration": 24,
    "start_time": "2023-03-05T23:07:43.348Z"
   },
   {
    "duration": 78,
    "start_time": "2023-03-05T23:07:43.525Z"
   },
   {
    "duration": 83,
    "start_time": "2023-03-05T23:07:44.084Z"
   },
   {
    "duration": 30,
    "start_time": "2023-03-05T23:07:44.249Z"
   },
   {
    "duration": 865,
    "start_time": "2023-03-05T23:07:44.807Z"
   },
   {
    "duration": 36,
    "start_time": "2023-03-05T23:07:45.674Z"
   },
   {
    "duration": 52,
    "start_time": "2023-03-05T23:07:45.723Z"
   },
   {
    "duration": 4,
    "start_time": "2023-03-05T23:07:45.927Z"
   },
   {
    "duration": 22,
    "start_time": "2023-03-05T23:07:46.887Z"
   },
   {
    "duration": 13,
    "start_time": "2023-03-05T23:07:47.093Z"
   },
   {
    "duration": 49416,
    "start_time": "2023-03-05T23:07:47.304Z"
   },
   {
    "duration": 7,
    "start_time": "2023-03-05T23:08:55.999Z"
   },
   {
    "duration": 0,
    "start_time": "2023-03-05T23:08:56.008Z"
   },
   {
    "duration": 0,
    "start_time": "2023-03-05T23:08:56.009Z"
   },
   {
    "duration": 0,
    "start_time": "2023-03-05T23:08:56.010Z"
   },
   {
    "duration": 0,
    "start_time": "2023-03-05T23:08:56.011Z"
   },
   {
    "duration": 0,
    "start_time": "2023-03-05T23:08:56.014Z"
   },
   {
    "duration": 5,
    "start_time": "2023-03-05T23:12:01.961Z"
   },
   {
    "duration": 326496,
    "start_time": "2023-03-05T23:12:03.385Z"
   },
   {
    "duration": 21365,
    "start_time": "2023-03-05T23:17:29.883Z"
   },
   {
    "duration": 125,
    "start_time": "2023-03-05T23:17:51.250Z"
   },
   {
    "duration": 4,
    "start_time": "2023-03-05T23:17:51.377Z"
   },
   {
    "duration": 202,
    "start_time": "2023-03-05T23:18:18.075Z"
   },
   {
    "duration": 5,
    "start_time": "2023-03-05T23:18:20.977Z"
   },
   {
    "duration": 131,
    "start_time": "2023-03-05T23:18:21.554Z"
   },
   {
    "duration": 49,
    "start_time": "2023-03-05T23:18:22.230Z"
   },
   {
    "duration": 5,
    "start_time": "2023-03-05T23:18:22.862Z"
   },
   {
    "duration": 1985,
    "start_time": "2023-03-06T06:12:31.177Z"
   },
   {
    "duration": 4027,
    "start_time": "2023-03-06T06:12:35.010Z"
   },
   {
    "duration": 32,
    "start_time": "2023-03-06T06:12:39.039Z"
   },
   {
    "duration": 186,
    "start_time": "2023-03-06T06:12:39.073Z"
   },
   {
    "duration": 8,
    "start_time": "2023-03-06T06:12:39.261Z"
   },
   {
    "duration": 347,
    "start_time": "2023-03-06T06:12:39.271Z"
   },
   {
    "duration": 355,
    "start_time": "2023-03-06T06:12:39.620Z"
   },
   {
    "duration": 981,
    "start_time": "2023-03-06T06:12:39.976Z"
   },
   {
    "duration": 65,
    "start_time": "2023-03-06T06:12:40.963Z"
   },
   {
    "duration": 4,
    "start_time": "2023-03-06T06:12:41.030Z"
   },
   {
    "duration": 392,
    "start_time": "2023-03-06T06:12:41.046Z"
   },
   {
    "duration": 10,
    "start_time": "2023-03-06T06:12:41.439Z"
   },
   {
    "duration": 1107,
    "start_time": "2023-03-06T06:12:41.462Z"
   },
   {
    "duration": 4,
    "start_time": "2023-03-06T06:12:42.582Z"
   },
   {
    "duration": 11,
    "start_time": "2023-03-06T06:12:42.587Z"
   },
   {
    "duration": 57,
    "start_time": "2023-03-06T06:12:42.601Z"
   },
   {
    "duration": 530,
    "start_time": "2023-03-06T06:12:42.660Z"
   },
   {
    "duration": 405,
    "start_time": "2023-03-06T06:12:43.192Z"
   },
   {
    "duration": 13,
    "start_time": "2023-03-06T06:12:43.599Z"
   },
   {
    "duration": 61,
    "start_time": "2023-03-06T06:12:43.614Z"
   },
   {
    "duration": 27,
    "start_time": "2023-03-06T06:12:43.677Z"
   },
   {
    "duration": 1009,
    "start_time": "2023-03-06T06:12:44.079Z"
   },
   {
    "duration": 1030,
    "start_time": "2023-03-06T06:12:45.093Z"
   },
   {
    "duration": 377,
    "start_time": "2023-03-06T06:12:46.126Z"
   },
   {
    "duration": 9,
    "start_time": "2023-03-06T06:12:46.504Z"
   },
   {
    "duration": 56,
    "start_time": "2023-03-06T06:12:46.516Z"
   },
   {
    "duration": 135,
    "start_time": "2023-03-06T06:12:46.975Z"
   },
   {
    "duration": 1263,
    "start_time": "2023-03-06T06:12:47.250Z"
   },
   {
    "duration": 364,
    "start_time": "2023-03-06T06:12:48.515Z"
   },
   {
    "duration": 13,
    "start_time": "2023-03-06T06:12:48.973Z"
   },
   {
    "duration": 21,
    "start_time": "2023-03-06T06:12:49.530Z"
   },
   {
    "duration": 34,
    "start_time": "2023-03-06T06:12:50.574Z"
   },
   {
    "duration": 74,
    "start_time": "2023-03-06T06:12:50.861Z"
   },
   {
    "duration": 26,
    "start_time": "2023-03-06T06:12:51.078Z"
   },
   {
    "duration": 388,
    "start_time": "2023-03-06T06:12:51.331Z"
   },
   {
    "duration": 22,
    "start_time": "2023-03-06T06:12:51.721Z"
   },
   {
    "duration": 130,
    "start_time": "2023-03-06T06:12:52.379Z"
   },
   {
    "duration": 91,
    "start_time": "2023-03-06T06:12:57.043Z"
   },
   {
    "duration": 56,
    "start_time": "2023-03-06T06:12:58.033Z"
   },
   {
    "duration": 28,
    "start_time": "2023-03-06T06:12:58.775Z"
   },
   {
    "duration": 51,
    "start_time": "2023-03-06T06:12:59.530Z"
   },
   {
    "duration": 54,
    "start_time": "2023-03-06T06:13:00.129Z"
   },
   {
    "duration": 28,
    "start_time": "2023-03-06T06:13:00.774Z"
   },
   {
    "duration": 134,
    "start_time": "2023-03-06T06:13:01.341Z"
   },
   {
    "duration": 98,
    "start_time": "2023-03-06T06:13:04.480Z"
   },
   {
    "duration": 27,
    "start_time": "2023-03-06T06:13:05.085Z"
   },
   {
    "duration": 1147,
    "start_time": "2023-03-06T06:13:06.779Z"
   },
   {
    "duration": 17,
    "start_time": "2023-03-06T06:13:11.906Z"
   },
   {
    "duration": 71,
    "start_time": "2023-03-06T06:13:12.723Z"
   },
   {
    "duration": 4,
    "start_time": "2023-03-06T06:13:13.434Z"
   },
   {
    "duration": 19,
    "start_time": "2023-03-06T06:13:16.991Z"
   },
   {
    "duration": 11,
    "start_time": "2023-03-06T06:13:17.556Z"
   },
   {
    "duration": 22,
    "start_time": "2023-03-06T06:20:09.711Z"
   },
   {
    "duration": 957,
    "start_time": "2023-03-06T06:20:10.043Z"
   },
   {
    "duration": 15,
    "start_time": "2023-03-06T06:20:11.003Z"
   },
   {
    "duration": 194,
    "start_time": "2023-03-06T06:20:11.020Z"
   },
   {
    "duration": 4,
    "start_time": "2023-03-06T06:20:11.215Z"
   },
   {
    "duration": 428,
    "start_time": "2023-03-06T06:20:11.221Z"
   },
   {
    "duration": 300,
    "start_time": "2023-03-06T06:20:11.650Z"
   },
   {
    "duration": 882,
    "start_time": "2023-03-06T06:20:11.951Z"
   },
   {
    "duration": 50,
    "start_time": "2023-03-06T06:20:12.835Z"
   },
   {
    "duration": 4,
    "start_time": "2023-03-06T06:20:12.887Z"
   },
   {
    "duration": 411,
    "start_time": "2023-03-06T06:20:12.893Z"
   },
   {
    "duration": 4,
    "start_time": "2023-03-06T06:20:13.306Z"
   },
   {
    "duration": 1189,
    "start_time": "2023-03-06T06:20:13.312Z"
   },
   {
    "duration": 3,
    "start_time": "2023-03-06T06:20:14.502Z"
   },
   {
    "duration": 18,
    "start_time": "2023-03-06T06:20:14.506Z"
   },
   {
    "duration": 47,
    "start_time": "2023-03-06T06:20:14.526Z"
   },
   {
    "duration": 392,
    "start_time": "2023-03-06T06:20:14.577Z"
   },
   {
    "duration": 458,
    "start_time": "2023-03-06T06:20:14.971Z"
   },
   {
    "duration": 23,
    "start_time": "2023-03-06T06:20:15.431Z"
   },
   {
    "duration": 36,
    "start_time": "2023-03-06T06:20:15.456Z"
   },
   {
    "duration": 34,
    "start_time": "2023-03-06T06:20:15.497Z"
   },
   {
    "duration": 977,
    "start_time": "2023-03-06T06:20:15.542Z"
   },
   {
    "duration": 1229,
    "start_time": "2023-03-06T06:20:16.521Z"
   },
   {
    "duration": 576,
    "start_time": "2023-03-06T06:20:17.756Z"
   },
   {
    "duration": 30,
    "start_time": "2023-03-06T06:20:18.341Z"
   },
   {
    "duration": 28,
    "start_time": "2023-03-06T06:20:18.378Z"
   },
   {
    "duration": 114,
    "start_time": "2023-03-06T06:20:18.408Z"
   },
   {
    "duration": 933,
    "start_time": "2023-03-06T06:20:18.524Z"
   },
   {
    "duration": 375,
    "start_time": "2023-03-06T06:20:19.459Z"
   },
   {
    "duration": 28,
    "start_time": "2023-03-06T06:20:19.836Z"
   },
   {
    "duration": 25,
    "start_time": "2023-03-06T06:20:19.868Z"
   },
   {
    "duration": 62,
    "start_time": "2023-03-06T06:20:19.895Z"
   },
   {
    "duration": 81,
    "start_time": "2023-03-06T06:20:19.958Z"
   },
   {
    "duration": 33,
    "start_time": "2023-03-06T06:20:20.041Z"
   },
   {
    "duration": 414,
    "start_time": "2023-03-06T06:20:20.076Z"
   },
   {
    "duration": 13,
    "start_time": "2023-03-06T06:20:20.492Z"
   },
   {
    "duration": 192,
    "start_time": "2023-03-06T06:20:20.507Z"
   },
   {
    "duration": 102,
    "start_time": "2023-03-06T06:20:20.701Z"
   },
   {
    "duration": 41,
    "start_time": "2023-03-06T06:20:20.805Z"
   },
   {
    "duration": 35,
    "start_time": "2023-03-06T06:20:20.862Z"
   },
   {
    "duration": 38,
    "start_time": "2023-03-06T06:20:20.900Z"
   },
   {
    "duration": 53,
    "start_time": "2023-03-06T06:20:20.944Z"
   },
   {
    "duration": 29,
    "start_time": "2023-03-06T06:20:20.999Z"
   },
   {
    "duration": 114,
    "start_time": "2023-03-06T06:20:21.030Z"
   },
   {
    "duration": 97,
    "start_time": "2023-03-06T06:20:21.150Z"
   },
   {
    "duration": 36,
    "start_time": "2023-03-06T06:20:21.252Z"
   },
   {
    "duration": 1172,
    "start_time": "2023-03-06T06:20:21.290Z"
   },
   {
    "duration": 23,
    "start_time": "2023-03-06T06:20:22.467Z"
   },
   {
    "duration": 197,
    "start_time": "2023-03-06T06:20:22.492Z"
   },
   {
    "duration": 52,
    "start_time": "2023-03-06T06:20:22.691Z"
   },
   {
    "duration": 24,
    "start_time": "2023-03-06T06:20:22.746Z"
   },
   {
    "duration": 11,
    "start_time": "2023-03-06T06:20:22.773Z"
   },
   {
    "duration": 1269,
    "start_time": "2023-03-06T06:20:26.020Z"
   },
   {
    "duration": 379284,
    "start_time": "2023-03-06T06:20:28.128Z"
   },
   {
    "duration": 330,
    "start_time": "2023-03-06T06:26:47.415Z"
   },
   {
    "duration": 9,
    "start_time": "2023-03-06T06:26:47.760Z"
   },
   {
    "duration": 143,
    "start_time": "2023-03-06T06:27:26.010Z"
   },
   {
    "duration": 5,
    "start_time": "2023-03-06T06:27:27.171Z"
   },
   {
    "duration": 209,
    "start_time": "2023-03-06T06:27:37.391Z"
   },
   {
    "duration": 5,
    "start_time": "2023-03-06T06:27:48.757Z"
   },
   {
    "duration": 557474,
    "start_time": "2023-03-06T06:27:52.189Z"
   },
   {
    "duration": 102673,
    "start_time": "2023-03-06T06:37:43.283Z"
   },
   {
    "duration": 308,
    "start_time": "2023-03-06T06:39:25.964Z"
   },
   {
    "duration": 9,
    "start_time": "2023-03-06T06:39:26.274Z"
   },
   {
    "duration": 17,
    "start_time": "2023-03-06T06:39:26.286Z"
   },
   {
    "duration": 0,
    "start_time": "2023-03-06T06:39:26.305Z"
   },
   {
    "duration": 4,
    "start_time": "2023-03-06T06:40:46.986Z"
   },
   {
    "duration": 10,
    "start_time": "2023-03-06T06:41:12.672Z"
   },
   {
    "duration": 152,
    "start_time": "2023-03-06T06:41:13.469Z"
   },
   {
    "duration": 60,
    "start_time": "2023-03-06T06:41:14.487Z"
   },
   {
    "duration": 9,
    "start_time": "2023-03-06T06:41:15.680Z"
   },
   {
    "duration": 5,
    "start_time": "2023-03-06T06:42:15.607Z"
   },
   {
    "duration": 1991,
    "start_time": "2023-03-06T07:13:54.397Z"
   },
   {
    "duration": 1433,
    "start_time": "2023-03-06T07:13:56.391Z"
   },
   {
    "duration": 28,
    "start_time": "2023-03-06T07:13:57.827Z"
   },
   {
    "duration": 279,
    "start_time": "2023-03-06T07:13:57.858Z"
   },
   {
    "duration": 9,
    "start_time": "2023-03-06T07:13:58.139Z"
   },
   {
    "duration": 476,
    "start_time": "2023-03-06T07:13:58.151Z"
   },
   {
    "duration": 520,
    "start_time": "2023-03-06T07:13:58.629Z"
   },
   {
    "duration": 1172,
    "start_time": "2023-03-06T07:13:59.151Z"
   },
   {
    "duration": 102,
    "start_time": "2023-03-06T07:14:00.325Z"
   },
   {
    "duration": 6,
    "start_time": "2023-03-06T07:14:00.432Z"
   },
   {
    "duration": 559,
    "start_time": "2023-03-06T07:14:00.440Z"
   },
   {
    "duration": 5,
    "start_time": "2023-03-06T07:14:01.006Z"
   },
   {
    "duration": 1177,
    "start_time": "2023-03-06T07:14:01.015Z"
   },
   {
    "duration": 4,
    "start_time": "2023-03-06T07:14:02.198Z"
   },
   {
    "duration": 13,
    "start_time": "2023-03-06T07:14:02.205Z"
   },
   {
    "duration": 75,
    "start_time": "2023-03-06T07:14:02.220Z"
   },
   {
    "duration": 566,
    "start_time": "2023-03-06T07:14:02.298Z"
   },
   {
    "duration": 427,
    "start_time": "2023-03-06T07:14:02.866Z"
   },
   {
    "duration": 12,
    "start_time": "2023-03-06T07:14:03.297Z"
   },
   {
    "duration": 47,
    "start_time": "2023-03-06T07:14:03.311Z"
   },
   {
    "duration": 47,
    "start_time": "2023-03-06T07:14:03.360Z"
   },
   {
    "duration": 1145,
    "start_time": "2023-03-06T07:14:03.411Z"
   },
   {
    "duration": 1165,
    "start_time": "2023-03-06T07:14:04.558Z"
   },
   {
    "duration": 555,
    "start_time": "2023-03-06T07:14:05.725Z"
   },
   {
    "duration": 13,
    "start_time": "2023-03-06T07:14:06.282Z"
   },
   {
    "duration": 56,
    "start_time": "2023-03-06T07:14:06.298Z"
   },
   {
    "duration": 163,
    "start_time": "2023-03-06T07:14:06.356Z"
   },
   {
    "duration": 1487,
    "start_time": "2023-03-06T07:14:06.521Z"
   },
   {
    "duration": 491,
    "start_time": "2023-03-06T07:14:08.014Z"
   },
   {
    "duration": 21,
    "start_time": "2023-03-06T07:14:08.507Z"
   },
   {
    "duration": 14,
    "start_time": "2023-03-06T07:14:08.533Z"
   },
   {
    "duration": 51,
    "start_time": "2023-03-06T07:14:08.549Z"
   },
   {
    "duration": 104,
    "start_time": "2023-03-06T07:14:08.604Z"
   },
   {
    "duration": 42,
    "start_time": "2023-03-06T07:14:08.710Z"
   },
   {
    "duration": 511,
    "start_time": "2023-03-06T07:14:08.754Z"
   },
   {
    "duration": 20,
    "start_time": "2023-03-06T07:14:09.269Z"
   },
   {
    "duration": 175,
    "start_time": "2023-03-06T07:14:09.295Z"
   },
   {
    "duration": 129,
    "start_time": "2023-03-06T07:14:09.975Z"
   },
   {
    "duration": 63,
    "start_time": "2023-03-06T07:14:10.999Z"
   },
   {
    "duration": 52,
    "start_time": "2023-03-06T07:14:11.471Z"
   },
   {
    "duration": 79,
    "start_time": "2023-03-06T07:14:11.812Z"
   },
   {
    "duration": 53,
    "start_time": "2023-03-06T07:14:12.210Z"
   },
   {
    "duration": 57,
    "start_time": "2023-03-06T07:14:12.766Z"
   },
   {
    "duration": 152,
    "start_time": "2023-03-06T07:14:13.265Z"
   },
   {
    "duration": 155,
    "start_time": "2023-03-06T07:14:15.082Z"
   },
   {
    "duration": 40,
    "start_time": "2023-03-06T07:14:15.704Z"
   },
   {
    "duration": 1480,
    "start_time": "2023-03-06T07:14:17.532Z"
   },
   {
    "duration": 17,
    "start_time": "2023-03-06T07:14:20.509Z"
   },
   {
    "duration": 97,
    "start_time": "2023-03-06T07:14:21.132Z"
   },
   {
    "duration": 5,
    "start_time": "2023-03-06T07:14:23.431Z"
   },
   {
    "duration": 5,
    "start_time": "2023-03-06T07:14:34.120Z"
   },
   {
    "duration": 200,
    "start_time": "2023-03-06T07:14:35.032Z"
   },
   {
    "duration": 26,
    "start_time": "2023-03-06T07:14:35.935Z"
   },
   {
    "duration": 24,
    "start_time": "2023-03-06T07:14:45.599Z"
   },
   {
    "duration": 8,
    "start_time": "2023-03-06T07:14:46.315Z"
   },
   {
    "duration": 5,
    "start_time": "2023-03-06T07:14:51.734Z"
   },
   {
    "duration": 185,
    "start_time": "2023-03-06T07:14:52.435Z"
   },
   {
    "duration": 97,
    "start_time": "2023-03-06T07:14:53.465Z"
   },
   {
    "duration": 20,
    "start_time": "2023-03-06T07:14:54.339Z"
   },
   {
    "duration": 80924,
    "start_time": "2023-03-06T07:15:16.212Z"
   },
   {
    "duration": 10,
    "start_time": "2023-03-06T07:16:39.998Z"
   },
   {
    "duration": 740766,
    "start_time": "2023-03-06T07:16:41.373Z"
   },
   {
    "duration": 9,
    "start_time": "2023-03-06T07:30:58.961Z"
   },
   {
    "duration": 736247,
    "start_time": "2023-03-06T07:31:00.109Z"
   },
   {
    "duration": 7,
    "start_time": "2023-03-06T07:46:26.606Z"
   },
   {
    "duration": 102,
    "start_time": "2023-03-06T08:47:10.032Z"
   },
   {
    "duration": 2028,
    "start_time": "2023-03-06T08:47:17.068Z"
   },
   {
    "duration": 953,
    "start_time": "2023-03-06T08:47:32.767Z"
   },
   {
    "duration": 38,
    "start_time": "2023-03-06T08:47:33.723Z"
   },
   {
    "duration": 180,
    "start_time": "2023-03-06T08:47:33.771Z"
   },
   {
    "duration": 4,
    "start_time": "2023-03-06T08:47:34.908Z"
   },
   {
    "duration": 309,
    "start_time": "2023-03-06T08:47:35.110Z"
   },
   {
    "duration": 354,
    "start_time": "2023-03-06T08:47:35.421Z"
   },
   {
    "duration": 1002,
    "start_time": "2023-03-06T08:47:35.778Z"
   },
   {
    "duration": 68,
    "start_time": "2023-03-06T08:47:36.782Z"
   },
   {
    "duration": 7,
    "start_time": "2023-03-06T08:47:36.851Z"
   },
   {
    "duration": 428,
    "start_time": "2023-03-06T08:47:37.573Z"
   },
   {
    "duration": 3,
    "start_time": "2023-03-06T08:47:38.003Z"
   },
   {
    "duration": 1003,
    "start_time": "2023-03-06T08:47:38.120Z"
   },
   {
    "duration": 3,
    "start_time": "2023-03-06T08:47:39.125Z"
   },
   {
    "duration": 30,
    "start_time": "2023-03-06T08:47:39.130Z"
   },
   {
    "duration": 31,
    "start_time": "2023-03-06T08:47:39.181Z"
   },
   {
    "duration": 463,
    "start_time": "2023-03-06T08:47:39.370Z"
   },
   {
    "duration": 360,
    "start_time": "2023-03-06T08:47:39.842Z"
   },
   {
    "duration": 12,
    "start_time": "2023-03-06T08:47:40.204Z"
   },
   {
    "duration": 49,
    "start_time": "2023-03-06T08:47:40.218Z"
   },
   {
    "duration": 26,
    "start_time": "2023-03-06T08:47:40.367Z"
   },
   {
    "duration": 967,
    "start_time": "2023-03-06T08:47:41.131Z"
   },
   {
    "duration": 1002,
    "start_time": "2023-03-06T08:47:42.100Z"
   },
   {
    "duration": 390,
    "start_time": "2023-03-06T08:47:43.104Z"
   },
   {
    "duration": 8,
    "start_time": "2023-03-06T08:47:43.496Z"
   },
   {
    "duration": 46,
    "start_time": "2023-03-06T08:47:43.506Z"
   },
   {
    "duration": 96,
    "start_time": "2023-03-06T08:47:43.890Z"
   },
   {
    "duration": 896,
    "start_time": "2023-03-06T08:47:44.081Z"
   },
   {
    "duration": 487,
    "start_time": "2023-03-06T08:47:44.979Z"
   },
   {
    "duration": 17,
    "start_time": "2023-03-06T08:47:45.470Z"
   },
   {
    "duration": 76,
    "start_time": "2023-03-06T08:47:45.490Z"
   },
   {
    "duration": 67,
    "start_time": "2023-03-06T08:47:45.573Z"
   },
   {
    "duration": 87,
    "start_time": "2023-03-06T08:47:45.646Z"
   },
   {
    "duration": 49,
    "start_time": "2023-03-06T08:47:45.735Z"
   },
   {
    "duration": 382,
    "start_time": "2023-03-06T08:47:45.870Z"
   },
   {
    "duration": 14,
    "start_time": "2023-03-06T08:47:46.254Z"
   },
   {
    "duration": 130,
    "start_time": "2023-03-06T08:47:46.270Z"
   },
   {
    "duration": 67,
    "start_time": "2023-03-06T08:47:47.671Z"
   },
   {
    "duration": 58,
    "start_time": "2023-03-06T08:47:48.040Z"
   },
   {
    "duration": 30,
    "start_time": "2023-03-06T08:47:48.269Z"
   },
   {
    "duration": 32,
    "start_time": "2023-03-06T08:47:48.470Z"
   },
   {
    "duration": 50,
    "start_time": "2023-03-06T08:47:48.632Z"
   },
   {
    "duration": 44,
    "start_time": "2023-03-06T08:47:48.824Z"
   },
   {
    "duration": 113,
    "start_time": "2023-03-06T08:47:49.038Z"
   },
   {
    "duration": 104,
    "start_time": "2023-03-06T08:47:49.692Z"
   },
   {
    "duration": 26,
    "start_time": "2023-03-06T08:47:49.896Z"
   },
   {
    "duration": 1166,
    "start_time": "2023-03-06T08:47:50.484Z"
   },
   {
    "duration": 15,
    "start_time": "2023-03-06T08:47:51.907Z"
   },
   {
    "duration": 74,
    "start_time": "2023-03-06T08:47:52.399Z"
   },
   {
    "duration": 6,
    "start_time": "2023-03-06T08:47:52.864Z"
   },
   {
    "duration": 37,
    "start_time": "2023-03-06T08:47:55.440Z"
   },
   {
    "duration": 7,
    "start_time": "2023-03-06T08:47:56.074Z"
   },
   {
    "duration": 10,
    "start_time": "2023-03-06T08:48:04.364Z"
   },
   {
    "duration": 194,
    "start_time": "2023-03-06T08:48:04.931Z"
   },
   {
    "duration": 84,
    "start_time": "2023-03-06T08:48:06.590Z"
   },
   {
    "duration": 5,
    "start_time": "2023-03-06T08:48:28.505Z"
   },
   {
    "duration": 1883,
    "start_time": "2023-03-06T09:24:06.267Z"
   },
   {
    "duration": 1117,
    "start_time": "2023-03-06T09:24:08.153Z"
   },
   {
    "duration": 24,
    "start_time": "2023-03-06T09:24:09.272Z"
   },
   {
    "duration": 241,
    "start_time": "2023-03-06T09:24:09.298Z"
   },
   {
    "duration": 6,
    "start_time": "2023-03-06T09:24:09.542Z"
   },
   {
    "duration": 382,
    "start_time": "2023-03-06T09:24:09.549Z"
   },
   {
    "duration": 339,
    "start_time": "2023-03-06T09:24:09.933Z"
   },
   {
    "duration": 940,
    "start_time": "2023-03-06T09:24:10.275Z"
   },
   {
    "duration": 63,
    "start_time": "2023-03-06T09:24:11.217Z"
   },
   {
    "duration": 5,
    "start_time": "2023-03-06T09:24:11.283Z"
   },
   {
    "duration": 408,
    "start_time": "2023-03-06T09:24:11.290Z"
   },
   {
    "duration": 4,
    "start_time": "2023-03-06T09:24:11.700Z"
   },
   {
    "duration": 1100,
    "start_time": "2023-03-06T09:24:11.706Z"
   },
   {
    "duration": 3,
    "start_time": "2023-03-06T09:24:12.809Z"
   },
   {
    "duration": 4,
    "start_time": "2023-03-06T09:24:12.815Z"
   },
   {
    "duration": 57,
    "start_time": "2023-03-06T09:24:12.820Z"
   },
   {
    "duration": 524,
    "start_time": "2023-03-06T09:24:12.880Z"
   },
   {
    "duration": 413,
    "start_time": "2023-03-06T09:24:13.406Z"
   },
   {
    "duration": 29,
    "start_time": "2023-03-06T09:24:13.821Z"
   },
   {
    "duration": 39,
    "start_time": "2023-03-06T09:24:13.852Z"
   },
   {
    "duration": 26,
    "start_time": "2023-03-06T09:24:13.894Z"
   },
   {
    "duration": 981,
    "start_time": "2023-03-06T09:24:13.922Z"
   },
   {
    "duration": 1178,
    "start_time": "2023-03-06T09:24:14.905Z"
   },
   {
    "duration": 436,
    "start_time": "2023-03-06T09:24:16.086Z"
   },
   {
    "duration": 27,
    "start_time": "2023-03-06T09:24:16.525Z"
   },
   {
    "duration": 36,
    "start_time": "2023-03-06T09:24:16.555Z"
   },
   {
    "duration": 125,
    "start_time": "2023-03-06T09:24:16.593Z"
   },
   {
    "duration": 1264,
    "start_time": "2023-03-06T09:24:16.721Z"
   },
   {
    "duration": 431,
    "start_time": "2023-03-06T09:24:17.989Z"
   },
   {
    "duration": 30,
    "start_time": "2023-03-06T09:24:18.422Z"
   },
   {
    "duration": 19,
    "start_time": "2023-03-06T09:24:18.454Z"
   },
   {
    "duration": 36,
    "start_time": "2023-03-06T09:24:18.475Z"
   },
   {
    "duration": 112,
    "start_time": "2023-03-06T09:24:18.513Z"
   },
   {
    "duration": 39,
    "start_time": "2023-03-06T09:24:18.627Z"
   },
   {
    "duration": 413,
    "start_time": "2023-03-06T09:24:18.815Z"
   },
   {
    "duration": 21,
    "start_time": "2023-03-06T09:24:19.230Z"
   },
   {
    "duration": 133,
    "start_time": "2023-03-06T09:24:19.254Z"
   },
   {
    "duration": 92,
    "start_time": "2023-03-06T09:24:20.698Z"
   },
   {
    "duration": 31,
    "start_time": "2023-03-06T09:24:21.102Z"
   },
   {
    "duration": 49,
    "start_time": "2023-03-06T09:24:21.286Z"
   },
   {
    "duration": 52,
    "start_time": "2023-03-06T09:24:21.486Z"
   },
   {
    "duration": 31,
    "start_time": "2023-03-06T09:24:21.686Z"
   },
   {
    "duration": 35,
    "start_time": "2023-03-06T09:24:21.897Z"
   },
   {
    "duration": 113,
    "start_time": "2023-03-06T09:24:22.199Z"
   },
   {
    "duration": 115,
    "start_time": "2023-03-06T09:24:23.299Z"
   },
   {
    "duration": 47,
    "start_time": "2023-03-06T09:24:24.008Z"
   },
   {
    "duration": 1168,
    "start_time": "2023-03-06T09:24:25.511Z"
   },
   {
    "duration": 17,
    "start_time": "2023-03-06T09:24:27.998Z"
   },
   {
    "duration": 71,
    "start_time": "2023-03-06T09:24:28.586Z"
   },
   {
    "duration": 4,
    "start_time": "2023-03-06T09:24:29.098Z"
   },
   {
    "duration": 18,
    "start_time": "2023-03-06T09:24:33.105Z"
   },
   {
    "duration": 6,
    "start_time": "2023-03-06T09:24:33.686Z"
   },
   {
    "duration": 4,
    "start_time": "2023-03-06T09:24:44.717Z"
   },
   {
    "duration": 153,
    "start_time": "2023-03-06T09:24:45.235Z"
   },
   {
    "duration": 71,
    "start_time": "2023-03-06T09:24:46.082Z"
   },
   {
    "duration": 5,
    "start_time": "2023-03-06T09:24:46.723Z"
   },
   {
    "duration": 5,
    "start_time": "2023-03-06T09:25:00.213Z"
   },
   {
    "duration": 2220227,
    "start_time": "2023-03-06T09:25:01.220Z"
   },
   {
    "duration": 5,
    "start_time": "2023-03-06T10:02:17.316Z"
   },
   {
    "duration": 1833,
    "start_time": "2023-03-06T10:19:12.028Z"
   },
   {
    "duration": 1020,
    "start_time": "2023-03-06T10:19:13.864Z"
   },
   {
    "duration": 17,
    "start_time": "2023-03-06T10:19:14.889Z"
   },
   {
    "duration": 201,
    "start_time": "2023-03-06T10:19:14.908Z"
   },
   {
    "duration": 4,
    "start_time": "2023-03-06T10:19:15.112Z"
   },
   {
    "duration": 356,
    "start_time": "2023-03-06T10:19:15.118Z"
   },
   {
    "duration": 344,
    "start_time": "2023-03-06T10:19:15.477Z"
   },
   {
    "duration": 1062,
    "start_time": "2023-03-06T10:19:15.824Z"
   },
   {
    "duration": 67,
    "start_time": "2023-03-06T10:19:16.892Z"
   },
   {
    "duration": 6,
    "start_time": "2023-03-06T10:19:16.962Z"
   },
   {
    "duration": 454,
    "start_time": "2023-03-06T10:19:16.973Z"
   },
   {
    "duration": 3,
    "start_time": "2023-03-06T10:19:17.430Z"
   },
   {
    "duration": 1194,
    "start_time": "2023-03-06T10:19:17.435Z"
   },
   {
    "duration": 3,
    "start_time": "2023-03-06T10:19:18.631Z"
   },
   {
    "duration": 4,
    "start_time": "2023-03-06T10:19:18.647Z"
   },
   {
    "duration": 46,
    "start_time": "2023-03-06T10:19:18.653Z"
   },
   {
    "duration": 506,
    "start_time": "2023-03-06T10:19:18.701Z"
   },
   {
    "duration": 490,
    "start_time": "2023-03-06T10:19:19.209Z"
   },
   {
    "duration": 14,
    "start_time": "2023-03-06T10:19:19.702Z"
   },
   {
    "duration": 55,
    "start_time": "2023-03-06T10:19:19.719Z"
   },
   {
    "duration": 37,
    "start_time": "2023-03-06T10:19:19.776Z"
   },
   {
    "duration": 1044,
    "start_time": "2023-03-06T10:19:19.816Z"
   },
   {
    "duration": 1030,
    "start_time": "2023-03-06T10:19:20.862Z"
   },
   {
    "duration": 396,
    "start_time": "2023-03-06T10:19:21.894Z"
   },
   {
    "duration": 10,
    "start_time": "2023-03-06T10:19:22.293Z"
   },
   {
    "duration": 48,
    "start_time": "2023-03-06T10:19:22.304Z"
   },
   {
    "duration": 132,
    "start_time": "2023-03-06T10:19:22.359Z"
   },
   {
    "duration": 1081,
    "start_time": "2023-03-06T10:19:22.493Z"
   },
   {
    "duration": 451,
    "start_time": "2023-03-06T10:19:23.577Z"
   },
   {
    "duration": 31,
    "start_time": "2023-03-06T10:19:24.030Z"
   },
   {
    "duration": 26,
    "start_time": "2023-03-06T10:19:24.063Z"
   },
   {
    "duration": 47,
    "start_time": "2023-03-06T10:19:24.091Z"
   },
   {
    "duration": 95,
    "start_time": "2023-03-06T10:19:24.140Z"
   },
   {
    "duration": 54,
    "start_time": "2023-03-06T10:19:24.238Z"
   },
   {
    "duration": 395,
    "start_time": "2023-03-06T10:19:24.294Z"
   },
   {
    "duration": 11,
    "start_time": "2023-03-06T10:19:24.694Z"
   },
   {
    "duration": 137,
    "start_time": "2023-03-06T10:19:24.707Z"
   },
   {
    "duration": 151,
    "start_time": "2023-03-06T10:19:25.812Z"
   },
   {
    "duration": 58,
    "start_time": "2023-03-06T10:19:26.269Z"
   },
   {
    "duration": 47,
    "start_time": "2023-03-06T10:19:26.513Z"
   },
   {
    "duration": 74,
    "start_time": "2023-03-06T10:19:26.605Z"
   },
   {
    "duration": 32,
    "start_time": "2023-03-06T10:19:26.801Z"
   },
   {
    "duration": 73,
    "start_time": "2023-03-06T10:19:27.019Z"
   },
   {
    "duration": 149,
    "start_time": "2023-03-06T10:19:27.191Z"
   },
   {
    "duration": 147,
    "start_time": "2023-03-06T10:19:27.809Z"
   },
   {
    "duration": 180,
    "start_time": "2023-03-06T10:19:28.017Z"
   },
   {
    "duration": 1075,
    "start_time": "2023-03-06T10:19:28.615Z"
   },
   {
    "duration": 15,
    "start_time": "2023-03-06T10:19:29.694Z"
   },
   {
    "duration": 110,
    "start_time": "2023-03-06T10:19:29.711Z"
   },
   {
    "duration": 4,
    "start_time": "2023-03-06T10:19:29.897Z"
   },
   {
    "duration": 28,
    "start_time": "2023-03-06T10:19:30.869Z"
   },
   {
    "duration": 7,
    "start_time": "2023-03-06T10:19:31.094Z"
   },
   {
    "duration": 405650,
    "start_time": "2023-03-06T10:19:31.271Z"
   },
   {
    "duration": 26109,
    "start_time": "2023-03-06T10:26:16.923Z"
   },
   {
    "duration": 161,
    "start_time": "2023-03-06T10:26:43.034Z"
   },
   {
    "duration": 5,
    "start_time": "2023-03-06T10:26:43.198Z"
   },
   {
    "duration": 309,
    "start_time": "2023-03-06T10:26:43.205Z"
   },
   {
    "duration": 5,
    "start_time": "2023-03-06T10:26:43.516Z"
   },
   {
    "duration": 200,
    "start_time": "2023-03-06T10:26:43.523Z"
   },
   {
    "duration": 92,
    "start_time": "2023-03-06T10:26:43.726Z"
   },
   {
    "duration": 95,
    "start_time": "2023-03-06T10:26:43.820Z"
   },
   {
    "duration": 0,
    "start_time": "2023-03-06T10:26:43.917Z"
   },
   {
    "duration": 8,
    "start_time": "2023-03-06T10:27:24.815Z"
   },
   {
    "duration": 29120,
    "start_time": "2023-03-06T10:27:26.199Z"
   },
   {
    "duration": 6,
    "start_time": "2023-03-06T10:28:08.331Z"
   },
   {
    "duration": 2038471,
    "start_time": "2023-03-06T10:28:09.399Z"
   },
   {
    "duration": 5,
    "start_time": "2023-03-06T11:02:20.996Z"
   },
   {
    "duration": 1116086,
    "start_time": "2023-03-06T11:02:22.795Z"
   },
   {
    "duration": 5,
    "start_time": "2023-03-06T11:21:29.220Z"
   },
   {
    "duration": 121,
    "start_time": "2023-03-06T11:21:29.975Z"
   },
   {
    "duration": 7,
    "start_time": "2023-03-06T11:21:39.231Z"
   },
   {
    "duration": 1542,
    "start_time": "2023-03-06T11:39:20.640Z"
   },
   {
    "duration": 879,
    "start_time": "2023-03-06T11:39:22.185Z"
   },
   {
    "duration": 20,
    "start_time": "2023-03-06T11:39:23.065Z"
   },
   {
    "duration": 172,
    "start_time": "2023-03-06T11:39:23.087Z"
   },
   {
    "duration": 5,
    "start_time": "2023-03-06T11:39:23.278Z"
   },
   {
    "duration": 286,
    "start_time": "2023-03-06T11:39:23.646Z"
   },
   {
    "duration": 274,
    "start_time": "2023-03-06T11:39:24.123Z"
   },
   {
    "duration": 808,
    "start_time": "2023-03-06T11:39:24.581Z"
   },
   {
    "duration": 37,
    "start_time": "2023-03-06T11:39:25.457Z"
   },
   {
    "duration": 4,
    "start_time": "2023-03-06T11:39:25.887Z"
   },
   {
    "duration": 416,
    "start_time": "2023-03-06T11:39:27.681Z"
   },
   {
    "duration": 4,
    "start_time": "2023-03-06T11:39:28.100Z"
   },
   {
    "duration": 936,
    "start_time": "2023-03-06T11:39:28.891Z"
   },
   {
    "duration": 3,
    "start_time": "2023-03-06T11:39:29.830Z"
   },
   {
    "duration": 3,
    "start_time": "2023-03-06T11:39:30.010Z"
   },
   {
    "duration": 26,
    "start_time": "2023-03-06T11:39:30.570Z"
   },
   {
    "duration": 507,
    "start_time": "2023-03-06T11:39:31.278Z"
   },
   {
    "duration": 482,
    "start_time": "2023-03-06T11:39:31.788Z"
   },
   {
    "duration": 13,
    "start_time": "2023-03-06T11:39:32.295Z"
   },
   {
    "duration": 28,
    "start_time": "2023-03-06T11:39:32.482Z"
   },
   {
    "duration": 30,
    "start_time": "2023-03-06T11:39:32.632Z"
   },
   {
    "duration": 957,
    "start_time": "2023-03-06T11:39:33.311Z"
   },
   {
    "duration": 978,
    "start_time": "2023-03-06T11:39:34.293Z"
   },
   {
    "duration": 347,
    "start_time": "2023-03-06T11:39:35.274Z"
   },
   {
    "duration": 8,
    "start_time": "2023-03-06T11:39:35.623Z"
   },
   {
    "duration": 27,
    "start_time": "2023-03-06T11:39:35.641Z"
   },
   {
    "duration": 95,
    "start_time": "2023-03-06T11:39:35.981Z"
   },
   {
    "duration": 895,
    "start_time": "2023-03-06T11:39:36.189Z"
   },
   {
    "duration": 550,
    "start_time": "2023-03-06T11:39:37.086Z"
   },
   {
    "duration": 15,
    "start_time": "2023-03-06T11:39:37.642Z"
   },
   {
    "duration": 17,
    "start_time": "2023-03-06T11:39:37.661Z"
   },
   {
    "duration": 34,
    "start_time": "2023-03-06T11:39:38.112Z"
   },
   {
    "duration": 66,
    "start_time": "2023-03-06T11:39:38.571Z"
   },
   {
    "duration": 25,
    "start_time": "2023-03-06T11:39:39.081Z"
   },
   {
    "duration": 324,
    "start_time": "2023-03-06T11:39:39.587Z"
   },
   {
    "duration": 10,
    "start_time": "2023-03-06T11:39:40.198Z"
   },
   {
    "duration": 100,
    "start_time": "2023-03-06T11:39:40.645Z"
   },
   {
    "duration": 75,
    "start_time": "2023-03-06T11:39:43.389Z"
   },
   {
    "duration": 27,
    "start_time": "2023-03-06T11:39:44.473Z"
   },
   {
    "duration": 28,
    "start_time": "2023-03-06T11:39:45.005Z"
   },
   {
    "duration": 29,
    "start_time": "2023-03-06T11:39:45.489Z"
   },
   {
    "duration": 40,
    "start_time": "2023-03-06T11:39:46.037Z"
   },
   {
    "duration": 36,
    "start_time": "2023-03-06T11:39:46.622Z"
   },
   {
    "duration": 102,
    "start_time": "2023-03-06T11:39:47.154Z"
   },
   {
    "duration": 70,
    "start_time": "2023-03-06T11:39:48.254Z"
   },
   {
    "duration": 26,
    "start_time": "2023-03-06T11:39:48.779Z"
   },
   {
    "duration": 906,
    "start_time": "2023-03-06T11:39:51.255Z"
   },
   {
    "duration": 13,
    "start_time": "2023-03-06T11:39:53.924Z"
   },
   {
    "duration": 67,
    "start_time": "2023-03-06T11:39:54.487Z"
   },
   {
    "duration": 4,
    "start_time": "2023-03-06T11:39:55.078Z"
   },
   {
    "duration": 138,
    "start_time": "2023-03-06T11:40:42.490Z"
   },
   {
    "duration": 9,
    "start_time": "2023-03-06T11:41:10.785Z"
   },
   {
    "duration": 6,
    "start_time": "2023-03-06T11:41:17.946Z"
   },
   {
    "duration": 409,
    "start_time": "2023-03-06T11:41:18.992Z"
   },
   {
    "duration": 17,
    "start_time": "2023-03-06T11:41:26.014Z"
   },
   {
    "duration": 7,
    "start_time": "2023-03-06T11:42:40.995Z"
   },
   {
    "duration": 826,
    "start_time": "2023-03-06T11:42:42.087Z"
   },
   {
    "duration": 14,
    "start_time": "2023-03-06T11:42:42.915Z"
   },
   {
    "duration": 136,
    "start_time": "2023-03-06T11:42:42.941Z"
   },
   {
    "duration": 5,
    "start_time": "2023-03-06T11:42:44.691Z"
   },
   {
    "duration": 224,
    "start_time": "2023-03-06T11:42:45.142Z"
   },
   {
    "duration": 225,
    "start_time": "2023-03-06T11:42:45.808Z"
   },
   {
    "duration": 787,
    "start_time": "2023-03-06T11:42:46.894Z"
   },
   {
    "duration": 35,
    "start_time": "2023-03-06T11:42:47.684Z"
   },
   {
    "duration": 19,
    "start_time": "2023-03-06T11:42:47.722Z"
   },
   {
    "duration": 325,
    "start_time": "2023-03-06T11:42:48.605Z"
   },
   {
    "duration": 10,
    "start_time": "2023-03-06T11:42:48.932Z"
   },
   {
    "duration": 1119,
    "start_time": "2023-03-06T11:42:49.134Z"
   },
   {
    "duration": 3,
    "start_time": "2023-03-06T11:42:50.255Z"
   },
   {
    "duration": 8,
    "start_time": "2023-03-06T11:42:50.259Z"
   },
   {
    "duration": 29,
    "start_time": "2023-03-06T11:42:50.269Z"
   },
   {
    "duration": 366,
    "start_time": "2023-03-06T11:42:50.429Z"
   },
   {
    "duration": 357,
    "start_time": "2023-03-06T11:42:50.797Z"
   },
   {
    "duration": 10,
    "start_time": "2023-03-06T11:42:51.156Z"
   },
   {
    "duration": 26,
    "start_time": "2023-03-06T11:42:51.210Z"
   },
   {
    "duration": 25,
    "start_time": "2023-03-06T11:42:51.403Z"
   },
   {
    "duration": 821,
    "start_time": "2023-03-06T11:42:52.209Z"
   },
   {
    "duration": 970,
    "start_time": "2023-03-06T11:42:53.210Z"
   },
   {
    "duration": 378,
    "start_time": "2023-03-06T11:42:54.182Z"
   },
   {
    "duration": 11,
    "start_time": "2023-03-06T11:42:54.562Z"
   },
   {
    "duration": 52,
    "start_time": "2023-03-06T11:42:54.575Z"
   },
   {
    "duration": 84,
    "start_time": "2023-03-06T11:42:55.248Z"
   },
   {
    "duration": 1018,
    "start_time": "2023-03-06T11:42:55.341Z"
   },
   {
    "duration": 337,
    "start_time": "2023-03-06T11:42:56.361Z"
   },
   {
    "duration": 17,
    "start_time": "2023-03-06T11:42:57.412Z"
   },
   {
    "duration": 17,
    "start_time": "2023-03-06T11:42:57.820Z"
   },
   {
    "duration": 38,
    "start_time": "2023-03-06T11:42:59.303Z"
   },
   {
    "duration": 82,
    "start_time": "2023-03-06T11:42:59.915Z"
   },
   {
    "duration": 35,
    "start_time": "2023-03-06T11:43:00.506Z"
   },
   {
    "duration": 356,
    "start_time": "2023-03-06T11:43:01.009Z"
   },
   {
    "duration": 12,
    "start_time": "2023-03-06T11:43:01.526Z"
   },
   {
    "duration": 120,
    "start_time": "2023-03-06T11:43:02.103Z"
   },
   {
    "duration": 63,
    "start_time": "2023-03-06T11:43:12.938Z"
   },
   {
    "duration": 33,
    "start_time": "2023-03-06T11:43:14.320Z"
   },
   {
    "duration": 46,
    "start_time": "2023-03-06T11:43:14.913Z"
   },
   {
    "duration": 49,
    "start_time": "2023-03-06T11:43:15.410Z"
   },
   {
    "duration": 34,
    "start_time": "2023-03-06T11:43:15.902Z"
   },
   {
    "duration": 29,
    "start_time": "2023-03-06T11:43:16.410Z"
   },
   {
    "duration": 81,
    "start_time": "2023-03-06T11:43:16.888Z"
   },
   {
    "duration": 69,
    "start_time": "2023-03-06T11:43:18.541Z"
   },
   {
    "duration": 26,
    "start_time": "2023-03-06T11:43:19.210Z"
   },
   {
    "duration": 911,
    "start_time": "2023-03-06T11:43:21.107Z"
   },
   {
    "duration": 404,
    "start_time": "2023-03-06T11:43:26.346Z"
   },
   {
    "duration": 17,
    "start_time": "2023-03-06T11:43:27.807Z"
   },
   {
    "duration": 41,
    "start_time": "2023-03-06T11:43:29.999Z"
   },
   {
    "duration": 4,
    "start_time": "2023-03-06T11:45:06.600Z"
   },
   {
    "duration": 9,
    "start_time": "2023-03-06T11:45:56.093Z"
   },
   {
    "duration": 4,
    "start_time": "2023-03-06T11:47:14.891Z"
   },
   {
    "duration": 1747,
    "start_time": "2023-03-06T12:10:27.836Z"
   },
   {
    "duration": 996,
    "start_time": "2023-03-06T12:10:29.587Z"
   },
   {
    "duration": 19,
    "start_time": "2023-03-06T12:10:30.585Z"
   },
   {
    "duration": 176,
    "start_time": "2023-03-06T12:10:30.607Z"
   },
   {
    "duration": 4,
    "start_time": "2023-03-06T12:10:30.784Z"
   },
   {
    "duration": 309,
    "start_time": "2023-03-06T12:10:30.928Z"
   },
   {
    "duration": 347,
    "start_time": "2023-03-06T12:10:31.514Z"
   },
   {
    "duration": 897,
    "start_time": "2023-03-06T12:10:32.502Z"
   },
   {
    "duration": 65,
    "start_time": "2023-03-06T12:10:33.518Z"
   },
   {
    "duration": 5,
    "start_time": "2023-03-06T12:10:34.098Z"
   },
   {
    "duration": 370,
    "start_time": "2023-03-06T12:10:36.636Z"
   },
   {
    "duration": 5,
    "start_time": "2023-03-06T12:10:37.137Z"
   },
   {
    "duration": 1005,
    "start_time": "2023-03-06T12:10:38.029Z"
   },
   {
    "duration": 8,
    "start_time": "2023-03-06T12:10:39.036Z"
   },
   {
    "duration": 33,
    "start_time": "2023-03-06T12:10:39.046Z"
   },
   {
    "duration": 50,
    "start_time": "2023-03-06T12:10:39.097Z"
   },
   {
    "duration": 465,
    "start_time": "2023-03-06T12:10:39.227Z"
   },
   {
    "duration": 397,
    "start_time": "2023-03-06T12:10:39.694Z"
   },
   {
    "duration": 11,
    "start_time": "2023-03-06T12:10:40.094Z"
   },
   {
    "duration": 53,
    "start_time": "2023-03-06T12:10:40.106Z"
   },
   {
    "duration": 26,
    "start_time": "2023-03-06T12:10:40.162Z"
   },
   {
    "duration": 914,
    "start_time": "2023-03-06T12:10:40.752Z"
   },
   {
    "duration": 1051,
    "start_time": "2023-03-06T12:10:41.669Z"
   },
   {
    "duration": 377,
    "start_time": "2023-03-06T12:10:42.723Z"
   },
   {
    "duration": 8,
    "start_time": "2023-03-06T12:10:43.102Z"
   },
   {
    "duration": 50,
    "start_time": "2023-03-06T12:10:43.112Z"
   },
   {
    "duration": 94,
    "start_time": "2023-03-06T12:10:43.308Z"
   },
   {
    "duration": 1013,
    "start_time": "2023-03-06T12:10:43.466Z"
   },
   {
    "duration": 368,
    "start_time": "2023-03-06T12:10:44.482Z"
   },
   {
    "duration": 15,
    "start_time": "2023-03-06T12:10:44.855Z"
   },
   {
    "duration": 13,
    "start_time": "2023-03-06T12:10:44.873Z"
   },
   {
    "duration": 46,
    "start_time": "2023-03-06T12:10:45.112Z"
   },
   {
    "duration": 72,
    "start_time": "2023-03-06T12:10:46.060Z"
   },
   {
    "duration": 34,
    "start_time": "2023-03-06T12:10:46.542Z"
   },
   {
    "duration": 366,
    "start_time": "2023-03-06T12:10:47.111Z"
   },
   {
    "duration": 12,
    "start_time": "2023-03-06T12:10:47.793Z"
   },
   {
    "duration": 108,
    "start_time": "2023-03-06T12:10:48.608Z"
   },
   {
    "duration": 81,
    "start_time": "2023-03-06T12:10:53.929Z"
   },
   {
    "duration": 41,
    "start_time": "2023-03-06T12:10:55.225Z"
   },
   {
    "duration": 30,
    "start_time": "2023-03-06T12:10:55.813Z"
   },
   {
    "duration": 29,
    "start_time": "2023-03-06T12:10:56.413Z"
   },
   {
    "duration": 43,
    "start_time": "2023-03-06T12:10:57.128Z"
   },
   {
    "duration": 56,
    "start_time": "2023-03-06T12:10:57.887Z"
   },
   {
    "duration": 99,
    "start_time": "2023-03-06T12:10:58.629Z"
   },
   {
    "duration": 92,
    "start_time": "2023-03-06T12:11:04.520Z"
   },
   {
    "duration": 30,
    "start_time": "2023-03-06T12:11:05.312Z"
   },
   {
    "duration": 1114,
    "start_time": "2023-03-06T12:11:07.320Z"
   },
   {
    "duration": 14,
    "start_time": "2023-03-06T12:11:11.313Z"
   },
   {
    "duration": 84,
    "start_time": "2023-03-06T12:11:11.890Z"
   },
   {
    "duration": 8,
    "start_time": "2023-03-06T12:11:12.337Z"
   },
   {
    "duration": 19,
    "start_time": "2023-03-06T12:11:15.751Z"
   },
   {
    "duration": 5,
    "start_time": "2023-03-06T12:11:16.347Z"
   },
   {
    "duration": 324183,
    "start_time": "2023-03-06T12:11:17.036Z"
   },
   {
    "duration": 21016,
    "start_time": "2023-03-06T12:16:41.221Z"
   },
   {
    "duration": 178,
    "start_time": "2023-03-06T12:17:02.239Z"
   },
   {
    "duration": 6,
    "start_time": "2023-03-06T12:17:02.420Z"
   },
   {
    "duration": 207,
    "start_time": "2023-03-06T12:17:02.428Z"
   },
   {
    "duration": 6,
    "start_time": "2023-03-06T12:17:02.640Z"
   },
   {
    "duration": 198,
    "start_time": "2023-03-06T12:17:02.648Z"
   },
   {
    "duration": 61,
    "start_time": "2023-03-06T12:17:02.848Z"
   },
   {
    "duration": 7,
    "start_time": "2023-03-06T12:17:07.129Z"
   },
   {
    "duration": 565683,
    "start_time": "2023-03-06T12:17:15.560Z"
   },
   {
    "duration": 0,
    "start_time": "2023-03-06T12:26:41.245Z"
   },
   {
    "duration": 0,
    "start_time": "2023-03-06T12:26:41.246Z"
   },
   {
    "duration": 0,
    "start_time": "2023-03-06T12:26:41.248Z"
   },
   {
    "duration": 460232,
    "start_time": "2023-03-06T12:26:44.617Z"
   },
   {
    "duration": 5,
    "start_time": "2023-03-06T12:34:31.111Z"
   },
   {
    "duration": 705,
    "start_time": "2023-03-06T12:34:44.961Z"
   },
   {
    "duration": 11,
    "start_time": "2023-03-06T12:35:06.231Z"
   },
   {
    "duration": 268,
    "start_time": "2023-03-06T12:37:02.413Z"
   },
   {
    "duration": 1079,
    "start_time": "2023-03-06T12:37:36.631Z"
   },
   {
    "duration": 122785,
    "start_time": "2023-03-06T12:37:38.573Z"
   },
   {
    "duration": 287,
    "start_time": "2023-03-06T12:39:41.361Z"
   },
   {
    "duration": 6,
    "start_time": "2023-03-06T12:39:41.650Z"
   },
   {
    "duration": 4,
    "start_time": "2023-03-06T12:39:41.743Z"
   },
   {
    "duration": 474357,
    "start_time": "2023-03-06T12:39:41.750Z"
   },
   {
    "duration": 86688,
    "start_time": "2023-03-06T12:47:36.109Z"
   },
   {
    "duration": 284,
    "start_time": "2023-03-06T12:49:02.798Z"
   },
   {
    "duration": 5,
    "start_time": "2023-03-06T12:49:03.084Z"
   },
   {
    "duration": 14,
    "start_time": "2023-03-06T12:49:03.090Z"
   },
   {
    "duration": 19,
    "start_time": "2023-03-06T12:50:17.543Z"
   },
   {
    "duration": 13,
    "start_time": "2023-03-06T12:50:32.439Z"
   },
   {
    "duration": 313363,
    "start_time": "2023-03-06T12:50:33.111Z"
   },
   {
    "duration": 12,
    "start_time": "2023-03-06T12:57:22.513Z"
   },
   {
    "duration": 346291,
    "start_time": "2023-03-06T12:59:02.151Z"
   },
   {
    "duration": 4,
    "start_time": "2023-03-06T13:05:49.019Z"
   },
   {
    "duration": 22644,
    "start_time": "2023-03-06T13:05:51.725Z"
   },
   {
    "duration": 139,
    "start_time": "2023-03-06T13:06:14.371Z"
   },
   {
    "duration": 4,
    "start_time": "2023-03-06T13:06:14.512Z"
   },
   {
    "duration": 207,
    "start_time": "2023-03-06T13:06:14.518Z"
   },
   {
    "duration": 4,
    "start_time": "2023-03-06T13:06:14.727Z"
   },
   {
    "duration": 149,
    "start_time": "2023-03-06T13:06:14.740Z"
   },
   {
    "duration": 56,
    "start_time": "2023-03-06T13:06:14.891Z"
   },
   {
    "duration": 20,
    "start_time": "2023-03-06T13:08:05.365Z"
   },
   {
    "duration": 391,
    "start_time": "2023-03-06T13:09:09.931Z"
   },
   {
    "duration": 407,
    "start_time": "2023-03-06T13:11:47.301Z"
   },
   {
    "duration": 395,
    "start_time": "2023-03-06T13:12:25.280Z"
   },
   {
    "duration": 4921,
    "start_time": "2023-03-06T13:15:47.003Z"
   },
   {
    "duration": 14,
    "start_time": "2023-03-06T13:16:32.899Z"
   },
   {
    "duration": 340,
    "start_time": "2023-03-06T13:16:52.232Z"
   },
   {
    "duration": 14,
    "start_time": "2023-03-06T13:18:07.973Z"
   },
   {
    "duration": 5,
    "start_time": "2023-03-06T13:18:15.378Z"
   },
   {
    "duration": 192,
    "start_time": "2023-03-06T13:18:16.241Z"
   },
   {
    "duration": 95,
    "start_time": "2023-03-06T13:18:17.619Z"
   },
   {
    "duration": 12,
    "start_time": "2023-03-06T13:18:18.668Z"
   },
   {
    "duration": 11,
    "start_time": "2023-03-06T13:18:41.830Z"
   },
   {
    "duration": 12,
    "start_time": "2023-03-06T13:18:51.117Z"
   },
   {
    "duration": 359,
    "start_time": "2023-03-06T13:18:55.878Z"
   },
   {
    "duration": 417,
    "start_time": "2023-03-06T13:19:09.926Z"
   },
   {
    "duration": 4364,
    "start_time": "2023-03-06T13:19:52.175Z"
   },
   {
    "duration": 4583,
    "start_time": "2023-03-06T13:22:23.302Z"
   },
   {
    "duration": 350,
    "start_time": "2023-03-06T13:23:10.985Z"
   },
   {
    "duration": 0,
    "start_time": "2023-03-06T14:55:25.944Z"
   },
   {
    "duration": 53,
    "start_time": "2023-03-06T15:27:02.663Z"
   },
   {
    "duration": 1452,
    "start_time": "2023-03-06T15:27:08.900Z"
   },
   {
    "duration": 882,
    "start_time": "2023-03-06T15:27:10.362Z"
   },
   {
    "duration": 25,
    "start_time": "2023-03-06T15:27:11.253Z"
   },
   {
    "duration": 151,
    "start_time": "2023-03-06T15:27:11.280Z"
   },
   {
    "duration": 4,
    "start_time": "2023-03-06T15:27:11.432Z"
   },
   {
    "duration": 320,
    "start_time": "2023-03-06T15:27:11.445Z"
   },
   {
    "duration": 377,
    "start_time": "2023-03-06T15:27:11.775Z"
   },
   {
    "duration": 895,
    "start_time": "2023-03-06T15:27:12.161Z"
   },
   {
    "duration": 41,
    "start_time": "2023-03-06T15:27:13.059Z"
   },
   {
    "duration": 5,
    "start_time": "2023-03-06T15:27:13.103Z"
   },
   {
    "duration": 364,
    "start_time": "2023-03-06T15:27:13.109Z"
   },
   {
    "duration": 4,
    "start_time": "2023-03-06T15:27:13.475Z"
   },
   {
    "duration": 924,
    "start_time": "2023-03-06T15:27:13.481Z"
   },
   {
    "duration": 3,
    "start_time": "2023-03-06T15:27:14.407Z"
   },
   {
    "duration": 5,
    "start_time": "2023-03-06T15:27:14.412Z"
   },
   {
    "duration": 47,
    "start_time": "2023-03-06T15:27:14.418Z"
   },
   {
    "duration": 505,
    "start_time": "2023-03-06T15:27:14.467Z"
   },
   {
    "duration": 340,
    "start_time": "2023-03-06T15:27:14.974Z"
   },
   {
    "duration": 11,
    "start_time": "2023-03-06T15:27:15.316Z"
   },
   {
    "duration": 39,
    "start_time": "2023-03-06T15:27:15.342Z"
   },
   {
    "duration": 36,
    "start_time": "2023-03-06T15:27:15.383Z"
   },
   {
    "duration": 913,
    "start_time": "2023-03-06T15:27:15.771Z"
   },
   {
    "duration": 1150,
    "start_time": "2023-03-06T15:27:16.686Z"
   },
   {
    "duration": 365,
    "start_time": "2023-03-06T15:27:17.839Z"
   },
   {
    "duration": 9,
    "start_time": "2023-03-06T15:27:18.206Z"
   },
   {
    "duration": 49,
    "start_time": "2023-03-06T15:27:18.217Z"
   },
   {
    "duration": 106,
    "start_time": "2023-03-06T15:27:18.302Z"
   },
   {
    "duration": 978,
    "start_time": "2023-03-06T15:27:18.483Z"
   },
   {
    "duration": 341,
    "start_time": "2023-03-06T15:27:19.468Z"
   },
   {
    "duration": 13,
    "start_time": "2023-03-06T15:27:19.811Z"
   },
   {
    "duration": 38,
    "start_time": "2023-03-06T15:27:19.825Z"
   },
   {
    "duration": 34,
    "start_time": "2023-03-06T15:27:19.958Z"
   },
   {
    "duration": 63,
    "start_time": "2023-03-06T15:27:20.174Z"
   },
   {
    "duration": 27,
    "start_time": "2023-03-06T15:27:20.459Z"
   },
   {
    "duration": 343,
    "start_time": "2023-03-06T15:27:20.674Z"
   },
   {
    "duration": 30,
    "start_time": "2023-03-06T15:27:21.019Z"
   },
   {
    "duration": 103,
    "start_time": "2023-03-06T15:27:21.159Z"
   },
   {
    "duration": 79,
    "start_time": "2023-03-06T15:27:24.581Z"
   },
   {
    "duration": 29,
    "start_time": "2023-03-06T15:27:25.257Z"
   },
   {
    "duration": 35,
    "start_time": "2023-03-06T15:27:25.719Z"
   },
   {
    "duration": 56,
    "start_time": "2023-03-06T15:27:26.227Z"
   },
   {
    "duration": 29,
    "start_time": "2023-03-06T15:27:26.712Z"
   },
   {
    "duration": 27,
    "start_time": "2023-03-06T15:27:27.273Z"
   },
   {
    "duration": 98,
    "start_time": "2023-03-06T15:27:27.880Z"
   },
   {
    "duration": 71,
    "start_time": "2023-03-06T15:27:29.559Z"
   },
   {
    "duration": 28,
    "start_time": "2023-03-06T15:27:30.022Z"
   },
   {
    "duration": 984,
    "start_time": "2023-03-06T15:27:31.582Z"
   },
   {
    "duration": 14,
    "start_time": "2023-03-06T15:27:33.910Z"
   },
   {
    "duration": 100,
    "start_time": "2023-03-06T15:27:34.335Z"
   },
   {
    "duration": 4,
    "start_time": "2023-03-06T15:27:34.834Z"
   },
   {
    "duration": 23,
    "start_time": "2023-03-06T15:27:37.969Z"
   },
   {
    "duration": 6229,
    "start_time": "2023-03-06T15:27:38.659Z"
   },
   {
    "duration": 4,
    "start_time": "2023-03-06T15:27:53.235Z"
   },
   {
    "duration": 148,
    "start_time": "2023-03-06T15:27:53.855Z"
   },
   {
    "duration": 75,
    "start_time": "2023-03-06T15:27:54.761Z"
   },
   {
    "duration": 12,
    "start_time": "2023-03-06T15:27:55.812Z"
   },
   {
    "duration": 0,
    "start_time": "2023-03-06T15:58:09.076Z"
   },
   {
    "duration": 1116556,
    "start_time": "2023-03-06T15:58:42.720Z"
   },
   {
    "duration": 93,
    "start_time": "2023-03-06T16:17:25.749Z"
   },
   {
    "duration": 0,
    "start_time": "2023-03-06T16:23:26.046Z"
   },
   {
    "duration": 0,
    "start_time": "2023-03-06T16:23:26.047Z"
   },
   {
    "duration": 0,
    "start_time": "2023-03-06T16:23:26.048Z"
   },
   {
    "duration": 0,
    "start_time": "2023-03-06T16:23:26.049Z"
   },
   {
    "duration": 29,
    "start_time": "2023-03-06T16:23:37.578Z"
   },
   {
    "duration": 2982,
    "start_time": "2023-03-06T16:23:40.070Z"
   },
   {
    "duration": 15,
    "start_time": "2023-03-06T16:23:43.054Z"
   },
   {
    "duration": 150,
    "start_time": "2023-03-06T16:23:44.737Z"
   },
   {
    "duration": 5,
    "start_time": "2023-03-06T16:23:45.495Z"
   },
   {
    "duration": 250,
    "start_time": "2023-03-06T16:23:45.658Z"
   },
   {
    "duration": 244,
    "start_time": "2023-03-06T16:23:45.911Z"
   },
   {
    "duration": 781,
    "start_time": "2023-03-06T16:23:46.196Z"
   },
   {
    "duration": 73,
    "start_time": "2023-03-06T16:23:46.980Z"
   },
   {
    "duration": 5,
    "start_time": "2023-03-06T16:23:47.055Z"
   },
   {
    "duration": 345,
    "start_time": "2023-03-06T16:23:47.741Z"
   },
   {
    "duration": 5,
    "start_time": "2023-03-06T16:23:48.089Z"
   },
   {
    "duration": 943,
    "start_time": "2023-03-06T16:23:48.378Z"
   },
   {
    "duration": 3,
    "start_time": "2023-03-06T16:23:49.323Z"
   },
   {
    "duration": 4,
    "start_time": "2023-03-06T16:23:49.328Z"
   },
   {
    "duration": 24,
    "start_time": "2023-03-06T16:23:49.569Z"
   },
   {
    "duration": 303,
    "start_time": "2023-03-06T16:23:49.752Z"
   },
   {
    "duration": 323,
    "start_time": "2023-03-06T16:23:50.058Z"
   },
   {
    "duration": 10,
    "start_time": "2023-03-06T16:23:50.382Z"
   },
   {
    "duration": 27,
    "start_time": "2023-03-06T16:23:50.581Z"
   },
   {
    "duration": 25,
    "start_time": "2023-03-06T16:23:50.781Z"
   },
   {
    "duration": 801,
    "start_time": "2023-03-06T16:23:51.560Z"
   },
   {
    "duration": 850,
    "start_time": "2023-03-06T16:23:52.515Z"
   },
   {
    "duration": 308,
    "start_time": "2023-03-06T16:24:04.903Z"
   },
   {
    "duration": 10,
    "start_time": "2023-03-06T16:24:07.035Z"
   },
   {
    "duration": 33,
    "start_time": "2023-03-06T16:24:07.814Z"
   },
   {
    "duration": 114,
    "start_time": "2023-03-06T16:24:08.843Z"
   },
   {
    "duration": 945,
    "start_time": "2023-03-06T16:24:09.074Z"
   },
   {
    "duration": 338,
    "start_time": "2023-03-06T16:24:10.022Z"
   },
   {
    "duration": 14,
    "start_time": "2023-03-06T16:24:10.362Z"
   },
   {
    "duration": 15,
    "start_time": "2023-03-06T16:24:10.378Z"
   },
   {
    "duration": 35,
    "start_time": "2023-03-06T16:24:10.608Z"
   },
   {
    "duration": 107,
    "start_time": "2023-03-06T16:24:10.919Z"
   },
   {
    "duration": 31,
    "start_time": "2023-03-06T16:24:11.193Z"
   },
   {
    "duration": 339,
    "start_time": "2023-03-06T16:24:11.433Z"
   },
   {
    "duration": 12,
    "start_time": "2023-03-06T16:24:11.781Z"
   },
   {
    "duration": 151,
    "start_time": "2023-03-06T16:24:12.767Z"
   },
   {
    "duration": 123,
    "start_time": "2023-03-06T16:24:15.032Z"
   },
   {
    "duration": 52,
    "start_time": "2023-03-06T16:24:15.559Z"
   },
   {
    "duration": 51,
    "start_time": "2023-03-06T16:24:15.779Z"
   },
   {
    "duration": 54,
    "start_time": "2023-03-06T16:24:15.971Z"
   },
   {
    "duration": 54,
    "start_time": "2023-03-06T16:24:16.183Z"
   },
   {
    "duration": 53,
    "start_time": "2023-03-06T16:24:16.406Z"
   },
   {
    "duration": 132,
    "start_time": "2023-03-06T16:24:16.637Z"
   },
   {
    "duration": 141,
    "start_time": "2023-03-06T16:24:17.204Z"
   },
   {
    "duration": 42,
    "start_time": "2023-03-06T16:24:17.417Z"
   },
   {
    "duration": 1111,
    "start_time": "2023-03-06T16:24:18.012Z"
   },
   {
    "duration": 19,
    "start_time": "2023-03-06T16:24:19.751Z"
   },
   {
    "duration": 57,
    "start_time": "2023-03-06T16:24:19.973Z"
   },
   {
    "duration": 7,
    "start_time": "2023-03-06T16:24:20.247Z"
   },
   {
    "duration": 17,
    "start_time": "2023-03-06T16:24:21.518Z"
   },
   {
    "duration": 289587,
    "start_time": "2023-03-06T16:24:21.732Z"
   },
   {
    "duration": 4,
    "start_time": "2023-03-06T16:29:11.320Z"
   },
   {
    "duration": 18573,
    "start_time": "2023-03-06T16:29:11.325Z"
   },
   {
    "duration": 116,
    "start_time": "2023-03-06T16:29:29.900Z"
   },
   {
    "duration": 4,
    "start_time": "2023-03-06T16:29:30.018Z"
   },
   {
    "duration": 238,
    "start_time": "2023-03-06T16:29:30.024Z"
   },
   {
    "duration": 5,
    "start_time": "2023-03-06T16:29:30.263Z"
   },
   {
    "duration": 156,
    "start_time": "2023-03-06T16:29:30.270Z"
   },
   {
    "duration": 64,
    "start_time": "2023-03-06T16:29:30.427Z"
   },
   {
    "duration": 8,
    "start_time": "2023-03-06T16:29:30.494Z"
   },
   {
    "duration": 3849653,
    "start_time": "2023-03-06T16:29:30.504Z"
   },
   {
    "duration": 29728,
    "start_time": "2023-03-06T17:33:59.715Z"
   },
   {
    "duration": 394702,
    "start_time": "2023-03-06T17:34:48.249Z"
   },
   {
    "duration": 342933,
    "start_time": "2023-03-06T17:41:56.824Z"
   },
   {
    "duration": 96728,
    "start_time": "2023-03-06T17:53:08.114Z"
   },
   {
    "duration": 701024,
    "start_time": "2023-03-06T18:03:26.118Z"
   },
   {
    "duration": 8,
    "start_time": "2023-03-06T18:22:00.901Z"
   },
   {
    "duration": 2920,
    "start_time": "2023-03-06T18:22:01.254Z"
   },
   {
    "duration": 19,
    "start_time": "2023-03-06T18:22:04.177Z"
   },
   {
    "duration": 150,
    "start_time": "2023-03-06T18:22:04.198Z"
   },
   {
    "duration": 4,
    "start_time": "2023-03-06T18:22:04.350Z"
   },
   {
    "duration": 237,
    "start_time": "2023-03-06T18:22:04.355Z"
   },
   {
    "duration": 218,
    "start_time": "2023-03-06T18:22:04.594Z"
   },
   {
    "duration": 709,
    "start_time": "2023-03-06T18:22:04.814Z"
   },
   {
    "duration": 48,
    "start_time": "2023-03-06T18:22:05.525Z"
   },
   {
    "duration": 4,
    "start_time": "2023-03-06T18:22:05.575Z"
   },
   {
    "duration": 340,
    "start_time": "2023-03-06T18:22:05.581Z"
   },
   {
    "duration": 4,
    "start_time": "2023-03-06T18:22:05.922Z"
   },
   {
    "duration": 870,
    "start_time": "2023-03-06T18:22:05.941Z"
   },
   {
    "duration": 2,
    "start_time": "2023-03-06T18:22:06.813Z"
   },
   {
    "duration": 11,
    "start_time": "2023-03-06T18:22:06.817Z"
   },
   {
    "duration": 31,
    "start_time": "2023-03-06T18:22:06.830Z"
   },
   {
    "duration": 396,
    "start_time": "2023-03-06T18:22:06.863Z"
   },
   {
    "duration": 420,
    "start_time": "2023-03-06T18:22:07.261Z"
   },
   {
    "duration": 13,
    "start_time": "2023-03-06T18:22:07.684Z"
   },
   {
    "duration": 43,
    "start_time": "2023-03-06T18:22:07.699Z"
   },
   {
    "duration": 27,
    "start_time": "2023-03-06T18:22:07.744Z"
   },
   {
    "duration": 809,
    "start_time": "2023-03-06T18:22:08.129Z"
   },
   {
    "duration": 843,
    "start_time": "2023-03-06T18:22:09.120Z"
   },
   {
    "duration": 464,
    "start_time": "2023-03-06T18:22:09.965Z"
   },
   {
    "duration": 12,
    "start_time": "2023-03-06T18:22:10.431Z"
   },
   {
    "duration": 25,
    "start_time": "2023-03-06T18:22:10.445Z"
   },
   {
    "duration": 80,
    "start_time": "2023-03-06T18:22:10.932Z"
   },
   {
    "duration": 874,
    "start_time": "2023-03-06T18:22:11.126Z"
   },
   {
    "duration": 344,
    "start_time": "2023-03-06T18:22:12.002Z"
   },
   {
    "duration": 11,
    "start_time": "2023-03-06T18:22:12.648Z"
   },
   {
    "duration": 12,
    "start_time": "2023-03-06T18:22:12.857Z"
   },
   {
    "duration": 31,
    "start_time": "2023-03-06T18:22:14.125Z"
   },
   {
    "duration": 62,
    "start_time": "2023-03-06T18:22:14.625Z"
   },
   {
    "duration": 24,
    "start_time": "2023-03-06T18:22:15.194Z"
   },
   {
    "duration": 360,
    "start_time": "2023-03-06T18:22:15.738Z"
   },
   {
    "duration": 11,
    "start_time": "2023-03-06T18:22:16.173Z"
   },
   {
    "duration": 91,
    "start_time": "2023-03-06T18:22:16.558Z"
   },
   {
    "duration": 69,
    "start_time": "2023-03-06T18:22:17.925Z"
   },
   {
    "duration": 30,
    "start_time": "2023-03-06T18:22:18.328Z"
   },
   {
    "duration": 29,
    "start_time": "2023-03-06T18:22:18.532Z"
   },
   {
    "duration": 36,
    "start_time": "2023-03-06T18:22:18.746Z"
   },
   {
    "duration": 31,
    "start_time": "2023-03-06T18:22:18.946Z"
   },
   {
    "duration": 29,
    "start_time": "2023-03-06T18:22:19.162Z"
   },
   {
    "duration": 78,
    "start_time": "2023-03-06T18:22:19.354Z"
   },
   {
    "duration": 72,
    "start_time": "2023-03-06T18:22:20.026Z"
   },
   {
    "duration": 27,
    "start_time": "2023-03-06T18:22:20.258Z"
   },
   {
    "duration": 946,
    "start_time": "2023-03-06T18:22:20.854Z"
   },
   {
    "duration": 18,
    "start_time": "2023-03-06T18:22:21.802Z"
   },
   {
    "duration": 72,
    "start_time": "2023-03-06T18:22:21.979Z"
   },
   {
    "duration": 4,
    "start_time": "2023-03-06T18:22:22.268Z"
   },
   {
    "duration": 17,
    "start_time": "2023-03-06T18:22:24.426Z"
   },
   {
    "duration": 300327,
    "start_time": "2023-03-06T18:22:24.937Z"
   },
   {
    "duration": 7,
    "start_time": "2023-03-06T18:27:25.267Z"
   },
   {
    "duration": 21283,
    "start_time": "2023-03-06T18:27:25.275Z"
   },
   {
    "duration": 146,
    "start_time": "2023-03-06T18:27:46.561Z"
   },
   {
    "duration": 5,
    "start_time": "2023-03-06T18:27:46.709Z"
   },
   {
    "duration": 211,
    "start_time": "2023-03-06T18:27:46.716Z"
   },
   {
    "duration": 15,
    "start_time": "2023-03-06T18:27:46.930Z"
   },
   {
    "duration": 133,
    "start_time": "2023-03-06T18:27:46.953Z"
   },
   {
    "duration": 69,
    "start_time": "2023-03-06T18:27:47.089Z"
   },
   {
    "duration": 1138353,
    "start_time": "2023-03-06T18:28:04.991Z"
   },
   {
    "duration": 3,
    "start_time": "2023-03-06T18:48:56.146Z"
   },
   {
    "duration": 5,
    "start_time": "2023-03-06T18:49:05.687Z"
   },
   {
    "duration": 4,
    "start_time": "2023-03-06T18:49:21.599Z"
   },
   {
    "duration": 385456,
    "start_time": "2023-03-06T18:50:02.204Z"
   },
   {
    "duration": 806,
    "start_time": "2023-03-06T18:57:29.042Z"
   },
   {
    "duration": 234,
    "start_time": "2023-03-06T18:57:31.311Z"
   },
   {
    "duration": 180131,
    "start_time": "2023-03-06T18:57:33.034Z"
   },
   {
    "duration": 1516,
    "start_time": "2023-03-06T19:00:33.167Z"
   },
   {
    "duration": 169056,
    "start_time": "2023-03-06T19:00:34.685Z"
   },
   {
    "duration": 134,
    "start_time": "2023-03-06T19:03:23.744Z"
   },
   {
    "duration": 7,
    "start_time": "2023-03-06T19:03:23.942Z"
   },
   {
    "duration": 91,
    "start_time": "2023-03-06T19:03:23.951Z"
   },
   {
    "duration": 126722,
    "start_time": "2023-03-06T19:03:24.044Z"
   },
   {
    "duration": 0,
    "start_time": "2023-03-06T19:06:53.685Z"
   },
   {
    "duration": 0,
    "start_time": "2023-03-06T19:06:53.686Z"
   },
   {
    "duration": 0,
    "start_time": "2023-03-06T19:06:53.687Z"
   },
   {
    "duration": 0,
    "start_time": "2023-03-06T19:06:53.689Z"
   },
   {
    "duration": 0,
    "start_time": "2023-03-06T19:06:53.690Z"
   },
   {
    "duration": 0,
    "start_time": "2023-03-06T19:06:53.691Z"
   },
   {
    "duration": 0,
    "start_time": "2023-03-06T19:06:53.692Z"
   },
   {
    "duration": 0,
    "start_time": "2023-03-06T19:06:53.742Z"
   },
   {
    "duration": 0,
    "start_time": "2023-03-06T19:06:53.744Z"
   },
   {
    "duration": 0,
    "start_time": "2023-03-06T19:06:53.745Z"
   },
   {
    "duration": 0,
    "start_time": "2023-03-06T19:06:53.746Z"
   },
   {
    "duration": 0,
    "start_time": "2023-03-06T19:06:53.747Z"
   },
   {
    "duration": 0,
    "start_time": "2023-03-06T19:06:53.748Z"
   },
   {
    "duration": 0,
    "start_time": "2023-03-06T19:06:53.749Z"
   },
   {
    "duration": 0,
    "start_time": "2023-03-06T19:06:53.751Z"
   },
   {
    "duration": 0,
    "start_time": "2023-03-06T19:06:53.752Z"
   },
   {
    "duration": 0,
    "start_time": "2023-03-06T19:06:53.753Z"
   },
   {
    "duration": 0,
    "start_time": "2023-03-06T19:06:53.755Z"
   },
   {
    "duration": 0,
    "start_time": "2023-03-06T19:06:53.756Z"
   },
   {
    "duration": 5,
    "start_time": "2023-03-06T19:08:28.114Z"
   },
   {
    "duration": 481037,
    "start_time": "2023-03-06T19:08:30.348Z"
   },
   {
    "duration": 82941,
    "start_time": "2023-03-06T19:16:31.387Z"
   },
   {
    "duration": 276,
    "start_time": "2023-03-06T19:17:54.330Z"
   },
   {
    "duration": 5,
    "start_time": "2023-03-06T19:17:54.608Z"
   },
   {
    "duration": 14,
    "start_time": "2023-03-06T19:18:15.419Z"
   },
   {
    "duration": 10,
    "start_time": "2023-03-06T19:18:48.764Z"
   },
   {
    "duration": 4,
    "start_time": "2023-03-06T19:18:58.648Z"
   },
   {
    "duration": 20,
    "start_time": "2023-03-06T19:19:07.823Z"
   },
   {
    "duration": 4,
    "start_time": "2023-03-06T19:19:34.826Z"
   },
   {
    "duration": 77,
    "start_time": "2023-03-06T19:19:45.818Z"
   },
   {
    "duration": 3,
    "start_time": "2023-03-06T19:20:31.122Z"
   },
   {
    "duration": 25,
    "start_time": "2023-03-06T19:20:39.377Z"
   },
   {
    "duration": 3,
    "start_time": "2023-03-06T19:21:10.216Z"
   },
   {
    "duration": 29,
    "start_time": "2023-03-06T19:21:15.757Z"
   },
   {
    "duration": 5,
    "start_time": "2023-03-06T19:22:12.738Z"
   },
   {
    "duration": 12,
    "start_time": "2023-03-06T19:22:27.807Z"
   },
   {
    "duration": 4,
    "start_time": "2023-03-06T19:22:41.359Z"
   },
   {
    "duration": 4,
    "start_time": "2023-03-06T19:22:47.318Z"
   },
   {
    "duration": 3,
    "start_time": "2023-03-06T19:23:02.144Z"
   },
   {
    "duration": 4,
    "start_time": "2023-03-06T19:23:06.172Z"
   },
   {
    "duration": 4,
    "start_time": "2023-03-06T19:23:22.844Z"
   },
   {
    "duration": 5,
    "start_time": "2023-03-06T19:23:44.076Z"
   },
   {
    "duration": 6,
    "start_time": "2023-03-06T19:24:13.549Z"
   },
   {
    "duration": 3,
    "start_time": "2023-03-06T19:24:49.126Z"
   },
   {
    "duration": 14,
    "start_time": "2023-03-06T19:24:54.322Z"
   },
   {
    "duration": 5,
    "start_time": "2023-03-06T19:30:37.803Z"
   },
   {
    "duration": 9,
    "start_time": "2023-03-06T19:30:55.622Z"
   },
   {
    "duration": 4,
    "start_time": "2023-03-06T19:31:08.856Z"
   },
   {
    "duration": 5,
    "start_time": "2023-03-06T19:31:26.155Z"
   },
   {
    "duration": 5,
    "start_time": "2023-03-06T19:34:19.524Z"
   },
   {
    "duration": 5,
    "start_time": "2023-03-06T19:34:31.824Z"
   },
   {
    "duration": 14,
    "start_time": "2023-03-06T19:35:08.819Z"
   },
   {
    "duration": 8,
    "start_time": "2023-03-06T19:37:08.444Z"
   },
   {
    "duration": 4,
    "start_time": "2023-03-06T19:37:21.220Z"
   },
   {
    "duration": 5,
    "start_time": "2023-03-06T19:37:27.821Z"
   },
   {
    "duration": 12,
    "start_time": "2023-03-06T19:37:48.622Z"
   },
   {
    "duration": 6,
    "start_time": "2023-03-06T19:39:26.603Z"
   },
   {
    "duration": 4,
    "start_time": "2023-03-06T19:39:41.621Z"
   },
   {
    "duration": 54,
    "start_time": "2023-03-06T19:39:53.295Z"
   },
   {
    "duration": 5,
    "start_time": "2023-03-06T19:40:06.539Z"
   },
   {
    "duration": 24,
    "start_time": "2023-03-06T19:40:28.604Z"
   },
   {
    "duration": 4,
    "start_time": "2023-03-06T19:45:53.318Z"
   },
   {
    "duration": 4,
    "start_time": "2023-03-06T19:46:10.613Z"
   },
   {
    "duration": 15,
    "start_time": "2023-03-06T19:46:26.670Z"
   },
   {
    "duration": 5,
    "start_time": "2023-03-06T19:46:36.320Z"
   },
   {
    "duration": 5,
    "start_time": "2023-03-06T19:46:44.383Z"
   },
   {
    "duration": 5,
    "start_time": "2023-03-06T19:46:51.634Z"
   },
   {
    "duration": 15,
    "start_time": "2023-03-06T19:46:58.956Z"
   },
   {
    "duration": 14,
    "start_time": "2023-03-06T19:47:05.161Z"
   },
   {
    "duration": 5,
    "start_time": "2023-03-06T19:47:18.519Z"
   },
   {
    "duration": 4,
    "start_time": "2023-03-06T19:47:28.723Z"
   },
   {
    "duration": 5,
    "start_time": "2023-03-06T19:47:46.719Z"
   },
   {
    "duration": 12,
    "start_time": "2023-03-06T19:47:53.863Z"
   },
   {
    "duration": 5,
    "start_time": "2023-03-06T19:48:01.885Z"
   },
   {
    "duration": 5,
    "start_time": "2023-03-06T19:48:10.021Z"
   },
   {
    "duration": 80,
    "start_time": "2023-03-06T19:48:17.221Z"
   },
   {
    "duration": 4,
    "start_time": "2023-03-06T19:48:24.311Z"
   },
   {
    "duration": 6,
    "start_time": "2023-03-06T19:48:30.957Z"
   },
   {
    "duration": 4,
    "start_time": "2023-03-06T19:48:35.229Z"
   },
   {
    "duration": 4,
    "start_time": "2023-03-06T19:48:49.504Z"
   },
   {
    "duration": 8,
    "start_time": "2023-03-06T19:49:07.707Z"
   },
   {
    "duration": 121230,
    "start_time": "2023-03-06T19:51:09.320Z"
   },
   {
    "duration": 5,
    "start_time": "2023-03-06T19:53:16.073Z"
   },
   {
    "duration": 5,
    "start_time": "2023-03-06T19:53:17.645Z"
   },
   {
    "duration": 5,
    "start_time": "2023-03-06T19:53:26.864Z"
   },
   {
    "duration": 210899,
    "start_time": "2023-03-06T19:53:47.855Z"
   },
   {
    "duration": 6,
    "start_time": "2023-03-06T19:57:18.757Z"
   },
   {
    "duration": 11,
    "start_time": "2023-03-06T19:57:18.765Z"
   },
   {
    "duration": 142075,
    "start_time": "2023-03-06T19:58:53.892Z"
   },
   {
    "duration": 86,
    "start_time": "2023-03-06T20:01:15.971Z"
   },
   {
    "duration": 6,
    "start_time": "2023-03-06T20:01:16.067Z"
   },
   {
    "duration": 168,
    "start_time": "2023-03-06T20:01:16.076Z"
   },
   {
    "duration": 6,
    "start_time": "2023-03-06T20:01:16.246Z"
   },
   {
    "duration": 7,
    "start_time": "2023-03-06T20:01:16.254Z"
   },
   {
    "duration": 500535,
    "start_time": "2023-03-06T20:01:16.262Z"
   },
   {
    "duration": 3,
    "start_time": "2023-03-06T20:09:36.799Z"
   },
   {
    "duration": 86585,
    "start_time": "2023-03-06T20:09:36.803Z"
   },
   {
    "duration": 272,
    "start_time": "2023-03-06T20:11:03.391Z"
   },
   {
    "duration": 5,
    "start_time": "2023-03-06T20:11:03.665Z"
   },
   {
    "duration": 26,
    "start_time": "2023-03-06T20:11:03.672Z"
   },
   {
    "duration": 61,
    "start_time": "2023-03-06T20:11:03.699Z"
   },
   {
    "duration": 86759,
    "start_time": "2023-03-06T20:12:18.210Z"
   },
   {
    "duration": 299,
    "start_time": "2023-03-06T20:13:44.971Z"
   },
   {
    "duration": 6,
    "start_time": "2023-03-06T20:13:45.272Z"
   },
   {
    "duration": 28,
    "start_time": "2023-03-06T20:13:45.280Z"
   },
   {
    "duration": 4,
    "start_time": "2023-03-06T20:16:09.575Z"
   },
   {
    "duration": 91,
    "start_time": "2023-03-06T20:16:10.257Z"
   },
   {
    "duration": 33,
    "start_time": "2023-03-06T20:16:11.266Z"
   },
   {
    "duration": 4,
    "start_time": "2023-03-06T20:16:12.615Z"
   },
   {
    "duration": 24,
    "start_time": "2023-03-06T20:16:13.338Z"
   },
   {
    "duration": 15184,
    "start_time": "2023-03-06T20:16:15.516Z"
   },
   {
    "duration": 125,
    "start_time": "2023-03-06T20:16:30.702Z"
   },
   {
    "duration": 186,
    "start_time": "2023-03-06T20:16:30.829Z"
   },
   {
    "duration": 99,
    "start_time": "2023-03-06T20:16:31.018Z"
   },
   {
    "duration": 48,
    "start_time": "2023-03-06T20:16:31.119Z"
   },
   {
    "duration": 151750,
    "start_time": "2023-03-06T20:16:31.169Z"
   },
   {
    "duration": 63,
    "start_time": "2023-03-06T20:19:02.921Z"
   },
   {
    "duration": 16,
    "start_time": "2023-03-06T20:19:02.985Z"
   },
   {
    "duration": 393414,
    "start_time": "2023-03-06T20:21:15.070Z"
   },
   {
    "duration": 677,
    "start_time": "2023-03-06T20:27:48.486Z"
   },
   {
    "duration": 38,
    "start_time": "2023-03-06T20:27:49.165Z"
   },
   {
    "duration": 1585,
    "start_time": "2023-03-06T20:28:59.973Z"
   },
   {
    "duration": 3523,
    "start_time": "2023-03-06T20:29:01.560Z"
   },
   {
    "duration": 16,
    "start_time": "2023-03-06T20:29:05.085Z"
   },
   {
    "duration": 155,
    "start_time": "2023-03-06T20:29:05.103Z"
   },
   {
    "duration": 11,
    "start_time": "2023-03-06T20:29:05.263Z"
   },
   {
    "duration": 314,
    "start_time": "2023-03-06T20:29:05.276Z"
   },
   {
    "duration": 282,
    "start_time": "2023-03-06T20:29:05.591Z"
   },
   {
    "duration": 893,
    "start_time": "2023-03-06T20:29:05.875Z"
   },
   {
    "duration": 64,
    "start_time": "2023-03-06T20:29:06.774Z"
   },
   {
    "duration": 8,
    "start_time": "2023-03-06T20:29:06.842Z"
   },
   {
    "duration": 365,
    "start_time": "2023-03-06T20:29:06.858Z"
   },
   {
    "duration": 4,
    "start_time": "2023-03-06T20:29:07.225Z"
   },
   {
    "duration": 1115,
    "start_time": "2023-03-06T20:29:07.231Z"
   },
   {
    "duration": 7,
    "start_time": "2023-03-06T20:29:08.349Z"
   },
   {
    "duration": 13,
    "start_time": "2023-03-06T20:29:08.358Z"
   },
   {
    "duration": 26,
    "start_time": "2023-03-06T20:29:08.375Z"
   },
   {
    "duration": 440,
    "start_time": "2023-03-06T20:29:08.403Z"
   },
   {
    "duration": 360,
    "start_time": "2023-03-06T20:29:08.852Z"
   },
   {
    "duration": 11,
    "start_time": "2023-03-06T20:29:09.214Z"
   },
   {
    "duration": 47,
    "start_time": "2023-03-06T20:29:09.226Z"
   },
   {
    "duration": 25,
    "start_time": "2023-03-06T20:29:09.276Z"
   },
   {
    "duration": 847,
    "start_time": "2023-03-06T20:29:09.303Z"
   },
   {
    "duration": 926,
    "start_time": "2023-03-06T20:29:10.158Z"
   },
   {
    "duration": 359,
    "start_time": "2023-03-06T20:29:11.086Z"
   },
   {
    "duration": 11,
    "start_time": "2023-03-06T20:29:11.446Z"
   },
   {
    "duration": 39,
    "start_time": "2023-03-06T20:29:11.459Z"
   },
   {
    "duration": 103,
    "start_time": "2023-03-06T20:29:11.499Z"
   },
   {
    "duration": 1003,
    "start_time": "2023-03-06T20:29:11.606Z"
   },
   {
    "duration": 321,
    "start_time": "2023-03-06T20:29:12.611Z"
   },
   {
    "duration": 20,
    "start_time": "2023-03-06T20:29:12.934Z"
   },
   {
    "duration": 19,
    "start_time": "2023-03-06T20:29:12.956Z"
   },
   {
    "duration": 31,
    "start_time": "2023-03-06T20:29:12.977Z"
   },
   {
    "duration": 93,
    "start_time": "2023-03-06T20:29:13.009Z"
   },
   {
    "duration": 24,
    "start_time": "2023-03-06T20:29:13.104Z"
   },
   {
    "duration": 354,
    "start_time": "2023-03-06T20:29:13.130Z"
   },
   {
    "duration": 10,
    "start_time": "2023-03-06T20:29:13.486Z"
   },
   {
    "duration": 122,
    "start_time": "2023-03-06T20:29:13.498Z"
   },
   {
    "duration": 93,
    "start_time": "2023-03-06T20:29:13.621Z"
   },
   {
    "duration": 52,
    "start_time": "2023-03-06T20:29:13.716Z"
   },
   {
    "duration": 35,
    "start_time": "2023-03-06T20:29:13.770Z"
   },
   {
    "duration": 55,
    "start_time": "2023-03-06T20:29:13.806Z"
   },
   {
    "duration": 31,
    "start_time": "2023-03-06T20:29:13.867Z"
   },
   {
    "duration": 27,
    "start_time": "2023-03-06T20:29:13.899Z"
   },
   {
    "duration": 99,
    "start_time": "2023-03-06T20:29:13.927Z"
   },
   {
    "duration": 93,
    "start_time": "2023-03-06T20:29:14.028Z"
   },
   {
    "duration": 48,
    "start_time": "2023-03-06T20:29:14.123Z"
   },
   {
    "duration": 907,
    "start_time": "2023-03-06T20:29:14.172Z"
   },
   {
    "duration": 13,
    "start_time": "2023-03-06T20:29:15.081Z"
   },
   {
    "duration": 127,
    "start_time": "2023-03-06T20:29:15.096Z"
   },
   {
    "duration": 5,
    "start_time": "2023-03-06T20:29:15.224Z"
   },
   {
    "duration": 73,
    "start_time": "2023-03-06T20:29:15.231Z"
   },
   {
    "duration": 385142,
    "start_time": "2023-03-06T20:29:15.306Z"
   },
   {
    "duration": 12,
    "start_time": "2023-03-06T20:35:40.455Z"
   },
   {
    "duration": 31570,
    "start_time": "2023-03-06T20:35:40.479Z"
   },
   {
    "duration": 213,
    "start_time": "2023-03-06T20:36:12.057Z"
   },
   {
    "duration": 8,
    "start_time": "2023-03-06T20:36:12.273Z"
   },
   {
    "duration": 327,
    "start_time": "2023-03-06T20:36:12.283Z"
   },
   {
    "duration": 5,
    "start_time": "2023-03-06T20:36:12.614Z"
   },
   {
    "duration": 191,
    "start_time": "2023-03-06T20:36:12.621Z"
   },
   {
    "duration": 82,
    "start_time": "2023-03-06T20:36:12.814Z"
   },
   {
    "duration": 176,
    "start_time": "2023-03-06T20:36:12.897Z"
   },
   {
    "duration": 0,
    "start_time": "2023-03-06T20:36:13.075Z"
   },
   {
    "duration": 0,
    "start_time": "2023-03-06T20:36:13.076Z"
   },
   {
    "duration": 0,
    "start_time": "2023-03-06T20:36:13.077Z"
   },
   {
    "duration": 0,
    "start_time": "2023-03-06T20:36:13.077Z"
   },
   {
    "duration": 0,
    "start_time": "2023-03-06T20:36:13.078Z"
   },
   {
    "duration": 0,
    "start_time": "2023-03-06T20:36:13.103Z"
   },
   {
    "duration": 0,
    "start_time": "2023-03-06T20:36:13.107Z"
   },
   {
    "duration": 0,
    "start_time": "2023-03-06T20:36:13.111Z"
   },
   {
    "duration": 0,
    "start_time": "2023-03-06T20:36:13.113Z"
   },
   {
    "duration": 0,
    "start_time": "2023-03-06T20:36:13.114Z"
   },
   {
    "duration": 0,
    "start_time": "2023-03-06T20:36:13.115Z"
   },
   {
    "duration": 0,
    "start_time": "2023-03-06T20:36:13.116Z"
   },
   {
    "duration": 0,
    "start_time": "2023-03-06T20:36:13.118Z"
   },
   {
    "duration": 0,
    "start_time": "2023-03-06T20:36:13.120Z"
   },
   {
    "duration": 0,
    "start_time": "2023-03-06T20:36:13.121Z"
   },
   {
    "duration": 0,
    "start_time": "2023-03-06T20:36:13.123Z"
   },
   {
    "duration": 0,
    "start_time": "2023-03-06T20:36:13.124Z"
   },
   {
    "duration": 0,
    "start_time": "2023-03-06T20:36:13.125Z"
   },
   {
    "duration": 0,
    "start_time": "2023-03-06T20:36:13.126Z"
   },
   {
    "duration": 0,
    "start_time": "2023-03-06T20:36:13.127Z"
   },
   {
    "duration": 0,
    "start_time": "2023-03-06T20:36:13.128Z"
   },
   {
    "duration": 0,
    "start_time": "2023-03-06T20:36:13.129Z"
   },
   {
    "duration": 0,
    "start_time": "2023-03-06T20:36:13.130Z"
   },
   {
    "duration": 0,
    "start_time": "2023-03-06T20:36:13.132Z"
   },
   {
    "duration": 0,
    "start_time": "2023-03-06T20:36:13.149Z"
   },
   {
    "duration": 0,
    "start_time": "2023-03-06T20:36:13.150Z"
   },
   {
    "duration": 0,
    "start_time": "2023-03-06T20:36:13.150Z"
   },
   {
    "duration": 0,
    "start_time": "2023-03-06T20:36:13.151Z"
   },
   {
    "duration": 0,
    "start_time": "2023-03-06T20:36:13.154Z"
   },
   {
    "duration": 0,
    "start_time": "2023-03-06T20:36:13.154Z"
   },
   {
    "duration": 12,
    "start_time": "2023-03-06T20:37:03.010Z"
   },
   {
    "duration": 1723014,
    "start_time": "2023-03-06T20:37:18.330Z"
   },
   {
    "duration": 0,
    "start_time": "2023-03-06T21:06:01.354Z"
   },
   {
    "duration": 0,
    "start_time": "2023-03-06T21:06:01.358Z"
   },
   {
    "duration": 0,
    "start_time": "2023-03-06T21:06:01.359Z"
   },
   {
    "duration": 0,
    "start_time": "2023-03-06T21:06:01.360Z"
   },
   {
    "duration": 0,
    "start_time": "2023-03-06T21:06:01.362Z"
   },
   {
    "duration": 0,
    "start_time": "2023-03-06T21:06:01.363Z"
   },
   {
    "duration": 0,
    "start_time": "2023-03-06T21:06:01.365Z"
   },
   {
    "duration": 0,
    "start_time": "2023-03-06T21:06:01.367Z"
   },
   {
    "duration": 0,
    "start_time": "2023-03-06T21:06:01.369Z"
   },
   {
    "duration": 0,
    "start_time": "2023-03-06T21:06:01.370Z"
   },
   {
    "duration": 0,
    "start_time": "2023-03-06T21:06:01.371Z"
   },
   {
    "duration": 0,
    "start_time": "2023-03-06T21:06:01.372Z"
   },
   {
    "duration": 0,
    "start_time": "2023-03-06T21:06:01.373Z"
   },
   {
    "duration": 0,
    "start_time": "2023-03-06T21:06:01.374Z"
   },
   {
    "duration": 0,
    "start_time": "2023-03-06T21:06:01.375Z"
   },
   {
    "duration": 0,
    "start_time": "2023-03-06T21:06:01.376Z"
   },
   {
    "duration": 0,
    "start_time": "2023-03-06T21:06:01.381Z"
   },
   {
    "duration": 0,
    "start_time": "2023-03-06T21:06:01.382Z"
   },
   {
    "duration": 0,
    "start_time": "2023-03-06T21:06:01.383Z"
   },
   {
    "duration": 0,
    "start_time": "2023-03-06T21:06:01.385Z"
   },
   {
    "duration": 0,
    "start_time": "2023-03-06T21:06:01.387Z"
   },
   {
    "duration": 0,
    "start_time": "2023-03-06T21:06:01.388Z"
   },
   {
    "duration": 0,
    "start_time": "2023-03-06T21:06:01.389Z"
   },
   {
    "duration": 0,
    "start_time": "2023-03-06T21:06:01.392Z"
   },
   {
    "duration": 0,
    "start_time": "2023-03-06T21:06:01.392Z"
   },
   {
    "duration": 0,
    "start_time": "2023-03-06T21:06:01.397Z"
   },
   {
    "duration": 0,
    "start_time": "2023-03-06T21:06:01.398Z"
   },
   {
    "duration": 0,
    "start_time": "2023-03-06T21:06:01.399Z"
   },
   {
    "duration": 0,
    "start_time": "2023-03-06T21:06:01.400Z"
   },
   {
    "duration": 0,
    "start_time": "2023-03-06T21:06:01.401Z"
   },
   {
    "duration": 1658,
    "start_time": "2023-03-07T13:50:20.695Z"
   },
   {
    "duration": 1098,
    "start_time": "2023-03-07T13:50:22.355Z"
   },
   {
    "duration": 16,
    "start_time": "2023-03-07T13:50:23.455Z"
   },
   {
    "duration": 184,
    "start_time": "2023-03-07T13:50:23.473Z"
   },
   {
    "duration": 3,
    "start_time": "2023-03-07T13:50:23.659Z"
   },
   {
    "duration": 589,
    "start_time": "2023-03-07T13:50:23.664Z"
   },
   {
    "duration": 509,
    "start_time": "2023-03-07T13:50:24.255Z"
   },
   {
    "duration": 1192,
    "start_time": "2023-03-07T13:50:24.766Z"
   },
   {
    "duration": 59,
    "start_time": "2023-03-07T13:50:25.960Z"
   },
   {
    "duration": 5,
    "start_time": "2023-03-07T13:50:26.034Z"
   },
   {
    "duration": 357,
    "start_time": "2023-03-07T13:50:26.043Z"
   },
   {
    "duration": 4,
    "start_time": "2023-03-07T13:50:26.402Z"
   },
   {
    "duration": 937,
    "start_time": "2023-03-07T13:50:26.407Z"
   },
   {
    "duration": 5,
    "start_time": "2023-03-07T13:50:27.345Z"
   },
   {
    "duration": 12,
    "start_time": "2023-03-07T13:50:27.351Z"
   },
   {
    "duration": 28,
    "start_time": "2023-03-07T13:50:27.364Z"
   },
   {
    "duration": 422,
    "start_time": "2023-03-07T13:50:27.394Z"
   },
   {
    "duration": 340,
    "start_time": "2023-03-07T13:50:27.817Z"
   },
   {
    "duration": 9,
    "start_time": "2023-03-07T13:50:28.159Z"
   },
   {
    "duration": 24,
    "start_time": "2023-03-07T13:50:28.170Z"
   },
   {
    "duration": 48,
    "start_time": "2023-03-07T13:50:28.196Z"
   },
   {
    "duration": 863,
    "start_time": "2023-03-07T13:50:28.245Z"
   },
   {
    "duration": 839,
    "start_time": "2023-03-07T13:50:29.110Z"
   },
   {
    "duration": 320,
    "start_time": "2023-03-07T13:50:29.950Z"
   },
   {
    "duration": 7,
    "start_time": "2023-03-07T13:50:30.272Z"
   },
   {
    "duration": 63,
    "start_time": "2023-03-07T13:50:30.281Z"
   },
   {
    "duration": 76,
    "start_time": "2023-03-07T13:50:30.346Z"
   },
   {
    "duration": 921,
    "start_time": "2023-03-07T13:50:30.426Z"
   },
   {
    "duration": 320,
    "start_time": "2023-03-07T13:50:31.348Z"
   },
   {
    "duration": 11,
    "start_time": "2023-03-07T13:50:31.670Z"
   },
   {
    "duration": 12,
    "start_time": "2023-03-07T13:50:31.683Z"
   },
   {
    "duration": 56,
    "start_time": "2023-03-07T13:50:31.697Z"
   },
   {
    "duration": 63,
    "start_time": "2023-03-07T13:50:31.755Z"
   },
   {
    "duration": 30,
    "start_time": "2023-03-07T13:50:31.820Z"
   },
   {
    "duration": 360,
    "start_time": "2023-03-07T13:50:31.852Z"
   },
   {
    "duration": 10,
    "start_time": "2023-03-07T13:50:32.213Z"
   },
   {
    "duration": 98,
    "start_time": "2023-03-07T13:50:32.232Z"
   },
   {
    "duration": 79,
    "start_time": "2023-03-07T13:50:32.331Z"
   },
   {
    "duration": 37,
    "start_time": "2023-03-07T13:50:32.412Z"
   },
   {
    "duration": 33,
    "start_time": "2023-03-07T13:50:32.450Z"
   },
   {
    "duration": 28,
    "start_time": "2023-03-07T13:50:32.485Z"
   },
   {
    "duration": 47,
    "start_time": "2023-03-07T13:50:32.515Z"
   },
   {
    "duration": 32,
    "start_time": "2023-03-07T13:50:32.564Z"
   },
   {
    "duration": 92,
    "start_time": "2023-03-07T13:50:32.598Z"
   },
   {
    "duration": 80,
    "start_time": "2023-03-07T13:50:32.692Z"
   },
   {
    "duration": 23,
    "start_time": "2023-03-07T13:50:32.773Z"
   },
   {
    "duration": 918,
    "start_time": "2023-03-07T13:50:32.798Z"
   },
   {
    "duration": 28,
    "start_time": "2023-03-07T13:50:33.718Z"
   },
   {
    "duration": 54,
    "start_time": "2023-03-07T13:50:33.748Z"
   },
   {
    "duration": 3,
    "start_time": "2023-03-07T13:50:33.804Z"
   },
   {
    "duration": 29,
    "start_time": "2023-03-07T13:50:33.809Z"
   },
   {
    "duration": 306737,
    "start_time": "2023-03-07T13:50:33.839Z"
   },
   {
    "duration": 3,
    "start_time": "2023-03-07T13:55:40.578Z"
   },
   {
    "duration": 20602,
    "start_time": "2023-03-07T13:55:40.583Z"
   },
   {
    "duration": 132,
    "start_time": "2023-03-07T13:56:01.187Z"
   },
   {
    "duration": 4,
    "start_time": "2023-03-07T13:56:01.321Z"
   },
   {
    "duration": 208,
    "start_time": "2023-03-07T13:56:01.337Z"
   },
   {
    "duration": 5,
    "start_time": "2023-03-07T13:56:01.547Z"
   },
   {
    "duration": 141,
    "start_time": "2023-03-07T13:56:01.554Z"
   },
   {
    "duration": 59,
    "start_time": "2023-03-07T13:56:01.697Z"
   },
   {
    "duration": 1391875,
    "start_time": "2023-03-07T13:56:01.758Z"
   },
   {
    "duration": 4,
    "start_time": "2023-03-07T14:19:13.642Z"
   },
   {
    "duration": 167490,
    "start_time": "2023-03-07T14:19:13.647Z"
   },
   {
    "duration": 823,
    "start_time": "2023-03-07T14:22:01.140Z"
   },
   {
    "duration": 423,
    "start_time": "2023-03-07T14:22:01.965Z"
   },
   {
    "duration": 987,
    "start_time": "2023-03-07T14:22:02.390Z"
   },
   {
    "duration": 142054,
    "start_time": "2023-03-07T14:22:03.379Z"
   },
   {
    "duration": 5,
    "start_time": "2023-03-07T14:24:25.435Z"
   },
   {
    "duration": 25,
    "start_time": "2023-03-07T14:24:25.442Z"
   },
   {
    "duration": 171,
    "start_time": "2023-03-07T14:24:25.468Z"
   },
   {
    "duration": 6,
    "start_time": "2023-03-07T14:24:25.641Z"
   },
   {
    "duration": 113,
    "start_time": "2023-03-07T14:24:25.649Z"
   },
   {
    "duration": 490520,
    "start_time": "2023-03-07T14:24:25.764Z"
   },
   {
    "duration": 3,
    "start_time": "2023-03-07T14:32:36.286Z"
   },
   {
    "duration": 86459,
    "start_time": "2023-03-07T14:32:36.290Z"
   },
   {
    "duration": 273,
    "start_time": "2023-03-07T14:34:02.751Z"
   },
   {
    "duration": 11,
    "start_time": "2023-03-07T14:34:03.026Z"
   },
   {
    "duration": 69,
    "start_time": "2023-03-07T14:34:03.048Z"
   },
   {
    "duration": 4,
    "start_time": "2023-03-07T14:34:03.118Z"
   },
   {
    "duration": 81,
    "start_time": "2023-03-07T14:34:03.123Z"
   },
   {
    "duration": 45,
    "start_time": "2023-03-07T14:34:03.206Z"
   },
   {
    "duration": 4,
    "start_time": "2023-03-07T14:34:03.258Z"
   },
   {
    "duration": 27,
    "start_time": "2023-03-07T14:34:03.264Z"
   },
   {
    "duration": 14199,
    "start_time": "2023-03-07T14:34:03.293Z"
   },
   {
    "duration": 96,
    "start_time": "2023-03-07T14:34:17.494Z"
   },
   {
    "duration": 194,
    "start_time": "2023-03-07T14:34:17.591Z"
   },
   {
    "duration": 87,
    "start_time": "2023-03-07T14:34:17.787Z"
   },
   {
    "duration": 33,
    "start_time": "2023-03-07T14:34:17.876Z"
   },
   {
    "duration": 35344,
    "start_time": "2023-03-07T14:34:17.911Z"
   },
   {
    "duration": 620,
    "start_time": "2023-03-07T14:34:53.331Z"
   },
   {
    "duration": 84,
    "start_time": "2023-03-07T14:34:53.953Z"
   },
   {
    "duration": 997452,
    "start_time": "2023-03-07T14:38:16.482Z"
   },
   {
    "duration": 2402,
    "start_time": "2023-03-07T15:31:34.632Z"
   },
   {
    "duration": 1177,
    "start_time": "2023-03-07T15:31:37.036Z"
   },
   {
    "duration": 18,
    "start_time": "2023-03-07T15:31:38.215Z"
   },
   {
    "duration": 154,
    "start_time": "2023-03-07T15:31:38.235Z"
   },
   {
    "duration": 13,
    "start_time": "2023-03-07T15:31:38.391Z"
   },
   {
    "duration": 296,
    "start_time": "2023-03-07T15:31:38.406Z"
   },
   {
    "duration": 287,
    "start_time": "2023-03-07T15:31:38.704Z"
   },
   {
    "duration": 839,
    "start_time": "2023-03-07T15:31:38.992Z"
   },
   {
    "duration": 71,
    "start_time": "2023-03-07T15:31:39.833Z"
   },
   {
    "duration": 5,
    "start_time": "2023-03-07T15:31:39.906Z"
   },
   {
    "duration": 335,
    "start_time": "2023-03-07T15:31:39.913Z"
   },
   {
    "duration": 4,
    "start_time": "2023-03-07T15:31:40.250Z"
   },
   {
    "duration": 948,
    "start_time": "2023-03-07T15:31:40.256Z"
   },
   {
    "duration": 3,
    "start_time": "2023-03-07T15:31:41.207Z"
   },
   {
    "duration": 16,
    "start_time": "2023-03-07T15:31:41.212Z"
   },
   {
    "duration": 52,
    "start_time": "2023-03-07T15:31:41.231Z"
   },
   {
    "duration": 450,
    "start_time": "2023-03-07T15:31:41.284Z"
   },
   {
    "duration": 360,
    "start_time": "2023-03-07T15:31:41.736Z"
   },
   {
    "duration": 11,
    "start_time": "2023-03-07T15:31:42.098Z"
   },
   {
    "duration": 41,
    "start_time": "2023-03-07T15:31:42.111Z"
   },
   {
    "duration": 37,
    "start_time": "2023-03-07T15:31:42.154Z"
   },
   {
    "duration": 974,
    "start_time": "2023-03-07T15:31:42.193Z"
   },
   {
    "duration": 952,
    "start_time": "2023-03-07T15:31:43.169Z"
   },
   {
    "duration": 371,
    "start_time": "2023-03-07T15:31:44.123Z"
   },
   {
    "duration": 10,
    "start_time": "2023-03-07T15:31:44.496Z"
   },
   {
    "duration": 27,
    "start_time": "2023-03-07T15:31:44.508Z"
   },
   {
    "duration": 104,
    "start_time": "2023-03-07T15:31:44.536Z"
   },
   {
    "duration": 989,
    "start_time": "2023-03-07T15:31:44.644Z"
   },
   {
    "duration": 383,
    "start_time": "2023-03-07T15:31:45.635Z"
   },
   {
    "duration": 13,
    "start_time": "2023-03-07T15:31:46.020Z"
   },
   {
    "duration": 19,
    "start_time": "2023-03-07T15:31:46.035Z"
   },
   {
    "duration": 50,
    "start_time": "2023-03-07T15:31:46.057Z"
   },
   {
    "duration": 90,
    "start_time": "2023-03-07T15:31:46.109Z"
   },
   {
    "duration": 25,
    "start_time": "2023-03-07T15:31:46.201Z"
   },
   {
    "duration": 384,
    "start_time": "2023-03-07T15:31:46.228Z"
   },
   {
    "duration": 11,
    "start_time": "2023-03-07T15:31:46.614Z"
   },
   {
    "duration": 118,
    "start_time": "2023-03-07T15:31:46.628Z"
   },
   {
    "duration": 86,
    "start_time": "2023-03-07T15:31:46.748Z"
   },
   {
    "duration": 49,
    "start_time": "2023-03-07T15:31:46.836Z"
   },
   {
    "duration": 49,
    "start_time": "2023-03-07T15:31:46.887Z"
   },
   {
    "duration": 37,
    "start_time": "2023-03-07T15:31:46.938Z"
   },
   {
    "duration": 43,
    "start_time": "2023-03-07T15:31:46.977Z"
   },
   {
    "duration": 38,
    "start_time": "2023-03-07T15:31:47.021Z"
   },
   {
    "duration": 123,
    "start_time": "2023-03-07T15:31:47.062Z"
   },
   {
    "duration": 74,
    "start_time": "2023-03-07T15:31:47.187Z"
   },
   {
    "duration": 38,
    "start_time": "2023-03-07T15:31:47.263Z"
   },
   {
    "duration": 949,
    "start_time": "2023-03-07T15:31:47.303Z"
   },
   {
    "duration": 26,
    "start_time": "2023-03-07T15:31:48.254Z"
   },
   {
    "duration": 59,
    "start_time": "2023-03-07T15:31:48.282Z"
   },
   {
    "duration": 5,
    "start_time": "2023-03-07T15:31:48.344Z"
   },
   {
    "duration": 25,
    "start_time": "2023-03-07T15:31:48.351Z"
   },
   {
    "duration": 33,
    "start_time": "2023-03-07T15:31:48.379Z"
   },
   {
    "duration": 468200,
    "start_time": "2023-03-07T15:31:48.414Z"
   },
   {
    "duration": 5,
    "start_time": "2023-03-07T15:39:36.616Z"
   },
   {
    "duration": 21670,
    "start_time": "2023-03-07T15:39:36.623Z"
   },
   {
    "duration": 175,
    "start_time": "2023-03-07T15:39:58.295Z"
   },
   {
    "duration": 6,
    "start_time": "2023-03-07T15:39:58.478Z"
   },
   {
    "duration": 274,
    "start_time": "2023-03-07T15:39:58.486Z"
   },
   {
    "duration": 4,
    "start_time": "2023-03-07T15:39:58.762Z"
   },
   {
    "duration": 157,
    "start_time": "2023-03-07T15:39:58.778Z"
   },
   {
    "duration": 68,
    "start_time": "2023-03-07T15:39:58.937Z"
   },
   {
    "duration": 1536,
    "start_time": "2023-03-07T20:41:51.676Z"
   },
   {
    "duration": 1060,
    "start_time": "2023-03-07T20:41:53.214Z"
   },
   {
    "duration": 18,
    "start_time": "2023-03-07T20:41:54.277Z"
   },
   {
    "duration": 118,
    "start_time": "2023-03-07T20:41:54.298Z"
   },
   {
    "duration": 14,
    "start_time": "2023-03-07T20:41:54.418Z"
   },
   {
    "duration": 244,
    "start_time": "2023-03-07T20:41:54.433Z"
   },
   {
    "duration": 242,
    "start_time": "2023-03-07T20:41:54.678Z"
   },
   {
    "duration": 786,
    "start_time": "2023-03-07T20:41:54.922Z"
   },
   {
    "duration": 66,
    "start_time": "2023-03-07T20:41:55.710Z"
   },
   {
    "duration": 4,
    "start_time": "2023-03-07T20:41:55.780Z"
   },
   {
    "duration": 294,
    "start_time": "2023-03-07T20:41:55.785Z"
   },
   {
    "duration": 4,
    "start_time": "2023-03-07T20:41:56.081Z"
   },
   {
    "duration": 809,
    "start_time": "2023-03-07T20:41:56.087Z"
   },
   {
    "duration": 2,
    "start_time": "2023-03-07T20:41:56.898Z"
   },
   {
    "duration": 9,
    "start_time": "2023-03-07T20:41:56.901Z"
   },
   {
    "duration": 48,
    "start_time": "2023-03-07T20:41:56.911Z"
   },
   {
    "duration": 382,
    "start_time": "2023-03-07T20:41:56.961Z"
   },
   {
    "duration": 290,
    "start_time": "2023-03-07T20:41:57.345Z"
   },
   {
    "duration": 10,
    "start_time": "2023-03-07T20:41:57.637Z"
   },
   {
    "duration": 25,
    "start_time": "2023-03-07T20:41:57.648Z"
   },
   {
    "duration": 24,
    "start_time": "2023-03-07T20:41:57.675Z"
   },
   {
    "duration": 768,
    "start_time": "2023-03-07T20:41:57.701Z"
   },
   {
    "duration": 737,
    "start_time": "2023-03-07T20:41:58.470Z"
   },
   {
    "duration": 275,
    "start_time": "2023-03-07T20:41:59.209Z"
   },
   {
    "duration": 8,
    "start_time": "2023-03-07T20:41:59.485Z"
   },
   {
    "duration": 40,
    "start_time": "2023-03-07T20:41:59.494Z"
   },
   {
    "duration": 57,
    "start_time": "2023-03-07T20:41:59.536Z"
   },
   {
    "duration": 813,
    "start_time": "2023-03-07T20:41:59.597Z"
   },
   {
    "duration": 294,
    "start_time": "2023-03-07T20:42:00.412Z"
   },
   {
    "duration": 14,
    "start_time": "2023-03-07T20:42:00.707Z"
   },
   {
    "duration": 18,
    "start_time": "2023-03-07T20:42:00.732Z"
   },
   {
    "duration": 70,
    "start_time": "2023-03-07T20:42:00.752Z"
   },
   {
    "duration": 68,
    "start_time": "2023-03-07T20:42:00.824Z"
   },
   {
    "duration": 22,
    "start_time": "2023-03-07T20:42:00.894Z"
   },
   {
    "duration": 306,
    "start_time": "2023-03-07T20:42:00.918Z"
   },
   {
    "duration": 13,
    "start_time": "2023-03-07T20:42:01.225Z"
   },
   {
    "duration": 92,
    "start_time": "2023-03-07T20:42:01.240Z"
   },
   {
    "duration": 50,
    "start_time": "2023-03-07T20:42:01.334Z"
   },
   {
    "duration": 22,
    "start_time": "2023-03-07T20:42:01.385Z"
   },
   {
    "duration": 53,
    "start_time": "2023-03-07T20:42:01.408Z"
   },
   {
    "duration": 48,
    "start_time": "2023-03-07T20:42:01.463Z"
   },
   {
    "duration": 52,
    "start_time": "2023-03-07T20:42:01.512Z"
   },
   {
    "duration": 107,
    "start_time": "2023-03-07T20:42:01.566Z"
   },
   {
    "duration": 107,
    "start_time": "2023-03-07T20:42:01.675Z"
   },
   {
    "duration": 107,
    "start_time": "2023-03-07T20:42:01.784Z"
   },
   {
    "duration": 48,
    "start_time": "2023-03-07T20:42:01.893Z"
   },
   {
    "duration": 873,
    "start_time": "2023-03-07T20:42:01.943Z"
   },
   {
    "duration": 21,
    "start_time": "2023-03-07T20:42:02.817Z"
   },
   {
    "duration": 76,
    "start_time": "2023-03-07T20:42:02.840Z"
   },
   {
    "duration": 3,
    "start_time": "2023-03-07T20:42:02.918Z"
   },
   {
    "duration": 14,
    "start_time": "2023-03-07T20:42:02.923Z"
   },
   {
    "duration": 27,
    "start_time": "2023-03-07T20:42:02.939Z"
   },
   {
    "duration": 393673,
    "start_time": "2023-03-07T20:42:02.968Z"
   },
   {
    "duration": 4,
    "start_time": "2023-03-07T20:48:36.642Z"
   },
   {
    "duration": 18592,
    "start_time": "2023-03-07T20:48:36.648Z"
   },
   {
    "duration": 120,
    "start_time": "2023-03-07T20:48:55.242Z"
   },
   {
    "duration": 6,
    "start_time": "2023-03-07T20:48:55.364Z"
   },
   {
    "duration": 195,
    "start_time": "2023-03-07T20:48:55.371Z"
   },
   {
    "duration": 5,
    "start_time": "2023-03-07T20:48:55.569Z"
   },
   {
    "duration": 142,
    "start_time": "2023-03-07T20:48:55.575Z"
   },
   {
    "duration": 70,
    "start_time": "2023-03-07T20:48:55.719Z"
   },
   {
    "duration": 201945,
    "start_time": "2023-03-07T20:48:55.791Z"
   },
   {
    "duration": 4,
    "start_time": "2023-03-07T20:52:17.738Z"
   },
   {
    "duration": 6103,
    "start_time": "2023-03-07T20:52:17.744Z"
   },
   {
    "duration": 705,
    "start_time": "2023-03-07T20:52:23.848Z"
   },
   {
    "duration": 392,
    "start_time": "2023-03-07T20:52:24.554Z"
   },
   {
    "duration": 888,
    "start_time": "2023-03-07T20:52:24.947Z"
   },
   {
    "duration": 80101,
    "start_time": "2023-03-07T20:52:25.837Z"
   },
   {
    "duration": 93,
    "start_time": "2023-03-07T20:53:45.940Z"
   },
   {
    "duration": 15,
    "start_time": "2023-03-07T20:53:46.035Z"
   },
   {
    "duration": 379,
    "start_time": "2023-03-07T20:53:46.052Z"
   },
   {
    "duration": 5,
    "start_time": "2023-03-07T20:53:46.433Z"
   },
   {
    "duration": 92,
    "start_time": "2023-03-07T20:53:46.439Z"
   },
   {
    "duration": 1799307,
    "start_time": "2023-03-07T20:53:46.533Z"
   },
   {
    "duration": 13,
    "start_time": "2023-03-07T21:23:45.842Z"
   },
   {
    "duration": 0,
    "start_time": "2023-03-07T21:23:45.858Z"
   },
   {
    "duration": 0,
    "start_time": "2023-03-07T21:23:45.859Z"
   },
   {
    "duration": 0,
    "start_time": "2023-03-07T21:23:45.861Z"
   },
   {
    "duration": 0,
    "start_time": "2023-03-07T21:23:45.862Z"
   },
   {
    "duration": 0,
    "start_time": "2023-03-07T21:23:45.863Z"
   },
   {
    "duration": 0,
    "start_time": "2023-03-07T21:23:45.865Z"
   },
   {
    "duration": 0,
    "start_time": "2023-03-07T21:23:45.866Z"
   },
   {
    "duration": 0,
    "start_time": "2023-03-07T21:23:45.868Z"
   },
   {
    "duration": 0,
    "start_time": "2023-03-07T21:23:45.869Z"
   },
   {
    "duration": 0,
    "start_time": "2023-03-07T21:23:45.870Z"
   },
   {
    "duration": 0,
    "start_time": "2023-03-07T21:23:45.872Z"
   },
   {
    "duration": 0,
    "start_time": "2023-03-07T21:23:45.873Z"
   },
   {
    "duration": 0,
    "start_time": "2023-03-07T21:23:45.875Z"
   },
   {
    "duration": 0,
    "start_time": "2023-03-07T21:23:45.876Z"
   },
   {
    "duration": 0,
    "start_time": "2023-03-07T21:23:45.877Z"
   },
   {
    "duration": 0,
    "start_time": "2023-03-07T21:23:45.878Z"
   },
   {
    "duration": 0,
    "start_time": "2023-03-07T21:23:45.880Z"
   },
   {
    "duration": 0,
    "start_time": "2023-03-07T21:23:45.881Z"
   },
   {
    "duration": 4,
    "start_time": "2023-03-07T21:24:11.406Z"
   },
   {
    "duration": 937033,
    "start_time": "2023-03-07T21:24:14.307Z"
   },
   {
    "duration": 3,
    "start_time": "2023-03-07T21:39:51.342Z"
   },
   {
    "duration": 96134,
    "start_time": "2023-03-07T21:39:51.347Z"
   },
   {
    "duration": 264,
    "start_time": "2023-03-07T21:41:27.483Z"
   },
   {
    "duration": 5,
    "start_time": "2023-03-07T21:41:27.748Z"
   },
   {
    "duration": 77,
    "start_time": "2023-03-07T21:41:27.754Z"
   },
   {
    "duration": 4,
    "start_time": "2023-03-07T21:41:27.832Z"
   },
   {
    "duration": 64,
    "start_time": "2023-03-07T21:41:27.837Z"
   },
   {
    "duration": 41,
    "start_time": "2023-03-07T21:41:27.903Z"
   },
   {
    "duration": 4,
    "start_time": "2023-03-07T21:41:27.946Z"
   },
   {
    "duration": 21,
    "start_time": "2023-03-07T21:41:27.951Z"
   },
   {
    "duration": 13647,
    "start_time": "2023-03-07T21:41:27.974Z"
   },
   {
    "duration": 95,
    "start_time": "2023-03-07T21:41:41.622Z"
   },
   {
    "duration": 174,
    "start_time": "2023-03-07T21:41:41.718Z"
   },
   {
    "duration": 81,
    "start_time": "2023-03-07T21:41:41.893Z"
   },
   {
    "duration": 32,
    "start_time": "2023-03-07T21:41:41.976Z"
   },
   {
    "duration": 6830,
    "start_time": "2023-03-07T21:41:42.009Z"
   },
   {
    "duration": 510,
    "start_time": "2023-03-07T21:41:48.841Z"
   },
   {
    "duration": 100,
    "start_time": "2023-03-07T21:41:49.352Z"
   },
   {
    "duration": 167611,
    "start_time": "2023-03-07T21:42:19.367Z"
   },
   {
    "duration": 529,
    "start_time": "2023-03-07T21:45:06.980Z"
   },
   {
    "duration": 5,
    "start_time": "2023-03-07T21:45:07.510Z"
   },
   {
    "duration": 45,
    "start_time": "2023-03-07T21:45:07.516Z"
   },
   {
    "duration": 58,
    "start_time": "2023-03-08T07:48:41.446Z"
   },
   {
    "duration": 47,
    "start_time": "2023-03-15T14:22:41.364Z"
   }
  ],
  "kernelspec": {
   "display_name": "Python 3 (ipykernel)",
   "language": "python",
   "name": "python3"
  },
  "language_info": {
   "codemirror_mode": {
    "name": "ipython",
    "version": 3
   },
   "file_extension": ".py",
   "mimetype": "text/x-python",
   "name": "python",
   "nbconvert_exporter": "python",
   "pygments_lexer": "ipython3",
   "version": "3.9.12"
  },
  "toc": {
   "base_numbering": 1,
   "nav_menu": {},
   "number_sections": true,
   "sideBar": true,
   "skip_h1_title": true,
   "title_cell": "Table of Contents",
   "title_sidebar": "Contents",
   "toc_cell": false,
   "toc_position": {
    "height": "calc(100% - 180px)",
    "left": "10px",
    "top": "150px",
    "width": "330.667px"
   },
   "toc_section_display": true,
   "toc_window_display": true
  }
 },
 "nbformat": 4,
 "nbformat_minor": 2
}
